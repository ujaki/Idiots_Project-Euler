{
 "cells": [
  {
   "cell_type": "markdown",
   "metadata": {},
   "source": [
    "# [오일러문제 23번]\n",
    "---\n",
    "자신을 제외한 약수(진약수)를 모두 더하면 자기 자신이 되는 수를 완전수라고 합니다.\n",
    "예를 들어 28은 1 + 2 + 4 + 7 + 14 = 28 이므로 완전수입니다.\n",
    "또, 진약수의 합이 자신보다 작으면 부족수, 자신보다 클 때는 초과수라고 합니다.\n",
    "\n",
    "12는 1 + 2 + 3 + 4 + 6 = 16 > 12 로서 초과수 중에서는 가장 작습니다.\n",
    "따라서 초과수 두 개의 합으로 나타낼 수 있는 수 중 가장 작은 수는 24 (= 12 + 12) 입니다.\n",
    "\n",
    "해석학적인 방법을 사용하면, 28123을 넘는 모든 정수는 두 초과수의 합으로 표현 가능함을 보일 수가 있습니다.\n",
    "두 초과수의 합으로 나타낼 수 없는 가장 큰 수는 실제로는 이 한계값보다 작지만, 해석학적인 방법으로는 더 이상 이 한계값을 낮출 수 없다고 합니다.\n",
    "\n",
    "그렇다면, 초과수 두 개의 합으로 나타낼 수 없는 모든 양의 정수의 합은 얼마입니까?"
   ]
  },
  {
   "cell_type": "code",
   "execution_count": 1,
   "metadata": {
    "collapsed": false
   },
   "outputs": [
    {
     "name": "stdout",
     "output_type": "stream",
     "text": [
      "4179871\n"
     ]
    }
   ],
   "source": [
    "# -*- coding: utf-8 -*-\n",
    "import math\n",
    "\n",
    "#진약수를 모두 더한 값을 반환하는 함수\n",
    "def divisors_sum(num):\n",
    "    result = 0\n",
    "    temp = math.sqrt(num)\n",
    "       \n",
    "    #n의 약수를 구할 때, 1부터 루트 n까지만 나눠본다. 나눠서 약수이면, n에서 해당 약수를 나눈 수도 약수이다.\n",
    "    for i in range(1,int(temp)+1):\n",
    "        if (num % i == 0):\n",
    "            result += i + num/i\n",
    "            if(temp == int(temp) and i == temp): #루트num 중복제거\n",
    "                result -= i\n",
    "    \n",
    "    result -= num #자기자신을 뺀다\n",
    "    return result\n",
    "    \n",
    "\n",
    "#num이 초과수이면 true, 아니면 false를 반환하는 함수\n",
    "def Is_abundant_number(num):\n",
    "    if(num < divisors_sum(num)): #num의 진약수의 합이 num보다 크면 초과수\n",
    "        return True                                                                                       \n",
    "    else:\n",
    "        return False\n",
    "        \n",
    "abundant_list = [] #초과수를 저장할 리스트\n",
    "sum_abundant_set = set() #2개의 초과수 합을 저장하는 집합\n",
    "\n",
    "for n in range(12,28123):\n",
    "    if(Is_abundant_number(n) == True): #n이 초과수이면 초과수 리스트(abundant_list)에 저장\n",
    "            abundant_list.append(n)\n",
    "    \n",
    "\n",
    "#2개의 모든 초과수 합을 구함\n",
    "for i in abundant_list:\n",
    "    for j in abundant_list:\n",
    "        if(i+j < 28123):\n",
    "            sum_abundant_set.add(i+j)\n",
    "        \n",
    "\n",
    "result = sum(range(1,28123)) - sum(sum_abundant_set)\n",
    "print result"
   ]
  },
  {
   "cell_type": "code",
   "execution_count": null,
   "metadata": {
    "collapsed": true
   },
   "outputs": [],
   "source": []
  }
 ],
 "metadata": {
  "kernelspec": {
   "display_name": "Python 2",
   "language": "python",
   "name": "python2"
  },
  "language_info": {
   "codemirror_mode": {
    "name": "ipython",
    "version": 2
   },
   "file_extension": ".py",
   "mimetype": "text/x-python",
   "name": "python",
   "nbconvert_exporter": "python",
   "pygments_lexer": "ipython2",
   "version": "2.7.10"
  }
 },
 "nbformat": 4,
 "nbformat_minor": 0
}
