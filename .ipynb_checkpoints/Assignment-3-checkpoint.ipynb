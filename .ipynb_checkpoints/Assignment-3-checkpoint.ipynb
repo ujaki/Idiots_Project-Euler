{
 "metadata": {
  "name": "",
  "signature": "sha256:7585b21d557a82acf951c464082af9c7a56ce7e81fb4da3890b4b97f8216dbf2"
 },
 "nbformat": 3,
 "nbformat_minor": 0,
 "worksheets": [
  {
   "cells": [
    {
     "cell_type": "markdown",
     "metadata": {},
     "source": [
      "***\n",
      "# Problem 1"
     ]
    },
    {
     "cell_type": "markdown",
     "metadata": {},
     "source": [
      "- L=[1, 2, 3, 4, 5]\uc77c \ub54c \ub2e4\uc74c \uac01 \ubb38\uc7a5\uc744 \uc218\ud589\ud55c \ud6c4\uc758 \uacb0\uacfc\ub97c \ubcf4\uace0 \ub0a9\ub4dd\ud560 \ub9cc\ud55c \uc774\uc720\ub97c \uc124\uba85\ud558\uc2dc\uc624.  \n",
      "  - 1)<pre>L[1:3] = [100]\n",
      "   print L</pre>\n",
      "  - 2)<pre>L[1:3] = [(100)]\n",
      "   print L</pre>\n",
      "  - 3)<pre>L[1:3] = 100\n",
      "   print L</pre>\n",
      "  - 4)<pre>L[1:3] = (100)\n",
      "   print L</pre>\n",
      "  - 5)<pre>L[1:3] = (100, 101, 102)\n",
      "   print L</pre>\n",
      "  - 6)<pre>L[1:3] = [100, 101, 102]\n",
      "   print L</pre>      \n",
      "  - 7)<pre>L[1:3] = [(100, 101, 102)]\n",
      "   print L</pre>      \n",
      "  - 8)<pre>L[1:3] = [[100, 101, 102]]\n",
      "   print L</pre>            \n",
      "***"
     ]
    },
    {
     "cell_type": "code",
     "collapsed": false,
     "input": [
      "L = [1,2,3,4,5]\n",
      "L[1:3] = [100]\n",
      "print L"
     ],
     "language": "python",
     "metadata": {},
     "outputs": [
      {
       "output_type": "stream",
       "stream": "stdout",
       "text": [
        "[1, 100, 4, 5]\n"
       ]
      }
     ],
     "prompt_number": 3
    },
    {
     "cell_type": "markdown",
     "metadata": {},
     "source": [
      "\uc124\uba85 : L[1:3]\uc740 \ub9ac\uc2a4\ud2b8 L\uc758 \uc6d0\uc18c\ub4e4 \uc911\uc5d0\uc11c 2,3\uc744 \ub098\ud0c0\ub0b8\ub2e4. \uc774 \uc790\ub9ac\uc5d0 [100]\uc774\ub77c\ub294 \uc22b\uc790\ub97c \ub300\uccb4\ud574\uc11c \n",
      "\ub123\uc73c\uba74 [1, 100, 4, 5]\ub85c \ub9ac\uc2a4\ud2b8\uac00 \ubcc0\uacbd\ub429\ub2c8\ub2e4."
     ]
    },
    {
     "cell_type": "code",
     "collapsed": false,
     "input": [
      "L = [1,2,3,4,5]\n",
      "L[1:3] = [(100)]\n",
      "print L"
     ],
     "language": "python",
     "metadata": {},
     "outputs": [
      {
       "output_type": "stream",
       "stream": "stdout",
       "text": [
        "[1, 100, 4, 5]\n"
       ]
      }
     ],
     "prompt_number": 4
    },
    {
     "cell_type": "markdown",
     "metadata": {},
     "source": [
      "\uc124\uba85 : \uc704\uc640 \ub3d9\uc77c\ud558\uac8c \ud574\ub2f9 \uc704\uce58\uc5d0 100\uc73c\ub85c \uc22b\uc790\ub97c \uad50\uccb4\ud574\uc90d\ub2c8\ub2e4."
     ]
    },
    {
     "cell_type": "code",
     "collapsed": false,
     "input": [
      "L = [1,2,3,4,5]\n",
      "L[1:3] = 100\n",
      "print L"
     ],
     "language": "python",
     "metadata": {},
     "outputs": [
      {
       "ename": "TypeError",
       "evalue": "can only assign an iterable",
       "output_type": "pyerr",
       "traceback": [
        "\u001b[1;31m---------------------------------------------------------------------------\u001b[0m\n\u001b[1;31mTypeError\u001b[0m                                 Traceback (most recent call last)",
        "\u001b[1;32m<ipython-input-5-2190a12ebf8f>\u001b[0m in \u001b[0;36m<module>\u001b[1;34m()\u001b[0m\n\u001b[0;32m      1\u001b[0m \u001b[0mL\u001b[0m \u001b[1;33m=\u001b[0m \u001b[1;33m[\u001b[0m\u001b[1;36m1\u001b[0m\u001b[1;33m,\u001b[0m\u001b[1;36m2\u001b[0m\u001b[1;33m,\u001b[0m\u001b[1;36m3\u001b[0m\u001b[1;33m,\u001b[0m\u001b[1;36m4\u001b[0m\u001b[1;33m,\u001b[0m\u001b[1;36m5\u001b[0m\u001b[1;33m]\u001b[0m\u001b[1;33m\u001b[0m\u001b[0m\n\u001b[1;32m----> 2\u001b[1;33m \u001b[0mL\u001b[0m\u001b[1;33m[\u001b[0m\u001b[1;36m1\u001b[0m\u001b[1;33m:\u001b[0m\u001b[1;36m3\u001b[0m\u001b[1;33m]\u001b[0m \u001b[1;33m=\u001b[0m \u001b[1;36m100\u001b[0m\u001b[1;33m\u001b[0m\u001b[0m\n\u001b[0m\u001b[0;32m      3\u001b[0m \u001b[1;32mprint\u001b[0m \u001b[0mL\u001b[0m\u001b[1;33m\u001b[0m\u001b[0m\n",
        "\u001b[1;31mTypeError\u001b[0m: can only assign an iterable"
       ]
      }
     ],
     "prompt_number": 5
    },
    {
     "cell_type": "markdown",
     "metadata": {},
     "source": [
      "\uc124\uba85 : slicing\uc744 \ud1b5\ud55c \uac12\uc758 \ubcc0\uacbd\uc740 iterable \ud55c \uac83\ub9cc \ub4f1\ub85d \uac00\ub2a5\ud558\ub2e4."
     ]
    },
    {
     "cell_type": "code",
     "collapsed": false,
     "input": [
      "L = [1,2,3,4,5]\n",
      "L[1:3] = (100)\n",
      "print L"
     ],
     "language": "python",
     "metadata": {},
     "outputs": [
      {
       "ename": "TypeError",
       "evalue": "can only assign an iterable",
       "output_type": "pyerr",
       "traceback": [
        "\u001b[1;31m---------------------------------------------------------------------------\u001b[0m\n\u001b[1;31mTypeError\u001b[0m                                 Traceback (most recent call last)",
        "\u001b[1;32m<ipython-input-6-c5aa4b5b4c59>\u001b[0m in \u001b[0;36m<module>\u001b[1;34m()\u001b[0m\n\u001b[0;32m      1\u001b[0m \u001b[0mL\u001b[0m \u001b[1;33m=\u001b[0m \u001b[1;33m[\u001b[0m\u001b[1;36m1\u001b[0m\u001b[1;33m,\u001b[0m\u001b[1;36m2\u001b[0m\u001b[1;33m,\u001b[0m\u001b[1;36m3\u001b[0m\u001b[1;33m,\u001b[0m\u001b[1;36m4\u001b[0m\u001b[1;33m,\u001b[0m\u001b[1;36m5\u001b[0m\u001b[1;33m]\u001b[0m\u001b[1;33m\u001b[0m\u001b[0m\n\u001b[1;32m----> 2\u001b[1;33m \u001b[0mL\u001b[0m\u001b[1;33m[\u001b[0m\u001b[1;36m1\u001b[0m\u001b[1;33m:\u001b[0m\u001b[1;36m3\u001b[0m\u001b[1;33m]\u001b[0m \u001b[1;33m=\u001b[0m \u001b[1;33m(\u001b[0m\u001b[1;36m100\u001b[0m\u001b[1;33m)\u001b[0m\u001b[1;33m\u001b[0m\u001b[0m\n\u001b[0m\u001b[0;32m      3\u001b[0m \u001b[1;32mprint\u001b[0m \u001b[0mL\u001b[0m\u001b[1;33m\u001b[0m\u001b[0m\n",
        "\u001b[1;31mTypeError\u001b[0m: can only assign an iterable"
       ]
      }
     ],
     "prompt_number": 6
    },
    {
     "cell_type": "markdown",
     "metadata": {},
     "source": [
      "\uc124\uba85 : \uc704\uc640 \ub3d9\uc77c\ud55c \uc774\uc720\uc778 \uc5d0\ub7ec\uc785\ub2c8\ub2e4."
     ]
    },
    {
     "cell_type": "code",
     "collapsed": false,
     "input": [
      "L = [1,2,3,4,5]\n",
      "L[1:3] = (100, 101, 102)\n",
      "print L"
     ],
     "language": "python",
     "metadata": {},
     "outputs": [
      {
       "output_type": "stream",
       "stream": "stdout",
       "text": [
        "[1, 100, 101, 102, 4, 5]\n"
       ]
      }
     ],
     "prompt_number": 7
    },
    {
     "cell_type": "markdown",
     "metadata": {},
     "source": [
      "\uc124\uba85 : \ud574\ub2f9 slicing \uc790\ub9ac\uc5d0 3\uac1c\uc758 \uc22b\uc790\ub97c \ub300\uccb4\ud574\uc11c \ub123\uc2b5\ub2c8\ub2e4."
     ]
    },
    {
     "cell_type": "code",
     "collapsed": false,
     "input": [
      "L = [1,2,3,4,5]\n",
      "L[1:3] = [100, 101, 102]\n",
      "print L"
     ],
     "language": "python",
     "metadata": {},
     "outputs": [
      {
       "output_type": "stream",
       "stream": "stdout",
       "text": [
        "[1, 100, 101, 102, 4, 5]\n"
       ]
      }
     ],
     "prompt_number": 18
    },
    {
     "cell_type": "markdown",
     "metadata": {},
     "source": [
      "\uc124\uba85 : \uc704\uc640 \ub3d9\uc77c\ud55c \uc758\ubbf8\ub97c \uac00\uc9d1\ub2c8\ub2e4."
     ]
    },
    {
     "cell_type": "code",
     "collapsed": false,
     "input": [
      "L = [1,2,3,4,5]\n",
      "L[1:3] = [(100, 101, 102)]\n",
      "print L\n",
      "print L[1]\n",
      "print type(L[1])"
     ],
     "language": "python",
     "metadata": {},
     "outputs": [
      {
       "output_type": "stream",
       "stream": "stdout",
       "text": [
        "[1, (100, 101, 102), 4, 5]\n",
        "(100, 101, 102)\n",
        "<type 'tuple'>\n"
       ]
      }
     ],
     "prompt_number": 20
    },
    {
     "cell_type": "markdown",
     "metadata": {},
     "source": [
      "\uc124\uba85 : \uc774\uac83\uc740 \ud574\ub2f9 slicing \uc790\ub9ac\uc5d0 \ud29c\ud50c \uac1d\uccb4\ub97c \ub9ac\uc2a4\ud2b8\uc758 \uc6d0\uc18c\ub85c \ub300\uccb4\uc2dc\ucf30\uc2b5\ub2c8\ub2e4."
     ]
    },
    {
     "cell_type": "code",
     "collapsed": false,
     "input": [
      "L = [1,2,3,4,5]\n",
      "L[1:3] = [[100, 101, 102]]\n",
      "print L\n",
      "print L[1]\n",
      "print type(L[1])"
     ],
     "language": "python",
     "metadata": {},
     "outputs": [
      {
       "output_type": "stream",
       "stream": "stdout",
       "text": [
        "[1, [100, 101, 102], 4, 5]\n",
        "[100, 101, 102]\n",
        "<type 'list'>\n"
       ]
      }
     ],
     "prompt_number": 21
    },
    {
     "cell_type": "markdown",
     "metadata": {},
     "source": [
      "\uc124\uba85 : \uc774\uac83\uc740 \ud574\ub2f9 slicing \uc790\ub9ac\uc5d0 \ub9ac\uc2a4\ud2b8 \uac1d\uccb4\ub97c \ub9ac\uc2a4\ud2b8\uc758 \uc6d0\uc18c\ub85c \ub300\uccb4\uc2dc\ucf30\uc2b5\ub2c8\ub2e4."
     ]
    },
    {
     "cell_type": "markdown",
     "metadata": {},
     "source": [
      "***\n",
      "# Problem 2"
     ]
    },
    {
     "cell_type": "markdown",
     "metadata": {},
     "source": [
      "- \ubb38\uc790\uc5f4 S = 'Hello World and Python'\uc5d0 \ub300\ud574 \ub2e4\uc74c \uc694\uad6c\uc0ac\ud56d\uc5d0 \ub300\ud55c Python \ucf54\ub4dc\ub97c \uc81c\uc2dc\ud558\uc2dc\uc624. \n",
      "  - 1) \ub2e8\uc5b4\uc758 \uc21c\uc11c\uac00 \uc5ed\uc21c\uc73c\ub85c \ub418\uc5b4\uc9c4 \ubb38\uc790\uc5f4 ('Python and World Hello')\uc744 \ub9cc\ub4e4\uace0  \n",
      "  - 2) 1)\uc758 \uacb0\uacfc \ubb38\uc790\uc5f4\uc5d0 \ub300\ud574 \uba54\uc18c\ub4dc split\uacfc join\uc744 \uc774\uc6a9\ud558\uc5ec \uacf5\ubc31\uc744 \ubaa8\ub450 \uc5c6\uc5d4 \ubb38\uc790\uc5f4 'PythonandWorldHello'\uc744 \ub9cc\ub4dc\uc2dc\uc624.\n",
      "***"
     ]
    },
    {
     "cell_type": "code",
     "collapsed": false,
     "input": [
      "s = 'Hello World and Python'\n",
      "print s\n",
      "s = s[16:] + ' ' + s[12:15] + ' ' + s[6:11] + ' ' + s[0:5]\n",
      "print s         \n",
      "l = s.split()\n",
      "print l \n",
      "s = ''.join(l)\n",
      "print s"
     ],
     "language": "python",
     "metadata": {},
     "outputs": [
      {
       "output_type": "stream",
       "stream": "stdout",
       "text": [
        "Hello World and Python\n",
        "Python and World Hello\n",
        "['Python', 'and', 'World', 'Hello']\n",
        "PythonandWorldHello\n"
       ]
      }
     ],
     "prompt_number": 12
    },
    {
     "cell_type": "markdown",
     "metadata": {},
     "source": [
      "\uc124\uba85 : Slicing\uc744 \uc774\uc6a9\ud574\uc11c \ub2e8\uc5b4\uc758 \uc21c\uc11c\uac00 \uc5ed\uc21c\uc73c\ub85c \ub418\uc5b4\uc9c4 \ubb38\uc790\uc5f4\uc744 \ub9cc\ub4e4\uace0 split() \ud568\uc218\ub97c \uc774\uc6a9\ud558\uc5ec \ubb38\uc790\uc5f4 s\ub97c \uacf5\ubc31 \ub2e8\uc704\ub85c \ub098\ub204\uc5b4\uc11c \ub9ac\uc2a4\ud2b8\ub97c \ub9cc\ub4e4\uc5c8\uc2b5\ub2c8\ub2e4. \uadf8 \ud6c4 join\uc744 \uc774\uc6a9\ud558\uc5ec \ub9ac\uc2a4\ud2b8\uc758 \ub2e8\uc5b4\ub4e4\uc744 \uacf5\ubc31\uc744 \ubaa8\ub450 \uc5c6\uc5d4 \ubb38\uc790\uc5f4  'PythonandWorldHello'\ub97c \ucd9c\ub825\ud558\uc600\uc2b5\ub2c8\ub2e4."
     ]
    },
    {
     "cell_type": "markdown",
     "metadata": {},
     "source": [
      "***\n",
      "# Problem 3"
     ]
    },
    {
     "cell_type": "markdown",
     "metadata": {},
     "source": [
      "- \ub2e4\uc74c \ucf54\ub4dc\ub97c \ubcf4\uace0 \ubb3c\uc74c\uc5d0 \ub2f5\ud558\uc2dc\uc624.\n",
      "  <pre>a = [1, 2, 3]\n",
      "  b = a &#42; 3\n",
      "  c = [a] &#42; 3\n",
      "  print b\n",
      "  print c</pre>\n",
      "\n",
      "  - 1) \uc704 \ucf54\ub4dc\ub97c \uc218\ud589\ud55c \uc774\ud6c4 \ub2e4\uc74c \ucf54\ub4dc\ub97c \uc218\ud589\ud55c \ud6c4 b\uc640 c\uc758 \ub0b4\uc6a9\uc744 \ud655\uc778\ud558\uc2dc\uc624.\n",
      "    <pre>a[0]=0</pre>\n",
      "  - 2) b\uc640 c \uac1d\uccb4\uc758 \ucc28\uc774\ub294 \ubb34\uc5c7\uc778\uac00?\n",
      "***"
     ]
    },
    {
     "cell_type": "code",
     "collapsed": false,
     "input": [
      "a = [1, 2, 3]\n",
      "b = a #b\ub294 a\uac1d\uccb4(\ub9ac\uc2a4\ud2b8)\ub97c \uac00\ub9ac\ud0a8\ub2e4.\n",
      "c = [a] #c \ub9ac\uc2a4\ud2b8\uc758 \uc6d0\uc18c c[0]\uc740 a\uac1d\uccb4(\ub9ac\uc2a4\ud2b8)\ub97c \uac00\ub9ac\ud0a8\ub2e4.\n",
      "print b\n",
      "print type(b[0]) \n",
      "print c\n",
      "print type(c[0])\n",
      "a[0] = 0\n",
      "print b\n",
      "print c"
     ],
     "language": "python",
     "metadata": {},
     "outputs": [
      {
       "output_type": "stream",
       "stream": "stdout",
       "text": [
        "[1, 2, 3]\n",
        "<type 'int'>\n",
        "[[1, 2, 3]]\n",
        "<type 'list'>\n",
        "[0, 2, 3]\n",
        "[[0, 2, 3]]\n"
       ]
      }
     ],
     "prompt_number": 29
    },
    {
     "cell_type": "markdown",
     "metadata": {},
     "source": [
      "- \uc124\uba85 \n",
      "        -b\uc640 c\ub294 \ubaa8\ub450 a\uac1d\uccb4\ub97c \ubcf5\uc0ac\ud55c \ub9ac\uc2a4\ud2b8\uc774\ub2e4 \ub2e4\ub9cc \uadf8\ub798\uc11c a[0] = 0\uc744 \uc218\ud589 \ud6c4 \uacb0\uacfc\ub97c \ud655\uc778\ud574 \ubcf4\uba74 \ud574\ub2f9 \uc790\ub9ac\uc5d0 \uac12\uc774 \ub3d9\uc2dc\uc5d0 \ubcc0\uacbd\uc774 \ub41c\uac83\uc744 \ubcfc \uc218 \uc788\ub2e4.  \ub530\ub77c\uc11c b \uc640 c\ub294 \ub9ac\uc2a4\ud2b8 \uac1d\uccb4 a\ub97c \uac00\ub9ac\ud0a4\uace0 \uc788\ub2e4.\n",
      "        - b\uc640 c\uac1d\uccb4\uc758 \ucc28\uc774\ub294 b\ub294 \uac1d\uccb4 a \uc790\uccb4\ub97c \uac00\ub9ac\ud0a4\uace0 \uc788\uc73c\uba70 c\ub294 \uc790\uae30 \uc790\uc2e0\uc774 \ub9ac\uc2a4\ud2b8\uc774\uba74\uc11c \ub9ac\uc2a4\ud2b8\uc758 \uc6d0\uc18c\uac00 a\uac1d\uccb4\ub97c \uac00\ub9ac\ud0a4\ub294 \uac83\uc774\ub2e4.\n",
      "***"
     ]
    },
    {
     "cell_type": "markdown",
     "metadata": {},
     "source": [
      "***\n",
      "# Problem 4"
     ]
    },
    {
     "cell_type": "markdown",
     "metadata": {},
     "source": [
      "- \ub2e4\uc74c \ubb38\uc790\uc5f4\uc744 ':'\uc744 \uae30\uc900\uc73c\ub85c \ubd84\ub9ac\ud558\uc5ec \ub9ac\uc2a4\ud2b8\ub85c \ub9cc\ub4e4\uace0 \uac01 \ubb38\uc790\uc5f4\uc758 \uc88c\uc6b0 \uacf5\ubc31\uc744 \uc81c\uac70\ud558\uc2dc\uc624 (\uc989, \ubb38\uc790\uc5f4 S\uc5d0\uc11c l\uc744 \ub9cc\ub4e4\uc5b4\ub77c)\n",
      "<pre>\n",
      "s = '  first star   :   second star   :    third star  '\n",
      "l = ['first star', 'second star', 'third star']\n",
      "</pre>\n",
      "  - 1) for ~ in \ubb38\uc744 \uc774\uc6a9\ud55c \ucf54\ub4dc\ub97c \uc791\uc131\ud558\uc2dc\uc624. \n",
      "  - 2) \ub9ac\uc2a4\ud2b8 \ub0b4\ud3ec(list comprehension)\ub97c \uc774\uc6a9\ud55c \ucf54\ub4dc\ub97c \uc791\uc131\ud558\uc2dc\uc624.\n",
      "***"
     ]
    },
    {
     "cell_type": "code",
     "collapsed": false,
     "input": [
      "# -*- coding: utf-8 -*-\n",
      "s = '  first star   :   second star   :    third star  '\n",
      "print s\n",
      "l = s.split(':') # ':'\uc744 \uae30\uc900\uc73c\ub85c \ubb38\uc790\uc5f4\uc744 \ubd84\ub9ac  #\ub9ac\uc2a4\ud2b8 \ub0b4\ud3ec\uc6a9 \ub9ac\uc2a4\ud2b8 \n",
      "l2 = l   #for ~ in\ubb38\uc6a9 \ub9ac\uc2a4\ud2b8 \n",
      "print l\n",
      "\n",
      "for x in range(len(l2)): #for ~ i\ubb38\uc744 \uc774\uc6a9\ud55c \ucf54\ub4dc\n",
      "    l2[x] = l2[x].strip() #\ub9ac\uc2a4\ud2b8\uc5d0 \uc800\uc7a5\ub41c \ubb38\uc790\uc5f4\uc744 \ud558\ub098\uc529 \uaebc\ub0b4\uc11c \uc88c\uc6b0 \uacf5\ubc31 \uc81c\uac70 \ud6c4 \ub2e4\uc2dc \ub9ac\uc2a4\ud2b8\uc5d0 \ucc44\uc6cc\ub123\uae30 \n",
      "    \n",
      "print l2\n",
      "\n",
      "l = [x.strip() for x in l] #\ub9ac\uc2a4\ud2b8 \ub0b4\ud3ec\ub97c \uc774\uc6a9\ud55c \ucf54\ub4dc\n",
      "print l\n"
     ],
     "language": "python",
     "metadata": {},
     "outputs": [
      {
       "output_type": "stream",
       "stream": "stdout",
       "text": [
        "  first star   :   second star   :    third star  \n",
        "['  first star   ', '   second star   ', '    third star  ']\n",
        "['first star', 'second star', 'third star']\n",
        "['first star', 'second star', 'third star']\n"
       ]
      }
     ],
     "prompt_number": 2
    },
    {
     "cell_type": "markdown",
     "metadata": {},
     "source": [
      "\uc124\uba85 : split(':') \ucf54\ub4dc\ub97c \uc774\uc6a9\ud558\uc5ec \uc8fc\uc5b4\uc9c4 \ubb38\uc790\uc5f4\uc744 ':'\uc744 \uae30\uc900\uc73c\ub85c \ubd84\ub9ac\ud558\uc5ec \ub9ac\uc2a4\ud2b8 l\uacfc \ub9ac\uc2a4\ud2b8 l2\uc5d0 \uac01\uac01 \uc800\uc7a5\ud558\uace0 strip()\ud568\uc218\ub97c \uc774\uc6a9\ud574\uc11c \ub9ac\uc2a4\ud2b8\uc5d0 \uc800\uc7a5\ub41c \ubb38\uc790\uc5f4\uc758 \uc88c\uc6b0\uacf5\ubc31\uc744 \uc81c\uac70 \ud574\uc8fc\uc5c8\uc2b5\ub2c8\ub2e4. \ubcc0\uc218 l\uc740 \ub9ac\uc2a4\ud2b8 \ub0b4\ud3ec\ub97c \uc774\uc6a9\ud558\uc5ec \uacb0\uacfc\ub97c \uc5bb\uae30 \uc704\ud55c \ubcc0\uc218\uc774\uace0, l2\ub294 for~in\ubb38\uc744 \uc774\uc6a9\ud558\uc5ec \uacb0\uacfc\ub97c \uc5bb\uae30 \uc704\ud574 \uc0ac\uc6a9\ud558\uc5ff\uc2b5\ub2c8\ub2e4.\n",
      "***\n"
     ]
    },
    {
     "cell_type": "markdown",
     "metadata": {},
     "source": [
      "***\n",
      "# Problem 5"
     ]
    },
    {
     "cell_type": "markdown",
     "metadata": {},
     "source": [
      "-  \ub2e4\uc74c\uacfc \uac19\uc774 0\ubcf4\ub2e4 \ud070 \uc815\uc218 \ub9ac\uc2a4\ud2b8 \ubcc0\uc218 list\ub97c \uc778\uc790\ub85c \ubc1b\ub294 \ud568\uc218 addall(list)\uc640 addallodd(list)\ub97c for ~ in \ub9ac\ud130\ub110\uacfc \ub9ac\uc2a4\ud2b8 \ub0b4\ud3ec \ubc29\uc2dd\uc73c\ub85c \uac01\uac01 \uc81c\uc2dc\ud558\uc2dc\uc624.\n",
      "  - 1) addall(list) \ud568\uc218 (\ub9ac\uc2a4\ud2b8 \ub0b4\uc758 \ubaa8\ub4e0 \uc815\uc218\ub97c \ub354\ud558\ub294 \ud568\uc218\ub85c\uc11c \ud574\ub2f5\uc73c\ub85c\ub294 for ~ in \ub9ac\ud130\ub7f4\uacfc \ub9ac\uc2a4\ud2b8 \ub0b4\ud3ec \ubc29\uc2dd\uc73c\ub85c \uac01\uac01 \uc81c\uc2dc\ud558\uc2dc\uc624.)\n",
      "    - <pre>>>> addall([1])\n",
      "    1</pre>\n",
      "    - <pre>>>> addall([1, 2, 3, 4, 5, 6, 7, 8, 9])\n",
      "    45</pre>\n",
      "  - 2) addallodd(list) \ud568\uc218 (\ub9ac\uc2a4\ud2b8\ub0b4\uc758 \ubaa8\ub4e0 \ud640\uc218\ub97c \ub354\ud558\ub294 \ud568\uc218\ub85c\uc11c \ud574\ub2f5\uc73c\ub85c\ub294 for ~ in \ub9ac\ud130\ub7f4\uacfc \ub9ac\uc2a4\ud2b8 \ub0b4\ud3ec \ubc29\uc2dd\uc73c\ub85c \uac01\uac01 \uc81c\uc2dc\ud558\uc2dc\uc624.)\n",
      "    - <pre>>>> addallodd([1])\n",
      "    1</pre>\n",
      "    - <pre>>>> addallodd([1, 2, 3, 4, 5, 6, 7, 8, 9])\n",
      "    25</pre>\n",
      "  - [\ucc38\uace0 (2014\ub144 10\uc6d4 13\uc77c)]: \ub9ac\uc2a4\ud2b8 \ub0b4\ud3ec \ubc29\uc2dd\uc73c\ub85c addall() \ubc0f addallodd()\ud568\uc218\ub97c \ub9cc\ub4e4 \ub54c\uc5d4 \ub9ac\uc2a4\ud2b8 \ub0b4\ud3ec\uc5d0 \uc758\ud574 \uc0dd\uc131\ub41c \ub9ac\uc2a4\ud2b8 \uacb0\uacfc\uc5d0 \ub300\ud574 \ub0b4\uc7a5 \ud568\uc218\ub97c \uc0ac\uc6a9\ud558\ub294 \ubc29\uc2dd\uc744 \uace0\ub824\ud574\ubcf4\uc2dc\uc624 (\uc8fc\uc758: \ub9ac\uc2a4\ud2b8 \ub0b4\ud3ec \ubc29\uc2dd\uc758 addall() \ubc0f addallodd() \ud568\uc218\uc758 \ubab8\uccb4\ub294 \ub2e8 1\uc904\ub85c \uc791\uc131\ub418\uc5b4\uc57c \ud55c\ub2e4.) \n",
      "***"
     ]
    },
    {
     "cell_type": "code",
     "collapsed": false,
     "input": [
      "def addall_for(list):\n",
      "    sum = 0\n",
      "    for x in list: #for ~ in \uc774\uc6a9\ud55c \ucf54\ub4dc \ubaa8\ub4e0 \uc218\uc758 \ud569 \n",
      "        sum += x\n",
      "    return sum\n",
      "  \n",
      "def addallodd_for(list):\n",
      "    sum = 0\n",
      "    for x in list:  #for ~ in \uc774\uc6a9\ud55c \ucf54\ub4dc \ubaa8\ub4e0 \ud640\uc218\uc758 \ud569\n",
      "        if x%2 == 1:\n",
      "            sum += x\n",
      "    return sum\n",
      "\n",
      "def addall_list(list): #\ub9ac\uc2a4\ud2b8 \ub0b4\ud3ec \ucf54\ub4dc\ub97c \uc774\uc6a9\ud55c \ucf54\ub4dc \ubaa8\ub4e0 \uc218\uc758 \ud569\n",
      "    print sum([ x for x in list ])\n",
      "def addallodd_list(list): #\ub9ac\uc2a4\ud2b8 \ub0b4\ud3ec \ucf54\ub4dc\ub97c \uc774\uc6a9\ud55c \ucf54\ub4dc \ubaa8\ub4e0 \ud640\uc218\uc758 \ud569\n",
      "    print sum([ x for x in list if x%2 == 1])    \n",
      "    \n",
      "result = addall_for([1,2,3,4,5,6,7,8,9])\n",
      "print 'for ~ in \ucf54\ub4dc\ub97c \uc774\uc6a9\ud55c \ucd1d\ud569 : ',\n",
      "print result    \n",
      "result2 = addallodd_for([1,2,3,4,5,6,7,8,9])\n",
      "print 'for ~ in \ucf54\ub4dc\ub97c \uc774\uc6a9\ud55c \ud640\uc218\uc758 \ucd1d\ud569 : ',\n",
      "print result2\n",
      "print '\ub9ac\uc2a4\ud2b8 \ub0b4\ud3ec \ucf54\ub4dc\ub97c \uc774\uc6a9\ud55c \ucd1d\ud569 : ',\n",
      "addall_list([1,2,3,4,5,6,7,8,9])\n",
      "print '\ub9ac\uc2a4\ud2b8 \ub0b4\ud3ec \ucf54\ub4dc\ub97c \uc774\uc6a9\ud55c \ud640\uc218\uc758 \ucd1d\ud569 : ',\n",
      "addallodd_list([1,2,3,4,5,6,7,8,9])"
     ],
     "language": "python",
     "metadata": {},
     "outputs": [
      {
       "output_type": "stream",
       "stream": "stdout",
       "text": [
        "for ~ in \ucf54\ub4dc\ub97c \uc774\uc6a9\ud55c \ucd1d\ud569 :  45\n",
        "for ~ in \ucf54\ub4dc\ub97c \uc774\uc6a9\ud55c \ud640\uc218\uc758 \ucd1d\ud569 :  25\n",
        "\ub9ac\uc2a4\ud2b8 \ub0b4\ud3ec \ucf54\ub4dc\ub97c \uc774\uc6a9\ud55c \ucd1d\ud569 :  45\n",
        "\ub9ac\uc2a4\ud2b8 \ub0b4\ud3ec \ucf54\ub4dc\ub97c \uc774\uc6a9\ud55c \ud640\uc218\uc758 \ucd1d\ud569 :  25\n"
       ]
      }
     ],
     "prompt_number": 30
    },
    {
     "cell_type": "markdown",
     "metadata": {},
     "source": [
      "\uc124\uba85  : for~in\ucf54\ub4dc\uc640 \ub9ac\uc2a4\ud2b8 \ub0b4\ud3ec \ucf54\ub4dc\ub97c \uc774\uc6a9\ud55c \ubaa8\ub4e0 \uc218 \ub610\ub294 \ubaa8\ub4e0 \ud640\uc218\uc758 \ud569\uc744 \uad6c\ud558\ub294\ub370 \ub124\uac1c\uc758 \ud568\uc218\ub97c \uc791\uc131\ud558\uc600\uc2b5\ub2c8\ub2e4. for~in\ubb38\uc6a9 \ud568\uc218 2\uac1c(\ubaa8\ub4e0 \uc218 , \ubaa8\ub4e0 \ud640\uc218)\uc640 \ub9ac\uc2a4\ud2b8\ub0b4\ud3ec\uc6a9 \ud568\uc218 (\ubaa8\ub4e0 \uc218, \ubaa8\ub4e0\ud640\uc218) for\ubb38\uc744 \uc774\uc6a9\ud558\uc5ec \ucd1d\ud569\uc744 \uad6c\ud558\ub294\ub370\ub294 \ubb38\uc81c \uc5c6\uc5c8\uc9c0\ub9cc, \ub9ac\uc2a4\ud2b8 \ub0b4\ud3ec \ubc29\uc2dd\uc744 \uc774\uc6a9\ud558\uc5ec \ub9e4\uac1c\ubcc0\uc218\ub85c \ubc1b\uc544\uc628 \ub9ac\uc2a4\ud2b8 \ub0b4\uc758 \uc870\uac74\uc5d0 \ub9de\ub294 \uc218\ub97c \ub530\ub85c \ub9ac\uc2a4\ud2b8\ub85c \ub9cc\ub4e0 \ud6c4 sum()\ud568\uc218\ub97c \uc774\uc6a9\ud574\uc11c \ub530\ub85c \ub9cc\ub4e4\uc5b4\uc9c4 \ub9ac\uc2a4\ud2b8\uc758 \ubaa8\ub4e0 \uac12\uc758 \ud569\uc744 \uad6c\ud558\uba74 \uadf8\uac83\uc774 \ucd1d\ud569\uc774 \ub429\ub2c8\ub2e4.\n",
      "***"
     ]
    },
    {
     "cell_type": "markdown",
     "metadata": {},
     "source": [
      "***\n",
      "# Problem 6"
     ]
    },
    {
     "cell_type": "markdown",
     "metadata": {},
     "source": [
      "- \ub2e4\uc74c \ucf54\ub4dc\ub97c \ubcf4\uace0 \ubb3c\uc74c\uc5d0 \ub2f5\ud558\uc2dc\uc624.\n",
      "  <pre>L1 = [1, 2, 3]\n",
      "L2 = [4, 5, 6]\n",
      "d = {'low':L1, 'high':L2}\n",
      "e = d\n",
      "f = d.copy()\n",
      "print d\n",
      "print e\n",
      "print f\n",
      "print\n",
      "d['low'] = [10, 20, 30]\n",
      "d['high'][1] = 500\n",
      "print d\n",
      "print e\n",
      "print f</pre>\n",
      "\n",
      "  - 1) \uc704 \ucf54\ub4dc\uc758 \uc218\ud589 \uacb0\uacfc d\uc640 e\ub294 \ud56d\uc0c1 \uac19\uc740 \uacb0\uacfc\ub97c \ucd9c\ub825\ud55c\ub2e4. \uadf8 \uc774\uc720\ub294 \ubb34\uc5c7\uc778\uac00?\n",
      "  - 2) \uc704 \ucf54\ub4dc\uc758 \uc218\ud589 \uacb0\uacfc \ub9c8\uc9c0\ub9c9 f\uc758 \ub0b4\uc6a9\uc740 \ub2e4\uc74c\uacfc \uac19\ub2e4. \uc774 \ub54c 'high' \ud0a4\uc758 \uac12 \ub0b4\uc6a9 \uc911 500\uc774 \ucd9c\ub825\ub41c \uc774\uc720\uc640 'low' \ud0a4\uc758 \uac12 \ub0b4\uc6a9 \uc911 [1, 2, 3]\uc774 \ucd9c\ub825\ub41c \uc774\uc720\ub97c \uc124\uba85\ud558\uc2dc\uc624 ([hint]: shallow copy \uad00\uc810\uc5d0\uc11c \uc124\uba85\ud558\uc2dc\uc624.)\n",
      "  <pre>{'high': [4, 500, 6], 'low': [1, 2, 3]}</pre>\n",
      "***"
     ]
    },
    {
     "cell_type": "code",
     "collapsed": false,
     "input": [
      "L1 = [1, 2, 3]\n",
      "L2 = [4, 5, 6]\n",
      "d = {'low':L1, 'high':L2} #\uc0ac\uc804 \ub4f1\ub85d \n",
      "e = d\n",
      "f = d.copy()\n",
      "print d\n",
      "print e\n",
      "print f\n",
      "print\n",
      "d['low'] = [10, 20, 30]\n",
      "d['high'][1] = 500\n",
      "print d\n",
      "print e\n",
      "print f"
     ],
     "language": "python",
     "metadata": {},
     "outputs": [
      {
       "output_type": "stream",
       "stream": "stdout",
       "text": [
        "{'high': [4, 5, 6], 'low': [1, 2, 3]}\n",
        "{'high': [4, 5, 6], 'low': [1, 2, 3]}\n",
        "{'high': [4, 5, 6], 'low': [1, 2, 3]}\n",
        "\n",
        "{'high': [4, 500, 6], 'low': [10, 20, 30]}\n",
        "{'high': [4, 500, 6], 'low': [10, 20, 30]}\n",
        "{'high': [4, 500, 6], 'low': [1, 2, 3]}\n"
       ]
      }
     ],
     "prompt_number": 4
    },
    {
     "cell_type": "markdown",
     "metadata": {},
     "source": [
      "\uc124\uba85 : d\uc640 e\ub294 \ud56d\uc0c1 \uac19\uc740 \uacb0\uacfc\ub97c \ucd9c\ub825\ud55c\ub2e4 \uadf8 \uc774\uc720\ub294 e\ub294 d\uc758 \uac1d\uccb4\ub97c \uac00\ub9ac\ud0a4\uace0 \uc788\uae30 \ub54c\ubb38\uc5d0 d\uc640 e\ub294 \ub3d9\uc77c\ud55c \uc0ac\uc804 \uac1d\uccb4\ub97c \uac00\ub9ac\ud0a4\uace0 \uc788\uc5b4\uc11c \ud56d\uc0c1 \uac19\uc740 \ucd9c\ub825 \uacb0\uacfc\ub97c \uc5bb\uc2b5\ub2c8\ub2e4.\n",
      "d['low'] = [10, 20, 30]\ub294 \ud0a4\uc758 \uac12\uc744 \ubcc0\uacbd \uc2dc\ud0b4\uc73c\ub85c d\uc640 e\ub294 \uac19\uc740 \ucd9c\ub825 \uacb0\uacfc\ub97c \uc5bb\uc9c0\ub9cc f\uc758 \ud0a4 low\ub294 \ub9ac\uc2a4\ud2b8 \uac1d\uccb4 [1,2,3]\uac00\ub974\ud0b4\uc73c\ub85c \ub2e4\ub978 \ucd9c\ub825 \uacb0\uacfc\ub97c \uc5bb\uc2b5\ub2c8\ub2e4.\n",
      "d['high'][1] = 500\ub294 e, d, f \uc0ac\uc804\uac1d\uccb4\uc758 \ud0a4 high\uac00 \ubaa8\ub450 \ub9ac\uc2a4\ud2b8 [4, 5, 6]\uc744 \uac00\ub974\ud0a4\uace0 \uc788\uc74c\uc73c\ub85c \ub9ac\uc2a4\ud2b8 \uc548\uc758 \uac12\uc774 \ubcc0\uacbd\ub418\uba74 \uc0ac\uc804\uc758 \ud0a4\uc758 \uac12\uc774 \ubaa8\ub450 \ubcc0\uacbd\ub429\ub2c8\ub2e4.\n",
      "***"
     ]
    },
    {
     "cell_type": "markdown",
     "metadata": {},
     "source": [
      "# Problem 7"
     ]
    },
    {
     "cell_type": "markdown",
     "metadata": {},
     "source": [
      "- \uc0ac\uc804 d = {'one':1, 'two':2, 'three':3, 'four':4, 'five':5}\uac00 \uc8fc\uc5b4\uc84c\uc744 \ub54c \ub2e4\uc74c \uc694\uad6c\uc0ac\ud56d\uc5d0 \ub9de\ub294 \ucf54\ub4dc\ub97c \uc81c\uc2dc\ud558\uc2dc\uc624 \n",
      "  - [\ucc38\uace0]: d.keys(), d.values()\ub97c \ud1b5\ud574 \ub9ac\uc2a4\ud2b8\ub97c \uc5bb\uc5b4\ub0b8 \ud6c4 \ub9ac\uc2a4\ud2b8\uac00 \uc9c0\ub2c8\uace0 \uc788\ub294 sort(cmp=None, key=None, reverse=False)\ud568\uc218\ub97c \ud65c\uc6a9\ud558\uc2dc\uc624.\n",
      "  - 1) \ud0a4\uc758 \uc54c\ud30c\ubcb3 \uc624\ub984\ucc28\uc21c \uc21c\uc11c\ub300\ub85c \ud29c\ud50c (\ud0a4, \uac12)\uc744 \ucc28\ub840\ub300\ub85c \ucd9c\ub825\ud558\uc2dc\uc624.\n",
      "  - 2) \ud0a4\uc758 \uc54c\ud30c\ubcb3 \ub0b4\ub9bc\ucc28\uc21c \uc21c\uc11c\ub300\ub85c \ud29c\ud50c (\ud0a4, \uac12)\uc744 \ucc28\ub840\ub300\ub85c \ucd9c\ub825\ud558\uc2dc\uc624.\n",
      "  - 3) \uac12\uc758 \uc624\ub984\ucc28\uc21c \uc21c\uc11c\ub300\ub85c \ud29c\ud50c (\ud0a4, \uac12)\uc744 \ucc28\ub840\ub300\ub85c \ucd9c\ub825\ud558\uc2dc\uc624. \n",
      "  - 4) \uac12\uc758 \ub0b4\ub9bc\ucc28\uc21c \uc21c\uc11c\ub300\ub85c \ud29c\ud50c (\ud0a4, \uac12)\uc744 \ucc28\ub840\ub300\ub85c \ucd9c\ub825\ud558\uc2dc\uc624.\n",
      " ***"
     ]
    },
    {
     "cell_type": "code",
     "collapsed": false,
     "input": [
      "# -*- coding: utf-8 -*-\n",
      "d = {'one':1, 'two':2, 'three':3, 'four':4, 'five':5}\n",
      "print '\uc0ac\uc804 \uac1d\uccb4 d \ucd9c\ub825 : ',\n",
      "print d\n",
      "print\n",
      "key_list = d.keys() #\ud0a4\uc5d0 \ub300\ud55c \ub9ac\uc2a4\ud2b8 \n",
      "value_list = d.values() #\uac12\uc5d0 \ub300\ud55c \ub9ac\uc2a4\ud2b8 \n",
      "\n",
      "key_list.sort()\n",
      "L = [(x,d[x]) for x in key_list]\n",
      "print '\ud0a4\uc758 \uc54c\ud30c\ubcb3 \uc624\ub984\ucc28\uc21c \uc21c\uc11c\ub300\ub85c \ucd9c\ub825'\n",
      "print L\n",
      "print\n",
      "\n",
      "key_list.sort(reverse = True)\n",
      "L = [(x,d[x]) for x in key_list]\n",
      "print '\ud0a4\uc758 \uc54c\ud30c\ubcb3 \ub0b4\ub9bc\ucc28\uc21c \uc21c\uc11c\ub300\ub85c \ucd9c\ub825'\n",
      "print L\n",
      "print\n",
      "\n",
      "L = []\n",
      "value_list.sort()\n",
      "print '\uac12\uc758 \uc624\ub984\ucc28\uc21c \uc21c\uc11c\ub300\ub85c \ucd9c\ub825'\n",
      "for y in value_list:\n",
      "    for x in d:\n",
      "        if y == d[x]:\n",
      "            L.append((x,y))\n",
      "print L\n",
      "print  \n",
      "\n",
      "L = []\n",
      "value_list.sort(reverse = True)\n",
      "print '\uac12\uc758 \ub0b4\ub9bc\ucc28\uc21c \uc21c\uc11c\ub300\ub85c \ucd9c\ub825'\n",
      "for y in value_list:\n",
      "    for x in d:\n",
      "        if y == d[x]:\n",
      "            L.append((x,y))\n",
      "print L"
     ],
     "language": "python",
     "metadata": {},
     "outputs": [
      {
       "output_type": "stream",
       "stream": "stdout",
       "text": [
        "\uc0ac\uc804 \uac1d\uccb4 d \ucd9c\ub825 :  {'four': 4, 'three': 3, 'five': 5, 'two': 2, 'one': 1}\n",
        "\n",
        "\ud0a4\uc758 \uc54c\ud30c\ubcb3 \uc624\ub984\ucc28\uc21c \uc21c\uc11c\ub300\ub85c \ucd9c\ub825\n",
        "[('five', 5), ('four', 4), ('one', 1), ('three', 3), ('two', 2)]\n",
        "\n",
        "\ud0a4\uc758 \uc54c\ud30c\ubcb3 \ub0b4\ub9bc\ucc28\uc21c \uc21c\uc11c\ub300\ub85c \ucd9c\ub825\n",
        "[('two', 2), ('three', 3), ('one', 1), ('four', 4), ('five', 5)]\n",
        "\n",
        "\uac12\uc758 \uc624\ub984\ucc28\uc21c \uc21c\uc11c\ub300\ub85c \ucd9c\ub825\n",
        "[('one', 1), ('two', 2), ('three', 3), ('four', 4), ('five', 5)]\n",
        "\n",
        "\uac12\uc758 \ub0b4\ub9bc\ucc28\uc21c \uc21c\uc11c\ub300\ub85c \ucd9c\ub825\n",
        "[('five', 5), ('four', 4), ('three', 3), ('two', 2), ('one', 1)]\n"
       ]
      }
     ],
     "prompt_number": 38
    },
    {
     "cell_type": "markdown",
     "metadata": {},
     "source": [
      "\uc124\uba85 : \ub9ac\uc2a4\ud2b8\uc758 \uc815\ub82c \ud568\uc218\uc778 sort()\uc774\uc6a9 \ud574\uc11c \uc0ac\uc804\uc758 \ud0a4 \ub610\ub294 \ud0a4\uc758 \uac12\uc744 \uc815\ub82c \uc2dc\ud0a4\uace0 \uc815\ub82c\ub41c \uc21c\uc11c\ub300\ub85c \uc0ac\uc804\uc758 \ud0a4 \ub610\ub294 \uac12\uc744 \ucc38\uc870\ud558\uc5ec\uc11c \ucd9c\ub825\uc744 \ud574\uc8fc\uc5c8\uc2b5\ub2c8\ub2e4. \n",
      "***"
     ]
    },
    {
     "cell_type": "markdown",
     "metadata": {},
     "source": [
      "# Problem 8"
     ]
    },
    {
     "cell_type": "markdown",
     "metadata": {},
     "source": [
      "- \uc774\uc804 Assignment 2\uc758 \ub9c8\uc9c0\ub9c9 \ubb38\uc81c\ub294 \uc6f9 URL\ub85c \uc9c0\uc815\ub41c \uc6f9\ud398\uc774\uc9c0\ub97c \ubb38\uc790\uc5f4\ub85c \uac00\uc838\uc640 \ubaa8\ub4e0 HTML \ud0dc\uadf8 \ubc0f CSS\uc640 Javascript\ub97c \uc81c\uc678\ud55c \uc21c\uc218 \ud14d\uc2a4\ud2b8\ub97c \uc5bb\uc5b4\ub0b4\uace0 \uadf8 \uc548\uc5d0 \uc874\uc7ac\ud558\ub294 \ub2e8\uc5b4\ub97c \ucd94\ucd9c\ud558\ub294 \ud504\ub85c\uadf8\ub7a8\uc744 \uc791\uc131\ud558\ub294 \uac83\uc774\uc5c8\ub2e4. \uc774\ubc88\uc5d0\ub294 \uadf8 \ub9c8\uc9c0\ub9c9 \uc219\uc81c\ub97c \uadf8\ub300\ub85c \ud655\uc7a5\ud558\uc5ec \uc6f9 URL\ub85c \uc9c0\uc815\ub41c \uc6f9\ud398\uc774\uc9c0 \ub0b4 \uc21c\uc218 \ud14d\uc2a4\ud2b8 \uc548\uc5d0 \uc874\uc7ac\ud558\ub294 \uac01 \ub2e8\uc5b4\ub4e4\uc5d0 \ub300\ud574 \ub2e4\uc74c \uc694\uad6c\uc0ac\ud56d \ub300\ub85c \ucd9c\ub825\ud558\ub294 \ud504\ub85c\uadf8\ub7a8\uc744 \uc791\uc131\ud558\uc2dc\uc624. \n",
      "  - \uc694\uad6c\uc0ac\ud56d 1. \uc21c\uc218 \ud14d\uc2a4\ud2b8 \uc548\uc5d0 \uc874\uc7ac\ud558\ub294 \ub2e8\uc5b4\ub4e4\uc5d0 \ub300\ud574 string \ubaa8\ub4c8\uc744 \ud65c\uc6a9\ud558\uc5ec \ubaa8\ub4e0 punctuation (\uad6c\ub450\ubb38\uc790)\ub97c \uc644\ubcbd\ud788 \uc81c\uac70\ud558\uc2dc\uc624 (\uad50\uc7ac 166\ud398\uc774\uc9c0 \ucc38\uace0).\n",
      "    - \uc608: ['world!', ':', '+hello+', '~python$$$', '=', 'world'] ---> ['world', 'hello', 'python', 'world']\n",
      "  - \uc694\uad6c\uc0ac\ud56d 2. \uac01 \ub2e8\uc5b4\ub4e4\uc758 \ucd9c\ud604\ube48\ub3c4\ub97c \uc0ac\uc804\ud615\ud0dc\ub85c \uc800\uc7a5\ud558\uc5ec \ucd9c\ub825\ud558\uc2dc\uc624.\n",
      "    - \uc608: ['world', 'hello', 'python', 'world'] ---> {'world': 2, 'hello': 1, 'python': 1}\n",
      "***"
     ]
    },
    {
     "cell_type": "code",
     "collapsed": false,
     "input": [
      "# -*- coding: utf-8 -*-\n",
      "import urllib\n",
      "import string\n",
      "source = urllib.urlopen(\"http://cse.kut.ac.kr/\").read()\n",
      "\n",
      "len_source = len(source)\n",
      "print \"Initial length of source:\", len_source\n",
      "\n",
      "source_new = None\n",
      "i = 0\n",
      "while (i < len_source):\n",
      "\tfound = False\n",
      "\tif (found != True and source[i] == \"<\" and source[i+1 : i+7].lower() == \"script\"):\n",
      "\t\tfound = True;\n",
      "\t\tj = i + 7;\n",
      "\t\twhile (True):\n",
      "\t\t\tif (source[j] == \"<\" and source[j+1] == \"/\" and source[j+2 : j+8].lower() == \"script\"):\n",
      "\t\t\t\t#print \"found - script\"\n",
      "\t\t\t\tsource = source[:i] + ' ' + source[j+9:]\n",
      "\t\t\t\tbreak\n",
      "\t\t\tj = j + 1\n",
      "\t\t\tif (j > len_source):\n",
      "\t\t\t\tbreak\n",
      "\t\tlen_source = len(source)\n",
      "\ti = i + 1\n",
      "\n",
      "len_source = len(source)\n",
      "#print len_source\n",
      "\n",
      "i = 0\n",
      "while (i < len_source):\n",
      "\tfound = False\n",
      "\tif (found != True and source[i] == \"<\" and source[i+1 : i+6].lower() == \"style\"):\n",
      "\t\tfound = True;\n",
      "\t\tj = i + 6;\n",
      "\t\twhile (True):\n",
      "\t\t\tif (source[j] == \"<\" and source[j+1] == \"/\" and source[j+2 : j+7].lower() == \"style\"):\n",
      "\t\t\t\t#print \"found - style\"\n",
      "\t\t\t\tsource = source[:i] + ' ' + source[j+8:]\n",
      "\t\t\t\tbreak\n",
      "\t\t\tj = j + 1\n",
      "\t\t\tif (j > len_source):\n",
      "\t\t\t\tbreak\n",
      "\t\tlen_source = len(source)\n",
      "\ti = i + 1\n",
      "\n",
      "len_source = len(source)\n",
      "#print len_source\n",
      "\n",
      "i = 0\n",
      "while (i < len_source):\n",
      "\tfound = False\n",
      "\tif (found != True and source[i] == \"<\"):\n",
      "\t\tfound = True;\n",
      "\t\tj = i + 1;\n",
      "\t\twhile (True):\n",
      "\t\t\tif (source[j] == \">\"):\n",
      "\t\t\t\t#print \"found - HTML tag\"\n",
      "\t\t\t\tsource = source[:i] + ' ' + source[j+1:]\n",
      "\t\t\t\tbreak\n",
      "\t\t\tj = j + 1\n",
      "\t\t\tif (j > len_source):\n",
      "\t\t\t\tbreak\n",
      "\t\tlen_source = len(source)\n",
      "\ti = i + 1\n",
      "\n",
      "len_source = len(source)\n",
      "print \"Last length of source:\", len_source\n",
      "\n",
      "words = source.split()\n",
      "\n",
      "#for word in words:\n",
      "#\tprint word\n",
      "\n",
      "print \"Total num of plain words:\", len(words)\n",
      "for word in words:\n",
      "    print '\"' + word + '\" ',\n",
      "\n",
      "print\n",
      "#\uc704\uc758 \ucf54\ub4dc\ub294 \uad50\uc218\ub2d8\uc774 \uc81c\uc2dc\ud574 \uc8fc\uc2e0 \ucf54\ub4dc\ub97c \uc774\uc6a9'\n",
      "#-------------------------------------------\n",
      "#\uc5ec\uae30\uc11c \ubd80\ud130\ub294 \uad6c\ub450 \ubb38\uc790 \uc81c\uac70 \ubc0f \ub2e8\uc5b4 \ucd9c\ud604 \ube48\ub3c4 \uc218 \ucd9c\ub825\ud558\ub294 \ucf54\ub4dc  \n",
      "final_words = [] #\uad6c\ub450\ubb38\uc790\uac00 \uc81c\uac70\ub41c \ucd5c\uc885 \ubb38\uc790\n",
      "for temp in words:\n",
      "    string_list = [] #\ubb38\uc790\uc5f4 \ub9ac\uc2a4\ud2b8\n",
      "    make_string = []\n",
      "\n",
      "    for k in temp:  #\uadf8 \ubb38\uc790\uc5f4\uc758 \ubb38\uc790\ub4e4\uc744 \ud558\ub098\uc529 \ub9ac\uc2a4\ud2b8\uc5d0 \ub123\ub294\ub2e4.\n",
      "        string_list.append(k)\n",
      "\n",
      "\n",
      "    flag = 0 #\uad6c\ub450\ubb38\uc790\uc778\uc9c0 \uc544\ub2cc\uc9c0 0\uc774\uba74 \uc544\ub2d8 1\uc774\uba74 \uad6c\ub450\ubb38\uc790\n",
      "    for char in string_list:\n",
      "        for y in string.punctuation: #\uad6c\ub450\ubb38\uc790 \uc810\uac80\n",
      "            if (char == y): #\uad6c\ub450\ubb38\uc790\ub77c\uba74\n",
      "                flag = 1     #\ud50c\ub798\uadf8 \uc0c1\ud0dc \ubcc0\uacbd\n",
      "                break       #\ubc18\ubcf5\ubb38 \uc885\ub8cc\n",
      "        if (flag == 0):    #\uad6c\ub450\ubb38\uc790\uac00 \uc544\ub2c8\uba74 \ub9ac\uc2a4\ud2b8\uc5d0 \ubb38\uc790 \ucd94\uac00\n",
      "            make_string.append(char)\n",
      "        elif (flag == 1):  #\uad6c\ub450\ubb38\uc790\uc774\uba74 \uc0c1\ud0dc\ub97c \ubcc0\uacbd\uc2dc\ucf1c \uc8fc\uace0 \ub2e4\uc74c \ubb38\uc790\ub85c \ub118\uc5b4\uac10\n",
      "            flag = 0\n",
      "            continue;    \n",
      "    make_string = ''.join(make_string) #\ub9ac\uc2a4\ud2b8 \ub0b4\uc758 \ubb38\uc790\ub4e4\uc744 \ud569\uccd0\uc11c \ud558\ub098\uc758 \ubb38\uc790\uc5f4\ub85c \ub9cc\ub4e4\uae30   \n",
      "    final_words.append(make_string)            \n",
      "print '''----------------------------------------------------------------------------------------------------------------------------'''         \n",
      "\n",
      "    \n",
      "count = 0\n",
      "while count < len(final_words): #\ub9ac\uc2a4\ud2b8 \ub0b4\uc758 \ubb38\uc790\uc5f4\uc774 ''\uc778 \uacf5\ubc31\uc778 \uc6d0\uc18c\ub4e4\uc744 \ubaa8\ub450 \uc81c\uac70\n",
      "      temp = count\n",
      "      if final_words[count] == '':\n",
      "          del final_words[count]\n",
      "          count = temp\n",
      "      else:\n",
      "          count += 1\n",
      "print '                                                \uad6c\ub450\ubb38\uc790\ub97c \uc81c\uac70\ud55c \uc21c\uc218 \ud14d\uc2a4\ud2b8\ub4e4'\n",
      "print \"Total num of plain final_words:\", len(final_words)\n",
      "for word in final_words:\n",
      "    print '\"' + word + '\" ', \n",
      "print\n",
      "print '''----------------------------------------------------------------------------------------------------------------------------'''             \n",
      "\n",
      "dic = dict() #\ucd9c\ud604 \ube48\ub3c4\ub97c \uc800\uc7a5\ud558\uae30 \uc704\ud55c \uc0ac\uc804 \uac1d\uccb4 \n",
      "value = 0 \n",
      "for index in range(len(final_words)):\n",
      "    if(final_words[index] in dic): \n",
      "        value = dic.get(final_words[index])\n",
      "        value += 1\n",
      "        dic[final_words[index]] = value\n",
      "    else:\n",
      "        dic[final_words[index]] = 1    \n",
      "\n",
      "key_list = dic.keys()\n",
      "for x in range(len(key_list)):\n",
      "    print key_list[x] + ' :',\n",
      "    print dic.get(key_list[x])\n",
      "\n"
     ],
     "language": "python",
     "metadata": {},
     "outputs": [
      {
       "output_type": "stream",
       "stream": "stdout",
       "text": [
        "Initial length of source: 36565\n",
        "Last length of source: 5480\n",
        "Total num of plain words: 193\n",
        "\"\ucef4\ud4e8\ud130\uacf5\ud559\ubd80\"  \"\ud648\ud398\uc774\uc9c0\"  \"\ucef4\ud4e8\ud130\uacf5\ud559\ubd80\"  \":\"  \"\uad50\uc721\ubaa9\ud45c\"  \":\"  \"\ucc3e\uc544\uc624\uc2dc\ub294\uae38\"  \":\"  \"\uc878\uc5c5\uc791\ud488\"  \":\"  \"\uacf5\ud559\uc124\uacc4\"  \":\"  \"\ucde8\uc5c5\uc870\uc0ac2014\"  \":\"  \"\ucde8\uc5c5\uc870\uc0ac2013\"  \"\uad50\uc218\uc9c4\"  \":\"  \"\ud559\uc0dd\ud68c\"  \"\uc878\uc5c5\uc774\uc218\uc694\uac74\"  \":\"  \"\ucef4\ud4e8\ud130S/W\"  \":\"  \"\ucef4\ud4e8\ud130H/W\"  \":\"  \"\ucef4\ud4e8\ud130\uc2a4\ub9c8\ud2b8IT\"  \":\"  \"\ucef4\ud4e8\ud130\uc2dc\uc2a4\ud15c\uc751\uc6a9\"  \":\"  \"\uc7a5\ud559\uc81c\ub3c4\"  \"\ubaa8\uc9d1\uc694\uac15\"  \":\"  \"\uc785\uc2dcQ&A\"  \"\uacf5\uc9c0\uc0ac\ud56d\"  \":\"  \"\uc790\uc720\uac8c\uc2dc\ud310\"  \":\"  \"\uc775\uba85\uac8c\uc2dc\ud310\"  \":\"  \"\ucde8\uc5c5\uac8c\uc2dc\ud310\"  \":\"  \"\ub3d9\ubb38\uac8c\uc2dc\ud310\"  \":\"  \"\uc0ac\uc9c4\uac8c\uc2dc\ud310\"  \":\"  \"\ud559\ubd80\uc0ac\uc9c4\uac94\ub7ec\ub9ac\"  \":\"  \"\uace0\uc7a5\uc2e0\uace0\uac8c\uc2dc\ud310\"  \"\uac15\uc758\uc790\ub8cc\uc2e4\"  \":\"  \"\uc77c\ubc18\uc790\ub8cc\uc2e4\"  \":\"  \"\uc11c\uc2dd\ubc0f\uc591\uc2dd\uc790\ub8cc\uc2e4\"  \"\ub300\ud559\uc6d0\uc18c\uac1c\"  \":\"  \"\uc5f0\uad6c\uc2e4\uc18c\uac1c\"  \":\"  \"\ub300\ud559\uc6d0\uac8c\uc2dc\ud310\"  \"\uacf5\ud559\uc778\uc99d\uc548\ub0b4\"  \":\"  \"\uacf5\ud559\uc778\uc99d\uac8c\uc2dc\ud310\"  \":\"  \"C++\"  \"2014/03/27\"  \"\uacf5\ud559\uc124\uacc4\"  \"\ud3ec\uc2a4\ud130\ubc1c\ud45c\uacbd\uc9c4\ub300\ud68c\"  \"\ud22c\ud45c...\"  \"2013/12/10\"  \"2013\ub144\"  \"\uc878\uc5c5\uc791\ud488\"  \"\ube0c\ub85c\uc154\"  \"2013/10/07\"  \"\uc81c\"  \"4\ub300\"  \"\ucef4\ud4e8\ud130\uacf5\ud559\ubd80\"  \"\ud559\ud68c\uc7a5/\ubd80\ud559...\"  \"2012/11/05\"  \"\ub514\uc9c0\ud138\"  \"\uc2dc\uc2a4\ud15c\"  \"\uc124\uacc41-\"  \"[\uc2e4\uc2b5-\uc870\uad50]\"  \"2012/09/09\"  \"\uc18c\ud504\ud2b8\uc6e8\uc5b4\uacf5\ud559\"  \"\uc911\uac04\uace0\uc0ac\"  \"\uacf5\uc9c0.\"  \"2014/10/16\"  \"\ucef4\ud4e8\ud130\uacf5\ud559\ubd80\"  \"\ud559\uc0dd\ub4e4\uc744\"  \"\uc704\ud55c\"  \"\ub18d\uad6c...\"  \"2014/10/06\"  \"\ud639\uc2dc\"  \"\ud64d\uc9c4\ud45c\"  \"\uad50\uc218\ub2d8\uc758\"  \"\ucef4\ud4e8\ud130\"  \"\uad6c...\"  \"&nbsp;\"  \"(2)\"  \"2014/10/06\"  \"\uc18c\ud504\ud2b8\uc6e8\uc5b4\"  \"\uac1c\ubc1c\ubcf4\uc548\"  \"\uacbd\uc9c4\ub300\ud68c\"  \"\uac1c\ucd5c\"  \"2014/10/01\"  \"2015\ub144\"  \"\uc0c1\ubc18\uae30\"  \"\uc0bc\uc131\"  \"\uc18c\ud504\ud2b8\uc6e8\uc5b4\"  \"...\"  \"2014/09/25\"  \"\ucf64\ud14d\uc2dc\uc2a4\ud15c\"  \"\uc2e0\uc785\uc0ac\uc6d0\"  \"\ubaa8\uc9d1\"  \"2014/10/16\"  \"2014\ub144\"  \"T-money(\ud55a\uad6d\uc2a4\ub9c8\ud2b8\uce74\ub4dc)\"  \"...\"  \"2014/10/14\"  \"\uc138\ub9bc\ud2f0\ub124\uc2a4\uc9c0(\uc8fc)\"  \"\uc778\ub825\"  \"\ucc44\uc6a9\"  \"\uacf5\uace0\"  \"2014/09/30\"  \"(\uc8fc)\uc5e0\ud504\ub860\ud2f0\uc5b4\"  \"\uc2dc\uc2a4\ud15c\"  \"\uc6b4\uc601/\uac1c\ubc1c\"  \"...\"  \"2014/09/15\"  \"\ucef4\ud4e8\ud130\uacf5\ud559\ubd80\"  \"\ud559\ubd80\uc0ac\ubb34\uc2e4\"  \"\uccad\ub144\uc778\ud134...\"  \"2014/08/06\"  \"2014-10-14\"  \"...\"  \"2014-10-14\"  \"...\"  \"[1]\"  \"2014\ub144\"  \"\uc878\uc5c5...\"  \"\ud559\uc220\uc81c\"  \"\ucef4\ud4e8\ud130\uacf5\ud559\ubd80\"  \"\uc878\uc5c5\uc791\ud488\"  \"\uc778...\"  \"2014/10/16\"  \"\uc878\uc5c5\uc791\ud488\"  \"\ud3ec\uc0c1(\uacbd\uc9c4\ub300\ud68c)\"  \"\uc548\ub0b4\"  \"2014/10/15\"  \"\ub300\ud559\uc6d0\uc0dd\"  \"\ub300\uc0c1\"  \"\uc548\uc804\uad50\uc721\"  \"\uc548\ub0b4\"  \"10...\"  \"2014/10/14\"  \"[\ud2b9\uc131\ud654\uc0ac\uc5c5\ub2e8]\"  \"\uc77c\ubcf8\uae30\uc220\ud0d0\ubc29\"  \"\uc120...\"  \"2014/10/13\"  \"2014\ub144\"  \"\ud558\ubc18\uae30\"  \"\ud154\ucf54\uc6e8\uc5b4(\uc8fc)\"  \"\uc2e0\uc785...\"  \"2014/10/10\"  \"\uc878\uc5c5\uc791\ud488\"  \"\uc804\uc2dc\ud68c\"  \"\ucef4\ud4e8\ud130\uacf5\ud559\ubd80\"  \"\uc778...\"  \"2014/10/07\"  \"\uc7ac\uacf5\uc9c0)\"  \"12\uc77c\"  \"\ub9c8\uac10.\"  \"\uc878\uc5c5\uc791\ud488\"  \"\ud3ec...\"  \"2014/10/04\"  \"LG\uc720\ud50c\ub7ec\uc2a4,\"  \"\uae30\uac00\uc778\ud130\ub137\"  \"\uccb4\ud5d8\"  \"\ud504...\"  \"2014-10-19\"  \"[2014\"  \"\ubbf8\ub798\ucc3d\uc870\uacfc\ud559\ubd80\uc7a5\uad00\ubc30\"  \"\ucd95\uad6c...\"  \"2014-10-19\"  \"[2014\"  \"\ubbf8\ub798\ucc3d\uc870\uacfc\ud559\ubd80\uc7a5\uad00\ubc30\"  \"\ucd95\uad6c...\"  \"2014-10-19\"  \"[2014\"  \"\ubbf8\ub798\ucc3d\uc870\uacfc\ud559\ubd80\uc7a5\uad00\ubc30\"  \"\ucd95\uad6c...\"  \"2014-10-19\"  \"[\uc804\uc790\uce98\ub9b0\ub354]10\uc6d4\"  \"20~25\uc77c\"  \"2014-10-19\" \n",
        "----------------------------------------------------------------------------------------------------------------------------\n",
        "                                                \uad6c\ub450\ubb38\uc790\ub97c \uc81c\uac70\ud55c \uc21c\uc218 \ud14d\uc2a4\ud2b8\ub4e4\n",
        "Total num of plain final_words: 162\n",
        "\"\ucef4\ud4e8\ud130\uacf5\ud559\ubd80\"  \"\ud648\ud398\uc774\uc9c0\"  \"\ucef4\ud4e8\ud130\uacf5\ud559\ubd80\"  \"\uad50\uc721\ubaa9\ud45c\"  \"\ucc3e\uc544\uc624\uc2dc\ub294\uae38\"  \"\uc878\uc5c5\uc791\ud488\"  \"\uacf5\ud559\uc124\uacc4\"  \"\ucde8\uc5c5\uc870\uc0ac2014\"  \"\ucde8\uc5c5\uc870\uc0ac2013\"  \"\uad50\uc218\uc9c4\"  \"\ud559\uc0dd\ud68c\"  \"\uc878\uc5c5\uc774\uc218\uc694\uac74\"  \"\ucef4\ud4e8\ud130SW\"  \"\ucef4\ud4e8\ud130HW\"  \"\ucef4\ud4e8\ud130\uc2a4\ub9c8\ud2b8IT\"  \"\ucef4\ud4e8\ud130\uc2dc\uc2a4\ud15c\uc751\uc6a9\"  \"\uc7a5\ud559\uc81c\ub3c4\"  \"\ubaa8\uc9d1\uc694\uac15\"  \"\uc785\uc2dcQA\"  \"\uacf5\uc9c0\uc0ac\ud56d\"  \"\uc790\uc720\uac8c\uc2dc\ud310\"  \"\uc775\uba85\uac8c\uc2dc\ud310\"  \"\ucde8\uc5c5\uac8c\uc2dc\ud310\"  \"\ub3d9\ubb38\uac8c\uc2dc\ud310\"  \"\uc0ac\uc9c4\uac8c\uc2dc\ud310\"  \"\ud559\ubd80\uc0ac\uc9c4\uac94\ub7ec\ub9ac\"  \"\uace0\uc7a5\uc2e0\uace0\uac8c\uc2dc\ud310\"  \"\uac15\uc758\uc790\ub8cc\uc2e4\"  \"\uc77c\ubc18\uc790\ub8cc\uc2e4\"  \"\uc11c\uc2dd\ubc0f\uc591\uc2dd\uc790\ub8cc\uc2e4\"  \"\ub300\ud559\uc6d0\uc18c\uac1c\"  \"\uc5f0\uad6c\uc2e4\uc18c\uac1c\"  \"\ub300\ud559\uc6d0\uac8c\uc2dc\ud310\"  \"\uacf5\ud559\uc778\uc99d\uc548\ub0b4\"  \"\uacf5\ud559\uc778\uc99d\uac8c\uc2dc\ud310\"  \"C\"  \"20140327\"  \"\uacf5\ud559\uc124\uacc4\"  \"\ud3ec\uc2a4\ud130\ubc1c\ud45c\uacbd\uc9c4\ub300\ud68c\"  \"\ud22c\ud45c\"  \"20131210\"  \"2013\ub144\"  \"\uc878\uc5c5\uc791\ud488\"  \"\ube0c\ub85c\uc154\"  \"20131007\"  \"\uc81c\"  \"4\ub300\"  \"\ucef4\ud4e8\ud130\uacf5\ud559\ubd80\"  \"\ud559\ud68c\uc7a5\ubd80\ud559\"  \"20121105\"  \"\ub514\uc9c0\ud138\"  \"\uc2dc\uc2a4\ud15c\"  \"\uc124\uacc41\"  \"\uc2e4\uc2b5\uc870\uad50\"  \"20120909\"  \"\uc18c\ud504\ud2b8\uc6e8\uc5b4\uacf5\ud559\"  \"\uc911\uac04\uace0\uc0ac\"  \"\uacf5\uc9c0\"  \"20141016\"  \"\ucef4\ud4e8\ud130\uacf5\ud559\ubd80\"  \"\ud559\uc0dd\ub4e4\uc744\"  \"\uc704\ud55c\"  \"\ub18d\uad6c\"  \"20141006\"  \"\ud639\uc2dc\"  \"\ud64d\uc9c4\ud45c\"  \"\uad50\uc218\ub2d8\uc758\"  \"\ucef4\ud4e8\ud130\"  \"\uad6c\"  \"nbsp\"  \"2\"  \"20141006\"  \"\uc18c\ud504\ud2b8\uc6e8\uc5b4\"  \"\uac1c\ubc1c\ubcf4\uc548\"  \"\uacbd\uc9c4\ub300\ud68c\"  \"\uac1c\ucd5c\"  \"20141001\"  \"2015\ub144\"  \"\uc0c1\ubc18\uae30\"  \"\uc0bc\uc131\"  \"\uc18c\ud504\ud2b8\uc6e8\uc5b4\"  \"20140925\"  \"\ucf64\ud14d\uc2dc\uc2a4\ud15c\"  \"\uc2e0\uc785\uc0ac\uc6d0\"  \"\ubaa8\uc9d1\"  \"20141016\"  \"2014\ub144\"  \"Tmoney\ud55a\uad6d\uc2a4\ub9c8\ud2b8\uce74\ub4dc\"  \"20141014\"  \"\uc138\ub9bc\ud2f0\ub124\uc2a4\uc9c0\uc8fc\"  \"\uc778\ub825\"  \"\ucc44\uc6a9\"  \"\uacf5\uace0\"  \"20140930\"  \"\uc8fc\uc5e0\ud504\ub860\ud2f0\uc5b4\"  \"\uc2dc\uc2a4\ud15c\"  \"\uc6b4\uc601\uac1c\ubc1c\"  \"20140915\"  \"\ucef4\ud4e8\ud130\uacf5\ud559\ubd80\"  \"\ud559\ubd80\uc0ac\ubb34\uc2e4\"  \"\uccad\ub144\uc778\ud134\"  \"20140806\"  \"20141014\"  \"20141014\"  \"1\"  \"2014\ub144\"  \"\uc878\uc5c5\"  \"\ud559\uc220\uc81c\"  \"\ucef4\ud4e8\ud130\uacf5\ud559\ubd80\"  \"\uc878\uc5c5\uc791\ud488\"  \"\uc778\"  \"20141016\"  \"\uc878\uc5c5\uc791\ud488\"  \"\ud3ec\uc0c1\uacbd\uc9c4\ub300\ud68c\"  \"\uc548\ub0b4\"  \"20141015\"  \"\ub300\ud559\uc6d0\uc0dd\"  \"\ub300\uc0c1\"  \"\uc548\uc804\uad50\uc721\"  \"\uc548\ub0b4\"  \"10\"  \"20141014\"  \"\ud2b9\uc131\ud654\uc0ac\uc5c5\ub2e8\"  \"\uc77c\ubcf8\uae30\uc220\ud0d0\ubc29\"  \"\uc120\"  \"20141013\"  \"2014\ub144\"  \"\ud558\ubc18\uae30\"  \"\ud154\ucf54\uc6e8\uc5b4\uc8fc\"  \"\uc2e0\uc785\"  \"20141010\"  \"\uc878\uc5c5\uc791\ud488\"  \"\uc804\uc2dc\ud68c\"  \"\ucef4\ud4e8\ud130\uacf5\ud559\ubd80\"  \"\uc778\"  \"20141007\"  \"\uc7ac\uacf5\uc9c0\"  \"12\uc77c\"  \"\ub9c8\uac10\"  \"\uc878\uc5c5\uc791\ud488\"  \"\ud3ec\"  \"20141004\"  \"LG\uc720\ud50c\ub7ec\uc2a4\"  \"\uae30\uac00\uc778\ud130\ub137\"  \"\uccb4\ud5d8\"  \"\ud504\"  \"20141019\"  \"2014\"  \"\ubbf8\ub798\ucc3d\uc870\uacfc\ud559\ubd80\uc7a5\uad00\ubc30\"  \"\ucd95\uad6c\"  \"20141019\"  \"2014\"  \"\ubbf8\ub798\ucc3d\uc870\uacfc\ud559\ubd80\uc7a5\uad00\ubc30\"  \"\ucd95\uad6c\"  \"20141019\"  \"2014\"  \"\ubbf8\ub798\ucc3d\uc870\uacfc\ud559\ubd80\uc7a5\uad00\ubc30\"  \"\ucd95\uad6c\"  \"20141019\"  \"\uc804\uc790\uce98\ub9b0\ub35410\uc6d4\"  \"2025\uc77c\"  \"20141019\" \n",
        "----------------------------------------------------------------------------------------------------------------------------\n",
        "\uc785\uc2dcQA : 1\n",
        "\ucef4\ud4e8\ud130\uc2dc\uc2a4\ud15c\uc751\uc6a9 : 1\n",
        "\uc548\uc804\uad50\uc721 : 1\n",
        "nbsp : 1\n",
        "\uacf5\uc9c0\uc0ac\ud56d : 1\n",
        "2013\ub144 : 1\n",
        "\uc7ac\uacf5\uc9c0 : 1\n",
        "\uc5f0\uad6c\uc2e4\uc18c\uac1c : 1\n",
        "\ubaa8\uc9d1\uc694\uac15 : 1\n",
        "\ucde8\uc5c5\uac8c\uc2dc\ud310 : 1\n",
        "\ud559\uc220\uc81c : 1\n",
        "2014 : 3\n",
        "\uc2e0\uc785 : 1\n",
        "\uc778\ub825 : 1\n",
        "\ub18d\uad6c : 1\n",
        "\ubaa8\uc9d1 : 1\n",
        "\uc2e0\uc785\uc0ac\uc6d0 : 1\n",
        "\uac15\uc758\uc790\ub8cc\uc2e4 : 1\n",
        "\ub300\ud559\uc6d0\uc0dd : 1\n",
        "\uac1c\ucd5c : 1\n",
        "20140327 : 1\n",
        "\uc878\uc5c5\uc791\ud488 : 6\n",
        "\uc8fc\uc5e0\ud504\ub860\ud2f0\uc5b4 : 1\n",
        "\uc878\uc5c5 : 1\n",
        "2015\ub144 : 1\n",
        "\ub3d9\ubb38\uac8c\uc2dc\ud310 : 1\n",
        "\ub514\uc9c0\ud138 : 1\n",
        "20131007 : 1\n",
        "20140806 : 1\n",
        "\ub300\uc0c1 : 1\n",
        "\uad50\uc218\uc9c4 : 1\n",
        "\ud559\ubd80\uc0ac\uc9c4\uac94\ub7ec\ub9ac : 1\n",
        "\uc704\ud55c : 1\n",
        "\uc0c1\ubc18\uae30 : 1\n",
        "\ud559\uc0dd\ud68c : 1\n",
        "\ucd95\uad6c : 3\n",
        "4\ub300 : 1\n",
        "C : 1\n",
        "\ud22c\ud45c : 1\n",
        "2014\ub144 : 3\n",
        "\ud3ec\uc2a4\ud130\ubc1c\ud45c\uacbd\uc9c4\ub300\ud68c : 1\n",
        "\uad6c : 1\n",
        "\uccb4\ud5d8 : 1\n",
        "\uc0bc\uc131 : 1\n",
        "\ubbf8\ub798\ucc3d\uc870\uacfc\ud559\ubd80\uc7a5\uad00\ubc30 : 3\n",
        "\uc0ac\uc9c4\uac8c\uc2dc\ud310 : 1\n",
        "\uacf5\ud559\uc778\uc99d\uc548\ub0b4 : 1\n",
        "\ucef4\ud4e8\ud130SW : 1\n",
        "\ud559\uc0dd\ub4e4\uc744 : 1\n",
        "\uad50\uc721\ubaa9\ud45c : 1\n",
        "20120909 : 1\n",
        "\uc778 : 2\n",
        "\ucde8\uc5c5\uc870\uc0ac2013 : 1\n",
        "\ucde8\uc5c5\uc870\uc0ac2014 : 1\n",
        "Tmoney\ud55a\uad6d\uc2a4\ub9c8\ud2b8\uce74\ub4dc : 1\n",
        "20141001 : 1\n",
        "20141006 : 2\n",
        "20141007 : 1\n",
        "20141004 : 1\n",
        "\uc138\ub9bc\ud2f0\ub124\uc2a4\uc9c0\uc8fc : 1\n",
        "\ucef4\ud4e8\ud130 : 1\n",
        "\ud558\ubc18\uae30 : 1\n",
        "\uc6b4\uc601\uac1c\ubc1c : 1\n",
        "\ucc3e\uc544\uc624\uc2dc\ub294\uae38 : 1\n",
        "20121105 : 1\n",
        "\uc7a5\ud559\uc81c\ub3c4 : 1\n",
        "\ud648\ud398\uc774\uc9c0 : 1\n",
        "\ucf64\ud14d\uc2dc\uc2a4\ud15c : 1\n",
        "\ub9c8\uac10 : 1\n",
        "\uccad\ub144\uc778\ud134 : 1\n",
        "\uc77c\ubcf8\uae30\uc220\ud0d0\ubc29 : 1\n",
        "\uc804\uc2dc\ud68c : 1\n",
        "2 : 1\n",
        "20141019 : 5\n",
        "\ud559\ud68c\uc7a5\ubd80\ud559 : 1\n",
        "2025\uc77c : 1\n",
        "20141015 : 1\n",
        "20141014 : 4\n",
        "20141016 : 3\n",
        "20141010 : 1\n",
        "20141013 : 1\n",
        "\uc124\uacc41 : 1\n",
        "\ud154\ucf54\uc6e8\uc5b4\uc8fc : 1\n",
        "\uc911\uac04\uace0\uc0ac : 1\n",
        "\uc790\uc720\uac8c\uc2dc\ud310 : 1\n",
        "20131210 : 1\n",
        "\uacf5\uace0 : 1\n",
        "\uc548\ub0b4 : 2\n",
        "\uae30\uac00\uc778\ud130\ub137 : 1\n",
        "\ub300\ud559\uc6d0\uc18c\uac1c : 1\n",
        "\uacbd\uc9c4\ub300\ud68c : 1\n",
        "10 : 1\n",
        "20140915 : 1\n",
        "\uc120 : 1\n",
        "\uc18c\ud504\ud2b8\uc6e8\uc5b4 : 2\n",
        "12\uc77c : 1\n",
        "\uc2dc\uc2a4\ud15c : 2\n",
        "\uacf5\uc9c0 : 1\n",
        "\ud504 : 1\n",
        "\ucef4\ud4e8\ud130HW : 1\n",
        "\uc11c\uc2dd\ubc0f\uc591\uc2dd\uc790\ub8cc\uc2e4 : 1\n",
        "\ud64d\uc9c4\ud45c : 1\n",
        "LG\uc720\ud50c\ub7ec\uc2a4 : 1\n",
        "\ucef4\ud4e8\ud130\uacf5\ud559\ubd80 : 7\n",
        "\uc804\uc790\uce98\ub9b0\ub35410\uc6d4 : 1\n",
        "\uc2e4\uc2b5\uc870\uad50 : 1\n",
        "\ud3ec\uc0c1\uacbd\uc9c4\ub300\ud68c : 1\n",
        "\ud2b9\uc131\ud654\uc0ac\uc5c5\ub2e8 : 1\n",
        "\ub300\ud559\uc6d0\uac8c\uc2dc\ud310 : 1\n",
        "20140925 : 1\n",
        "1 : 1\n",
        "\uc81c : 1\n",
        "\ud3ec : 1\n",
        "\uc77c\ubc18\uc790\ub8cc\uc2e4 : 1\n",
        "\ud559\ubd80\uc0ac\ubb34\uc2e4 : 1\n",
        "\uacf5\ud559\uc778\uc99d\uac8c\uc2dc\ud310 : 1\n",
        "\uc18c\ud504\ud2b8\uc6e8\uc5b4\uacf5\ud559 : 1\n",
        "\uc775\uba85\uac8c\uc2dc\ud310 : 1\n",
        "\ube0c\ub85c\uc154 : 1\n",
        "\uc878\uc5c5\uc774\uc218\uc694\uac74 : 1\n",
        "\uacf5\ud559\uc124\uacc4 : 2\n",
        "20140930 : 1\n",
        "\ucef4\ud4e8\ud130\uc2a4\ub9c8\ud2b8IT : 1\n",
        "\uace0\uc7a5\uc2e0\uace0\uac8c\uc2dc\ud310 : 1\n",
        "\ucc44\uc6a9 : 1\n",
        "\uac1c\ubc1c\ubcf4\uc548 : 1\n",
        "\uad50\uc218\ub2d8\uc758 : 1\n",
        "\ud639\uc2dc : 1\n"
       ]
      }
     ],
     "prompt_number": 15
    },
    {
     "cell_type": "markdown",
     "metadata": {},
     "source": [
      "- \uc124\uba85 : \n",
      "      - \uad6c\ub450 \ubb38\uc790\ub97c \uc81c\uac70\ud558\uae30 \uc704\ud574\uc11c string.punctuation\ud568\uc218\ub97c \uc774\uc6a9\ud574\uc11c words \ub9ac\uc2a4\ud2b8 \uc548\uc5d0 \uc788\ub294 \ubb38\uc790\uc5f4\uc744 \ud558\ub098\uc529 \uaebc\ub0b4\uc5b4\uc11c \ud574\ub2f9 \ubb38\uc790\uc5f4\uc5d0 \uc788\ub294 \uad6c\ub450\ubb38\uc790\ub97c \ub2e4 \uc81c\uac70\ud55c \ud6c4 \uc81c\uac70 \ub41c \ubb38\uc790\uc5f4\uc740 final_words\uc5d0 \ucc44\uc6cc \ub123\uc5c8\uc2b5\ub2c8\ub2e4. \uad6c\ub450\ubb38\uc790\ub97c \uc81c\uac70\ud558\uae30 \uc704\ud55c \uc21c\uc11c\ub294 words \ub9ac\uc2a4\ud2b8\uc5d0\uc11c \ubb38\uc790\uc5f4 \ud558\ub098\ub97c \uac00\uc838\uc628\ub2e4. -> \ud574\ub2f9 \ubb38\uc790\uc5f4\uc758 \ub2e8\uc5b4\ub4e4\uc744 \ub9ac\uc2a4\ud2b8\ub85c \ub9cc\ub4e0\ub2e4. -> \ub9cc\ub4e4\uc5b4\uc9c4 \ub9ac\uc2a4\ud2b8 \uc548\uc5d0 \uad6c\ub450\ubb38\uc790\ub97c \uc81c\uc678\ud55c \uc21c\uc218 \ubb38\uc790\ub9cc\uc744 \uc784\uc2dc \ub9ac\uc2a4\ud2b8\uc5d0 \ub123\ub294\ub2e4. -> \ub2e4 \ucc44\uc6cc\uc9c4 \ub9ac\uc2a4\ud2b8\ub294 ''.join(\uc784\uc2dc \ub9ac\uc2a4\ud2b8)\ub97c \uc774\uc6a9\ud558\uc5ec \ud558\ub098\uc758 \ubb38\uc790\uc5f4\ub85c \ud569\uce5c \ud6c4 -> \ub9cc\ub4e4\uc5b4\uc9c4 \ubb38\uc790\uc5f4\uc744 final_words\uc5d0 \ucd94\uac00\ud569\ub2c8\ub2e4.\n",
      "       - \uc0ac\uc804 \uc790\ub8cc\uad6c\uc870\ub97c \uc774\uc6a9\ud558\uc5ec \uad6c\ub450\ubb38\uc790\uac00 \uc81c\uac70\ub41c \ub9ac\uc2a4\ud2b8 \uc548\uc758 \ub3d9\uc77c\ud55c \ubb38\uc790\uc5f4\uc758 \ucd9c\ud604 \ube48\ub3c4 \uc218\ub97c \uacc4\uc0b0\ud558\uae30 \uc704\ud574 \n",
      "***"
     ]
    },
    {
     "cell_type": "markdown",
     "metadata": {},
     "source": [
      "\uc18c\uac10 : \\"
     ]
    }
   ],
   "metadata": {}
  }
 ]
}