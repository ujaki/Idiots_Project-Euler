{
 "cells": [
  {
   "cell_type": "markdown",
   "metadata": {},
   "source": [
    "# Project Euler 23\n",
    "\n",
    "#### 자신을 제외한 약수(진약수)를 모두 더하면 자기 자신이 되는 수를 완전수라고 합니다.\n",
    "#### 예를 들어 28은 1 + 2 + 4 + 7 + 14 = 28 이므로 완전수입니다.\n",
    "#### 또, 진약수의 합이 자신보다 작으면 부족수, 자신보다 클 때는 초과수라고 합니다.\n",
    "\n",
    "#### 12는 1 + 2 + 3 + 4 + 6 = 16 > 12 로서 초과수 중에서는 가장 작습니다.\n",
    "#### 따라서 초과수 두 개의 합으로 나타낼 수 있는 수 중 가장 작은 수는 24 (= 12 + 12) 입니다.\n",
    "\n",
    "#### 해석학적인 방법을 사용하면, 28123을 넘는 모든 정수는 두 초과수의 합으로 표현 가능함을 보일 수가 있습니다.\n",
    "#### 두 초과수의 합으로 나타낼 수 없는 가장 큰 수는 실제로는 이 한계값보다 작지만, 해석학적인 방법으로는 더 이상 이 한계값을 낮출 수 없다고 합니다.\n",
    "\n",
    "#### 그렇다면, 초과수 두 개의 합으로 나타낼 수 없는 모든 양의 정수의 합은 얼마입니까?"
   ]
  },
  {
   "cell_type": "code",
   "execution_count": 47,
   "metadata": {
    "collapsed": false
   },
   "outputs": [
    {
     "name": "stdout",
     "output_type": "stream",
     "text": [
      "4179871\n"
     ]
    }
   ],
   "source": [
    "divisor_sum = 0\n",
    "abundant_numbers = []\n",
    "\n",
    "for num in range(1, 28123):\n",
    "    root_divisor = []\n",
    "    divisor = set([])\n",
    "    for i in range(1, int(num**0.5)+1):\n",
    "        if num%i == 0:\n",
    "            root_divisor.append(i)\n",
    "            divisor.add(i)\n",
    "    for j in root_divisor:\n",
    "        if j != 1:\n",
    "            divisor.add(num/j)\n",
    "    for k in divisor:\n",
    "        divisor_sum += k\n",
    "        \n",
    "    if divisor_sum > num :\n",
    "        abundant_numbers.append(num)\n",
    "    divisor_sum = 0\n",
    "    \n",
    "not_abundant_num_sum = 0    \n",
    "num = range(1, 28123)\n",
    "num_sum = 0\n",
    "sum_of_abundant = []\n",
    "\n",
    "for n in num:\n",
    "    num_sum += n\n",
    "\n",
    "for n in abundant_numbers:\n",
    "    for m in abundant_numbers:\n",
    "        if n+m < 28123:\n",
    "            sum_of_abundant.append(n+m)\n",
    "        \n",
    "sum_of_abundant = set(sum_of_abundant)\n",
    "\n",
    "for x in sum_of_abundant:\n",
    "    not_abundant_num_sum += x\n",
    "    \n",
    "print num_sum - not_abundant_num_sum\n",
    "\n"
   ]
  }
 ],
 "metadata": {
  "kernelspec": {
   "display_name": "Python 2",
   "language": "python",
   "name": "python2"
  },
  "language_info": {
   "codemirror_mode": {
    "name": "ipython",
    "version": 2
   },
   "file_extension": ".py",
   "mimetype": "text/x-python",
   "name": "python",
   "nbconvert_exporter": "python",
   "pygments_lexer": "ipython2",
   "version": "2.7.10"
  }
 },
 "nbformat": 4,
 "nbformat_minor": 0
}
