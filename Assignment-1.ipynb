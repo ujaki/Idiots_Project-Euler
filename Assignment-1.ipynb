{
 "metadata": {
  "celltoolbar": "Raw Cell Format",
  "name": "",
  "signature": "sha256:d1000b42ccefb53409f4f9f49cd321a6ed16cf8d2ffedf69b2cef3b90384455b"
 },
 "nbformat": 3,
 "nbformat_minor": 0,
 "worksheets": [
  {
   "cells": [
    {
     "cell_type": "markdown",
     "metadata": {},
     "source": [
      "***\n",
      "# Problem 1"
     ]
    },
    {
     "cell_type": "markdown",
     "metadata": {},
     "source": [
      "- a=\"Hello Python\" \ubb38\uc790\uc5f4\uc744 Slicing\uacfc \uc5f0\uacb0 \uc5f0\uc0b0\uc790 (+)\ub97c \uc0ac\uc6a9\ud558\uc5ec \"Python Hello\"\ub85c \ubcc0\uacbd\ud558\uc2dc\uc624. [\uc8fc\uc758] a \ubcc0\uc218 \uc790\uccb4\uc5d0 \"Python Hello\" \ubb38\uc790\uc5f4\uc774 \uc800\uc7a5\ub418\uc5b4\uc57c \ud568\n",
      "***"
     ]
    },
    {
     "cell_type": "code",
     "collapsed": false,
     "input": [
      "a = \"Hello Python\" \n",
      "print a \n",
      "a = a[6:12]+ ' ' + a[0:5] \n",
      "print a \n",
      "print\n",
      "print len(a)"
     ],
     "language": "python",
     "metadata": {},
     "outputs": [
      {
       "output_type": "stream",
       "stream": "stdout",
       "text": [
        "Hello Python\n",
        "Python Hello\n",
        "\n",
        "12\n"
       ]
      }
     ],
     "prompt_number": 6
    },
    {
     "cell_type": "markdown",
     "metadata": {},
     "source": [
      "\ubcc0\uc218 a\uc5d0 \"Hello Python\"\uc744 \uc800\uc7a5\ud558\uace0 \ubb38\uc790\uc5f4 a\ub97c \ud55c \ubc88 \ucd9c\ub825\ud574\ubcf4\uace0 Slicing\uacfc + \uc5f0\uc0b0\uc790\ub97c \uc0ac\uc6a9\ud558\uc5ec \ub2e4\uc2dc \ubcc0\uc218 a\uc5d0 \uc800\uc7a5\uc744 \ud55c \ud6c4 a\ub97c \ub2e4\uc2dc \ud55c \ubc88 \ucd9c\ub825\ud588\uc2b5\ub2c8\ub2e4.\n",
      "\ubb38\uc790\uc5f4\uc758 \uae38\uc774\ub97c \ucd9c\ub825\ud574\ubcf4\uba74 12(\ubb38\uc790\uc5f4 \ub05d \ud3ec\ud568)\n",
      "a[0:5] -> a[0] ~ a[4]\uc774\ubbc0\ub85c Hello\ub97c a[6:12] -> a[6] ~ a[11]\uc740 Python\uc744 \uac00\uc9c0\uace0 \uc788\uc73c\ubbc0\ub85c a[0:5]\uacfc a[6:12]\uc758 \uc21c\uc11c\ub97c \ubc14\uafb8\uc5b4 +\uc5f0\uc0b0\uc790\ub85c \uc5f0\uacb0\uc2dc\ucf1c\uc8fc\uba74 \ubcc0\uacbd\ub41c \ubb38\uc790\uc5f4\uc774 \ucd9c\ub835\ub429\ub2c8\ub2e4."
     ]
    },
    {
     "cell_type": "code",
     "collapsed": false,
     "input": [],
     "language": "python",
     "metadata": {},
     "outputs": []
    }
   ],
   "metadata": {}
  }
 ]
}