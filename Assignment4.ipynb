{
 "metadata": {
  "name": "",
  "signature": "sha256:70e4e2600949867cbad3158240effcd07203ad819007db360c773804c94344d9"
 },
 "nbformat": 3,
 "nbformat_minor": 0,
 "worksheets": [
  {
   "cells": [
    {
     "cell_type": "markdown",
     "metadata": {},
     "source": [
      "***\n",
      "# Problem 1"
     ]
    },
    {
     "cell_type": "markdown",
     "metadata": {},
     "source": [
      "- [1\ubc88 \ubb38\uc81c] \ud30c\uc77c s.txt \ub0b4\uc758 \ub2e4\uc74c \ub0b4\uc6a9\uacfc \ud568\uaed8 \uc544\ub798 \ubb38\uc81c\uc758 \ucf54\ub4dc\ub97c \uc81c\uc2dc\ud558\uc2dc\uc624. \n",
      ">pig ham<br/>\n",
      ">cat dog<br/>\n",
      ">ham bird<br/>\n",
      ">dog pig<br/>"
     ]
    },
    {
     "cell_type": "markdown",
     "metadata": {},
     "source": [
      "&nbsp;&nbsp;&nbsp;&nbsp;&nbsp;&nbsp;&nbsp;&nbsp;&nbsp;&nbsp;  - 1) \ud30c\uc77c s.txt\uc744 \uc77d\uc5b4\uc11c \uac01 \ub77c\uc778\ub4e4\uc5d0 \uc788\ub294 \uccab \ubc88\uc9f8 \ub2e8\uc5b4(\ubb38\uc790\uc5f4)\ub4e4\uc744 \uae30\uc900\uc73c\ub85c \ub77c\uc778\ubcc4 \uc815\ub82c\ud6c4 \ud30c\uc77c s1.txt\uc5d0 \uadf8 \uacb0\uacfc\ub97c \uae30\ub85d\ud558\ub294 \ucf54\ub4dc\ub97c \uc791\uc131\ud558\uc2dc\uc624. \uc989, \ud504\ub85c\uadf8\ub7a8 \uc218\ud589 \ud6c4 s1.txt\uc5d0 \uc788\ub294 \ud30c\uc77c \ub0b4\uc6a9\uc740 \ub2e4\uc74c\uacfc \uac19\ub2e4.\n",
      ">cat dog<br/>\n",
      ">dog pig<br/>\n",
      ">ham bird<br/>\n",
      ">pig ham<br/>"
     ]
    },
    {
     "cell_type": "markdown",
     "metadata": {},
     "source": [
      "&nbsp;&nbsp;&nbsp;&nbsp;&nbsp;&nbsp;&nbsp;&nbsp;&nbsp;&nbsp;  - 2) \ud30c\uc77c s.txt\uc744 \uc77d\uc5b4\uc11c \uac01 \ub77c\uc778\ub4e4\uc5d0 \uc788\ub294 \ub450 \ubc88\uc9f8 \ub2e8\uc5b4(\ubb38\uc790\uc5f4)\ub4e4\uc744 \uae30\uc900\uc73c\ub85c \ub77c\uc778\ubcc4 \uc815\ub82c\ud6c4 \ud30c\uc77c s2.txt\uc5d0 \uadf8 \uacb0\uacfc\ub97c \uae30\ub85d\ud558\ub294 \ucf54\ub4dc\ub97c \uc791\uc131\ud558\uc2dc\uc624. \uc989, \ud504\ub85c\uadf8\ub7a8 \uc218\ud589 \ud6c4 s2.txt\uc5d0 \uc788\ub294 \ud30c\uc77c \ub0b4\uc6a9\uc740 \ub2e4\uc74c\uacfc \uac19\ub2e4.\n",
      ">ham bird<br/>\n",
      ">cat dog<br/>\n",
      ">pig ham<br/>\n",
      ">dog pig<br/>"
     ]
    },
    {
     "cell_type": "markdown",
     "metadata": {},
     "source": [
      "&nbsp;&nbsp;&nbsp;&nbsp;&nbsp;&nbsp;&nbsp;&nbsp;&nbsp;&nbsp;  - 3) \ud30c\uc77c s.txt\uc744 \uc77d\uc5b4\uc11c \uac01 \ub77c\uc778\ub4e4\uc5d0 \uc788\ub294 \ubaa8\ub4e0 \ub2e8\uc5b4\ub4e4\uc744 \uc21c\ucc28\uc801\uc73c\ub85c \ub2e4\uc2dc \ub098\uc5f4\ud558\ub418 \uac01 \ub77c\uc778\uc5d0 \uc138 \uac1c\uc758 \ub2e8\uc5b4\ub4e4\uc774 \uc624\ub3c4\ub85d \ud558\uc5ec s3.txt\uc5d0 \uae30\ub85d\ud558\ub294 \ucf54\ub4dc\ub97c \uc791\uc131\ud558\uc2dc\uc624. \uc989, \ud504\ub85c\uadf8\ub7a8 \uc218\ud589 \ud6c4 s3.txt\uc5d0 \uc788\ub294 \ud30c\uc77c \ub0b4\uc6a9\uc740 \ub2e4\uc74c\uacfc \uac19\ub2e4.\n",
      ">pig ham cat<br/>\n",
      ">dog ham bird<br/>\n",
      ">dog pig<br/>\n",
      "***"
     ]
    },
    {
     "cell_type": "code",
     "collapsed": false,
     "input": [
      "# -*- coding: utf-8 -*- \n",
      "def first_word_cmp(a1, a2): #\uccab \ubc88\uc9f8 \ub2e8\uc5b4\ub4e4 \ube44\uad50\n",
      "    return cmp(a1[0:3], a2[0:3]) \n",
      "\n",
      "def second_word_cmp(a1, a2): #\ub450 \ubc88\uc9f8 \ub2e8\uc5b4\ub4e4 \ube44\uad50 \n",
      "    return cmp(a1[4:7], a2[4:7]) \n",
      "\n",
      "\n",
      "f = open('s.txt') #\ud30c\uc77c \uc5f4\uae30 \n",
      "p1 = open('s1.txt', 'w+') #\ubb38\uc81c 1\n",
      "p2 = open('s2.txt', 'w+') #\ubb38\uc81c 2\n",
      "p3 = open('s3.txt', 'w+') #\ubb38\uc81c 3\n",
      "\n",
      "content = f.read() #s.txt \ud30c\uc77c \uc548\uc758 \ub0b4\uc6a9\uc744 \uc800\uc7a5\n",
      "L = content.split('\\n') #\ubb38\uc790\uc5f4\uc744 \ub77c\uc778 \ub2e8\uc704\ub85c \uc77d\uc5b4\uc11c \ub9ac\uc2a4\ud2b8 \uc0dd\uc131 \n",
      "\n",
      "L.sort(first_word_cmp) #\uccab \ubc88\uc9f8 \ub2e8\uc5b4\ub4e4\uc744 \uae30\uc900\uc73c\ub85c \uc815\ub82c \n",
      "p1.write('\\n'.join(L)) #\ub9ac\uc2a4\ud2b8 \ub0b4\uc758 \ubb38\uc790\uc5f4\uc744 \ub77c\uc778 \ub2e8\uc704\ub85c \uc4f0\uae30\n",
      "p1.seek(0) \n",
      "print 's1.txt\uc5d0 \uc788\ub294 \ud30c\uc77c \ub0b4\uc6a9'\n",
      "print p1.read() \n",
      "p1.close() \n",
      "print '-------------------------------------------'\n",
      "\n",
      "L.sort(second_word_cmp) #\ub450 \ubc88\uc9f8 \ub2e8\uc5b4\ub4e4\uc744 \uae30\uc900\uc73c\ub85c \uc815\ub82c  \n",
      "p2.write('\\n'.join(L)) #\ub9ac\uc2a4\ud2b8 \ub0b4\uc758 \ubb38\uc790\uc5f4\uc744 \ub77c\uc778 \ub2e8\uc704\ub85c \uc4f0\uae30\n",
      "p2.seek(0) \n",
      "print 's2.txt\uc5d0 \uc788\ub294 \ud30c\uc77c \ub0b4\uc6a9'\n",
      "print p2.read() \n",
      "p2.close() \n",
      "print '-------------------------------------------'\n",
      "\n",
      "count = 0 #\ub2e8\uc5b4\uc218 \uce74\uc6b4\ud2b8\n",
      "num = 0 #\ubc18\ubcf5\ubb38 \uce74\uc6b4\ud2b8 \n",
      "words = content.split() #\uac01 \ub77c\uc778\ub4e4\uc5d0 \uc788\ub294 \ubaa8\ub4e0 \ub2e8\uc5b4\ub4e4\uc744 \ucd94\ucd9c\ud558\uc5ec \ub9ac\uc2a4\ud2b8\ub97c \ub9cc\ub4ec \n",
      "\n",
      "while (num < len(words)): #words \ub9ac\uc2a4\ud2b8 \ub0b4\uc758 \ubaa8\ub4e0 \ub2e8\uc5b4 \uc4f0\uae30\n",
      "    if (count < 3): #\ud55c \uc904\uc5d0 3\uac1c\uc758 \ub2e8\uc5b4\ub97c \ud45c\uc2dc\ud558\uae30 \uc704\ud574\uc11c\n",
      "        if (count == 2):\n",
      "            p3.write(words[num] + '\\n')\n",
      "            count = 0\n",
      "        else:\n",
      "            p3.write(words[num] + ' ') \n",
      "            count += 1\n",
      "    num += 1\n",
      "\n",
      "p3.seek(0) \n",
      "print 's3.txt\uc5d0 \uc788\ub294 \ud30c\uc77c \ub0b4\uc6a9'\n",
      "print p3.read() \n",
      "p3.close()\n",
      "    \n",
      "f.close() "
     ],
     "language": "python",
     "metadata": {},
     "outputs": [
      {
       "output_type": "stream",
       "stream": "stdout",
       "text": [
        "s1.txt\uc5d0 \uc788\ub294 \ud30c\uc77c \ub0b4\uc6a9\n",
        "cat dog\n",
        "dog pig\n",
        "ham bird\n",
        "pig ham\n",
        "-------------------------------------------\n",
        "s2.txt\uc5d0 \uc788\ub294 \ud30c\uc77c \ub0b4\uc6a9\n",
        "ham bird\n",
        "cat dog\n",
        "pig ham\n",
        "dog pig\n",
        "-------------------------------------------\n",
        "s3.txt\uc5d0 \uc788\ub294 \ud30c\uc77c \ub0b4\uc6a9\n",
        "pig ham cat\n",
        "dog ham bird\n",
        "dog pig \n"
       ]
      }
     ],
     "prompt_number": 1
    },
    {
     "cell_type": "markdown",
     "metadata": {},
     "source": [
      "\uc124\uba85 : \uccab \ubc88\uc9f8 \ub2e8\uc5b4\uc640 \ub450 \ubc88\uc9f8 \ub2e8\uc5b4\ub97c \uae30\uc900\uc73c\ub85c \uc815\ub82c\ud558\uae30 \uc704\ud574\uc11c \ud568\uc218\ub97c \ub9cc\ub4e4\uc5c8\uc2b5\ub2c8\ub2e4.\n",
      "first_word_cmp, second_word_cmp \uc774 \ub450 \ud568\uc218\uc758 \uae30\ub2a5\uc740 \uc778\uc790\ub85c \ubc1b\uc544\uc628 \ubb38\uc790\uc5f4\uc744 \uc2ac\ub77c\uc774\uc2f1 \ud574\uc11c \uc2ac\ub77c\uc774\uc2f1 \ud55c \ubd80\ubd84\uc5d0 \ub300\ud574 cmp()\ud568\uc218\ub97c \uc774\uc6a9\ud574\uc11c \uc6b0\uc120\uc21c\uc704\ub97c \ube44\uad50\ud558\uace0 \uacb0\uacfc \uac12\uc744 \ubc18\ud658\ud574\uc11c sort()\ud568\uc218\ub85c \ub118\uaca8\uc8fc\uba74 \ud574\ub2f9 \uacb0\uacfc\uc5d0 \ub300\ud574\uc11c \uc815\ub82c\uc774 \uc774\ub8e8\uc5b4 \uc9d1\ub2c8\ub2e4.\n",
      "\uc774 \uc6d0\ub9ac\ub97c \uc774\uc6a9\ud574\uc11c \ubb38\uc81c 1, 2\ubc88 \ubb38\uc81c\ub97c \ud574\uacb0 \ud558\uc600\uace0, 3\ubc88 \ubb38\uc81c\ub294 s.txt\ud30c\uc77c\uc758 \ubaa8\ub4e0 \ubb38\uc790\uc5f4\uc744 \uacf5\ubc31 \uae30\uc900\uc73c\ub85c \ubd84\ub9ac\ud558\uba74 \uac01 \ub2e8\uc5b4\uac00 \ub418\uc5b4\uc11c, \uc774 \ub2e8\uc5b4\ub4e4\uc744 \ub9ac\uc2a4\ud2b8\uc5d0 \uc800\uc7a5\ud558\uace0 \ucd9c\ub825 \ud615\ud0dc\uc5d0 \ub9de\uac8c \ud30c\uc77c\uc5d0 \uc4f0\uae30\ub97c \ud558\uba74 \uc6d0\ud558\ub294 \uacb0\uacfc\ub97c \uc5bb\uc744 \uc218 \uc788\uc5c8\uc2b5\ub2c8\ub2e4."
     ]
    },
    {
     "cell_type": "markdown",
     "metadata": {},
     "source": [
      "***\n",
      "# Problem 2"
     ]
    },
    {
     "cell_type": "markdown",
     "metadata": {},
     "source": [
      "- [2\ubc88 \ubb38\uc81c] \ub2e4\uc74c\uacfc \uac19\uc740 \uc870\uac74\ub4e4\uc744 \ucc38\uace0\ud558\uc5ec \ud68c\uc6d0 \uac00\uc785 \ubc0f \ub85c\uadf8\uc778 \ud504\ub85c\uadf8\ub7a8\uc744 \uc791\uc131\ud558\uc2dc\uc624. \n",
      "  - 1) \ud504\ub85c\uadf8\ub7a8 \uc2dc\uc791 \ud6c4 \ub2e4\uc74c\uacfc \uac19\uc740 \uba54\uc2dc\uc9c0\uac00 \ucd9c\ub825\ub418\uc5b4 1, 2, 3 \uc911 \ud558\ub098\uc758 \uac12\uc744 \uc785\ub825 \ubc1b\ub3c4\ub85d \ud55c\ub2e4.\n",
      ">Welcome to Our Service<br/>\n",
      ">1. Sign Up<br/>\n",
      ">2. Sign In<br/>\n",
      ">3. Quit<br/>\n",
      "  - 2) 1\uc744 \uc120\ud0dd\ud558\uba74 ID, Password, Name, School\uc758 4\uac00\uc9c0 \uc815\ubcf4\ub97c \uc785\ub825\ubc1b\uc544 \ud30c\uc77c\uc5d0 \uc800\uc7a5\ud558\ub294 \ud504\ub85c\uadf8\ub7a8\uc744 \uc791\uc131\ud55c\ub2e4.\n",
      "    - 2-1) \uc785\ub825\ub41c \ub0b4\uc6a9\uc740 access \ub77c\ub294 \uc774\ub984\uc758 \ud30c\uc77c \ub0b4\uc5d0 \uc800\uc7a5\ub41c\ub2e4. \n",
      "    - 2-2) access \ud30c\uc77c\uc758 \uac01 \ub77c\uc778\uc5d0\ub294 \uac00\uc785\ub41c \ud68c\uc6d0 \uac01\uac01\uc758 \uc815\ubcf4\uac00 \"id: password, name, school\" \ud615\ud0dc\ub85c \uc800\uc7a5\ub41c\ub2e4.\n",
      "    - 2-3) \uc989, \uac00\uc785 \ud68c\uc6d0\uc774 10\uba85\uc774\uba74 access \ud30c\uc77c \ub0b4\uc5d0 \ub77c\uc778 \uc218\ub3c4 \uc815\ud655\ud788 10\uc774\ub2e4.\n",
      "    - 2-4) \uc554\ud638\ud654 \ubc29\uc2dd\uc740 sha \ubaa8\ub4c8\uc744 \ud65c\uc6a9\ud55c\ub2e4. sha \ubaa8\ub4c8 \ud65c\uc6a9 \ubc29\ubc95\uc740 \ubcf8 \ubb38\uc81c\uc758 \ub9c8\uc9c0\ub9c9\uc5d0 \uc81c\uc2dc\ub41c sha \ud65c\uc6a9 \uc608\ub97c \ucc38\uace0\ud55c\ub2e4.\n",
      "      - \uc989, access \ud30c\uc77c \ub0b4\uc5d0 password \uc815\ubcf4\ub294 \uc554\ud638\ud654 \ub418\uc5b4 \uc800\uc7a5\ub418\uc5b4\uc57c \ud55c\ub2e4.\n",
      "    - 2-5) \ud68c\uc6d0 \uc815\ubcf4\ub97c \uc785\ub825 \ubc1b\uc744 \ub54c id\ub97c \uc785\ub825 \ubc1b\uc740 \uc9c1\ud6c4 access\ub97c \ud655\uc778\ud558\uc5ec \uc774\ubbf8 \uc874\uc7ac\ud558\ub294 id\uac00 \uc785\ub825\ub418\uc5c8\ub2e4\uba74 \ub2e4\uc74c \uba54\uc2dc\uc9c0\ub97c \ucd9c\ub825\ud558\uace0 id \uc815\ubcf4\ub97c \ub2e4\uc2dc \uc785\ub825\ubc1b\ub294\ub2e4.\n",
      "      - Sorry, the entered ID is already used.\n",
      "  - 3) 2\ub97c \uc120\ud0dd\ud558\uba74 ID, Password\uc758 2\uac00\uc9c0 \uc815\ubcf4\ub97c \uc785\ub825\ubc1b\ub294 \ud504\ub85c\uadf8\ub7a8\uc744 \uc791\uc131\ud55c\ub2e4.\n",
      "    - 3-1) \uc785\ub825\ub41c ID \uc815\ubcf4\uac00 access\uc5d0 \uc874\uc7ac\ud558\uc9c0 \uc54a\uc73c\uba74 \ub2e4\uc74c\uacfc \uac19\uc740 \uba54\uc2dc\uc9c0\ub97c \ucd9c\ub825\ud558\uace0 \ub2e4\uc2dc \uc785\ub825\ubc1b\ub294\ub2e4.\n",
      "      - Sorry, you are not a registered member.\n",
      "    - 3-2) \uc785\ub825\ub41c ID\uac00 \uc62c\ubc14\ub974\uac8c \uc874\uc7ac\ud558\uc9c0\ub9cc Password \uc815\ubcf4\uac00 access \ud30c\uc77c\uc5d0 \uc788\ub294 \uc815\ubcf4\uc640 \ubd88\uc77c\uce58 \ud558\uba74 \ub2e4\uc74c\uacfc \uac19\uc740 \uba54\uc2dc\uc9c0\ub97c \ucd9c\ub825\ud558\uace0 \ub2e4\uc2dc \uc785\ub825\ubc1b\ub294\ub2e4.\n",
      "      - Sorry, the entered password is not correct.\n",
      "      - \uc774 \ub54c\uc5d0\ub3c4 \uc0ac\uc6a9\uc790\uac00 \uc785\ub825\ud55c \ud328\uc2a4\uc6cc\ub4dc \uc815\ubcf4\uc640 \ud568\uaed8 sha \ubaa8\ub4c8\uc774 \ud65c\uc6a9\ub418\uc5b4\uc57c \ud55c\ub2e4.\n",
      "    - 3-3) \uc785\ub825\ub41c ID\uc640 Password\uac00 \ubaa8\ub450 \uc62c\ubc14\ub974\uba74 \ub2e4\uc74c\uacfc \uac19\uc740 \uba54\uc2dc\uc9c0\ub97c \ucd9c\ub825\ud55c\ub2e4.\n",
      "      - Hello [name]!\n",
      "      - \uc704 [name]\uc5d0\ub294 access\uc5d0 \uae30\ub85d\ub418\uc5b4 \uc788\ub294 name \uc815\ubcf4\ub97c \ucd9c\ub825\ud55c\ub2e4.\n",
      "  - 4) 3\uc744 \uc120\ud0dd\ud558\uba74 \ud504\ub85c\uadf8\ub7a8\uc774 \ub05d\ub09c\ub2e4.\n",
      "  - [\ucc38\uace0] sha \ubaa8\ub4c8 \ud65c\uc6a9 \uc608\n",
      "***"
     ]
    },
    {
     "cell_type": "code",
     "collapsed": false,
     "input": [
      "# -*- coding: utf-8 -*-\n",
      "import sha #\uc554\ud638\ud654 \ubaa8\ub4c8\n",
      "\n",
      "def idCheck(ID): #ID \uccb4\ud06c \ud568\uc218\n",
      "    check = False #\uccb4\ud06c \ubcc0\uc218\n",
      "    f = open('access.txt') #\ud30c\uc77c \uc5f4\uae30\n",
      "    for line in f:    \n",
      "        s = line.split(':') #\ub77c\uc778\ubcc4\ub85c \uc77d\ub294 \ubb38\uc790\uc5f4\uc740 \uac01 \ud68c\uc6d0\uc758 \uc815\ubcf4 \n",
      "        if ( ID == s[0] ): # \uac00\uc838\uc628 \ud68c\uc6d0 \uc815\ubcf4\uc5d0\uc11c id\ub9cc\uc744 \uccb4\ud06c \n",
      "            check = True # \uc785\ub825\ud55c id\uac00 \uc874\uc7ac\ud558\uba74 True\ub85c \ubcc0\uacbd \n",
      "            break\n",
      "    f.close()\n",
      "    return check\n",
      "#-------------------------------------------------------\n",
      "def pwdCheck(ID, pwd): #Password \uccb4\ud06c \ud568\uc218\n",
      "    check = False        #\uccb4\ud06c \ubcc0\uc218\n",
      "    f = open('access.txt') #\ud30c\uc77c \uc5f4\uae30\n",
      "    p = ''\n",
      "    for line in f:\n",
      "        i = line.split(':') #\ud68c\uc6d0 \uc815\ubcf4\uc5d0\uc11c \uc544\uc774\ub514 \ucd94\ucd9c\n",
      "        info = i[0] #id \uc815\ubcf4 \uc800\uc7a5\n",
      "        if( info == ID ): #id \uc815\ubcf4 \uccb4\ud06c, \uc785\ub825\ud55c id\uc640 \ub3d9\uc77c\ud560 \ub54c\n",
      "            p = i[1]      #id\ub97c \uc81c\uc678\ud55c \uc815\ubcf4 \uc800\uc7a5\n",
      "            break         #\ubc18\ubcf5\ubb38 \uc885\ub8cc\n",
      "    p = p.strip()    #password \uc815\ubcf4 \ucd94\ucd9c\n",
      "    p = p.split(',')\n",
      "    p = p[0]   #password \uc815\ubcf4 \uc800\uc7a5\n",
      "    if ( p == pwd ): #\uc785\ub825\ud55c password\uc640 \uac19\ub2e4\uba74\n",
      "        check = True #\uccb4\ud06c \ubcc0\uc218\ub97c True\ub85c \ubcc0\uacbd\n",
      "    else:\n",
      "        check = False\n",
      "    f.close()\n",
      "    return check   \n",
      "#-------------------------------------------------------                \n",
      "menu = 0 #\uba54\ub274 \ubcc0\uc218 \n",
      "Id = '' #\uc544\uc774\ub514 \n",
      "pwd = '' #\ud328\uc2a4\uc6cc\ub4dc \n",
      "name = '' #\uc774\ub984 \n",
      "school = '' #\ud559\uad50\uba85 \n",
      "while (menu != 3): #\uba54\ub274 3\uc744 \uc120\ud0dd\ud558\uba74 \ud504\ub85c\uadf8\ub7a8 \uc885\ub8cc\n",
      "    print 'Welcome to Our Service' #\uba54\ub274 \uc815\ubcf4 \ucd9c\ub825 \n",
      "    print '1. Sign Up'\n",
      "    print '2. Sign In'\n",
      "    print '3. Quit'\n",
      "    menu = input('menu : ') #\uba54\ub274 \uc120\ud0dd \n",
      "    if (menu == 1): #\uacc4\uc815 \ucd94\uac00\n",
      "        while True: #access.txt \ud30c\uc77c \ub0b4\uc5d0 \uc785\ub825\ud55c id\uac00 \uc874\uc7ac\ud558\ub294\uc9c0 \uac80\uc0ac\n",
      "            Id = raw_input('ID : ')\n",
      "            if ( idCheck(Id) == True ):\n",
      "                print 'Sorry, the entered ID is already used.'\n",
      "                continue\n",
      "            break    \n",
      "        pwd = raw_input('Password : ')\n",
      "        pwd = sha.new(pwd).hexdigest()\n",
      "        name = raw_input('Name : ')\n",
      "        school = raw_input('School : ')\n",
      "        f = open('access.txt', 'a+')\n",
      "        f.write(Id + ': ' + pwd + ', ' + name + ', ' + school + '\\n')\n",
      "        f.close()\n",
      "#-----------------------------------------------------------------------        \n",
      "    elif ( menu == 2 ):\n",
      "        while True:     #\uc785\ub825\ud55c id\uc5d0 \ub300\ud55c member\uac00 \uc788\ub294\uc9c0 \uac80\uc0ac\n",
      "            Id = raw_input('ID : ') \n",
      "            if ( idCheck(Id) == False) :\n",
      "                print 'Sorry, you are not a registered member'\n",
      "                continue\n",
      "            break\n",
      "        while True:\n",
      "            pwd = raw_input('Password : ')\n",
      "            pwd = sha.new(pwd).hexdigest()\n",
      "            if ( pwdCheck(Id, pwd) == False ):\n",
      "                print 'Sorry, the entered password is not correct.'\n",
      "                continue\n",
      "            break\n",
      "        f = open('access.txt')\n",
      "        for line in f:\n",
      "            if ( line.startswith(Id) == True ):\n",
      "                line = line.split(',')\n",
      "                line = line[1]\n",
      "                print 'Hello ' + '[' + line + ']!'\n",
      "                break\n",
      "        f.close()\n",
      "#-----------------------------------------------------------------------        \n",
      "    elif ( menu == 3 ):\n",
      "        print 'Program End!!'\n",
      "        break   "
     ],
     "language": "python",
     "metadata": {},
     "outputs": [
      {
       "output_type": "stream",
       "stream": "stdout",
       "text": [
        "Welcome to Our Service\n",
        "1. Sign Up\n",
        "2. Sign In\n",
        "3. Quit\n"
       ]
      },
      {
       "name": "stdout",
       "output_type": "stream",
       "stream": "stdout",
       "text": [
        "menu : 1\n"
       ]
      },
      {
       "name": "stdout",
       "output_type": "stream",
       "stream": "stdout",
       "text": [
        "ID : ujakifox2\n"
       ]
      },
      {
       "output_type": "stream",
       "stream": "stdout",
       "text": [
        "Sorry, the entered ID is already used.\n"
       ]
      },
      {
       "name": "stdout",
       "output_type": "stream",
       "stream": "stdout",
       "text": [
        "ID : i000015\n"
       ]
      },
      {
       "name": "stdout",
       "output_type": "stream",
       "stream": "stdout",
       "text": [
        "Password : asdf1234\n"
       ]
      },
      {
       "name": "stdout",
       "output_type": "stream",
       "stream": "stdout",
       "text": [
        "Name : kimdong\n"
       ]
      },
      {
       "name": "stdout",
       "output_type": "stream",
       "stream": "stdout",
       "text": [
        "School : kaist\n"
       ]
      },
      {
       "output_type": "stream",
       "stream": "stdout",
       "text": [
        "Welcome to Our Service\n",
        "1. Sign Up\n",
        "2. Sign In\n",
        "3. Quit\n"
       ]
      },
      {
       "name": "stdout",
       "output_type": "stream",
       "stream": "stdout",
       "text": [
        "menu : 2\n"
       ]
      },
      {
       "name": "stdout",
       "output_type": "stream",
       "stream": "stdout",
       "text": [
        "ID : zxcvasd\n"
       ]
      },
      {
       "output_type": "stream",
       "stream": "stdout",
       "text": [
        "Sorry, you are not a registered member\n"
       ]
      },
      {
       "name": "stdout",
       "output_type": "stream",
       "stream": "stdout",
       "text": [
        "ID : i000015\n"
       ]
      },
      {
       "name": "stdout",
       "output_type": "stream",
       "stream": "stdout",
       "text": [
        "Password : asdf\n"
       ]
      },
      {
       "output_type": "stream",
       "stream": "stdout",
       "text": [
        "Sorry, the entered password is not correct.\n"
       ]
      },
      {
       "name": "stdout",
       "output_type": "stream",
       "stream": "stdout",
       "text": [
        "Password : asdf1234\n"
       ]
      },
      {
       "output_type": "stream",
       "stream": "stdout",
       "text": [
        "Hello [ kimdong]!\n",
        "Welcome to Our Service\n",
        "1. Sign Up\n",
        "2. Sign In\n",
        "3. Quit\n"
       ]
      },
      {
       "name": "stdout",
       "output_type": "stream",
       "stream": "stdout",
       "text": [
        "menu : 3\n"
       ]
      },
      {
       "output_type": "stream",
       "stream": "stdout",
       "text": [
        "Program End!!\n"
       ]
      }
     ],
     "prompt_number": 2
    },
    {
     "cell_type": "markdown",
     "metadata": {},
     "source": [
      "\uc124\uba85 : \ubb34\ud55c \ubc18\ubcf5\uc744 \ud1b5\ud574\uc11c \uba54\ub274\ub97c 3\ubc88\uc744 \uc120\ud0dd\ud558\uae30 \uc804\uae4c\uc9c0 \uacc4\uc18d \uae30\ub2a5\uc744 \uc81c\uacf5\ud574\uc8fc\uace0 1\ubc88, \uacc4\uc815 \ub4f1\ub85d\uc744 \ud560\ub54c, access\ud30c\uc77c\uc5d0\uc11c \uc815\ubcf4\ub97c \uc77d\uc5b4\uc640\uc11c \uacc4\uc815 \uc815\ubcf4 \ubb38\uc790\uc5f4 \ud615\ud0dc\uac00  \n",
      "\"id: password, name, school\" \uc774\uae30 \ub54c\ubb38\uc5d0 split()\ud568\uc218\ub97c \uc774\uc6a9\ud558\uc5ec \uc544\uc774\ub514\uc640 \ud328\uc2a4\uc6cc\ub4dc\ub97c \ucd94\ucd9c\ud558\uc5ec \uc785\ub825\ud55c \uc544\uc774\ub514\uc640 \ud328\uc2a4\uc6cc\ub4dc\ub97c \uccb4\ud06c\ud558\uc5ec \ubb38\uc81c \uc870\uac74\uc5d0 \ub9de\uac8c \ud504\ub85c\uadf8\ub798\ubc0d \ud574\uc8fc\uace0, \uc774\ub97c \uc704\ud574\uc11c check \ubcc0\uc218\ub97c \uc774\uc6a9\ud574\uc11c \ud1a0\uae00\ub9c1\uc744 \ud1b5\ud574\uc11c \uc6d0\ud558\ub294 \uacb0\uacfc\ub97c \uc5bb\uace0 \ucd9c\ub825\ud558\uac8c \ud588\uc2b5\ub2c8\ub2e4. \uacb0\ub860\uc801\uc73c\ub85c, \uc774 \ubb38\uc81c\ub97c \ud574\uacb0\ud558\uae30 \uc704\ud574 \uacc4\uc815 \uc815\ubcf4\uac00 \uc800\uc7a5\ub418\ub294 \ud615\ud0dc\ub97c \ubd84\uc11d\ud574\uc11c \ubb38\uc790\uc5f4 \ucc98\ub9ac\ub97c \ud1b5\ud574 \ubb38\uc81c\ub97c \ud574\uacb0\ud558\uc600\uc2b5\ub2c8\ub2e4."
     ]
    },
    {
     "cell_type": "markdown",
     "metadata": {},
     "source": [
      "***\n",
      "# Problem 3"
     ]
    },
    {
     "cell_type": "markdown",
     "metadata": {},
     "source": [
      "- [3\ubc88 \ubb38\uc81c] range() \ud568\uc218\uc640 \uc720\uc0ac\ud55c frange() \ud568\uc218\ub97c \ub2e4\uc74c \uc870\uac74\uc744 \ucc38\uace0\ud558\uc5ec \ub9cc\ub4dc\uc2dc\uc624.\n",
      "  - 1) frange()\uc758 \uc778\uc790 \uad6c\uc131\uc740 \ub2e4\uc74c\uacfc \uac19\uc774 range\uc640 \ub3d9\uc77c\ud558\uc9c0\ub9cc \uac01 \uc778\uc218\ub4e4\uc740 \uc74c\uc218\ub97c \ubc1b\uc9c0 \uc54a\ub294\ub2e4\uace0 \uac00\uc815\ud55c\ub2e4.\n",
      "  > range(stop)<br/>\n",
      "  > range(start, stop[, step])<br/>\n",
      "  - 2) frange() \ud568\uc218\uc758 \uc778\uc790\uc5d0 \ub300\ud55c \uae30\ubcf8 \uc2dc\uc791(start) \uac12\uc740 0.0\uc774\uace0, \uae30\ubcf8 \ub2e8\uacc4(step) \uac12\uc740 0.1\uc774\ub2e4. \n",
      "  - 3) frange \uc0ac\uc6a9 \uc608\n",
      "    - 3-1) frange(0.5)\n",
      "      - [0.0, 0.1, 0.2, 0.3, 0.4]\n",
      "    - 3-2) frange(1.0, 2.0)\n",
      "      - [1.0, 1.1, 1.2, 1.3, 1.4, 1.5, 1.6, 1.7, 1.8, 1.9]\n",
      "    - 3-3) frange(2.2, 4.0, 0.5)\n",
      "      - [2.2, 2.7, 3.2, 3.7]"
     ]
    },
    {
     "cell_type": "code",
     "collapsed": false,
     "input": [
      "# -*- coding: utf-8 -*-\n",
      "def frange(start, stop = None, step = None):\n",
      "    \n",
      "    if ( stop == None ):\n",
      "        stop = start + 0.0\n",
      "        start = 0.0\n",
      "    if ( step == None ):\n",
      "        step = 0.1\n",
      "        \n",
      "    if ( start < 0 or stop < 0 or step < 0):\n",
      "        return '\uc74c\uc218\ub294 \uc544\ub2c8\ub418\uc624~~~'\n",
      "    L = []   \n",
      "    while 1:\n",
      "        next = start + len(L) * step\n",
      "        if step > 0 and next >= stop:\n",
      "            break\n",
      "        elif step < 0 and next <= stop:\n",
      "            break\n",
      "        L.append(round(next, 1)) #round \ud568\uc218\ub85c \uc18c\uc218\uc810 \uccab\ubc88\uc9f8 \uc790\ub9ac\uae4c\uc9c0\ub9cc \uc800\uc7a5\ud55c\ub2e4.\n",
      "    return L\n",
      "\n",
      "print 'frange(0.5) : ',\n",
      "print frange(0.5)\n",
      "print 'frange(1.0, 2.0) : ',\n",
      "print frange(1.0, 2.0)\n",
      "print 'frange(2.2, 4.0, 0.5) : ',\n",
      "print frange(2.2, 4.0, 0.5)\n",
      "print 'frange(-2.2, 4.0, 0.5) : ',\n",
      "print frange(-2.2, 4.0, 0.5)"
     ],
     "language": "python",
     "metadata": {},
     "outputs": [
      {
       "output_type": "stream",
       "stream": "stdout",
       "text": [
        "frange(0.5) :  [0.0, 0.1, 0.2, 0.3, 0.4]\n",
        "frange(1.0, 2.0) :  [1.0, 1.1, 1.2, 1.3, 1.4, 1.5, 1.6, 1.7, 1.8, 1.9]\n",
        "frange(2.2, 4.0, 0.5) :  [2.2, 2.7, 3.2, 3.7]\n",
        "frange(-2.2, 4.0, 0.5) :  \uc74c\uc218\ub294 \uc544\ub2c8\ub418\uc624~~~\n"
       ]
      }
     ],
     "prompt_number": 4
    },
    {
     "cell_type": "markdown",
     "metadata": {},
     "source": [
      "- \uc124\uba85 : frange \ud568\uc218\ub97c \uad6c\ud604\ud558\uae30 \uc704\ud574 \ubb38\uc81c\uc758 \uc870\uac74, (\uc778\uc218\ub294 \uc74c\uc218\uac00 \uc544\ub2c8\uc5b4\uc57c \ud558\uace0, \uae30\ubcf8 \uc2dc\uc791(start) \uac12\uc740 0.0\uc774\uace0, \uae30\ubcf8 \ub2e8\uacc4(step) \uac12\uc740 0.1\uc774\ub2e4.) \uac00\ubcc0 \uc778\uc218\uc758 \ubc29\ubc95\uc744 \uc0ac\uc6a9\ud558\ub824 \uc0dd\uac01\ud588\uc73c\ub098 \uc798 \ub418\uc9c0 \uc54a\uace0, \uccab\ubc88\uc9f8 \uc778\uc218\ub97c \uc81c\uc678\ud55c \ub098\uba38\uc9c0 \uc778\uc218\ub4e4\uc744 None\uc73c\ub85c \uc124\uc815\ud558\uc5ec \ub9cc\uc57d \uc778\uc790\uac00 \ud55c\uac1c \ub118\uc5b4\uc624\uba74 \uc870\uac74\ubb38\uc744 \ud1b5\ud574 \uadf8 \uac12\uc744 stop\uc5d0 \ucd08\uae30\ud654 \uc2dc\ucf1c\uc8fc\uace0, start\ub294 0.0\uc73c\ub85c \ucd08\uae30\ud654\ub97c \uc2dc\ucf1c\uc900\ub2e4. \uadf8\ub9ac\uace0 \ubc18\ubcf5\ubb38\uc744 \uc0ac\uc6a9\ud558\uc5ec \uacb0\uacfc \uac12\ub4e4\uc744 \ub9ac\uc2a4\ud2b8\uc5d0 \uc800\uc7a5\ud558\ub294\ub370 \ud30c\uc774\uc36c\uc5d0\uc11c \uc2e4\uc218 \uacc4\uc0b0\uc740 \uc624\ucc28\ub97c \ub3d9\ubc18\ud558\uae30 \ub54c\ubb38\uc5d0 round\ud568\uc218\ub85c \uc18c\uc218\uc810 \uccab\ubc88\uc9f8 \uc790\ub9ac\uae4c\uc9c0 \ub04a\uc5b4\uc11c \ub9ac\uc2a4\ud2b8\uc5d0 \uac12\uc744 \uc800\uc7a5\ud558\uace0 \uadf8 \ub9ac\uc2a4\ud2b8\ub97c \ubc18\ud658\ud558\uba74 \uacb0\uacfc\uac12\uc774 \ub098\uc635\ub2c8\ub2e4.\n",
      "***"
     ]
    },
    {
     "cell_type": "markdown",
     "metadata": {},
     "source": [
      "***\n",
      "# Problem 4"
     ]
    },
    {
     "cell_type": "markdown",
     "metadata": {},
     "source": [
      "- [4\ubc88 \ubb38\uc81c] \uac00\ubcc0\uc778\uc218\ub97c \ubc1b\ub294 \ud568\uc218 sum()\uc744 \ub2e4\uc74c\uacfc \uac19\uc740 \uc870\uac74\uc744 \ucc38\uace0\ud558\uc5ec \uad6c\ud604\ud558\uc2dc\uc624\n",
      "  - 1) sum() \uc0ac\uc6a9 \uc608 \n",
      "    - sum()\n",
      "      - 0\n",
      "    - sum(1, 2)\n",
      "      - 3\n",
      "    - sum(1, 2, 3, 4, 5)\n",
      "      - 15\n",
      "    - sum(1, 5, 7, 2, -10)\n",
      "      - 5\n",
      "***"
     ]
    },
    {
     "cell_type": "code",
     "collapsed": false,
     "input": [
      "def sum(a = 0, *arg):\n",
      "    s = a #\uccab \uc22b\uc790\ub97c \ub118\uaca8 \ubc1b\uc740 a\uc758 \uac12\uc73c\ub85c \ucd08\uae30\ud654\n",
      "    for num in arg: #\n",
      "        s += num\n",
      "    return s \n",
      "    \n",
      "print 'sum()'\n",
      "print sum()\n",
      "print 'sum(1,2)'\n",
      "print sum(1,2) \n",
      "print 'sum(1,2,3,4,5)'\n",
      "print sum(1,2,3,4,5) \n",
      "print 'sum(1,5,7,2,-10)'\n",
      "print sum(1,5,7,2,-10)  "
     ],
     "language": "python",
     "metadata": {},
     "outputs": [
      {
       "output_type": "stream",
       "stream": "stdout",
       "text": [
        "sum()\n",
        "0\n",
        "sum(1,2)\n",
        "3\n",
        "sum(1,2,3,4,5)\n",
        "15\n",
        "sum(1,5,7,2,-10)\n",
        "5\n"
       ]
      }
     ],
     "prompt_number": 16
    },
    {
     "cell_type": "markdown",
     "metadata": {},
     "source": [
      "\uc124\uba85 : \ud568\uc218\uc758 \uccab\ubc88\uc9f8 \uc778\uc790\ub97c 0\uc73c\ub85c \ucd08\uae30\ud654\ud558\uace0 \ub450\ubc88\uc9f8 \uc778\uc790\ub294 \uac00\ubcc0\uc778\uc218\ub85c \ud558\uba74 \ud29c\ud50c \ud615\ud0dc\ub85c \uc778\uc790\ub4e4\uc744 \ubc1b\uc544\uc628\ub2e4. \uccab\ubc88\uc9f8 \uc778\uc790\uc640 \ud29c\ud50c \uc548\uc758 \ubaa8\ub4e0 \uc218\ub97c \ub354\ud574\uc11c \uac12\uc744 \ubc18\ud658\ud558\uba74 \uc815\ub2f5\uc774 \ub429\ub2c8\ub2e4.\n",
      "***\n"
     ]
    },
    {
     "cell_type": "markdown",
     "metadata": {},
     "source": [
      "***\n",
      "# Problem 5"
     ]
    },
    {
     "cell_type": "markdown",
     "metadata": {},
     "source": [
      "- [5\ubc88 \ubb38\uc81c] \uc5ec\ub7ec \ub2e8\uc5b4\ub85c \uc774\ub8e8\uc5b4\uc9c4 \ubb38\uc790\uc5f4\uc744 \uc785\ub825\ubc1b\uc544 \uac01 \ub2e8\uc5b4\uc758 \uccab\uae00\uc790\ub85c \uc774\ub8e8\uc5b4\uc9c4 \ub2e8\uc5b4\ub97c \ub300\ubb38\uc790\ub85c \ucd9c\ub825\ud558\ub294 myinitial() \ud568\uc218\ub97c \ub2e4\uc74c \uc870\uac74\uc744 \ucc38\uace0\ud558\uc5ec \uc791\uc131\ud558\uc2dc\uc624.\n",
      "  - 1) split, map, join \ud568\uc218\ub97c \ubaa8\ub450 \uc774\uc6a9\ud574\uc57c \ud55c\ub2e4.\n",
      "  - 2) myinitial() \ud568\uc218 \uc0ac\uc6a9 \uc608\n",
      "    - myinitial(\"as soon as possible\")\n",
      "      - ASAP\n",
      "***"
     ]
    },
    {
     "cell_type": "code",
     "collapsed": false,
     "input": [
      "def myinitial(string): \n",
      "    string = string.split() #\ubb38\uc790\uc5f4\uc744 \uacf5\ubc31 \ub2e8\uc704\ub85c \ubd84\ub9ac\ud558\uc5ec \ub9ac\uc2a4\ud2b8 \uc0dd\uc131\n",
      "    string = map(lambda x : x[0].upper() , string)\n",
      "    #map\uacfc lambda \ud568\uc218\ub97c \uc774\uc6a9\ud558\uc5ec \uac01 \ub2e8\uc5b4\uc758 \ub9e8 \uccab \ubb38\uc790\ub97c \ub300\ubb38\uc790\ub85c \ubcc0\uacbd\ud574\uc11c \ub9ac\uc2a4\ud2b8 \uc0dd\uc131 \n",
      "    string = ''.join(string) #\ub9ac\uc2a4\ud2b8 \ub0b4\uc758 \ubb38\uc790\ub4e4\uc744 \ud558\ub098\uc758 \ubb38\uc790\uc5f4\ub85c \ub9cc\ub4e0\ub2e4 \n",
      "    return string #\uacb0\uacfc\ubb3c\n",
      "\n",
      "print 'result : ',     \n",
      "print myinitial('as soon as possible')"
     ],
     "language": "python",
     "metadata": {},
     "outputs": [
      {
       "output_type": "stream",
       "stream": "stdout",
       "text": [
        "result :  ASAP\n"
       ]
      }
     ],
     "prompt_number": 1
    },
    {
     "cell_type": "markdown",
     "metadata": {},
     "source": [
      "\uc124\uba85  : \uc5ec\ub7ec \ub2e8\uc5b4\ub85c \uc774\ub8e8\uc5b4\uc9c4 \ubb38\uc790\uc5f4\uc740 \uc989, \uacf5\ubc31\uc73c\ub85c \ub098\ub204\uc5b4\uc838 \uc788\ub2e4. \ub530\ub77c\uc11c split()\ud568\uc218\ub97c \uc774\uc6a9\ud574\uc11c \uacf5\ubc31 \ub2e8\uc704\ub85c \ubb38\uc790\uc5f4\uc744 \uc798\ub77c\uc11c \ub9ac\uc2a4\ud2b8\ub85c \ub9cc\ub4e4\uba74 \uac01 \uc6d0\uc18c\uc5d0\ub294 \ub2e8\uc5b4\ub4e4\uc774 \ub4e4\uc5b4\uac00 \uc788\uace0 \uac01 \ub2e8\uc5b4\ub294 \ub610 \ud558\ub098\uc758 \ubb38\uc790\uc5f4\ub85c \ucde8\uae09\ud558\uba74 \uc778\ub370\uc2a4 0\ubc88\uc5d0 \uc788\ub294 \ubb38\uc790\ub294 \uac01 \ub2e8\uc5b4\uc758 \uccab\uae00\uc790\uac00 \ub41c\ub2e4. map\uacfc \ub78c\ub2e4 \ud568\uc218\ub97c \uc774\uc6a9\ud574\uc11c upper()\ud568\uc218\ub85c \ub300\ubb38\uc790\ub85c \ubcc0\uacbd \ud6c4 \ub9ac\uc2a4\ud2b8\uc758 \uc6d0\uc18c\ub85c \ucc44\uc6b4\ub2e4. \uadf8 \uacb0\uacfc \ud574\ub2f9 \ub9ac\uc2a4\ud2b8\uc5d0\ub294 \uccab\uae00\uc790\ub85c \uc774\ub8e8\uc5b4\uc9c4 \ub2e8\uc5b4\uc758 \uae00\uc790\ub4e4\uc774 \ub4e4\uc5b4\uac00 \uc788\ub2e4. \uc774 \uae00\uc790\ub4e4\uc744 join\ud568\uc218\ub85c \ud558\ub098\uc758 \ubb38\uc790\uc5f4\ub85c \ub9cc\ub4e4\uc5b4 \uc8fc\uba74 \uacb0\uacfc\uac00 \ub098\uc635\ub2c8\ub2e4.\n",
      "***"
     ]
    },
    {
     "cell_type": "markdown",
     "metadata": {},
     "source": [
      "***\n",
      "# Problem 6"
     ]
    },
    {
     "cell_type": "markdown",
     "metadata": {},
     "source": [
      "- [6\ubc88 \ubb38\uc81c] \uc74c\uc774 \uc544\ub2cc \uc815\uc218 n\ub97c \uc785\ub825\ubc1b\uc73c\uba74 n! (factorial)\uc744 \uacc4\uc0b0\ud558\ub294 myfact() \ud568\uc218\ub97c \uc7ac\uadc0\uc801 \ud568\uc218\ub85c \uad6c\ud604\ud558\uc2dc\uc624.\n",
      "***"
     ]
    },
    {
     "cell_type": "code",
     "collapsed": false,
     "input": [
      "def myfact(num):\n",
      "    if num == 0:\n",
      "        return 1\n",
      "    return num * myfact(num - 1)\n",
      "\n",
      "print myfact(10)    \n",
      "print myfact(0)"
     ],
     "language": "python",
     "metadata": {},
     "outputs": [
      {
       "output_type": "stream",
       "stream": "stdout",
       "text": [
        "3628800\n",
        "1\n"
       ]
      }
     ],
     "prompt_number": 1
    },
    {
     "cell_type": "markdown",
     "metadata": {},
     "source": [
      "\uc124\uba85 : myfact\uc5d0 \uc815\uc218 n\uc758 \uac12\uc744 \ub118\uaca8\uc8fc\uba74, num\uc758 \uac12\uc774 0\uc774 \ub420\ub54c\uae4c\uc9c0 \uc790\uae30 \uc790\uc2e0\uc744 \ub2e4\uc2dc \ud638\ucd9c\ud55c\ub2e4. \uc774\ub54c num\uc758 \uac12\uc744 1 \uac10\uc18c \uc2dc\ucf1c\uc11c \uc778\uc790\ub97c \ub118\uaca8\uc900\ub2e4.\n",
      "\uc774\ub54c \uc7ac\uadc0 \ud568\uc218\uc758 \uc870\uac74\uc73c\ub85c num\uc774 0\uc77c \ub54c \ubaa8\ub4e0 \ud568\uc218 \ucf5c\uc744 \ucf5c\ubc31 \uc2dc\ud0a8\ub2e4. \uadf8\ub7ec\uba74 n!\uc758 \uac12\uc774 \uacc4\uc0b0\ub418\uc5b4 \ucd5c\ucd08 \ud568\uc218 \ud638\ucd9c\ud55c \uacf3\uc5d0 \uacb0\uacfc\uac12\uc774 \uc804\ub2ec\ub41c\ub2e4.\n",
      "0!\uc740 1\uc774\ub77c\uace0 \uc218\ud559\uc801\uc73c\ub85c \uc815\uc758\ub418\uc5b4 \uc788\uc5b4\uc11c num\uc758 \uc870\uac74\uc740 0\uc73c\ub85c \uc124\uc815\ud588\ub2e4.\n",
      "***"
     ]
    },
    {
     "cell_type": "markdown",
     "metadata": {},
     "source": [
      "# Problem 7"
     ]
    },
    {
     "cell_type": "markdown",
     "metadata": {},
     "source": [
      "- [7\ubc88 \ubb38\uc81c] (\uc11c\uc220\ud615) import string \uacfc from string import * \uc758 \ucc28\uc774\uc810\uc744 \uc124\uba85\ud558\uc2dc\uc624."
     ]
    },
    {
     "cell_type": "markdown",
     "metadata": {},
     "source": [
      "\uc124\uba85 : import string\uc740 \ud604\uc7ac\uc758 \uc774\ub984\uacf5\uac04 string\uc774\ub77c\ub294 \ubaa8\ub4c8\uc744 \uadf8\ub0e5 \uac00\uc838\uc628 \uac83\uc774\ub2e4.\n",
      "\ubc18\uba74, from string import foo\ub294 foo \ub77c\ub294 \uc774\ub984\uc744 \uadf8\ub0e5 \uc0ac\uc6a9\ud560 \uc218 \uc788\ub2e4. \ud604\uc7ac\uc758 \uc774\ub984\uacf5\uac04 \uc548\uc5d0 string.foo.\ub97c \uac00\uc838\uc640\uc11c foo\ub77c\ub294 \uc774\ub984\uc73c\ub85c \ucc38\uc870\ud560 \uc218 \uc788\uac8c \ud55c\ub2e4.\n",
      " from string import * \ub294 string \ubaa8\ub4c8\uc758 \ubaa8\ub4e0 public \uc18d\uc131/\ud568\uc218\ub97c \uc804\ubd80 \ud604\uc7ac \uc774\ub984\uacf5\uac04 \uc548\uc73c\ub85c \uac00\uc838\uc628\ub2e4. \ub9cc\uc57d \uac19\uc740 \uc774\ub984\uc774 \uc788\uc73c\uba74 overwrite\uac00 \ub41c\ub2e4. \n",
      "***"
     ]
    },
    {
     "cell_type": "markdown",
     "metadata": {},
     "source": [
      "# Problem 8"
     ]
    },
    {
     "cell_type": "markdown",
     "metadata": {},
     "source": [
      "- [8\ubc88 \ubb38\uc81c] \uc774\uc804 Assignment 3\uc758 \ub9c8\uc9c0\ub9c9 \ubb38\uc81c\ub294 \uc6f9 URL\ub85c \uc9c0\uc815\ub41c \uc6f9\ud398\uc774\uc9c0\ub97c \ubb38\uc790\uc5f4\ub85c \uac00\uc838\uc640 \ubaa8\ub4e0 HTML \ud0dc\uadf8 \ubc0f CSS\uc640 Javascript\ub97c \uc81c\uc678\ud55c \uc21c\uc218 \ud14d\uc2a4\ud2b8\ub97c \uc5bb\uc5b4\ub0b4\uace0 \uadf8 \uc548\uc5d0 \uc874\uc7ac\ud558\ub294 \ub2e8\uc5b4\ub97c \ucd94\ucd9c\ud558\uc5ec \uac01 \ub2e8\uc5b4\ub4e4\uc5d0 \ub300\ud574 \ucd9c\ud604\ube48\ub3c4\ub97c \uc0ac\uc804\ud615\ud0dc({'world': 2, 'hello': 1, 'python': 1})\ub85c \uc800\uc7a5\ud558\uc5ec \ucd9c\ub825\ud558\ub294 \uac83\uc774\uc5c8\ub2e4. \uc774\ubc88\uc5d0\ub294 Assignment 3\ub97c \ud655\uc7a5\ud558\uc5ec \ub2e4\uc74c\uacfc \uac19\uc740 \uc870\uac74\uc744 \ub9cc\uc871\ud558\ub3c4\ub85d \uad6c\ud604\ud558\uc2dc\uc624. \n",
      "  - 1) \uac01 URL\ub85c \uc9c0\uc815\ub41c \uc6f9\ud398\uc774\uc9c0\uc758 HTML \uc18c\uc2a4\ub97c \ud30c\uc77c\ub85c \uc800\uc7a5\ud558\uc2dc\uc624. \n",
      "    - URL\uc774 http://URL \uc774\ub77c\uba74 \ud30c\uc77c\uba85\uc740 URL.html \uc774\ub2e4. \n",
      "    - \uc608: URL\uc774 http://www.koreatech.ac.kr \uc774\ub77c\uba74 \ud30c\uc77c\uba85\uc740 www.koreatech.ac.kr.html \uc774\ub2e4. \n",
      "  - 2) \ub2e8\uc5b4\uc758 \ucd9c\ud604\ube48\ub3c4\uac00 \ub2f4\uae34 \uc0ac\uc804 \uac1d\uccb4\ub97c \uc704 HTML \uc18c\uc2a4 \ud30c\uc77c\uacfc \ub3d9\uc77c\ud55c \ud3f4\ub354\uc5d0 \ud30c\uc77c\ub85c \uc800\uc7a5\ud558\uc2dc\uc624.\n",
      "    - \uad50\uc7ac 11-2 \ud53c\ud074\ub9c1 \ubc29\ubc95\uc744 \ud65c\uc6a9\ud558\uc2dc\uc624. \n",
      "    - URL\uc774 http://URL \uc774\ub77c\uba74 \ud30c\uc77c\uba85\uc740 URL.words.frequency \uc774\ub2e4.\n",
      "    - \uc608: URL\uc774 http://www.koreatech.ac.kr \uc774\ub77c\uba74 \ud30c\uc77c\uba85\uc740 www.koreatech.ac.kr.words.frequency \uc774\ub2e4.\n",
      "  - 3) \ucd5c\uc18c 5\uac1c \uc774\uc0c1\uc758 \uc6f9 \uc0ac\uc774\ud2b8\uc5d0 \ub300\ud55c HTML \uc18c\uc2a4 \ud30c\uc77c\uacfc \ub2e8\uc5b4 \ucd9c\ud604\ube48\ub3c4 \ud30c\uc77c\uc744 \uc800\uc7a5\ud558\uc2dc\uc624. \n",
      "    - \uc989, \ucd1d 10\uac1c\uc758 \ud30c\uc77c\uc744 \ub3d9\uc77c\ud55c \ud3f4\ub354\uc5d0 \uc0dd\uc131\ud558\uc2dc\uc624.\n",
      "***"
     ]
    },
    {
     "cell_type": "code",
     "collapsed": false,
     "input": [
      "# -*- coding: utf-8 -*-\n",
      "import urllib\n",
      "import string\n",
      "import pickle\n",
      "url = [] #5\uac1c\uc758 \ud648\ud398\uc774\uc9c0 \uc8fc\uc18c \uc800\uc7a5\n",
      "url.append(\"http://cse.kut.ac.kr/\")\n",
      "url.append(\"http://www.naver.com\")\n",
      "url.append(\"http://google.com\")\n",
      "url.append(\"http://www.daum.net\")\n",
      "url.append(\"http://kut.ac.kr\")\n",
      "html = [] #5\uac1c \ud648\ud398\uc774\uc9c0\uc5d0 \ub300\ud55c html \ubb38\uc11c \uc800\uc7a5\n",
      "indexHTML = 0\n",
      "for u in url:\n",
      "    source = urllib.urlopen(u).read() #html \uc18c\uc2a4 \uac00\uc838\uc624\uae30\n",
      "    html.append(source) #html \uc18c\uc2a4\ub97c html \ub9ac\uc2a4\ud2b8\uc5d0 \uc800\uc7a5 -> .html \ud30c\uc77c \ub9cc\ub4e4\uae30 \uc704\ud574\uc11c\n",
      "    len_source = len(source)\n",
      "    #print \"Initial length of source:\", len_source\n",
      "\n",
      "    source_new = None\n",
      "    i = 0\n",
      "    while (i < len_source): #\uc2a4\ud06c\ub9bd\ud2b8 \ubb38\uc11c \uc81c\uac70\n",
      "\tfound = False\n",
      "\tif (found != True and source[i] == \"<\" and source[i+1 : i+7].lower() == \"script\"):\n",
      "\t\tfound = True;\n",
      "\t\tj = i + 7;\n",
      "\t\twhile (True):\n",
      "\t\t\tif (source[j] == \"<\" and source[j+1] == \"/\" and source[j+2 : j+8].lower() == \"script\"):\n",
      "\t\t\t\t#print \"found - script\"\n",
      "\t\t\t\tsource = source[:i] + ' ' + source[j+9:]\n",
      "\t\t\t\tbreak\n",
      "\t\t\tj = j + 1\n",
      "\t\t\tif (j > len_source):\n",
      "\t\t\t\tbreak\n",
      "\t\tlen_source = len(source)\n",
      "\ti = i + 1\n",
      "\n",
      "    len_source = len(source)\n",
      "    #print len_source\n",
      "\n",
      "    i = 0\n",
      "    while (i < len_source): #CSS \ubb38\uc11c \uc81c\uac70\n",
      "\tfound = False\n",
      "\tif (found != True and source[i] == \"<\" and source[i+1 : i+6].lower() == \"style\"):\n",
      "\t\tfound = True;\n",
      "\t\tj = i + 6;\n",
      "\t\twhile (True):\n",
      "\t\t\tif (source[j] == \"<\" and source[j+1] == \"/\" and source[j+2 : j+7].lower() == \"style\"):\n",
      "\t\t\t\t#print \"found - style\"\n",
      "\t\t\t\tsource = source[:i] + ' ' + source[j+8:]\n",
      "\t\t\t\tbreak\n",
      "\t\t\tj = j + 1\n",
      "\t\t\tif (j > len_source):\n",
      "\t\t\t\tbreak\n",
      "\t\tlen_source = len(source)\n",
      "\ti = i + 1\n",
      "\n",
      "    len_source = len(source)\n",
      "    #print len_source\n",
      "\n",
      "    i = 0\n",
      "    while (i < len_source): #html \ud0dc\uadf8\ub4e4 \uc81c\uac70\n",
      "\tfound = False\n",
      "\tif (found != True and source[i] == \"<\"):\n",
      "\t\tfound = True;\n",
      "\t\tj = i + 1;\n",
      "\t\twhile (True):\n",
      "\t\t\tif (source[j] == \">\"):\n",
      "\t\t\t\t#print \"found - HTML tag\"\n",
      "\t\t\t\tsource = source[:i] + ' ' + source[j+1:]\n",
      "\t\t\t\tbreak\n",
      "\t\t\tj = j + 1\n",
      "\t\t\tif (j > len_source):\n",
      "\t\t\t\tbreak\n",
      "\t\tlen_source = len(source)\n",
      "\ti = i + 1\n",
      "\n",
      "    len_source = len(source)\n",
      "    #print \"Last length of source:\", len_source\n",
      "\n",
      "    words = source.split() #\uc21c\uc218 \ub2e8\uc5b4\ub4e4\uc744 \ub9ac\uc2a4\ud2b8\ub85c \uc800\uc7a5\n",
      "\n",
      "    #\uc704\uc758 \ucf54\ub4dc\ub294 \uad50\uc218\ub2d8\uc774 \uc81c\uc2dc\ud574 \uc8fc\uc2e0 \ucf54\ub4dc\ub97c \uc774\uc6a9'\n",
      "    #-------------------------------------------\n",
      "    #\uc5ec\uae30\uc11c \ubd80\ud130\ub294 \uad6c\ub450 \ubb38\uc790 \uc81c\uac70 \ubc0f \ub2e8\uc5b4 \ucd9c\ud604 \ube48\ub3c4 \uc218 \ucd9c\ub825\ud558\ub294 \ucf54\ub4dc  \n",
      "    final_words = [] #\uad6c\ub450\ubb38\uc790\uac00 \uc81c\uac70\ub41c \ucd5c\uc885 \ubb38\uc790\n",
      "    for temp in words:\n",
      "        string_list = [] #\ubb38\uc790\uc5f4 \ub9ac\uc2a4\ud2b8\n",
      "        make_string = []\n",
      "\n",
      "        for k in temp:  #\uadf8 \ubb38\uc790\uc5f4\uc758 \ubb38\uc790\ub4e4\uc744 \ud558\ub098\uc529 \ub9ac\uc2a4\ud2b8\uc5d0 \ub123\ub294\ub2e4.\n",
      "            string_list.append(k)\n",
      "\n",
      "\n",
      "        flag = 0 #\uad6c\ub450\ubb38\uc790\uc778\uc9c0 \uc544\ub2cc\uc9c0 0\uc774\uba74 \uc544\ub2d8 1\uc774\uba74 \uad6c\ub450\ubb38\uc790\n",
      "        for char in string_list:\n",
      "            for y in string.punctuation: #\uad6c\ub450\ubb38\uc790 \uc810\uac80\n",
      "                if (char == y): #\uad6c\ub450\ubb38\uc790\ub77c\uba74\n",
      "                    flag = 1     #\ud50c\ub798\uadf8 \uc0c1\ud0dc \ubcc0\uacbd\n",
      "                    break       #\ubc18\ubcf5\ubb38 \uc885\ub8cc\n",
      "            if (flag == 0):    #\uad6c\ub450\ubb38\uc790\uac00 \uc544\ub2c8\uba74 \ub9ac\uc2a4\ud2b8\uc5d0 \ubb38\uc790 \ucd94\uac00\n",
      "                make_string.append(char)\n",
      "            elif (flag == 1):  #\uad6c\ub450\ubb38\uc790\uc774\uba74 \uc0c1\ud0dc\ub97c \ubcc0\uacbd\uc2dc\ucf1c \uc8fc\uace0 \ub2e4\uc74c \ubb38\uc790\ub85c \ub118\uc5b4\uac10\n",
      "                flag = 0\n",
      "                continue;    \n",
      "        make_string = ''.join(make_string) #\ub9ac\uc2a4\ud2b8 \ub0b4\uc758 \ubb38\uc790\ub4e4\uc744 \ud569\uccd0\uc11c \ud558\ub098\uc758 \ubb38\uc790\uc5f4\ub85c \ub9cc\ub4e4\uae30   \n",
      "        final_words.append(make_string)            \n",
      "    print '''----------------------------------------------------------------------------------------------------------------------------'''         \n",
      "\n",
      "    \n",
      "    count = 0\n",
      "    while count < len(final_words): #\ub9ac\uc2a4\ud2b8 \ub0b4\uc758 \ubb38\uc790\uc5f4\uc774 ''\uc778 \uacf5\ubc31\uc778 \uc6d0\uc18c\ub4e4\uc744 \ubaa8\ub450 \uc81c\uac70\n",
      "        temp = count\n",
      "        if final_words[count] == '':\n",
      "            del final_words[count]\n",
      "            count = temp\n",
      "        else:\n",
      "            count += 1\n",
      "   \n",
      "    dic = dict() #\ucd9c\ud604 \ube48\ub3c4\ub97c \uc800\uc7a5\ud558\uae30 \uc704\ud55c \uc0ac\uc804 \uac1d\uccb4 \n",
      "    value = 0 \n",
      "    for index in range(len(final_words)):\n",
      "        if(final_words[index] in dic): \n",
      "            value = dic.get(final_words[index])\n",
      "            value += 1\n",
      "            dic[final_words[index]] = value\n",
      "        else:\n",
      "            dic[final_words[index]] = 1    \n",
      "    \n",
      "    #key_list = dic.keys()\n",
      "    #for x in range(len(key_list)):\n",
      "    #    print key_list[x] + ' :',\n",
      "    #    print dic.get(key_list[x])\n",
      "\n",
      "      \n",
      "    site = u[7:] #\uc0ac\uc774\ud2b8 \uc8fc\uc18c\uc5d0\uc11c htt:// \uc81c\uac70\n",
      "    site = site.strip('/') #\ubb38\uc790\uc5f4 \uc591\ucabd\uc758 '/'\ubb38\uc790 \uc81c\uac70\n",
      "    htmlfile = site + '.html'\n",
      "    freq = site + '.words.frequency'\n",
      "    f = open(htmlfile, 'w')\n",
      "    f.write(html[indexHTML])\n",
      "    indexHTML += 1\n",
      "    f.close()\n",
      "    \n",
      "    f = open(freq, 'w')\n",
      "    pickle.dump(dic, f)\n",
      "    f.close()\n",
      "    \n",
      "    f = open(freq)\n",
      "    x = pickle.load(f)\n",
      "    print '\uc0ac\uc774\ud2b8 \uc8fc\uc18c : ',\n",
      "    print u\n",
      "    print 'html \ud30c\uc77c : ',\n",
      "    print htmlfile\n",
      "    print 'words.frequency \ud30c\uc77c : ',\n",
      "    print freq\n",
      "    print x\n",
      "    print '------------------------------------------------------------------------------------------------------------'"
     ],
     "language": "python",
     "metadata": {},
     "outputs": [
      {
       "output_type": "stream",
       "stream": "stdout",
       "text": [
        "----------------------------------------------------------------------------------------------------------------------------\n",
        "\uc0ac\uc774\ud2b8 \uc8fc\uc18c :  http://cse.kut.ac.kr/\n",
        "html \ud30c\uc77c :  cse.kut.ac.kr.html\n",
        "words.frequency \ud30c\uc77c :  cse.kut.ac.kr.words.frequency\n",
        "{'\\xec\\x9e\\x85\\xec\\x8b\\x9cQA': 1, '\\xec\\x88\\x98\\xec\\xa0\\x95': 1, '\\xec\\xbb\\xb4\\xed\\x93\\xa8\\xed\\x84\\xb0\\xec\\x8b\\x9c\\xec\\x8a\\xa4\\xed\\x85\\x9c\\xec\\x9d\\x91\\xec\\x9a\\xa9': 1, '\\xec\\xb0\\xb8\\xec\\x84\\x9d': 1, '\\xed\\x8a\\xb9\\xec\\x84\\xb1\\xed\\x99\\x94': 8, '\\xec\\x9c\\xa0\\xec\\xb0\\xb0': 1, 'nbsp': 1, '20141020': 1, '\\xea\\xb3\\xb5\\xec\\xa7\\x80\\xec\\x82\\xac\\xed\\x95\\xad': 1, '\\xec\\x95\\x84\\xec\\x9d\\xb4\\xeb\\x94\\x94\\xec\\x8a\\xa4\\xec\\xa0\\x84\\xec\\x9e\\x90\\xec\\x8b\\xa0\\xeb\\xac\\xb8': 1, '2013\\xeb\\x85\\x84': 1, 'E2FEST': 1, '\\xec\\x97\\xb0\\xea\\xb5\\xac\\xec\\x8b\\xa4\\xec\\x86\\x8c\\xea\\xb0\\x9c': 1, '\\xeb\\xaa\\xa8\\xec\\xa7\\x91\\xec\\x9a\\x94\\xea\\xb0\\x95': 1, '\\xec\\xbd\\xa4\\xed\\x85\\x8d\\xec\\x8b\\x9c\\xec\\x8a\\xa4\\xed\\x85\\x9c': 1, '20141112': 1, '20141118': 3, '2014': 3, '\\xec\\x9d\\xb8\\xeb\\xa0\\xa5': 1, '20141031': 2, 'EampM': 1, '\\xed\\x99\\x94\\xec\\x9d\\xb4\\xed\\x8a\\xb8\\xed\\x96\\x87': 1, 'MAMA\\xec\\x97\\x90': 1, '\\xec\\x9e\\xa5\\xed\\x95\\x99\\xea\\xb8\\x88': 1, 'TOEIC': 1, '2014\\xec\\x84\\x9c': 1, '\\xec\\x95\\x84\\xec\\x9d\\xb4\\xeb\\x94\\x94\\xec\\x96\\xb4': 2, '\\xec\\xb0\\xbe\\xec\\x95\\x84\\xec\\x98\\xa4\\xec\\x8b\\x9c\\xeb\\x8a\\x94\\xea\\xb8\\xb8': 1, '\\xec\\xa7\\x80\\xec\\x8a\\xa4\\xed\\x83\\x80': 1, 'IDIS': 1, '\\xed\\x8e\\xb8\\xed\\x96\\xa5': 1, '\\xeb\\xaa\\xa8\\xec\\xa7\\x91': 2, 'HUST': 1, '\\xed\\x95\\xb4\\xed\\x82\\xb9\\xeb\\xb3\\xb4\\xec\\x95\\x88': 1, '20141105': 1, '\\xec\\x8b\\xa0\\xec\\x9e\\x85\\xec\\x82\\xac\\xec\\x9b\\x90': 1, '\\xea\\xb5\\x90\\xec\\x9c\\xa1\\xeb\\xaa\\xa9\\xed\\x91\\x9c': 1, 'Spe': 1, '20140327': 1, '\\xec\\x95\\xb0': 1, '\\xec\\xa1\\xb8\\xec\\x97\\x85\\xec\\x9e\\x91\\xed\\x92\\x88': 2, 'Festival': 1, '\\xec\\x84\\xb8\\xeb\\xaf\\xb8': 1, '\\xed\\x95\\xb4\\xec\\x83\\x81\\xed\\x86\\xb5\\xec\\x8b\\xa0\\xeb\\xa7\\x9d': 1, '\\xeb\\xb3\\xb8\\xec\\x9e\\x85\\xec\\xb0\\xb0': 1, '\\xeb\\x8f\\x99\\xeb\\xac\\xb8\\xea\\xb2\\x8c\\xec\\x8b\\x9c\\xed\\x8c\\x90': 1, '\\xea\\xb0\\x9c\\xeb\\xb0\\x9c\\xec\\x9e\\x90': 1, '\\xec\\xa7\\x80\\xec\\x83\\x81\\xed\\x8c\\x8c': 1, '\\xea\\xb5\\xac\\xec\\xb6\\x95': 1, '\\xeb\\x94\\x94\\xec\\xa7\\x80\\xed\\x84\\xb8': 1, '20131007': 1, '\\xed\\x99\\x95\\xeb\\x8c\\x80': 1, 'IT\\xec\\x9c\\xb5\\xed\\x95\\xa9': 2, 'U\\xed\\x8f\\x89': 1, '\\xea\\xb5\\x90\\xec\\x88\\x98\\xec\\xa7\\x84': 1, '\\xed\\x95\\x99\\xeb\\xb6\\x80\\xec\\x82\\xac\\xec\\xa7\\x84\\xea\\xb2\\x94\\xeb\\x9f\\xac\\xeb\\xa6\\xac': 1, 'OPIc': 1, '\\xed\\x95\\x99\\xec\\x83\\x9d\\xed\\x9a\\x8c': 1, '4\\xeb\\x8c\\x80': 1, 'C': 1, '\\xed\\x88\\xac\\xed\\x91\\x9c': 1, '\\xed\\x8f\\xac\\xec\\x8a\\xa4\\xed\\x84\\xb0\\xeb\\xb0\\x9c\\xed\\x91\\x9c\\xea\\xb2\\xbd\\xec\\xa7\\x84\\xeb\\x8c\\x80\\xed\\x9a\\x8c': 1, '\\xec\\x82\\xac\\xec\\xa7\\x84\\xea\\xb2\\x8c\\xec\\x8b\\x9c\\xed\\x8c\\x90': 1, '\\xea\\xb3\\xb5\\xed\\x95\\x99\\xec\\x9d\\xb8\\xec\\xa6\\x9d\\xec\\x95\\x88\\xeb\\x82\\xb4': 1, '\\xec\\xbb\\xb4\\xed\\x93\\xa8\\xed\\x84\\xb0SW': 1, '\\xec\\xb7\\xa8\\xec\\x97\\x85\\xea\\xb2\\x8c\\xec\\x8b\\x9c\\xed\\x8c\\x90': 1, '1\\xed\\x9a\\x8c': 1, '\\xea\\xb0\\x95\\xec\\x9d\\x98\\xec\\x9e\\x90\\xeb\\xa3\\x8c\\xec\\x8b\\xa4': 1, '20120909': 1, '\\xec\\xb7\\xa8\\xec\\x97\\x85\\xec\\xa1\\xb0\\xec\\x82\\xac2013': 1, '\\xec\\xb7\\xa8\\xec\\x97\\x85\\xec\\xa1\\xb0\\xec\\x82\\xac2014': 1, '\\xec\\x9d\\xb5\\xeb\\xaa\\x85\\xea\\xb2\\x8c\\xec\\x8b\\x9c\\xed\\x8c\\x90': 1, '\\xec\\x84\\xb8\\xeb\\xa6\\xbc\\xed\\x8b\\xb0\\xeb\\x84\\xa4\\xec\\x8a\\xa4\\xec\\xa7\\x80\\xec\\xa3\\xbc': 1, '\\xed\\x94\\x84\\xeb\\xa1\\x9c\\xea\\xb7\\xb8\\xeb\\x9e\\xa8': 1, '1\\xed\\x95\\x99\\xeb\\x85\\x84': 1, '20121105': 1, '13rh': 1, '\\xec\\x9e\\xa5\\xed\\x95\\x99\\xec\\xa0\\x9c\\xeb\\x8f\\x84': 1, '\\xed\\x99\\x88\\xed\\x8e\\x98\\xec\\x9d\\xb4\\xec\\xa7\\x80': 1, '2014\\xeb\\x85\\x84': 1, '\\xed\\x95\\xb4\\xec\\x99\\xb8\\xea\\xb8\\xb0\\xec\\x88\\xa0\\xeb\\xb4\\x89\\xec\\x82\\xac': 1, '2015\\xed\\x95\\x99\\xeb\\x85\\x84\\xeb\\x8f\\x84': 1, '2': 1, '\\xed\\x95\\x99\\xed\\x9a\\x8c\\xec\\x9e\\xa5\\xeb\\xb6\\x80\\xed\\x95\\x99': 1, 'quot\\xec\\x9e\\xac\\xec\\x9e\\x85\\xec\\xb0\\xb0': 1, '20141014': 3, '20141016': 1, 'CJ': 1, '\\xeb\\x8c\\x80\\xed\\x95\\x99\\xec\\x9b\\x90': 1, '\\xec\\x84\\xa4\\xea\\xb3\\x841': 1, '\\xec\\x9e\\x90\\xec\\x9c\\xa0\\xea\\xb2\\x8c\\xec\\x8b\\x9c\\xed\\x8c\\x90': 1, '\\xec\\xa3\\xbc\\xec\\xbd\\x9c\\xeb\\x9f\\xac\\xeb\\x85\\xb8\\xeb\\xb9\\x84\\xed\\x83\\x80': 1, '\\xea\\xb2\\xbd\\xec\\xa7\\x84\\xeb\\x8c\\x80': 2, '\\xea\\xb3\\xb5\\xea\\xb3\\xa0': 1, '\\xec\\x95\\x88\\xeb\\x82\\xb4': 1, '20141119': 2, 'Hacking': 1, '\\xeb\\x8c\\x80\\xed\\x95\\x99\\xec\\x9b\\x90\\xec\\x86\\x8c\\xea\\xb0\\x9c': 1, '\\xec\\x97\\xad\\xeb\\x9f\\x89\\xea\\xb0\\x95\\xed\\x99\\x94': 1, '\\xec\\xbd\\x98\\xed\\x85\\x8c\\xec\\x8a\\xa4\\xed\\x8a\\xb8': 1, '20141121': 7, '20141120': 2, '\\xec\\x8b\\x9c\\xec\\x8a\\xa4\\xed\\x85\\x9c': 1, '\\xec\\x84\\xb8': 1, '\\xec\\xbb\\xb4\\xed\\x93\\xa8\\xed\\x84\\xb0HW': 1, '\\xec\\x84\\x9c\\xec\\x8b\\x9d\\xeb\\xb0\\x8f\\xec\\x96\\x91\\xec\\x8b\\x9d\\xec\\x9e\\x90\\xeb\\xa3\\x8c\\xec\\x8b\\xa4': 1, 'LG\\xec\\x9c\\xa0\\xed\\x94\\x8c\\xeb\\x9f\\xac\\xec\\x8a\\xa4': 1, '\\xec\\xbb\\xb4\\xed\\x93\\xa8\\xed\\x84\\xb0\\xea\\xb3\\xb5\\xed\\x95\\x99\\xeb\\xb6\\x80': 3, 'Toeic': 1, '\\xec\\x8b\\xa0\\xec\\xb2\\xad': 1, '\\xec\\x8b\\xa4\\xec\\x8a\\xb5\\xec\\xa1\\xb0\\xea\\xb5\\x90': 1, '\\xec\\xb6\\x94\\xec\\xa7\\x84\\xed\\x95\\xa0': 1, '\\xec\\xb6\\x94\\xea\\xb0\\x80': 1, '\\xeb\\x8c\\x80\\xed\\x95\\x99\\xec\\x9b\\x90\\xea\\xb2\\x8c\\xec\\x8b\\x9c\\xed\\x8c\\x90': 1, '20140924': 1, '\\xed\\x8a\\xb8\\xec\\x9c\\x84\\xed\\x84\\xb0': 1, '\\xed\\x95\\x84\\xec\\x88\\x98': 1, '1': 1, '\\xec\\xa0\\x9c': 1, '\\xed\\x95\\x84\\xeb\\x8f\\x85': 1, '\\xec\\x9d\\xbc\\xeb\\xb0\\x98\\xec\\x9e\\x90\\xeb\\xa3\\x8c\\xec\\x8b\\xa4': 1, '3\\xed\\x95\\x99\\xeb\\x85\\x84': 1, '\\xea\\xb3\\xb5\\xed\\x95\\x99\\xec\\x9d\\xb8\\xec\\xa6\\x9d\\xea\\xb2\\x8c\\xec\\x8b\\x9c\\xed\\x8c\\x90': 1, '20131210': 1, '\\xed\\x8c\\xac\\xed\\x83\\x9d': 1, 'Tmoney\\xed\\x95\\x9c\\xea\\xb5\\xad\\xec\\x8a\\xa4\\xeb\\xa7\\x88\\xed\\x8a\\xb8\\xec\\xb9\\xb4\\xeb\\x93\\x9c': 1, '\\xeb\\xb8\\x8c\\xeb\\xa1\\x9c\\xec\\x85\\x94': 1, 'KT': 1, '\\xec\\xa1\\xb8\\xec\\x97\\x85\\xec\\x9d\\xb4\\xec\\x88\\x98\\xec\\x9a\\x94\\xea\\xb1\\xb4': 1, '\\xea\\xb3\\xb5\\xed\\x95\\x99\\xec\\x84\\xa4\\xea\\xb3\\x84': 2, '20140930': 1, '\\xec\\xa0\\x9c6\\xed\\x9a\\x8c': 1, '\\xec\\xbb\\xb4\\xed\\x93\\xa8\\xed\\x84\\xb0\\xec\\x8a\\xa4\\xeb\\xa7\\x88\\xed\\x8a\\xb8IT': 1, '\\xea\\xb3\\xa0\\xec\\x9e\\xa5\\xec\\x8b\\xa0\\xea\\xb3\\xa0\\xea\\xb2\\x8c\\xec\\x8b\\x9c\\xed\\x8c\\x90': 1, 'Specialist\\xec\\xa0\\x9c': 1, '\\xec\\xb1\\x84\\xec\\x9a\\xa9': 2, 'quotMOTPSM\\xed\\x81\\xb4\\xeb\\x9f\\xac': 1, '\\xea\\xb4\\x91\\xea\\xb3\\xa0\\xed\\x99\\x8d\\xeb\\xb3\\xb4\\xed\\x95\\x99\\xed\\x9a\\x8c': 1}\n",
        "------------------------------------------------------------------------------------------------------------\n",
        "----------------------------------------------------------------------------------------------------------------------------"
       ]
      },
      {
       "output_type": "stream",
       "stream": "stdout",
       "text": [
        "\n",
        "\uc0ac\uc774\ud2b8 \uc8fc\uc18c :  http://www.naver.com\n",
        "html \ud30c\uc77c :  www.naver.com.html\n",
        "words.frequency \ud30c\uc77c :  www.naver.com.words.frequency\n",
        "{'gt': 1, '\\xed\\x95\\x9c\\xea\\xb8\\x80\\xec\\xba\\xa0\\xed\\x8e\\x98\\xec\\x9d\\xb8': 1, '\\xec\\x9c\\x84\\xed\\x95\\x98\\xec\\x97\\xac': 1, '\\xeb\\x82\\x98\\xeb\\x88\\x94\\xea\\xb8\\x80\\xea\\xbc\\xb4\\xec\\x9d\\xb4': 2, '6\\xec\\x9c\\x84': 1, '\\xeb\\x89\\xb4\\xec\\x9a\\x95\\xec\\x9d\\x98': 1, '\\xec\\x95\\xbd\\xed\\x95\\x9c': 1, '\\xeb\\x8b\\xac\\xec\\xbd\\xa4': 1, '\\xeb\\x82\\x98\\xeb\\x88\\x94\\xea\\xb8\\x80\\xea\\xbc\\xb4\\xec\\x9d\\x84': 2, '\\xec\\x84\\xa0\\xed\\x98\\xb8\\xec\\xa3\\xbc\\xec\\xa0\\x9c\\xec\\x84\\xa4\\xec\\xa0\\x95': 1, '\\xec\\x9e\\xac\\xed\\x85\\x8c\\xed\\x81\\xacnbsp': 1, '\\xeb\\xb3\\xbc': 1, '\\xed\\x81\\xb4\\xeb\\xa6\\xad\\xed\\x95\\x98\\xec\\x84\\xb8\\xec\\x9a\\x94': 1, '\\xec\\xa0\\x9c\\xeb\\x8c\\x80\\xeb\\xa1\\x9c': 1, '\\xec\\xa3\\xbc\\xec\\x9d\\x98': 1, '\\xec\\x95\\x84\\xea\\xb9\\x8c\\xec\\x9a\\xb4': 1, '1\\xec\\xb4\\x88\\xec\\x9d\\x98': 1, '\\xea\\xb3\\xa0\\xec\\x95\\x84\\xeb\\x9d\\xbc': 2, '\\xec\\x9e\\x84\\xec\\x9d\\x98\\xeb\\xa1\\x9c': 1, '\\xec\\x8b\\x9c\\xec\\x8a\\xa4\\xed\\x85\\x9c\\xea\\xb8\\x80\\xea\\xbc\\xb4': 1, '\\xed\\x96\\x89\\xeb\\xb3\\xb5\\xed\\x95\\x9c': 1, '\\xec\\x9d\\xbc\\xec\\xa0\\x95': 1, '\\xea\\xb8\\xb0\\xec\\xa1\\xb4': 1, '\\xed\\x99\\x88': 3, '\\xeb\\xa5\\xbc': 1, '\\xed\\x9d\\x90\\xeb\\xa6\\xac\\xea\\xb3\\xa0': 2, '\\xea\\xb3\\xa0\\xea\\xb0\\x9d\\xec\\x84\\xbc\\xed\\x84\\xb0': 1, '\\xec\\xa3\\xbc\\xec\\xa0\\x9c\\xed\\x98\\x95\\xec\\xba\\x90\\xec\\x8a\\xa4\\xed\\x8a\\xb8': 1, '\\xeb\\x95\\x8c\\xeb\\x8a\\x94': 1, '\\xed\\x82\\xa4\\xec\\x9a\\xb0\\xeb\\xa9\\xb4': 1, '\\xec\\xa0\\x9c\\xea\\xb3\\xb5\\xeb\\x90\\x98\\xec\\xa7\\x80': 1, '\\xec\\x97\\x86\\xec\\x8a\\xb5\\xeb\\x8b\\x88\\xeb\\x8b\\xa4': 2, '\\xec\\x9e\\x90\\xec\\xa3\\xbc': 2, '\\xec\\x98\\x81\\xed\\x99\\x94\\xec\\xa0\\x9c': 1, '\\xea\\xb8\\xb0\\xec\\x82\\xac\\xeb\\xb3\\xb4\\xea\\xb8\\xb0': 1, '\\xec\\x95\\xb1': 3, '\\xeb\\x84\\xa4\\xec\\x9d\\xb4\\xeb\\xb2\\x84\\xeb\\x89\\xb4\\xec\\x8a\\xa4': 1, '\\xec\\x84\\xa4\\xec\\xb9\\x98\\xeb\\x90\\x9c': 1, '1121': 1, '190': 1, '\\xec\\x9e\\x90\\xeb\\x8f\\x99\\xec\\xb0\\xa8': 1, '\\xec\\xa0\\x84\\xeb\\xac\\xb8\\xeb\\xb3\\xb4\\xea\\xb8\\xb0': 2, '\\xec\\x99\\x84\\xeb\\xa3\\x8c\\xeb\\x90\\x98\\xec\\xa7\\x80': 1, '\\xea\\xb5\\xad\\xec\\x96\\xb4\\xec\\x82\\xac\\xec\\xa0\\x84': 1, '\\xec\\x86\\x8c\\xeb\\x93\\x9d\\xea\\xb3\\xb5\\xec\\xa0\\x9c': 1, '\\xec\\xa3\\xbc\\xec\\x9a\\x94\\xec\\x96\\xb8\\xeb\\xa1\\xa0\\xec\\x82\\xac': 2, '\\xec\\x84\\xa4\\xec\\xa0\\x95\\xeb\\x90\\x9c': 1, '\\xec\\xb4\\x88\\xeb\\x8c\\x80\\xed\\x98\\x95': 1, '\\xec\\x84\\xa4\\xec\\xb9\\x98\\xed\\x95\\x98\\xec\\x84\\xb8\\xec\\x9a\\x94': 1, 'new': 1, '\\xeb\\xb6\\x80\\xeb\\x8f\\x99\\xec\\x82\\xb0': 2, '\\xed\\x95\\x9c\\xea\\xb2\\x8c\\xec\\x9e\\x84': 1, '\\xeb\\x8b\\xab\\xea\\xb8\\xb0': 5, '\\xed\\x8f\\xb0\\xed\\x8a\\xb8\\xeb\\xa5\\xbc': 1, '\\xec\\x9d\\xb4\\xec\\x9c\\xa0\\xeb\\x8a\\x94': 1, '\\xea\\xb5\\xac\\xeb\\xa6\\x84\\xeb\\xa7\\x8e\\xec\\x9d\\x8c': 13, '\\xec\\xbc\\xa4': 1, '100': 1, '101': 1, '\\xed\\x99\\x95\\xec\\x9d\\xb8': 1, '\\xec\\xa2\\x85\\xed\\x95\\xa9\\xea\\xb2\\xbd\\xec\\xa0\\x9c': 1, '\\xed\\x95\\x98\\xeb\\x8a\\x94': 1, '30': 1, '\\xec\\xa3\\xbc\\xec\\x9a\\x94': 1, '\\xec\\x95\\x8a\\xea\\xb3\\xa0': 1, '\\xeb\\xb0\\xb4\\xeb\\x93\\x9c': 1, '\\xea\\xb2\\x80\\xec\\x83\\x89\\xec\\x96\\xb4\\xec\\xa0\\x80\\xec\\x9e\\xa5': 6, '\\xea\\xb2\\xbd\\xec\\x9a\\xb0\\xec\\x97\\x90': 1, '\\xec\\xb1\\x85': 3, '\\xed\\x83\\x80\\xec\\x9e\\x84\\xec\\x8a\\xa4\\xed\\x80\\x98\\xec\\x96\\xb4': 2, 'txt': 4, '\\xec\\x95\\xb1\\xec\\x9d\\x84': 1, '\\xec\\xa0\\x95\\xec\\xb1\\x85': 2, '\\xeb\\x89\\xb4\\xec\\x8a\\xa4': 2, '\\xec\\x97\\xb0\\xec\\x98\\x88': 1, '\\xea\\xb0\\x80\\xec\\x9d\\x84': 1, '\\xed\\x95\\x9c\\xeb\\x82\\x98\\xec\\xa0\\x88': 1, '\\xeb\\x9d\\xbc\\xec\\x9d\\xb4\\xed\\x94\\x84': 1, '\\xeb\\x8f\\x84\\xeb\\x8f\\x8c\\xeb\\x9f\\xb0\\xec\\xb2\\x98': 1, '\\xea\\xb0\\x9c\\xec\\x9d\\xb8\\xec\\xa0\\x95\\xeb\\xb3\\xb4\\xec\\xb7\\xa8\\xea\\xb8\\x89\\xeb\\xb0\\xa9\\xec\\xb9\\xa8': 1, '\\xec\\x9d\\xb8\\xeb\\xac\\xbc': 1, '\\xea\\xb2\\x80\\xec\\x83\\x89\\xec\\x96\\xb4\\xeb\\xa5\\xbc': 2, '90': 2, 'none': 1, '\\xeb\\x8c\\x80\\xed\\x95\\xb4': 1, '\\xea\\xb1\\xb4\\xea\\xb0\\x95': 1, '\\xec\\x97\\xb4\\xea\\xb8\\xb0': 2, '\\xeb\\xb8\\x94\\xeb\\xa7\\x81\\xeb\\xb8\\x94\\xeb\\xa7\\x81': 1, '8\\xec\\x9c\\x84': 1, '\\xed\\x8c\\xa8\\xec\\x85\\x98\\xeb\\xb7\\xb0\\xed\\x8b\\xb0nbsp': 1, '\\xed\\x83\\x88\\xec\\xb7\\xa8\\xec\\x95\\x85\\xec\\x84\\xb1\\xec\\xbd\\x94\\xeb\\x93\\x9c': 1, '\\xeb\\xb6\\x81\\xec\\x8a\\xa4': 1, '\\xeb\\xa9\\x94\\xeb\\x89\\xb4': 2, '\\xec\\xa0\\x80\\xec\\x9e\\xa5\\xeb\\x90\\x98\\xec\\xa7\\x80': 1, '\\xeb\\x8b\\xa4\\xec\\x9d\\x8c\\xec\\xba\\x90\\xec\\x8a\\xa4\\xed\\x8a\\xb8': 1, '\\xeb\\x82\\x98\\xeb\\x88\\x94\\xea\\xb8\\x80\\xea\\xbc\\xb4\\xeb\\xa1\\x9c': 2, '7\\xec\\x9c\\x84': 1, '\\xea\\xb8\\x88': 1, '\\xec\\x95\\x84\\xeb\\xa1\\xb1\\xeb\\x8b\\xa4\\xeb\\xa1\\xb1\\xeb\\xa7\\x98': 1, '\\xeb\\x82\\x98\\xeb\\xa7\\x8c\\xec\\x9d\\x98': 1, '\\xea\\xb8\\x80\\xea\\xbc\\xb4\\xec\\x84\\xa4\\xec\\xa0\\x95': 2, '82': 1, '\\xeb\\xa7\\x9b\\xec\\xa7\\x91\\xec\\x9d\\xb4': 1, '1': 1, '\\xed\\x95\\xa9\\xec\\x9d\\x98': 1, '\\xec\\x8a\\xb5\\xea\\xb4\\x80': 1, '133': 1, '\\xec\\xb9\\xb4\\xed\\x8e\\x98': 2, 'ESSEN': 1, '\\xec\\x9d\\xb8\\xea\\xb6\\x8c\\xec\\x9d\\x84': 1, '\\xec\\xa6\\x9d\\xea\\xb6\\x8c': 1, '\\xeb\\xb0\\x98\\xeb\\x93\\x9c\\xec\\x8b\\x9c': 1, '144': 1, '\\xec\\x98\\x81\\xec\\x9e\\x90\\xec\\xa7\\x80': 1, '140': 1, '\\xea\\xb8\\xb0\\xeb\\xa1\\x9d': 3, '\\xec\\x82\\xac\\xeb\\x9e\\x8c\\xeb\\x93\\xa4': 1, '\\xea\\xb0\\x80\\xeb\\x8a\\xa5\\xed\\x95\\xa9\\xeb\\x8b\\x88\\xeb\\x8b\\xa4': 2, '\\xeb\\xa7\\x98amp\\xec\\x95\\x99\\xed\\x8c\\xa1': 1, 'date': 1, '\\xec\\x95\\x8a\\xec\\x9d\\x80': 2, '\\xec\\x97\\xac\\xec\\x9e\\x90': 1, '\\xec\\x8b\\xa0\\xed\\x98\\xbc\\xec\\xa7\\x91': 1, '\\xeb\\x84\\xa4\\xec\\x9d\\xb4\\xeb\\xb2\\x84\\xeb\\xa5\\xbc': 2, '\\xec\\x85\\x80\\xed\\x94\\x84': 1, '\\xec\\x82\\xac\\xeb\\xa1\\x80': 1, '\\xec\\xbc\\x9c\\xea\\xb8\\xb0': 5, '\\xea\\xb5\\xac\\xeb\\xa6\\x84\\xec\\xa1\\xb0\\xea\\xb8\\x88': 7, '\\xea\\xb2\\x80\\xec\\x83\\x89\\xec\\x96\\xb4\\xeb\\x8a\\x94': 1, '\\xec\\x83\\x9d\\xea\\xb0\\x81\\xed\\x95\\x9c\\xeb\\x8c\\x80\\xeb\\xa1\\x9c': 1, '\\xec\\xbd\\x94\\xec\\x8a\\xa4': 1, '\\xec\\x82\\xbc\\xec\\x8b\\x9c\\xec\\x84\\xb8\\xeb\\x81\\xbc': 2, '\\xeb\\x8f\\x99\\xea\\xb0\\x91\\xeb\\x82\\xb4\\xea\\xb8\\xb0': 1, '\\xea\\xb7\\xb8\\xeb\\xa6\\xbc\\xec\\x9c\\xbc\\xeb\\xa1\\x9c': 1, '130': 2, '\\xec\\x8b\\xa4\\xec\\x8b\\x9c\\xea\\xb0\\x84': 1, '\\xec\\x9e\\x90\\xec\\x84\\xb8\\xed\\x9e\\x88\\xeb\\xb3\\xb4\\xea\\xb8\\xb0': 1, '\\xec\\x97\\xb0\\xed\\x95\\xa9\\xeb\\x89\\xb4\\xec\\x8a\\xa4': 1, '\\xea\\xb0\\x9c\\xec\\x9d\\xb8': 2, '\\xec\\x98\\xa4\\xeb\\x8a\\x98\\xec\\x9d\\x98\\xec\\x8b\\xa0\\xeb\\xac\\xb8': 1, '\\xeb\\xb3\\xb4\\xeb\\x82\\xb4\\xea\\xb8\\xb0': 1, '\\xed\\x96\\x89\\xec\\x82\\xac': 1, '\\xed\\x8f\\xbc\\xeb\\x82\\x98\\xeb\\x8a\\x94': 1, '\\xeb\\xb0\\x95\\xed\\x83\\x9c\\xec\\xa4\\x80': 2, '\\xec\\xa3\\xbc\\xec\\x9a\\x94\\xeb\\x89\\xb4\\xec\\x8a\\xa4\\xeb\\xa5\\xbc': 1, '2014': 1, '\\xec\\x95\\xb1\\xec\\x8a\\xa4\\xed\\x86\\xa0\\xec\\x96\\xb4': 1, '\\xea\\xb8\\xb0\\xec\\x9e\\xac\\xec\\x9c\\x84': 1, '\\xec\\x8b\\x9c\\xec\\x9e\\x91\\xed\\x8e\\x98\\xec\\x9d\\xb4\\xec\\xa7\\x80\\xeb\\xa1\\x9c': 1, '\\xec\\xa7\\x88\\xeb\\xac\\xb8\\xed\\x98\\x95': 1, '\\xeb\\xb2\\x95': 1, '\\xeb\\xb6\\x84\\xeb\\xa6\\xac\\xeb\\x90\\x9c': 1, '\\xec\\x98\\xa4\\xeb\\x8a\\x98\\xec\\x9d\\x98': 2, '\\xea\\xb2\\x80\\xec\\x83\\x89\\xec\\x96\\xb4\\xeb\\xa1\\x9c': 1, '\\xea\\xb2\\x8c\\xec\\x9e\\x84': 2, '\\xec\\x83\\x9d\\xed\\x99\\x9c': 1, '\\xeb\\xb9\\xa0\\xeb\\xa5\\xb8': 1, '\\xec\\x97\\x90\\xec\\x9d\\xb4\\xeb\\xb9\\x84\\xeb\\xa1\\x9c\\xeb\\x93\\x9c': 2, '\\xec\\xa0\\x84\\xec\\x86\\xa1\\xec\\x9d\\x80': 1, '\\xeb\\xb2\\x84\\xed\\x8a\\xbc\\xec\\x9d\\x84': 1, 'NAVER': 2, '\\xec\\x82\\xac\\xec\\x9a\\xa9\\xed\\x95\\x98\\xea\\xb3\\xa0': 1, '\\xec\\x9e\\x85\\xeb\\xa0\\xa5': 1, '80': 1, '\\xeb\\xb6\\x80\\xeb\\x9f\\xbd\\xec\\xa7\\x80': 1, '87': 1, '\\xec\\xb5\\x9c\\xea\\xb7\\xbc\\xea\\xb2\\x80\\xec\\x83\\x89\\xec\\x96\\xb4': 2, '\\xea\\xb2\\xbd\\xec\\xa0\\x9c': 1, '\\xec\\xa0\\x91\\xec\\x8b\\x9c\\xec\\x9d\\x98': 1, '\\xec\\x8b\\x9d\\xeb\\xac\\xbc': 1, '\\xeb\\x82\\xb4PC': 1, '\\xec\\xb7\\xa8\\xec\\x86\\x8c': 2, '\\xec\\x9e\\xac\\xec\\x84\\xa4\\xec\\xb9\\x98': 1, '\\xec\\xa0\\x84\\xec\\x9b\\x90\\xec\\x86\\x8d\\xec\\x9d\\x98': 1, '\\xec\\xa4\\x91\\xeb\\xb6\\x81\\xeb\\xb6\\x80': 1, '\\xec\\xa7\\x80\\xec\\x9b\\x8c\\xec\\xa3\\xbc\\xec\\x84\\xb8\\xec\\x9a\\x94': 1, '249': 1, '\\xeb\\xac\\xb4\\xeb\\xa3\\x8c\\xec\\x9e\\x85\\xeb\\x8b\\x88\\xeb\\x8b\\xa4': 1, '\\xec\\x87\\xbc\\xed\\x95\\x91': 2, '\\xec\\x9b\\xb9\\xeb\\xac\\xb8\\xec\\x84\\x9c': 1, '\\xec\\x9c\\xa0\\xed\\x98\\x95': 1, '\\xea\\xb2\\xbd\\xea\\xb8\\xb0': 2, '\\xec\\x9c\\xa1\\xec\\x95\\x84\\xec\\xb6\\x9c\\xec\\x82\\xb0': 1, 'MY\\xeb\\x89\\xb4\\xec\\x8a\\xa4': 1, '\\xec\\xa0\\x84\\xeb\\xac\\xb8\\xec\\x9e\\x90\\xeb\\xa3\\x8c': 1, '\\xec\\x84\\xa0\\xed\\x83\\x9d': 1, '\\xec\\x88\\x98': 2, '\\xec\\xa7\\x80\\xeb\\x8f\\x84': 2, '\\xec\\xa7\\x80\\xec\\x97\\xad\\xec\\x84\\xa4\\xec\\xa0\\x95': 1, '\\xec\\x95\\x8a\\xeb\\x8a\\x94': 1, '\\xeb\\xb3\\xb4\\xec\\x84\\xb8\\xec\\x9a\\x94': 2, '\\xec\\x9e\\x90\\xeb\\x8f\\x99\\xec\\xb0\\xa8\\xed\\x85\\x8c\\xed\\x81\\xac': 1, '170': 2, '\\xec\\xa3\\xbc\\xea\\xb0\\x84': 1, '\\xea\\xb5\\xac\\xeb\\x8f\\x85\\xec\\x84\\xa4\\xec\\xa0\\x95': 1, '7\\xec\\x9b\\x9430\\xec\\x9d\\xbc': 1, '180': 2, '2': 1, '\\xed\\x9a\\x8c\\xec\\x82\\xac\\xec\\x86\\x8c\\xea\\xb0\\x9c': 1, '\\xed\\x95\\xb4\\xec\\xa0\\x9c': 1, '\\xed\\x88\\xac\\xeb\\x8d\\xb0\\xec\\x9d\\xb4': 1, '\\xeb\\x8c\\x80\\xec\\xa2\\x85\\xec\\x83\\x81': 1, '\\xeb\\xb3\\xb4\\xed\\x98\\xb8\\xeb\\xa5\\xbc': 1, '\\xeb\\xa1\\x9c\\xea\\xb7\\xb8\\xec\\x95\\x84\\xec\\x9b\\x83\\xec\\x9d\\x84': 1, '\\xea\\xb3\\xa0\\xea\\xb0\\x9d\\xeb\\x8b\\x98\\xec\\x9d\\x98': 1, '\\xec\\x9b\\xb9\\xed\\x88\\xb0': 2, '\\xec\\xa0\\x95\\xeb\\xa6\\xac': 1, 'copy': 1, '\\xea\\xb0\\x84\\xeb\\x8b\\xa8\\xed\\x95\\x98\\xec\\xa7\\x80\\xeb\\xa7\\x8c': 1, '\\xeb\\x82\\xa0\\xec\\x94\\xa8': 1, '\\xeb\\xae\\xa4\\xec\\xa7\\x81': 3, '\\xeb\\x8f\\x84\\xec\\x9b\\x80\\xeb\\xa7\\x90': 7, '12': 1, '\\xeb\\x84\\xa4\\xec\\x9d\\xbc\\xec\\x95\\x84\\xed\\x8a\\xb8': 1, 'PC\\xec\\x97\\x90\\xec\\x84\\x9c\\xeb\\x8a\\x94': 1, '\\xeb\\xaf\\xb8\\xeb\\xa6\\xac\\xeb\\xb3\\xb4\\xea\\xb8\\xb0': 1, '\\xec\\x9b\\x90\\xec\\x98\\x88\\xec\\xa0\\x95\\xec\\x9b\\x90': 1, '\\xeb\\xa9\\x94\\xec\\x9d\\xb4\\xeb\\xb9\\x84': 2, '\\xeb\\xaa\\xa8\\xeb\\x93\\xa0': 2, '\\xeb\\xac\\xb4\\xeb\\xa3\\x8c\\xeb\\xa1\\x9c': 2, '\\xec\\x9d\\xb8\\xed\\x85\\x8c\\xeb\\xa6\\xac\\xec\\x96\\xb4nbsp': 1, '\\xeb\\xa7\\x90\\xed\\x95\\x98\\xeb\\x8a\\x94': 1, '\\xec\\x98\\xa4\\xeb\\xa5\\x98': 1, '\\xec\\x82\\xac\\xec\\xa0\\x84': 2, '\\xed\\x8f\\xac\\xec\\x8a\\xa4\\xed\\x8a\\xb8': 1, '\\xea\\xb0\\x80': 1, '39\\xec\\xb2\\x9c\\xec\\x95\\x88\\xec\\x9d\\x98': 1, '\\xea\\xb8\\xb0\\xec\\x97\\x85\\xec\\x9d\\x84': 2, '\\xed\\x95\\x9c\\xeb\\x95\\x8c': 1, '\\xea\\xb0\\x9c': 1, '\\xea\\xb3\\xb5\\xea\\xb0\\x9c': 1, '\\xed\\x8e\\xb8\\xec\\xa7\\x80': 1, '\\xec\\xa1\\xb0\\xec\\x83\\x81\\xea\\xb2\\xbd': 3, '\\xeb\\xa9\\x94\\xec\\x9d\\xb8\\xec\\x97\\x90\\xec\\x84\\x9c': 1, '77': 1, '\\xec\\x97\\xac\\xed\\x96\\x89\\xeb\\xa7\\x9b\\xec\\xa7\\x91': 2, '\\xec\\x9e\\x88\\xec\\x8a\\xb5\\xeb\\x8b\\x88\\xeb\\x8b\\xa4': 4, '\\xec\\xb5\\x9c\\xea\\xb7\\xbc\\xea\\xb2\\x80\\xec\\x83\\x89\\xec\\x96\\xb4\\xec\\x97\\x90\\xec\\x84\\x9c': 1, '78': 1, 'httpnv1adnavercomadshowunit002ANnrefreshx0': 1, '1\\xec\\x9c\\x84': 1, '4\\xec\\x9c\\x84': 1, '\\xec\\x9d\\xbc\\xeb\\x9f\\xac\\xec\\x8a\\xa4\\xed\\x8a\\xb8\\xeb\\xa0\\x88\\xec\\x9d\\xb4\\xec\\x85\\x98\\xec\\x9c\\xbc\\xeb\\xa1\\x9c': 1, '\\xeb\\xb2\\x88\\xed\\x98\\xb8\\xeb\\x8a\\x94': 1, '\\xec\\x98\\xa4\\xed\\x94\\x88\\xec\\xba\\x90\\xec\\x8a\\xa4\\xed\\x8a\\xb8': 1, '\\xeb\\xa9\\x94\\xec\\x9d\\xb8\\xec\\x9d\\x84': 2, '\\xec\\x9e\\x85': 1, '3\\xec\\x9c\\x84': 1, '\\xec\\x97\\xb4': 1, '\\xec\\xa7\\x80\\xec\\x97\\xad': 2, '\\xec\\x95\\x8a\\xec\\x8a\\xb5\\xeb\\x8b\\x88\\xeb\\x8b\\xa4': 2, 'N\\xeb\\x93\\x9c\\xeb\\x9d\\xbc\\xec\\x9d\\xb4\\xeb\\xb8\\x8c': 1, '\\xec\\x82\\xac\\xec\\x9a\\xa9': 2, '\\xec\\xb5\\x9c\\xeb\\x8c\\x80': 1, '\\xed\\x98\\x84\\xec\\x9e\\xac': 16, '\\xeb\\x8b\\xa4\\xec\\x8b\\x9c': 2, '\\xea\\xb2\\x80\\xec\\x83\\x89\\xeb\\x93\\xb1\\xeb\\xa1\\x9d': 1, '522': 1, '\\xea\\xb2\\x80\\xec\\x83\\x89': 3, '10': 1, '\\xec\\x9e\\x90\\xeb\\x8f\\x99\\xec\\x99\\x84\\xec\\x84\\xb1': 10, '\\xeb\\x94\\x94\\xec\\x9e\\x90\\xec\\x9d\\xb8': 1, '120': 2, '123': 2, '128': 1, '\\xea\\xb5\\xac\\xeb\\x8f\\x85\\xeb\\xaa\\xa9\\xeb\\xa1\\x9d': 1, '\\xec\\xa2\\x8b\\xec\\x9d\\x80': 1, '\\xec\\x9a\\xa9\\xec\\x96\\xb4\\xec\\x82\\xac\\xec\\xa0\\x84': 1, '\\xec\\x9e\\xac\\xeb\\xb3\\xb4\\xea\\xb6\\x90\\xec\\x84\\xa0\\xea\\xb1\\xb0': 1, '\\xeb\\xb3\\x80\\xec\\x8b\\xa0': 1, '\\xec\\x84\\x9c\\xec\\x9a\\xb8': 1, '\\xec\\x8b\\xa0\\xea\\xb7\\x9c': 1, '\\xec\\x97\\xac\\xed\\x96\\x89\\xeb\\xa7\\x9b\\xec\\xa7\\x91nbsp': 1, '\\xeb\\xa7\\x8c\\xeb\\x82\\x98\\xeb\\xb3\\xb4\\xec\\x84\\xb8\\xec\\x9a\\x94': 1, '\\xec\\x9e\\x85\\xed\\x95\\x99\\xec\\xb2\\x98': 1, '136': 1, '\\xec\\x9a\\x94\\xeb\\xa6\\xac': 1, '\\xea\\xb4\\x91\\xea\\xb3\\xa0': 3, '\\xec\\x95\\x8c\\xeb\\xa6\\xbc': 1, '\\xec\\xa0\\x84\\xec\\xb2\\xb4': 2, '\\xea\\xb3\\xb5\\xec\\xa7\\x80\\xec\\x82\\xac\\xed\\x95\\xad': 1, '\\xec\\xb0\\xb8\\xec\\x97\\xac\\xed\\x95\\x98\\xeb\\x8a\\x94': 1, '9\\xec\\x9c\\x84': 1, '\\xec\\x8b\\xa0\\xeb\\xac\\xb8': 2, '\\xec\\x98\\x81\\xec\\x96\\xb4\\xec\\x82\\xac\\xec\\xa0\\x84': 1, '39\\xeb\\xb0\\xa5\\xeb\\xa7\\x9b39': 1, '\\xec\\x9b\\x90\\xeb\\xa3\\xb8': 1, '\\xec\\x9c\\x84\\xed\\x95\\x9c': 1, '3': 1, '\\xec\\x99\\x84\\xeb\\xa3\\x8c': 1, '\\xea\\xb2\\x80\\xec\\x83\\x89\\xed\\x95\\xb4': 1, '\\xea\\xb3\\xb5\\xec\\x9d\\xb5\\xeb\\x82\\x98\\xeb\\x88\\x94': 1, '\\xec\\x9d\\xb4\\xec\\xa0\\x84\\xed\\x8e\\x98\\xec\\x9d\\xb4\\xec\\xa7\\x80': 2, '\\xec\\xa3\\xbc\\xec\\xa0\\x9c\\xeb\\xb3\\x84\\xec\\xba\\x90\\xec\\x8a\\xa4\\xed\\x8a\\xb8': 1, '\\xea\\xb3\\xb5\\xec\\x9a\\xa9': 1, '\\xeb\\xa9\\x94\\xec\\x9d\\xbc': 1, '2\\xec\\x9c\\x84': 1, '\\xec\\xa3\\xbc\\xec\\x84\\xb8\\xec\\x9a\\x94': 1, '\\xeb\\x8b\\xa4\\xec\\x9d\\x8c': 2, 'PC\\xec\\x97\\x90\\xec\\x84\\x9c': 1, '\\xec\\x84\\xa0\\xea\\xb1\\xb0\\xec\\x9d\\xbc\\xea\\xb9\\x8c\\xec\\xa7\\x80': 1, '\\xeb\\xb0\\xb1\\xea\\xb3\\xbc\\xec\\x82\\xac\\xec\\xa0\\x84': 1, '\\xec\\x84\\xa0\\xed\\x83\\x9d\\xed\\x95\\x98\\xec\\x97\\xac': 1, '\\xeb\\x82\\x98\\xeb\\x88\\x94\\xea\\xb8\\x80\\xea\\xbc\\xb4': 8, '\\xec\\x82\\xac\\xec\\xb9\\xad\\xed\\x95\\x9c': 1, '\\xed\\x95\\x84\\xec\\x9a\\x94\\xed\\x95\\xa9\\xeb\\x8b\\x88\\xeb\\x8b\\xa4': 1, '\\xeb\\xb6\\x80\\xeb\\x8f\\x99\\xec\\x82\\xb0nbsp': 1, '\\xec\\xa0\\x84\\xec\\xb2\\xb4\\xec\\x96\\xb8\\xeb\\xa1\\xa0\\xec\\x82\\xac': 2, '\\xed\\x95\\xb4': 1, '\\xeb\\x8b\\xa4\\xec\\x9a\\xb4\\xeb\\xa1\\x9c\\xeb\\x93\\x9cURL': 2, '\\xea\\xb2\\x80\\xec\\x83\\x89\\xec\\x96\\xb4': 10, '63': 1, '\\xec\\x9d\\xb4\\xec\\x95\\xbc\\xea\\xb8\\xb0\\xeb\\xa5\\xbc': 1, '\\xec\\x82\\xac\\xeb\\xac\\xb4\\xec\\x8b\\xa4\\xec\\x97\\x90\\xec\\x84\\x9c': 1, '\\xeb\\x8b\\xa4\\xec\\x9a\\xb4\\xeb\\xa1\\x9c\\xeb\\x93\\x9c': 2, '\\xed\\x8a\\xb9\\xec\\xa7\\x95': 1, '255': 1, '\\xec\\x9d\\xb4\\xeb\\x9f\\xb0': 1, '\\xec\\xb9\\xb4\\xed\\x85\\x8c\\xea\\xb3\\xa0\\xeb\\xa6\\xac': 1, '\\xeb\\xb0\\x94\\xeb\\xa1\\x9c\\xea\\xb0\\x80\\xea\\xb8\\xb0': 5, '\\xec\\x8a\\xa4\\xed\\x8f\\xac\\xec\\xb8\\xa0\\xec\\x97\\xb0\\xec\\x98\\x88': 1, '\\xec\\xb5\\x9c\\xec\\xb4\\x88': 1, '\\xed\\x99\\x9c\\xec\\x84\\xb1\\xed\\x99\\x94\\xeb\\x90\\x98\\xec\\x97\\x88\\xec\\x8a\\xb5\\xeb\\x8b\\x88\\xeb\\x8b\\xa4': 1, '\\xec\\x88\\x98\\xed\\x8d\\xbc\\xeb\\xa0\\x88\\xec\\x8b\\x9c\\xed\\x94\\xbc': 1, 'Beta': 1, '\\xec\\x84\\xa4\\xec\\xa0\\x95': 1, '\\xed\\x95\\x9c\\xec\\x9e\\x90\\xec\\x82\\xac\\xec\\xa0\\x84': 1, '\\xed\\x95\\xb4\\xec\\x95\\xbc': 1, '\\xea\\xb3\\x84\\xec\\x8b\\xad\\xeb\\x8b\\x88\\xeb\\x8b\\xa4': 1, '\\xeb\\x82\\xb4\\xec\\x9d\\xbc\\xec\\x98\\xa4\\xec\\xa0\\x84': 12, '\\xec\\x83\\x9d\\xed\\x99\\x9c\\xec\\x9c\\x84\\xec\\xa0\\xaf': 1, '\\xec\\x9d\\x8c\\xec\\x95\\x85': 1, '\\xec\\x8b\\xa0\\xea\\xb3\\xa0': 4, '160': 1, '\\xec\\x83\\x88\\xeb\\xb2\\xbd\\xea\\xb9\\x8c\\xec\\xa7\\x80': 1, '\\xeb\\xb3\\xb4\\xea\\xb8\\xb0': 3, '\\xed\\x9d\\x90\\xeb\\xa6\\xbc': 5, '\\xea\\xb0\\x80\\xeb\\x81\\x94': 1, '\\xec\\xa0\\x95\\xec\\xa1\\xb0': 1, '\\xec\\x82\\xad\\xec\\xa0\\x9c\\xed\\x95\\x9c': 1, '\\xeb\\x89\\xb4\\xec\\x8a\\xa4\\xec\\x8a\\xa4\\xed\\x83\\xa0\\xeb\\x93\\x9c': 2, '\\xec\\x9d\\xb4\\xec\\x9a\\xa9\\xec\\x95\\xbd\\xea\\xb4\\x80': 1, '\\xec\\x9d\\xb4\\xec\\x96\\xb4\\xec\\xa7\\x80\\xeb\\x8a\\x94': 1, '\\xed\\x95\\xa9\\xeb\\x8b\\x88\\xeb\\x8b\\xa4': 1, '\\xea\\xb5\\xad\\xeb\\x82\\xb4': 1, '\\xeb\\x93\\xb1\\xeb\\xa1\\x9d': 2, '\\xec\\x93\\xb0\\xeb\\x8a\\x94': 1, '\\xed\\x96\\x89\\xeb\\xb3\\xb5\\xea\\xb2\\x80\\xec\\x83\\x89': 1, '\\xec\\xa0\\x9c\\xed\\x9c\\xb4\\xec\\xa0\\x9c\\xec\\x95\\x88': 1, '\\xec\\x84\\x9c\\xeb\\xb9\\x84\\xec\\x8a\\xa4': 2, '\\xea\\xb9\\x8c\\xec\\xa7\\x80': 1, '\\xe2\\x84\\x83': 36, '\\xec\\x88\\x98\\xec\\x83\\x81\\xec\\x9e\\x91': 1, '\\xeb\\x82\\xb4\\xec\\x97\\xad\\xec\\x9d\\xb4': 1, '\\xed\\x95\\x9c\\xec\\x84\\xb8\\xec\\x95\\x84': 2, '\\xea\\xb2\\xbd\\xec\\x9a\\xb0': 1, '\\xeb\\xac\\xb8\\xec\\x9e\\x90\\xeb\\xb0\\x9b\\xea\\xb8\\xb0': 2, '\\xeb\\xb0\\x94\\xeb\\xa1\\x9c': 1, 'IT': 1, '\\xed\\x8e\\xbc\\xec\\xb9\\x98\\xea\\xb8\\xb0': 1, '\\xeb\\xb0\\x9c\\xec\\x83\\x9d\\xed\\x95\\xa9\\xeb\\x8b\\x88\\xeb\\x8b\\xa4': 1, '\\xec\\x98\\xa4\\xeb\\xa7\\x8c\\xec\\x84\\x9d': 2, '\\xeb\\x8d\\x94\\xeb\\xb3\\xb4\\xea\\xb8\\xb0': 2, '\\xec\\x98\\x81\\xed\\x99\\x94': 5, '\\xec\\x9c\\xa1\\xec\\x95\\x84\\xec\\xb6\\x9c\\xec\\x82\\xb0nbsp': 1, 'nbsp\\xeb\\x82\\x98\\xeb\\x88\\x94\\xea\\xb8\\x80\\xea\\xbc\\xb4\\xec\\x9d\\x84': 1, '\\xed\\x99\\x95\\xec\\x9d\\xb8\\xeb\\x90\\x98\\xec\\xa7\\x80': 2, '\\xeb\\x84\\xa4\\xec\\x9d\\xb4\\xeb\\xb2\\x84me': 1, '\\xec\\xb5\\x9c\\xec\\xb4\\x88\\xec\\x84\\xa4\\xec\\xb9\\x98\\xea\\xb0\\x80': 1, '\\xea\\xb7\\xb8\\xeb\\x9d\\xbc\\xed\\x8f\\xb4\\xeb\\xa6\\xac\\xec\\x98\\xa4': 3, 'intxt': 1, '\\xeb\\xa7\\x91\\xec\\x9d\\x8c': 9, '\\xec\\x9c\\x84\\xec\\xb9\\x98': 1, '\\xeb\\xb0\\xa9\\xec\\x96\\xb4': 1, '\\xeb\\x93\\xa4\\xeb\\xa0\\xa4\\xec\\xa3\\xbc\\xeb\\x8a\\x94': 1, '\\xed\\x95\\x9c\\xea\\xb8\\x80': 1, '\\xeb\\xb0\\xa9\\xec\\x86\\xa1\\xed\\x86\\xb5\\xec\\x8b\\xa0': 1, '\\xeb\\x8f\\x99\\xec\\x98\\x81\\xec\\x83\\x81': 1, '\\xec\\xa0\\x84\\xec\\xb2\\xb4\\xeb\\xb3\\xb4\\xea\\xb8\\xb0': 1, '40': 1, '\\xec\\x9b\\x94\\xec\\x84\\xb8': 1, '\\xea\\xb3\\xa0\\xeb\\xa0\\xa4\\xeb\\x8c\\x80\\xed\\x95\\x99\\xea\\xb5\\x90': 2, '\\xed\\x8c\\xa8\\xeb\\xb0\\x80\\xeb\\xa6\\xac': 1, '\\xec\\xa5\\xac\\xeb\\x8b\\x88\\xeb\\xb2\\x84': 1, '\\xeb\\xb6\\x80\\xeb\\xb6\\x80\\xec\\x9d\\x98': 1, '\\xeb\\x82\\xb4\\xec\\x9d\\xbc\\xec\\x98\\xa4\\xed\\x9b\\x84': 12, '\\xec\\x83\\x81\\xec\\x98\\x81': 1, '\\xeb\\xb2\\x84\\xeb\\xa6\\xac\\xea\\xb8\\xb0': 1, '\\xec\\xa7\\x80\\xec\\x8b\\x9diN': 2, '\\xea\\xb2\\x80\\xec\\x83\\x89\\xec\\x96\\xb4\\xea\\xb0\\x80': 1, '\\xec\\xb9\\xb4\\xed\\x8e\\x98\\xea\\xb8\\x80': 1, '\\xec\\xb0\\xbe\\xeb\\x8a\\x94': 1, '\\xec\\x98\\x88\\xeb\\xb3\\xb4': 1, '\\xec\\x95\\xbd\\xea\\xb4\\x80': 1, '\\xeb\\x9d\\xbc\\xec\\x9d\\xb8': 2, 'httpnv2adnavercomadshowunit002APnrefreshx0': 1, '\\xea\\xb0\\x80\\xeb\\xb3\\x8d\\xea\\xb3\\xa0': 1, '57': 1, '50': 4, '2\\xeb\\x85\\x84\\xec\\x97\\xb0\\xec\\x9e\\xa5': 1, '\\xec\\x9c\\xa0\\xed\\x8f\\xac': 1, '\\xec\\x9c\\xa4\\xec\\x83\\x81\\xed\\x98\\x84': 2, '\\xec\\xa3\\xbc\\xec\\xa0\\x9c\\xeb\\xb3\\x84': 1, '5\\xec\\x9c\\x84': 1, '111': 1, '110': 1, '\\xed\\x86\\xb5\\xed\\x95\\xa9\\xea\\xb2\\x80\\xec\\x83\\x89': 1, 'New': 2, '\\xeb\\xa7\\xa4\\xea\\xb1\\xb0\\xec\\xa7\\x84\\xec\\xa0\\x84\\xeb\\xac\\xb8\\xec\\xa7\\x80': 1, '\\xec\\x9d\\xbc\\xeb\\xb3\\xb8\\xec\\x96\\xb4\\xec\\x82\\xac\\xec\\xa0\\x84': 1, '\\xeb\\x81\\x84\\xea\\xb8\\xb0': 7, '\\xec\\x86\\x8c\\xed\\x92\\x8d': 1, '\\xeb\\xb9\\x84': 3, '\\xec\\x84\\xa4\\xec\\xb9\\x98': 4, '\\xec\\x83\\x81\\xeb\\xb0\\x98\\xea\\xb8\\xb0': 1, '10\\xec\\x9c\\x84': 1, '\\xed\\x8f\\xac\\xed\\x95\\xa8': 2, '\\xeb\\xb0\\x98\\xec\\xb0\\xac': 1, '\\xec\\x8b\\xa0\\xeb\\xac\\xb8\\xec\\xa7\\x80': 1, '\\xeb\\x8c\\x80\\xec\\xa2\\x85\\xec\\x83\\x81\\xec\\x98\\x81\\xed\\x99\\x94\\xec\\xa0\\x9c': 2, '\\xeb\\x84\\xa4\\xec\\x9d\\xb4\\xeb\\xb2\\x84SE': 1, '\\xec\\xb9\\xb4\\xed\\x8e\\x98\\xeb\\xaa\\x85': 1, '\\xeb\\xb0\\x8f': 3, '\\xec\\x82\\xad\\xec\\xa0\\x9c': 4, '\\xec\\x9e\\x91\\xea\\xb0\\x80\\xeb\\x93\\xa4\\xec\\x9d\\x98': 1, '\\xec\\x9d\\xb4\\xec\\xa0\\x84\\xec\\xba\\x90\\xec\\x8a\\xa4\\xed\\x8a\\xb8': 1, '\\xeb\\x84\\xa4\\xec\\x9d\\xb4\\xeb\\xb2\\x84\\xec\\xba\\x90\\xec\\x8a\\xa4\\xed\\x8a\\xb8': 1, '\\xeb\\xb0\\xa9': 1, '\\xed\\x91\\xb8\\xeb\\x93\\x9c\\xeb\\xa0\\x88\\xec\\x8b\\x9c\\xed\\x94\\xbc': 2, '\\xec\\x9e\\x85\\xeb\\xa0\\xa5\\xed\\x95\\x98\\xec\\x8b\\xa0': 1, '\\xeb\\x9d\\xbc\\xec\\x9d\\xb4\\xec\\x84\\xbc\\xec\\x8a\\xa4': 2, '\\xeb\\x82\\xb4': 8, '72': 1, '\\xeb\\x8b\\xa4\\xec\\x9d\\x8c\\xed\\x8e\\x98\\xec\\x9d\\xb4\\xec\\xa7\\x80': 2, '\\xeb\\xb8\\x94\\xeb\\xa1\\x9c\\xea\\xb7\\xb8': 4, '\\xea\\xb2\\x80\\xec\\x83\\x89\\xed\\x99\\x88': 1, '\\xec\\x9c\\x84\\xed\\x95\\xb4\\xec\\x84\\x9c\\xeb\\x8a\\x94': 1, '\\xeb\\x82\\x98\\xeb\\x88\\x94\\xec\\x9c\\xbc\\xeb\\xa1\\x9c': 1, '\\xea\\xb1\\xb0\\xec\\x8b\\xa4\\xec\\x9d\\xb4': 1, '\\xea\\xb8\\x8d\\xec\\xa0\\x95\\xeb\\xb6\\x80\\xec\\xa0\\x95\\xea\\xb2\\x80\\xec\\x83\\x89': 1, 'Corp': 1, '\\xeb\\x84\\xa4\\xec\\x9d\\xb4\\xeb\\xb2\\x84': 13, '\\xeb\\x84\\xa4\\xec\\x9d\\xbc\\xec\\x9e\\xa5': 1, '\\xed\\x91\\xb8\\xeb\\x93\\x9c\\xeb\\xa0\\x88\\xec\\x8b\\x9c\\xed\\x94\\xbcnbsp': 1, '\\xea\\xb8\\xb0\\xeb\\x8a\\xa5\\xec\\x9d\\x84': 2, '\\xec\\x98\\x81\\xec\\x98\\x81\\xec\\x82\\xac\\xec\\xa0\\x84': 1, '\\xeb\\xa0\\x88\\xec\\x9d\\xb4\\xec\\x96\\xb4': 5, '\\xec\\xa0\\x80\\xec\\x9e\\xa5': 2, '\\xed\\x9b\\x84\\xeb\\xb3\\xb4\\xec\\x97\\x90': 1, '\\xec\\x95\\x88\\xeb\\x82\\xb4': 1, '\\xec\\x84\\xa4\\xec\\xb9\\x98\\xed\\x95\\x98\\xec\\x8b\\x9c\\xea\\xb2\\xa0\\xec\\x8a\\xb5\\xeb\\x8b\\x88\\xea\\xb9\\x8c': 2, '\\xec\\x8a\\xa4\\xed\\x8f\\xac\\xec\\xb8\\xa0': 3, '220': 1, '\\xec\\x87\\xbc\\xed\\x95\\x91\\xec\\xba\\x90\\xec\\x8a\\xa4\\xed\\x8a\\xb8': 2, '\\xec\\x82\\xac\\xec\\x9d\\xb4\\xed\\x8a\\xb8': 3, '390': 1, '\\xea\\xb8\\xb0\\xeb\\x8a\\xa5\\xec\\x9d\\xb4': 5, '\\xec\\x8b\\xa0\\xec\\x9a\\xa9\\xec\\xb9\\xb4\\xeb\\x93\\x9c': 1, '\\xec\\xb2\\xad\\xec\\x86\\x8c\\xeb\\x85\\x84\\xeb\\xb3\\xb4\\xed\\x98\\xb8\\xec\\xa0\\x95\\xec\\xb1\\x85': 1, '\\xea\\xb9\\x8c\\xec\\x82\\xac\\xeb\\xa6\\xac\\xeb\\xb9\\x99': 1, '150': 2, '\\xea\\xb8\\x89\\xec\\x83\\x81\\xec\\x8a\\xb9': 1, '\\xec\\x9e\\x88\\xec\\x96\\xb4\\xec\\x9a\\x94': 1, 'FUN': 1, '\\xed\\x94\\x84\\xeb\\xa1\\x9c\\xec\\xa0\\x9d\\xed\\x8a\\xb8': 1, '\\xec\\x96\\xb8\\xeb\\xa1\\xa0\\xec\\x82\\xac\\xeb\\xb3\\x84': 1, '\\xed\\x95\\xb4\\xed\\x94\\xbc\\xeb\\xb9\\x88': 2, '\\xec\\x82\\xac\\xec\\x9a\\xa9\\xec\\x9e\\x90\\xea\\xb0\\x80': 2, '\\xec\\xa0\\x80\\xec\\x9e\\xa5\\xed\\x95\\xa0': 1, '\\xec\\x9d\\xb4\\xeb\\xaf\\xb8\\xec\\xa7\\x80': 1, '\\xec\\xb6\\x94\\xea\\xb0\\x80\\xed\\x95\\x98\\xec\\x8b\\x9c\\xeb\\xa0\\xa4\\xeb\\xa9\\xb4': 1, '\\xed\\x9c\\xb4\\xeb\\x8c\\x80\\xed\\x8f\\xb0\\xeb\\xb2\\x88\\xed\\x98\\xb8': 1, '\\xec\\xa0\\x80\\xec\\x9e\\xa5\\xed\\x95\\xb4': 1, '\\xeb\\xaa\\x85\\xeb\\x8f\\x9939\\xec\\x97\\x94': 1, '477': 1, '\\xeb\\xb3\\xb4\\xea\\xb8\\xb0\\xec\\x9c\\x84\\xed\\x95\\xb4\\xec\\x84\\x9c\\xeb\\x8a\\x94': 1, '\\xea\\xba\\xbc\\xec\\xa0\\xb8': 3, '\\xeb\\xa7\\xa4\\xec\\xb2\\xb4\\xeb\\xb3\\xb4\\xea\\xb8\\xb0': 1, '\\xec\\x83\\x81\\xec\\x8a\\xb9': 9, '\\xea\\xb2\\x80\\xec\\x83\\x89\\xec\\x9c\\xbc\\xeb\\xa1\\x9c': 1, '\\xea\\xb0\\x9c\\xec\\x9d\\xb8\\xec\\xa0\\x95\\xeb\\xb3\\xb4': 2, '\\xec\\x9d\\xb4\\xec\\xa0\\x84': 2, 'httpstaticnidnavercomloginboxnhn': 1, '\\xeb\\x82\\xb4\\xec\\xa7\\x91': 1, '\\xeb\\xa1\\x9c\\xea\\xb7\\xb8\\xec\\x9d\\xb8': 3}\n",
        "------------------------------------------------------------------------------------------------------------\n",
        "----------------------------------------------------------------------------------------------------------------------------"
       ]
      },
      {
       "output_type": "stream",
       "stream": "stdout",
       "text": [
        "\n",
        "\uc0ac\uc774\ud2b8 \uc8fc\uc18c :  http://google.com\n",
        "html \ud30c\uc77c :  google.com.html\n",
        "words.frequency \ud30c\uc77c :  google.com.words.frequency\n",
        "{'\\xb4\\xd9\\xbf\\xee\\xb7\\xce\\xb5\\xe5': 1, 'Chrome': 1, '\\xc7\\xd1\\xb1\\xb9': 1, '\\xb1\\xe2\\xb7\\xcf': 1, '\\xba\\xfc\\xb8\\xa3\\xb0\\xd4': 1, 'nbsp': 1, '\\xb1\\xa4\\xb0\\xed': 1, '\\xc0\\xce\\xc5\\xcd\\xb3\\xdd\\xc0\\xbb': 1, '\\xbc\\xb3\\xc1\\xa4': 1, 'Play': 1, '\\xb4\\xf5\\xba\\xb8\\xb1\\xe2': 1, '\\xb4\\xf5\\xbf\\xed': 1, 'YouTube': 1, '\\xbb\\xe7\\xbf\\xeb\\xc7\\xcf\\xb4\\xc2': 1, '\\xb7\\xce\\xb1\\xd7\\xc0\\xce': 1, '\\xba\\xb8\\xc8\\xa3': 1, '2013': 1, '\\xc0\\xcc\\xb9\\xcc\\xc1\\xf6': 1, '\\xbc\\xd6\\xb7\\xe7\\xbc\\xc7': 1, '\\xbe\\xe0\\xb0\\xfc': 1, 'Googlecom': 1, '\\xba\\xf1\\xc1\\xee\\xb4\\xcf\\xbd\\xba': 1, '\\xc7\\xc1\\xb7\\xce\\xb1\\xd7\\xb7\\xa5': 1, '\\xb0\\xcb\\xbb\\xf6': 1, '\\xc1\\xf6\\xb5\\xb5': 1, '\\xc1\\xa4\\xba\\xb8': 1, 'Google': 3, '\\xb5\\xe5\\xb6\\xf3\\xc0\\xcc\\xba\\xea': 1, 'copy': 1, '\\xb9\\xe6\\xb9\\xfd': 1, '\\xb0\\xed\\xb1\\xde\\xb0\\xcb\\xbb\\xf6': 1, '\\xc0\\xa5': 1, '\\xbe\\xf0\\xbe\\xee\\xb5\\xb5\\xb1\\xb8': 1, 'times': 1, '\\xb0\\xb3\\xc0\\xce\\xc1\\xa4\\xba\\xb8': 1, 'raquo': 1, '\\xb4\\xba\\xbd\\xba': 1, '\\xb9\\xd7': 1, 'Gmail': 1}\n",
        "------------------------------------------------------------------------------------------------------------\n",
        "----------------------------------------------------------------------------------------------------------------------------"
       ]
      },
      {
       "output_type": "stream",
       "stream": "stdout",
       "text": [
        "\n",
        "\uc0ac\uc774\ud2b8 \uc8fc\uc18c :  http://www.daum.net\n",
        "html \ud30c\uc77c :  www.daum.net.html\n",
        "words.frequency \ud30c\uc77c :  www.daum.net.words.frequency\n",
        "{'\\xec\\x9e\\xac\\xeb\\xa6\\xbc\\xed\\x95\\x98\\xec\\x85\\xa8\\xeb\\x8b\\xa4quot': 1, '\\xec\\x98\\xa4\\xeb\\x8a\\x98\\xeb\\xa7\\x8c': 1, '\\xeb\\xb0\\xa9\\xed\\x95\\x9c': 1, '\\xec\\x9c\\xa0\\xec\\xa7\\x80': 1, '\\xec\\x88\\x98\\xec\\x8b\\xad': 1, '\\xec\\x83\\x9d\\xec\\xa0\\x9c\\xeb\\xa5\\xb4\\xeb\\xa7\\xb9': 1, '\\xeb\\xb0\\x94\\xeb\\x94\\x94\\xec\\x9a\\xa9\\xed\\x92\\x8820': 1, '676589': 1, '\\xec\\xa4\\x91': 1, '\\xec\\x86\\x8c\\xec\\x9e\\xac': 1, '\\xec\\x9e\\x87\\xeb\\x8b\\xa4': 1, '\\xea\\xb4\\x80\\xeb\\xa0\\xa8': 2, '126\\xe2\\x84\\x83': 1, '\\xed\\x97\\x89\\xec\\x9e\\xa5\\xeb\\x8b\\xb9207\\xec\\x9b\\x90': 1, '\\xeb\\xaa\\x85': 1, '\\xed\\x99\\x95': 1, '\\xec\\x9e\\x90\\xeb\\xa5\\xb4\\xeb\\x8b\\x88': 1, '\\xea\\xb3\\xa0\\xea\\xb0\\x9d\\xec\\x84\\xbc\\xed\\x84\\xb0': 1, '\\xea\\xb5\\xac\\xec\\x88\\x98\\xed\\x95\\x9c': 1, '\\xec\\x98\\x81\\xea\\xb5\\xad': 1, '\\xec\\xa7\\x91': 1, '\\xec\\xb2\\xb4\\xed\\x97\\x98\\xed\\x95\\x99\\xec\\x8a\\xb5': 1, '\\xec\\x95\\xb1': 1, '\\xeb\\x93\\xb1': 1, '\\xec\\x95\\x84\\xea\\xb8\\xb0': 1, 'Kakao': 1, '\\xed\\x8c\\x8c\\xeb\\xa6\\xac': 1, 'CJ\\xeb\\xaa\\xb0': 1, '\\xec\\x9e\\x90\\xeb\\x8f\\x99\\xec\\xb0\\xa8': 1, '\\xeb\\xb6\\x80\\xec\\x82\\xb0': 1, '\\xec\\xa0\\x95\\xeb\\xb6\\x80': 1, '\\xed\\x99\\x98\\xed\\x95\\x98\\xea\\xb2\\x8c': 1, '\\xeb\\xb3\\xbc\\xeb\\xa5\\xa8\\xec\\x9d\\xb4': 1, '\\xeb\\xa7\\x9b\\xeb\\xb3\\xb4\\xeb\\x8b\\xa4': 1, '\\xed\\x95\\x98\\xed\\x94\\x84\\xed\\x81\\xb4\\xeb\\x9f\\xbd': 1, '\\xec\\xa0\\x84\\xec\\x9d\\xbc\\xeb\\x8c\\x80\\xeb\\xb9\\x84': 2, '\\xeb\\xb6\\x80\\xeb\\x8f\\x99\\xec\\x82\\xb0': 2, '\\xeb\\x8b\\xab\\xea\\xb8\\xb0': 2, '\\xed\\x94\\x84\\xeb\\xa1\\x9c': 1, '\\xed\\x95\\x84\\xec\\x9a\\x94\\xed\\x95\\x9c': 1, '\\xeb\\xac\\xb4\\xed\\x95\\x9c\\xeb\\x8f\\x84\\xec\\xa0\\x84': 1, '8699': 1, '124\\xe2\\x84\\x83': 1, '100': 1, '\\xec\\x9c\\xa0\\xeb\\x9f\\xbd\\xec\\x97\\xac\\xed\\x96\\x89\\xec\\x97\\x90': 1, '\\xeb\\xa8\\xb8\\xeb\\xa6\\xac': 1, 'EBS\\xec\\xa7\\x80\\xec\\x8b\\x9d': 1, '34': 2, 'quot\\xea\\xb9\\x80\\xea\\xb4\\x91\\xed\\x98\\x84': 1, '\\xeb\\x82\\xb4\\xed\\x95\\x9c\\xed\\x95\\x9c': 1, '\\xeb\\xa7\\x88\\xec\\xbd\\x94SALE': 1, '\\xea\\xbc\\xac\\xec\\x88\\xa9\\xea\\xb3\\xa0': 1, '\\xeb\\x8a\\x98': 1, 'SD': 1, '\\xec\\x9a\\xb4\\xeb\\x8f\\x99\\xed\\x99\\x94\\xeb\\x8f\\x84': 1, '\\xec\\xb6\\x94\\xec\\xb2\\x9c': 4, '\\xec\\xa0\\x9c\\xec\\xb2\\xa0\\xeb\\xa7\\x9e\\xec\\x9d\\x80': 1, '\\xeb\\xb2\\xa0\\xec\\x9d\\xb4\\xeb\\xb9\\x84': 1, '\\xeb\\x8b\\xa4\\xec\\x9d\\x8c\\xec\\x95\\xb1': 3, '\\xec\\xb1\\x85': 2, '\\xeb\\xb2\\x84\\xec\\x84\\xaf\\xeb\\x93\\xa4\\xeb\\xa1\\x9c': 1, '10\\xea\\xb0\\x80\\xec\\xa7\\x80': 1, '\\xed\\x82\\xa4\\xec\\x9a\\xb0\\xeb\\x8a\\x94': 1, '\\xeb\\x89\\xb4\\xec\\x8a\\xa4': 2, '\\xec\\x87\\xbc\\xed\\x95\\x91': 4, '\\xec\\x97\\xb0\\xec\\x98\\x88': 2, '\\xeb\\xb0\\x8f': 2, '95\\xe2\\x84\\x83': 2, '\\xeb\\x9d\\xbc\\xec\\x9d\\xb4\\xed\\x94\\x84': 2, '\\xeb\\x84\\xa4\\xed\\x8c\\x94': 1, '\\xec\\x9e\\x85\\xeb\\x8b\\x88\\xeb\\x8b\\xa4': 22, '\\xea\\xb0\\x9c\\xec\\x9d\\xb8\\xec\\xa0\\x95\\xeb\\xb3\\xb4': 1, '\\xea\\xb0\\x9c\\xec\\x9d\\xb8\\xec\\xa0\\x95\\xeb\\xb3\\xb4\\xec\\xb7\\xa8\\xea\\xb8\\x89\\xeb\\xb0\\xa9\\xec\\xb9\\xa8': 1, '\\xec\\x97\\xb4\\xec\\xa0\\x95\\xe6\\xa8\\x82\\xec\\x84\\x9c': 1, '130\\xe2\\x84\\x83': 1, '\\xeb\\xa0\\x88\\xeb\\x8b\\x88\\xeb\\xb3\\xb8\\xeb\\x8b\\x88\\xed\\x8a\\xb8': 1, '\\xeb\\x94\\x94\\xec\\x95\\xa4\\xec\\x83\\xb5': 1, '\\xec\\x95\\x88\\xec\\x82\\xac\\xeb\\xa9\\xb4': 1, '\\xec\\x82\\xbc\\xec\\x84\\xb1\\xeb\\x8f\\x99': 1, '\\xeb\\xb8\\x94\\xeb\\xa7\\x81\\xeb\\xb8\\x94\\xeb\\xa7\\x81': 1, '8\\xec\\x9c\\x84': 2, '\\xec\\x9e\\xac\\xeb\\xb0\\x8c\\xeb\\x8a\\x94': 3, '\\xeb\\xa9\\x94\\xec\\x8a\\xa4': 1, '\\xec\\xa0\\x9c\\xed\\x9c\\xb4\\xeb\\xac\\xb8\\xec\\x9d\\x98': 1, 'Daum': 2, '\\xeb\\x8f\\x99\\xeb\\x82\\xa8\\xea\\xb5\\xac': 1, '\\xe3\\x85\\x8b\\xe3\\x85\\x8e': 1, '\\xeb\\xaa\\xa9\\xeb\\xa1\\x9d': 1, '123\\xe2\\x84\\x83': 1, '7\\xec\\x9c\\x84': 2, '\\xec\\x97\\x86\\xec\\x96\\xb4\\xec\\x9a\\x94': 1, '\\xec\\x9c\\xa4\\xeb\\xaf\\xbc\\xec\\x88\\x98': 1, '\\xed\\x8e\\x98\\xec\\x9d\\xb4\\xec\\xa7\\x80': 15, '39\\xec\\xb2\\xad\\xec\\x96\\xb439': 1, 'AK\\xeb\\xaa\\xb0': 1, '\\xeb\\x82\\xae\\xec\\xb2\\x98\\xeb\\x9f\\xbc': 1, '\\xed\\x99\\x98\\xec\\x83\\x81': 1, '\\xec\\x95\\x88\\xea\\xb0\\x90': 1, '\\xec\\xb9\\xb4\\xed\\x8e\\x98': 5, '\\xec\\xa0\\x9c\\xeb\\xaa\\xa9': 22, '\\xec\\xa6\\x9d\\xea\\xb6\\x8c': 3, '\\xec\\x95\\x84\\xec\\x9d\\xb4\\xeb\\x94\\x94': 2, '\\xec\\x82\\xac\\xeb\\xaa\\x85': 1, '\\xec\\x82\\xbd\\xeb\\x8b\\x88\\xeb\\x8b\\xa4': 1, '\\xeb\\xb0\\xb1\\xeb\\xa0\\xb9\\xeb\\x8f\\x84': 1, '\\xec\\x9d\\xb8\\xea\\xb8\\xb0\\xea\\xb8\\xb0\\xed\\x9a\\x8d\\xec\\xa0\\x84': 1, '\\xed\\x92\\x88\\xea\\xb2\\xa9\\xec\\x9e\\x88\\xeb\\x8a\\x94\\xea\\xb0\\x80\\xec\\xa3\\xbd': 1, '\\xec\\xa0\\x9c\\xec\\x9d\\xb4\\xec\\x8a\\x88': 1, '\\xeb\\xb6\\x84\\xec\\x9c\\x84\\xea\\xb8\\xb0': 1, '\\xeb\\x82\\xa0\\xec\\xa7\\x9c': 1, '\\xec\\xa0\\x95\\xeb\\xb3\\xb4': 8, '\\xec\\x8b\\xa0\\xeb\\x93\\xa4\\xea\\xb3\\xbc': 1, '\\xec\\x8a\\xa4\\xed\\x8e\\x98\\xec\\x85\\x9c': 3, '\\xec\\x9d\\xb4\\xed\\x95\\x98\\xeb\\x8a\\xac': 1, '\\xeb\\xb6\\x80\\xea\\xb2\\x80\\xea\\xb2\\xb0\\xea\\xb3\\xbc': 1, '\\xea\\xb0\\x99\\xec\\x9d\\x80\\xeb\\x8d\\xb0': 1, '\\xed\\x98\\x84\\xec\\x9c\\x84\\xec\\xb9\\x98': 1, '\\xec\\x8b\\xa4\\xec\\x8b\\x9c\\xea\\xb0\\x84': 2, '\\xea\\xb3\\xb5\\xec\\xa7\\x80\\xec\\x82\\xac\\xed\\x95\\xad': 1, '9\\xec\\x9c\\x84': 2, '\\xec\\x9a\\xb4\\xec\\x84\\xb8': 2, '1': 3, '20': 2, '21': 2, '\\xec\\xa0\\x84\\xec\\xa3\\xbc': 1, '\\xeb\\x82\\xad\\xed\\x8c\\xa8\\xed\\x86\\xb5\\xea\\xb3\\x84': 1, '\\xec\\x83\\x81\\xed\\x92\\x88': 3, '\\xec\\x87\\xbc\\xed\\x95\\x91\\xeb\\xaa\\xb0': 1, '2014': 1, 'ndash': 1, '\\xeb\\xa1\\x9c\\xeb\\x93\\x9c\\xeb\\xb7\\xb0': 1, '\\xec\\x83\\x85\\xeb\\xb0\\x94\\xec\\x8b\\xb8\\xec\\x9b\\x80\\xec\\x9f\\x81\\xec\\xa0\\x90': 1, '\\xed\\x86\\xb5\\xed\\x95\\xa9': 1, '\\xed\\x94\\xbc\\xed\\x95\\xb4\\xec\\x9e\\x90\\xeb\\xa7\\x8c': 1, '\\xeb\\xaf\\xb8\\xeb\\xaa\\xa8': 1, '\\xed\\x8c\\x8c\\xea\\xb2\\xa9\\xec\\xa0\\x81\\xec\\x9d\\xb4\\xeb\\x84\\xa439': 1, '\\xec\\x98\\xa4\\xeb\\x8a\\x98\\xec\\x9d\\x98': 3, '\\xed\\x8a\\x95\\xea\\xb2\\xa8\\xec\\xa0\\xb8\\xeb\\x82\\x98\\xea\\xb0\\x80': 1, '6\\xec\\x9c\\x84': 2, '\\xea\\xb2\\x8c\\xec\\x9e\\x84': 3, '\\xec\\xbc\\x80\\xec\\x9d\\xb4\\xed\\x8a\\xb8': 2, '0430': 1, '\\xe3\\x84\\xb1\\xe3\\x84\\xb9': 1, '\\xeb\\xa3\\xa8\\xeb\\xa6\\xac\\xec\\x9b\\xb9': 1, '\\xeb\\xa7\\x81\\xed\\x81\\xac\\xeb\\xa5\\xbc': 22, '\\xeb\\xa6\\xac\\xea\\xb7\\xb81': 1, '\\xeb\\x8f\\x85\\xec\\x9d\\xbc': 1, 'FUN': 1, 'G\\xeb\\xa7\\x88\\xec\\xbc\\x93': 1, '\\xec\\x8b\\x9d\\xeb\\xb9\\xb5\\xec\\x97\\x90': 1, '\\xec\\xa3\\xbd\\xec\\x96\\xb4\\xeb\\xb2\\x84\\xeb\\xa6\\xb0': 1, '\\xec\\x98\\x88\\xec\\xa0\\x95\\xec\\x9e\\x90': 1, '\\xec\\x84\\xa0\\xed\\x83\\x9d\\xed\\x95\\xb4\\xeb\\x9d\\xbc': 1, '\\xeb\\xb9\\x84\\xeb\\xb0\\x80\\xeb\\xb2\\x88\\xed\\x98\\xb8': 2, '\\xec\\x84\\xb8\\xed\\x8a\\xb8': 1, '\\xec\\xa3\\xbc\\xec\\xb0\\xa8\\xeb\\xac\\xb8\\xec\\xa0\\x9c': 1, '\\xed\\x9a\\x8c\\xec\\x9b\\x90\\xea\\xb0\\x80\\xec\\x9e\\x85': 1, '7': 2, '\\xea\\xb3\\xbc\\xeb\\xa9\\x94\\xea\\xb8\\xb0\\xeb\\xa5\\xbc': 1, '\\xeb\\xaf\\xb8\\xec\\xa6\\x88\\xeb\\x84\\xb7': 3, '\\xed\\x95\\x9c\\xec\\x9e\\xa5\\xeb\\x8d\\x94': 1, '\\xec\\x8b\\xa0\\xea\\xb7\\x9c\\xec\\xa7\\x84\\xec\\x9e\\x85': 2, '\\xec\\x99\\x95\\xeb\\x93\\xa439\\xec\\x86\\x8c\\xeb\\xa6\\x84\\xeb\\x8f\\x8b\\xeb\\x8a\\x94': 1, '\\xea\\xb0\\x90\\xea\\xb0\\x81\\xec\\xa0\\x81\\xec\\x8a\\xa4\\xed\\x83\\x80\\xec\\x9d\\xbc': 1, '\\xeb\\xa7\\x90\\xec\\x95\\x84': 1, '\\xed\\x8a\\xbc': 1, '\\xec\\x9d\\xb4\\xeb\\xa9\\x94\\xec\\x9d\\xbc': 1, '\\xeb\\xb8\\x94\\xeb\\x9e\\x99\\xec\\x8b\\x9c\\xed\\x81\\xac\\xeb\\xb6\\x80\\xec\\xb8\\xa0': 1, '\\xea\\xb4\\x91\\xea\\xb3\\xa0\\xec\\x95\\x88\\xeb\\x82\\xb4': 1, '\\xeb\\x82\\xb4\\xeb\\x98\\x90\\xeb\\x9e\\x98': 1, '\\xea\\xb2\\xbd\\xea\\xb8\\xb0': 2, '\\xec\\xb0\\xa9\\xed\\x95\\xb4\\xec\\x9a\\x94': 1, '39\\xeb\\x88\\x88\\xeb\\xac\\xbc\\xec\\x9d\\x98': 1, '\\xec\\x8a\\xa4\\xeb\\x8b\\x88\\xec\\xbb\\xa4\\xec\\xa6\\x88': 1, 'SSG': 1, '\\xeb\\x8f\\x84\\xec\\x9b\\x80\\xeb\\xa7\\x90\\xeb\\xb3\\xb4\\xea\\xb8\\xb0': 1, '\\xec\\xa7\\x80\\xeb\\x8f\\x84': 3, '\\xec\\x8a\\xa4\\xed\\x83\\x80': 1, 'quot\\xe6\\x95\\x85\\xec\\x8b\\xa0\\xed\\x95\\xb4\\xec\\xb2\\xa0': 1, '\\xea\\xb7\\xb8\\xeb\\xa7\\x8c\\xed\\x95\\x9c': 1, '\\xeb\\x82\\xb4\\xec\\x9a\\xa9\\xec\\x9d\\x84': 22, '\\xec\\xb5\\x9c\\xea\\xb7\\xbc': 1, '\\xec\\x9e\\xac\\xec\\x95\\x99\\xec\\x98\\x88\\xea\\xb3\\xa0': 1, '\\xed\\x8d\\xbc': 1, '\\xec\\x8b\\xa0\\xec\\x84\\xb8\\xed\\x95\\x9c\\xed\\x83\\x84': 1, '\\xec\\xa7\\x80\\xea\\xb8\\x88': 1, '\\xec\\x8b\\x9c': 1, '\\xea\\xb1\\xb0': 1, '1121': 1, '39\\xec\\x97\\x91\\xec\\x86\\x8c\\xeb\\x8d\\x94\\xec\\x8a\\xa4': 1, '\\xec\\x84\\xb1\\xed\\x98\\x95\\xec\\x88\\x98\\xec\\x88\\xa039': 1, '\\xec\\xa3\\x84\\xec\\xb1\\x85\\xea\\xb0\\x90\\xec\\x97\\x90': 1, '\\xeb\\xb2\\x84\\xec\\xa0\\x84\\xec\\x9d\\x98': 1, '\\xec\\xa7\\x80\\xec\\x8b\\x9d\\xea\\xb3\\xb5\\xea\\xb0\\x84': 1, '\\xec\\x98\\x88\\xec\\x82\\xb0': 1, '\\xed\\x8c\\xa8\\xeb\\x8b\\x9d': 1, '\\xed\\x9a\\x8c\\xec\\x82\\xac\\xec\\x86\\x8c\\xea\\xb0\\x9c': 1, '\\xeb\\xb3\\xb4\\xed\\x98\\xb8\\xeb\\xa5\\xbc': 1, '\\xea\\xb0\\x95\\xeb\\xa6\\x89': 1, '\\xeb\\x84\\x93\\xed\\x9e\\x88\\xea\\xb3\\xa0': 1, '\\xec\\x9d\\xb4\\xea\\xb8\\xb0\\xed\\x99\\x8d': 1, 'copy': 1, '\\xeb\\x82\\xa0\\xec\\x94\\xa8': 4, '11': 3, '\\xeb\\xae\\xa4\\xec\\xa7\\x81': 2, '15': 2, '14': 1, '\\xeb\\xb0\\x98\\xeb\\xa0\\xa4\\xeb\\x8f\\x99\\xeb\\xac\\xbc': 1, '\\xea\\xb0\\x95\\xeb\\x82\\xa8': 1, '\\xeb\\xb9\\x84\\xec\\x8b\\xbc': 1, '\\xed\\x8f\\xb0\\xeb\\xb2\\x88\\xed\\x98\\xb8': 1, '138\\xe2\\x84\\x83': 1, '\\xeb\\xa7\\x8c\\xeb\\x93\\xa0': 2, '\\xec\\x98\\xb5\\xec\\x85\\x98quot': 1, '\\xed\\x98\\xb8\\xed\\x94\\xbc\\xeb\\xac\\xb4\\xeb\\x8a\\xac': 1, '\\xec\\xa0\\x84\\xec\\xb2\\xb4': 1, '\\xed\\x99\\x8d\\xeb\\x8c\\x80': 1, '\\xec\\x9d\\xb8\\xea\\xb8\\xb0': 2, '\\xec\\x83\\x81\\xea\\xb6\\x8c': 1, '\\xec\\x9e\\xac\\xec\\x86\\x8c\\xed\\x99\\x98quot': 1, '\\xea\\xb4\\x91\\xec\\xa3\\xbc': 1, '3\\xec\\xa1\\xb0\\xec\\x9b\\x90': 1, '\\xeb\\x8b\\xac\\xeb\\xa6\\xb0': 1, '\\xec\\x95\\x89\\xec\\x95\\x84\\xec\\x84\\x9c\\xeb\\xa7\\x8c': 1, '\\xec\\x82\\xac\\xec\\xa0\\x84': 2, '\\xed\\x99\\x95\\xec\\x9d\\xb8\\xed\\x95\\x98\\xec\\x8b\\x9c\\xeb\\xa0\\xa4\\xeb\\xa9\\xb4': 22, '\\xeb\\xb8\\x94\\xeb\\xa7\\x81\\xec\\x8a\\x88': 1, '\\xea\\xb2\\xbd\\xea\\xb8\\xb0\\xec\\xa0\\x84': 1, '\\xec\\xa0\\x84': 22, '\\xe3\\x85\\x85\\xe3\\x85\\x87': 1, '\\xec\\xa0\\x80': 1, '\\xeb\\xa7\\x81\\xed\\x81\\xac\\xeb\\xaa\\xa8\\xec\\x9d\\x8c': 3, '\\xea\\xb2\\xbd\\xea\\xb8\\xb0\\xec\\x8b\\x9c\\xea\\xb0\\x84': 1, '\\xec\\x9d\\xb8\\xec\\x9e\\xac\\xec\\xb1\\x84\\xec\\x9a\\xa9': 1, '\\xea\\xb3\\xb5\\xea\\xb0\\x90': 1, '\\xec\\xa1\\xb0\\xec\\x83\\x81\\xea\\xb2\\xbd': 2, '\\xeb\\xac\\xb8\\xec\\x9e\\x90': 1, '\\xed\\x8c\\x8c\\xeb\\x9d\\xbc\\xeb\\xb2\\xa4': 2, '\\xeb\\xa1\\xaf\\xeb\\x8d\\xb0i\\xeb\\xaa\\xb0': 1, '1\\xec\\x9c\\x84': 3, '4\\xec\\x9c\\x84': 3, '\\xec\\xa7\\x84\\xec\\xa7\\x9c': 1, '\\xea\\xb3\\xa0\\xeb\\xb0\\xb1': 1, '\\xec\\xb2\\x9c\\xec\\x95\\x88\\xec\\x8b\\x9c': 1, '\\xec\\x98\\xa4\\xeb\\x8a\\x98': 1, '\\xeb\\x89\\xb4\\xec\\x8a\\xa4\\xed\\x99\\x88': 1, '\\xeb\\x8c\\x80\\xec\\x9e\\x85': 1, 'tv\\xed\\x8c\\x9f': 2, '\\xeb\\x8f\\x8c\\xeb\\x8f\\x8c': 1, '\\xe3\\x85\\x81\\xe3\\x85\\x82': 1, '\\xec\\x86\\xa1\\xec\\xb9\\x98': 1, '3\\xec\\x9c\\x84': 3, '\\xec\\x9b\\xb9\\xed\\x88\\xb0': 1, '\\xec\\xb5\\x9c\\xea\\xb3\\xa0': 1, '\\xeb\\x94\\xb0\\xeb\\xa5\\xb8': 1, '\\xed\\x95\\x98\\xeb\\xa3\\xa8\\xed\\x95\\x98\\xeb\\xa3\\xa8': 1, '\\xec\\xa7\\x80\\xec\\x97\\xad': 2, '\\xec\\x86\\x8c\\xea\\xb0\\x9c': 1, '\\xed\\x8c\\x94\\xeb\\x8b\\xa4\\xeb\\xa6\\xac': 1, '\\xec\\xb0\\xbe\\xea\\xb8\\xb0': 2, '\\xec\\x97\\xb0\\xec\\x86\\x8d\\xec\\x8a\\xa4\\xec\\x9c\\x99': 1, '\\xed\\x98\\x84\\xec\\x9e\\xac': 10, '\\xeb\\x84\\x88\\xeb\\xac\\xb4': 1, '\\xeb\\xaa\\xa8\\xeb\\xb0\\x94\\xec\\x9d\\xbc': 1, '\\xed\\x8b\\xb0\\xec\\x8a\\xa4\\xed\\x86\\xa0\\xeb\\xa6\\xac': 1, '8': 3, '\\xeb\\xaf\\xbf\\xec\\x96\\xb4\\xeb\\x8b\\xac\\xeb\\x9d\\xbc\\xeb\\x8a\\x94': 1, '39\\xeb\\xac\\xb4\\xeb\\xa9\\xb4\\xed\\x97\\x88': 1, '\\xea\\xb2\\x80\\xec\\x83\\x89\\xeb\\x93\\xb1\\xeb\\xa1\\x9d': 1, '\\xea\\xb2\\x80\\xec\\x83\\x89': 3, '10': 2, '\\xea\\xb0\\x9c\\xec\\xa0\\x95': 1, '\\xeb\\xaf\\xb8\\xec\\xa6\\x88\\xeb\\x84\\xb7\\xed\\x99\\x88': 1, '\\xeb\\x82\\x98\\xec\\x9d\\x98': 1, '\\xec\\x8b\\xa4\\xec\\x82\\xac': 1, '\\xec\\x9a\\xb0\\xeb\\xa6\\xac': 1, '\\xeb\\x8c\\x80': 1, '\\xec\\x84\\x9c\\xec\\x9a\\xb8': 1, '\\xec\\x98\\x81\\xec\\x83\\x81': 1, '\\xec\\x9e\\x84\\xeb\\x8c\\x80\\xeb\\xa3\\x8c': 1, '\\xec\\x9a\\xb8\\xeb\\xa6\\x89\\xeb\\x8f\\x84': 1, '\\xeb\\x88\\x8c\\xeb\\x9f\\xac\\xec\\xa3\\xbc\\xec\\x84\\xb8\\xec\\x9a\\x94': 22, '\\xec\\xb6\\x98\\xec\\xb2\\x9c': 1, '\\xec\\x97\\xac\\xec\\x95\\xbc': 1, '\\xec\\x88\\x98': 1, '\\xec\\x9a\\x94\\xeb\\xa6\\xac': 1, '\\xec\\xa1\\xb8\\xec\\x97\\x85': 1, '\\xed\\x99\\x98\\xec\\x9c\\xa8': 1, '\\xec\\xa4\\x91\\xea\\xb3\\x84\\xec\\x84\\xbc\\xed\\x84\\xb0': 1, 'SSGcom': 1, '600\\xeb\\xa7\\x8c\\xeb\\x8b\\xac\\xeb\\x9f\\xac1\\xeb\\x85\\x84': 1, 'quot\\xec\\x8b\\xa0\\xec\\x9d\\xb4': 1, '\\xea\\xb4\\x91\\xea\\xb3\\xa0': 1, '\\xec\\x9c\\x84\\xed\\x95\\xb4': 1, '\\xeb\\x8b\\xa8\\xeb\\x8f\\x85\\xed\\x8a\\xb9\\xea\\xb0\\x8083': 1, '11\\xeb\\xb2\\x88\\xea\\xb0\\x80': 1, '\\xec\\x84\\x9c\\xeb\\xb9\\x84\\xec\\x8a\\xa4\\xec\\x95\\xbd\\xea\\xb4\\x80': 1, '\\xea\\xb0\\x9c\\xec\\x9d\\xb8': 1, '\\xed\\x83\\x80\\xeb\\x8a\\x94': 1, '3': 4, '\\xec\\x8b\\xb1\\xea\\xb8\\x80\\xeb\\xa7\\x98': 1, '\\xeb\\xb2\\xa0\\xea\\xb0\\x80\\xec\\x95\\x84\\xec\\x9d\\xb4\\xec\\x96\\xb82': 2, '\\xec\\xb9\\xb4\\xec\\x8b\\x9c\\xed\\x8a\\xb8\\xec\\x97\\x90\\xeb\\xa7\\x8c': 1, '\\xed\\x82\\xa4\\xec\\x9b\\x81\\xeb\\x8b\\x88\\xeb\\x8b\\xa4': 1, '\\xeb\\xa6\\xac\\xeb\\xb3\\xb5': 1, '\\xed\\x9b\\x84': 1, '\\xeb\\xa9\\x94\\xec\\x9d\\xbc': 1, '2\\xec\\x9c\\x84': 3, '\\xec\\xa3\\xbc\\xec\\x84\\xb8\\xec\\x9a\\x94': 1, '\\xeb\\x8b\\xa4\\xec\\x9d\\x8c': 10, '\\xea\\xb5\\xbd': 1, '968545': 1, '\\xeb\\xa3\\x8c': 1, '\\xeb\\xa1\\xaf\\xeb\\x8d\\xb0\\xeb\\x8b\\xb7\\xec\\xbb\\xb4': 2, '\\xec\\x82\\xac\\xec\\x9e\\x90': 1, '\\xec\\x96\\xb4\\xed\\x95\\x99\\xec\\x82\\xac\\xec\\xa0\\x84': 1, '\\xeb\\xb6\\x80\\xeb\\x8f\\x99\\xec\\x82\\xb0\\xeb\\xb6\\x80\\xec\\x9e\\x90': 1, '\\xec\\xa7\\x91\\xec\\x97\\x90\\xec\\x84\\x9c': 1, '\\xeb\\xb3\\x80\\xea\\xb2\\xbd\\xec\\x97\\x90': 1, '\\xec\\x8b\\xa0\\xeb\\x8d\\xb0\\xeb\\xa0\\x90\\xeb\\x9d\\xbc': 1, '\\xec\\x8b\\xa0\\xeb\\x9e\\x91\\xea\\xb3\\xbc': 1, '\\xed\\x82\\xa4\\xec\\xa6\\x88\\xec\\xa7\\xb1': 2, '\\xec\\x96\\x91\\xed\\x98\\x84\\xec\\xa2\\x85': 2, '220\\xec\\x9d\\xbc': 1, '\\xec\\x83\\xa4\\xec\\x97\\x90\\xec\\x8a\\x88': 1, '121\\xe2\\x84\\x83': 1, '\\xec\\x8a\\xa4\\xed\\x86\\xa0\\xeb\\xa6\\xac\\xeb\\xb3\\xbc': 1, '\\xeb\\xaa\\x85\\xeb\\x8f\\x99': 1, '\\xec\\x84\\xa4\\xec\\xa0\\x95': 3, '\\xea\\xb7\\x80\\xec\\x8b\\xa0\\xec\\x9d\\xbc\\xea\\xb9\\x8c': 1, '\\xed\\x95\\x9c\\xec\\xa4\\x8c': 1, '\\xed\\x8c\\xa8\\xec\\x85\\x98\\xec\\x9d\\xb4\\xec\\x95\\xbc': 1, '\\xec\\x84\\xb8\\xea\\xb3\\x84\\xec\\x97\\x90\\xec\\x84\\x9c': 1, '\\xed\\x95\\x9c\\xea\\xb5\\xad\\xea\\xb3\\x84': 1, '\\xed\\x98\\xbc\\xec\\x9e\\x90': 1, '\\xec\\x95\\x84\\xec\\x9b\\x83\\xeb\\x8f\\x84\\xec\\x96\\xb4': 1, '\\xec\\xb2\\xad\\xec\\xa3\\xbc': 1, 'GS\\xec\\x83\\xb5': 1, '\\xeb\\xa7\\x88\\xec\\x9d\\xbc\\xeb\\xa6\\xac\\xec\\xa7\\x80': 3, '\\xed\\x95\\x9c\\xeb\\xa7\\x88\\xeb\\xa6\\xac': 1, '\\xeb\\xb3\\xb4\\xea\\xb8\\xb0': 1, '\\xed\\x8c\\x81': 3, '\\xed\\x9d\\x90\\xeb\\xa6\\xbc': 1, '\\xed\\x85\\x8c\\xeb\\xa7\\x88\\xed\\x86\\xa0\\xed\\x81\\xac': 1, '\\xec\\xa1\\xb8\\xec\\x97\\x85middot\\xec\\xb7\\xa8\\xec\\x97\\x85': 1, '\\xed\\x84\\xb0\\xeb\\x93\\x9d\\xed\\x96\\x88\\xec\\x96\\xb4\\xec\\x9a\\x94': 1, '\\xec\\x9d\\xb4\\xec\\x9a\\xa9\\xec\\x95\\xbd\\xea\\xb4\\x80': 1, '\\xeb\\xae\\xa4\\xec\\xa7\\x80\\xec\\x85\\x98\\xec\\x9d\\x84': 1, '\\xeb\\xb0\\x95\\xed\\x95\\xb4\\xec\\xa4\\x80': 2, '\\xeb\\xb3\\xb4\\xeb\\x8a\\x94': 1, '\\xeb\\xb2\\x84\\xeb\\xa6\\xb4': 1, '\\xed\\x8c\\xac\\xed\\x8b\\xb0': 1, '\\xeb\\x93\\xa4\\xeb\\xa6\\xb0\\xeb\\x8b\\xa4': 1, '\\xea\\xb0\\x84\\xeb\\x8b\\xa8\\xed\\x95\\x98\\xeb\\xa9\\xb4\\xec\\x84\\x9c\\xeb\\x8f\\x84': 1, '\\xeb\\x8d\\x94\\xeb\\xb3\\xb4\\xea\\xb8\\xb0': 1, '\\xec\\xa3\\xbc\\xec\\x9a\\x94': 2, '71\\xe2\\x84\\x83': 1, '\\xec\\x9c\\xa0\\xec\\x9d\\xb5\\xed\\x95\\x9c': 2, '\\xed\\x81\\xb4\\xeb\\xa6\\xad\\xec\\x83\\x81\\xed\\x92\\x88': 1, '\\xeb\\xac\\xbc\\xec\\x94\\xac': 1, '\\xea\\xb0\\x80\\xec\\xa0\\xb8\\xec\\x98\\xa4\\xea\\xb8\\xb0': 22, '\\xec\\x84\\x9c\\xeb\\xb9\\x84\\xec\\x8a\\xa4': 7, '9': 2, '\\xeb\\xb0\\x98\\xec\\x9d\\x91': 1, '\\xeb\\x9d\\xbc\\xeb\\xaf\\xb8\\xeb\\x9e\\x80': 2, '\\xeb\\x8c\\x80\\xec\\xa0\\x84': 1, '129\\xe2\\x84\\x83': 1, '\\xeb\\xb0\\x94\\xeb\\xa1\\x9c': 22, '\\xed\\x8e\\xbc\\xec\\xb9\\x98\\xea\\xb8\\xb0': 1, '\\xec\\x95\\x89\\xed\\x98\\x94\\xec\\x96\\xb4\\xeb\\x8f\\x84\\xec\\x95\\x84\\xec\\x9d\\xb4': 1, '\\xec\\x98\\xa4\\xeb\\xa7\\x8c\\xec\\x84\\x9d': 2, '\\xec\\x95\\x84\\xec\\xa3\\xbc\\xeb\\xa8\\xb8\\xeb\\x8b\\x88\\xeb\\x93\\xa4\\xec\\x9d\\x98': 1, '\\xea\\xb1\\xb4': 1, '\\xec\\x84\\xb8\\xea\\xb3\\x84': 1, '\\xed\\x81\\xb4\\xeb\\x9d\\xbc\\xec\\x9a\\xb0\\xeb\\x93\\x9c': 1, '\\xec\\x98\\x81\\xed\\x99\\x94': 3, '83\\xe2\\x84\\x83': 1, '\\xea\\xb2\\xb0\\xed\\x98\\xbc': 1, '\\xec\\x9d\\xb4\\xec\\x8a\\x88': 2, '\\xec\\x95\\x89\\xea\\xb8\\xb0': 1, '\\xeb\\xac\\xb4': 1, '\\xec\\x8b\\xa0\\xec\\x84\\xb8\\xea\\xb3\\x84\\xeb\\xaa\\xb0': 1, '8\\xea\\xb0\\x9c': 1, '\\xe3\\x85\\x88\\xe3\\x85\\x8a': 1, '\\xec\\x82\\xac\\xec\\x9a\\xa9\\xed\\x95\\xb4': 1, '\\xec\\x95\\x84\\xea\\xb3\\xa0\\xeb\\x9d\\xbc': 3, '\\xec\\x97\\x98\\xeb\\xa5\\xb4': 1, '\\xec\\x88\\xa8\\xec\\xa0\\xb8': 1, '\\xec\\x82\\xac\\xeb\\x9e\\x8c': 1, '\\xeb\\x8f\\x99\\xec\\x98\\x81\\xec\\x83\\x81': 3, '\\xec\\xa0\\x84\\xec\\xb2\\xb4\\xeb\\xb3\\xb4\\xea\\xb8\\xb0': 2, '\\xec\\x9b\\xb9\\xec\\xa0\\x91\\xea\\xb7\\xbc\\xec\\x84\\xb1\\xec\\x95\\x88\\xeb\\x82\\xb4': 1, '\\xea\\xb2\\x83': 1, '\\xeb\\x8b\\x88\\xed\\x8a\\xb8': 1, '40000': 1, '4': 3, '\\xeb\\xb0\\x94\\xeb\\xa1\\x9c\\xea\\xb0\\x80\\xea\\xb8\\xb0': 7, '\\xeb\\x82\\xa8\\xec\\x9e\\x90\\xeb\\x93\\xa4\\xec\\x9d\\x98': 1, '\\xea\\xb2\\x80\\xec\\x83\\x89\\xec\\x96\\xb4': 1, '\\xeb\\x94\\xb8': 1, '\\xec\\x97\\x85\\xed\\x8a\\xbc': 2, '\\xec\\x95\\x84\\xed\\x8c\\x8c\\xed\\x8a\\xb8': 1, '\\xed\\x8c\\xa8\\xec\\x85\\x98\\xed\\x94\\x8c\\xeb\\x9f\\xac\\xec\\x8a\\xa4': 1, '\\xea\\xb0\\x80\\xeb\\x9e\\x98\\xeb\\x96\\xa1\\xea\\xbc\\xac\\xec\\xb9\\x98': 1, '\\xed\\x98\\x84\\xeb\\xaf\\xb8\\xec\\x9e\\xa3\\xec\\xa3\\xbd\\xec\\x9e\\x85\\xeb\\x8b\\x88\\xeb\\x8b\\xa4': 1, '41800': 1, '\\xec\\xb5\\x9c\\xeb\\x8c\\x8040\\xec\\x84\\xb8\\xec\\x9d\\xbc': 1, '\\xec\\x9d\\xb4\\xec\\xbc\\x80\\xec\\x95\\x84\\xeb\\xa7\\x90\\xeb\\xa7\\x8e\\xec\\xa7\\x80': 1, '\\xec\\x87\\xbc\\xed\\x95\\x91\\xed\\x99\\x88': 1, '\\xeb\\xb0\\xb1\\xed\\x99\\x94\\xec\\xa0\\x9015darr': 1, '\\xec\\x95\\xbd\\xea\\xb4\\x80': 1, '\\xec\\xa0\\xaf\\xed\\x93\\xa8\\xec\\xa6\\x88': 1, '\\xed\\x99\\x9c\\xec\\x9a\\xa9\\xeb\\xb2\\x95': 1, 'IP\\xeb\\xb3\\xb4\\xec\\x95\\x88': 2, 'PC\\xec\\x97\\x90\\xec\\x84\\x9c\\xeb\\xa7\\x8c': 1, '2\\xec\\x82\\xb4': 1, '\\xec\\x9e\\x90\\xeb\\x8f\\x99\\xec\\x8b\\xa4\\xed\\x96\\x89': 1, '\\xec\\xa0\\x9c\\xec\\xa3\\xbc': 1, '\\xea\\xb3\\xbc\\xec\\x9d\\xbc\\xec\\x88\\x99\\xec\\x84\\xb1\\xeb\\x8b\\xad\\xec\\xb0\\x9c': 2, '\\xeb\\xa7\\x8c\\xeb\\x93\\x9c\\xeb\\x8b\\x88': 1, '5\\xec\\x9c\\x84': 2, '\\xeb\\xa7\\x8c\\xed\\x99\\x94\\xec\\x86\\x8d\\xec\\x84\\xb8\\xec\\x83\\x81': 1, '\\xec\\x9e\\xac\\xed\\x98\\xbc\\xed\\x96\\x88\\xec\\x96\\xb4\\xec\\x9a\\x94': 1, '\\xed\\x83\\xad': 10, '\\xeb\\x8b\\xac\\xeb\\xa0\\xa5': 1, '\\xe5\\xaf\\x8c\\xeb\\x8f\\x99\\xec\\x82\\xb0': 1, '\\xeb\\x8b\\xad': 1, '10\\xec\\x9c\\x84': 2, '\\xea\\xb2\\xbd\\xec\\xb0\\xb0': 1, '\\xed\\x95\\xb4\\xec\\x84\\xa4\\xec\\x9e\\x90': 1, '\\xec\\x86\\x8d': 2, '\\xeb\\x8c\\x80\\xec\\xa2\\x85\\xec\\x83\\x81\\xec\\x98\\x81\\xed\\x99\\x94\\xec\\xa0\\x9c': 2, '\\xea\\xb9\\x80\\xec\\xa7\\x80\\xed\\x98\\xb8': 1, '\\xec\\xb4\\x9d': 7, '8\\xeb\\xb2\\x88\\xec\\xa7\\xb8\\xeb\\xa1\\x9c': 1, '\\xec\\x9a\\xb4\\xeb\\x8f\\x99\\xed\\x99\\x94': 2, '\\xeb\\x82\\x98': 1, '\\xed\\x99\\x98\\xed\\x98\\xb8\\xec\\x84\\xb1\\xec\\x9d\\xb4': 1, '\\xec\\x8b\\xa0\\xea\\xb8\\xb0\\xed\\x95\\x9c': 1, '\\xec\\x96\\xb4\\xeb\\xa6\\xb0': 1, 'iSTYLE24': 1, '\\xea\\xb8\\x88\\xec\\x9c\\xb5': 1, '\\xec\\x84\\xa0\\xec\\xa0\\x95': 1, '\\xeb\\xb0\\xb0': 1, '\\xed\\x9d\\x94\\xeb\\x93\\xa4\\xeb\\x8b\\xa4': 1, '\\xec\\x86\\xa1': 1, '\\xec\\x95\\x88\\xec\\x8b\\xa0\\xec\\x95\\xa0': 1, '\\xec\\x9e\\xac\\xeb\\xa3\\x8c\\xeb\\x8f\\x84': 1, 'UP': 1, '\\xed\\x83\\x84\\xec\\x83\\x9d39': 1, '\\xec\\xa0\\x91\\xea\\xb7\\xbc\\xec\\x84\\xb1': 1, 'or': 1, 'Best': 1, '\\xec\\x98\\x81\\xed\\x99\\x94\\xed\\x99\\x88': 1, '\\xeb\\xb8\\x94\\xeb\\xa1\\x9c\\xea\\xb7\\xb8': 3, 'STOP': 1, '75\\xe2\\x84\\x83': 1, '\\xeb\\xaf\\xb8\\xec\\x9b\\x8c\\xed\\x95\\xa0': 1, '39\\xec\\x9d\\x98\\xec\\x83\\x81\\xec\\x9d\\xb4': 1, '\\xec\\x97\\x84\\xeb\\xa7\\x88': 1, '\\xec\\x9a\\xb0\\xeb\\xa6\\xac\\xec\\xa7\\x91': 1, '\\xec\\x87\\xbc\\xed\\x95\\x91\\xeb\\x8f\\x84\\xec\\x9b\\x80': 1, '57\\xeb\\x8f\\x84': 1, '\\xeb\\x9f\\xac\\xeb\\xb8\\x94\\xeb\\xa6\\xac\\xec\\xa5\\xac\\xec\\x96\\xbc\\xeb\\xa6\\xac': 1, '\\xeb\\xa7\\x8c\\xeb\\x93\\xa4\\xec\\x96\\xb4\\xec\\xa7\\x80\\xeb\\x8b\\xa4\\xeb\\x8b\\x88': 1, '\\xed\\x85\\x8c\\xeb\\xa7\\x88': 1, '\\xed\\x98\\x84\\xeb\\x8c\\x80H\\xeb\\xaa\\xb0': 1, '\\xed\\x96\\xa5\\xec\\x88\\x98\\xeb\\xb3\\xb4\\xeb\\x8b\\xa4\\xeb\\x82\\x98\\xec\\x95\\x84': 1, '\\xeb\\xaf\\xb8': 1, '\\xec\\x98\\x88\\xeb\\xbb\\x90\\xec\\x84\\x9c\\xea\\xb0\\x90\\xed\\x83\\x84': 1, '\\xec\\x9d\\xb4\\xeb\\xa7\\x88\\xed\\x8a\\xb8\\xeb\\xaa\\xb0': 1, 'Corp': 1, '\\xeb\\x88\\x84\\xeb\\xa6\\xac\\xea\\xb3\\xbc\\xec\\xa0\\x95': 1, '\\xec\\x86\\x8c\\xed\\x98\\xb8': 1, '\\xec\\x8b\\xa0\\xea\\xb7\\x9c\\xec\\x95\\xb1': 1, '\\xec\\x9b\\x90': 3, '\\xec\\x95\\x88\\xeb\\x82\\xb4': 2, '\\xed\\x8f\\xac\\xed\\x86\\xa0': 3, '\\xec\\x84\\xb9\\xec\\x8b\\x9c\\xeb\\x82\\xa8': 1, '\\xec\\x8a\\xa4\\xed\\x8f\\xac\\xec\\xb8\\xa0': 3, '4\\xea\\xb0\\x80\\xec\\xa7\\x80': 1, '\\xea\\xb7\\xb9': 1, '\\xed\\x8c\\xa8\\xeb\\x94\\xa9': 1, '\\xec\\x9b\\xb9': 1, '\\xea\\xb0\\x80\\xea\\xb2\\xa9\\xeb\\xb9\\x84\\xea\\xb5\\x90\\xed\\x95\\x84\\xec\\x88\\x98': 1, '51700': 1, '\\xec\\xb2\\xad\\xec\\x86\\x8c\\xeb\\x85\\x84\\xeb\\xb3\\xb4\\xed\\x98\\xb8\\xec\\xa0\\x95\\xec\\xb1\\x85': 1, '\\xeb\\xb0\\x9b\\xec\\x95\\x84S\\xeb\\xb3\\x91\\xec\\x9b\\x90\\xec\\x9e\\xa5': 1, '\\xeb\\xb8\\x8c\\xeb\\x9e\\x9c\\xeb\\x93\\x9c\\xed\\x80\\x84\\xeb\\xa6\\xac\\xed\\x8b\\xb0': 1, '\\xed\\x97\\x88\\xeb\\xa6\\xac\\xea\\xb0\\x80': 1, '\\xea\\xb7\\xb8\\xeb\\x9e\\x98\\xeb\\x8f\\x84\\xec\\x98\\x88\\xec\\x81\\x98\\xeb\\x84\\xa4': 1, '\\xed\\x9d\\xac\\xeb\\xa7\\x9d\\xed\\x95\\xb4': 3, '\\xeb\\xaa\\xa8\\xec\\x9c\\xbc\\xeb\\x8b\\xa4': 1, '\\xec\\x95\\xa0\\xeb\\x8b\\x88\\xeb\\xa9\\x94\\xec\\x9d\\xb4\\xec\\x85\\x98\\xec\\x9d\\xb4': 1, '\\xec\\x89\\xbf': 1, '\\xea\\xb9\\x80\\xeb\\xb6\\x80\\xec\\x84\\xa0': 1, '\\xed\\x8a\\xb9\\xea\\xb0\\x80': 1, 'TV': 1, '\\xeb\\xb3\\xb4\\xec\\x9d\\xbc\\xeb\\x9f\\xac': 1, '5': 2, '\\xed\\x8f\\xad': 1, '\\xed\\x95\\x9c\\xec\\x98\\x88\\xec\\x8a\\xac': 1, '\\xeb\\xb0\\x95\\xec\\x9a\\xa9\\xec\\x9a\\xb0': 2, '39\\xeb\\xaf\\xb8\\xeb\\x85\\x80\\xec\\x9d\\x98': 1, '\\xec\\x97\\x86\\xeb\\x8a\\x94': 3, '\\xeb\\xb6\\x99\\xec\\x9e\\xa1\\xec\\x9d\\x84\\xea\\xb9\\x8c\\xec\\x9a\\x94': 1, '\\xeb\\xb2\\xa0\\xec\\x8a\\xa4\\xed\\x8a\\xb8\\xed\\x99\\x88': 1, '\\xec\\x83\\x81\\xec\\x8a\\xb9': 20, '\\xed\\x95\\x9c\\xec\\xb1\\x84\\xec\\x95\\x84': 2, '\\xea\\xb3\\xa0\\xed\\x86\\xb5': 1, '39\\xeb\\xa9\\x98\\xeb\\xb6\\x9539': 1, '\\xec\\x9d\\xb4\\xec\\xa0\\xa0': 1, '\\xed\\x8c\\xbd\\xeb\\xaa\\xa9\\xed\\x95\\xad39': 1, '\\xec\\x8b\\xac\\xed\\x94\\x8c': 1, '\\xec\\x9d\\xb4\\xec\\xa0\\x84': 8, '\\xeb\\xaf\\xb8\\xeb\\x94\\x94\\xec\\x96\\xb4': 2, '\\xea\\xb5\\xac\\xeb\\xa7\\xa4\\xeb\\x8f\\x84\\xec\\x9e\\xa5': 1, '\\xeb\\x8c\\x80\\xea\\xb5\\xac': 1, '\\xec\\xb0\\xac': 1, '\\xec\\x98\\xa5\\xec\\x85\\x98': 1, '3\\xeb\\x85\\x84': 1, '\\xeb\\xa1\\x9c\\xea\\xb7\\xb8\\xec\\x9d\\xb8': 5, '\\xec\\x9d\\xb4\\xeb\\xa0\\x87\\xea\\xb2\\x8c': 1}\n",
        "------------------------------------------------------------------------------------------------------------\n",
        "----------------------------------------------------------------------------------------------------------------------------\n",
        "\uc0ac\uc774\ud2b8 \uc8fc\uc18c :  http://kut.ac.kr\n",
        "html \ud30c\uc77c :  kut.ac.kr.html\n",
        "words.frequency \ud30c\uc77c :  kut.ac.kr.words.frequency\n",
        "{'KOREATECH': 1, 'EMail': 1, 'locationreplacehttpemailkutackrcommonlogoutdo': 1}\n",
        "------------------------------------------------------------------------------------------------------------\n"
       ]
      }
     ],
     "prompt_number": 5
    },
    {
     "cell_type": "markdown",
     "metadata": {},
     "source": [
      "- \uc124\uba85 : url \ub9ac\uc2a4\ud2b8\uc5d0 5\uac1c\uc758 \uc0ac\uc774\ud2b8 \uc8fc\uc18c\ub97c \uc800\uc7a5\ud558\uace0 \uc9c0\ub09c \uacfc\uc81c\uc5d0\uc11c \uc0ac\uc6a9\ud55c \uc18c\uc2a4\ub97c \ud1b5\ud574\uc11c \ubc18\ubcf5\ubb38\uc744 \ucd94\uac00\ud574\uc11c url \ub9ac\uc2a4\ud2b8\uc5d0 \uc788\ub294 5\uac1c\uc758 \uc0ac\uc774\ud2b8\uc5d0 \ub300\ud55c  \uc21c\uc218 \ud14d\uc2a4\ud2b8\ub97c \ucd94\ucd9c\ud558\uace0 \uadf8\uac83\uc758 \ucd9c\ud604 \ube48\ub3c4\ub97c \uad6c\ud574\uc11c, dic \uc0ac\uc804 \ud615\ud0dc\ub85c \uc800\uc7a5 -> \uc774 \uc0ac\uc804\uc744 \uc774\uc6a9\ud574\uc11c \ud53c\ud074\ub9c1\ud574\uc11c words.frequency \ud30c\uc77c\uc5d0 \uc800\uc7a5\ud55c\ub2e4. \ub610\ud55c html\ub9ac\uc2a4\ud2b8\ub97c \ub9cc\ub4e4\uc5b4\uc11c \uc774 \ub9ac\uc2a4\ud2b8 \uc548\uc5d0\ub294 url \ub9ac\uc2a4\ud2b8\uc758 \ud574\ub2f9 \uc0ac\uc774\ud2b8\uc5d0 \ub300\ud55c html \ubb38\uc11c\uc815\ubcf4\ub97c \uc800\uc7a5\ud569\ub2c8\ub2e4.\n",
      "split()\ud568\uc218\uc640 \uc2ac\ub77c\uc774\uc2f1\uc744 \ud1b5\ud574\uc11c \uc0ac\uc774\ud2b8 \uc8fc\uc18c \ubb38\uc790\uc5f4\uc744 \ucc98\ub9ac\ud558\uc5ec \ubb38\uc81c\uc5d0\uc11c \uc694\uad6c\ud558\ub294 .html \ud30c\uc77c\uacfc .words.frequency\ud30c\uc77c\uc744 \ub9cc\ub4e4\uc5b4\uc11c \uac01\uac01\uc5d0 html\ubb38\uc11c \uc815\ubcf4\uc640 \ub2e8\uc5b4\ub4e4\uc758 \ucd9c\ud604 \ube48\ub3c4\uc218\ub97c \uc800\uc7a5\ud558\uace0 \uc800\uc7a5\ub41c \uc815\ubcf4\ub97c print \ud558\uc600\uc2b5\ub2c8\ub2e4.\n",
      "***"
     ]
    },
    {
     "cell_type": "markdown",
     "metadata": {},
     "source": [
      "# Problem 9"
     ]
    },
    {
     "cell_type": "markdown",
     "metadata": {},
     "source": [
      "- [9\ubc88 \ubb38\uc81c] \uc704 \ubb38\uc81c\uc5d0\uc11c \uc800\uc7a5\ud55c \ubaa8\ub4e0 words.frequency \ud30c\uc77c\ub4e4\uc744 \ub85c\ub4dc \ud558\uc5ec \ubcf8\uc778\uc774 \uc800\uc7a5\ud558\uc5ec \ubd84\uc11d\ud55c \uc0ac\uc774\ud2b8\ub4e4\uc5d0\uc11c \uac00\uc7a5 \ub9ce\uc774 \ucd9c\ud604\ud55c \ub2e8\uc5b4\ub97c \ubf51\uc544 \uc81c\uc2dc\ud558\uc2dc\uc624.\n",
      "  - 8\ubc88 \ubb38\uc81c\uc640\ub294 \ub2e4\ub978 \ubcc4\ub3c4\uc758 \ud504\ub85c\uadf8\ub7a8\uc73c\ub85c \uc791\uc131\ud558\uc2dc\uc624."
     ]
    },
    {
     "cell_type": "code",
     "collapsed": false,
     "input": [
      "# -*- coding: utf-8 -*-\n",
      "import pickle\n",
      "\n",
      "total = {} #words.frequency \ud30c\uc77c \ud558\ub098\ub97c \uc77d\uc5b4\uc640\uc11c \uc0ac\uc804\uc73c\ub85c \ub4f1\ub85d\n",
      "f = open('kut.ac.kr.words.frequency')\n",
      "total = pickle.load(f)\n",
      "f.close()\n",
      "\n",
      "\n",
      "freq = [] #\ub098\uba38\uc9c0 words.frequency \ud30c\uc77c\ub4e4\n",
      "freq.append('google.com.words.frequency')\n",
      "freq.append('cse.kut.ac.kr.words.frequency')\n",
      "freq.append('www.daum.net.words.frequency')\n",
      "freq.append('www.naver.com.words.frequency')\n",
      "\n",
      "for x in freq:\n",
      "    f = open(x) #\ud30c\uc77c\uc744 \uc5f4\uc5b4\uc11c \n",
      "    dic = pickle.load(f) #\uc815\ubcf4\ub97c \uc77d\uc5b4\uc640\uc11c \uc0ac\uc804\uc73c\ub85c \ub4f1\ub85d \n",
      "    f.close() #\ud30c\uc77c \ub2eb\uae30\n",
      "    items = dic.items() #\uc0ac\uc804\uc758 \ud0a4\uc640 \uac12\uc744 \ub9ac\uc2a4\ud2b8 \ud615\ud0dc\ub85c \uc800\uc7a5 \n",
      "\n",
      "    for key, val in items:\n",
      "        if ( key in total ) : #total \uc0ac\uc804\uc5d0 \ub3d9\uc77c\ud55c \ud0a4\uac00 \uc788\uc73c\uba74 \n",
      "            value = total.get(key) #\ud0a4 \uac12\uc744 \uc99d\uac00 \n",
      "            value += 1\n",
      "            total[key] = value\n",
      "        else:                     #\uc5c6\uc73c\uba74 total \uc0ac\uc804\uc5d0 \ud0a4\uc640 \uac12\uc744 \ucd94\uac00\n",
      "            total[key] = val\n",
      "\n",
      "# print total\n",
      "\n",
      "L = total.items() #\ubaa8\ub4e0 \ud30c\uc77c\uc758 \uc0ac\uc804 \uc815\ubcf4\ub97c \ub2f4\uc740 \uac83\uc744 \ud0a4\uc640 \uac12\uc758 \ub9ac\uc2a4\ud2b8\ub85c \uc800\uc7a5 \n",
      "L.sort(key=lambda item:item[1])  #\ud0a4\uc758 \uac12\uc744 \uae30\uc900\uc73c\ub85c \uc815\ub82c \n",
      "max = len(L) #\ub9ac\uc2a4\ud2b8\uc758 \ub9e8 \ub9c8\uc9c0\ub9c9\uc774 \uc81c\uc77c \ucd9c\ud604 \ud69f\uc218\uac00 \ub9ce\uc740 \ub2e8\uc5b4 \n",
      "print '\uac00\uc7a5 \ub9ce\uc774 \ucd9c\ud604\ud55c \ub2e8\uc5b4 : ',\n",
      "print L[max-1][0] \n",
      "print '\ucd9c\ud604 \ud69f\uc218 : ',\n",
      "print L[max-1][1]"
     ],
     "language": "python",
     "metadata": {},
     "outputs": [
      {
       "output_type": "stream",
       "stream": "stdout",
       "text": [
        "\uac00\uc7a5 \ub9ce\uc774 \ucd9c\ud604\ud55c \ub2e8\uc5b4 :  \u2103\n",
        "\ucd9c\ud604 \ud69f\uc218 :  36\n"
       ]
      }
     ],
     "prompt_number": 7
    },
    {
     "cell_type": "markdown",
     "metadata": {},
     "source": [
      "\uc124\uba85 : 5\uac1c\uc758 \ucd9c\ud604 \ud68c\uc218 \ud30c\uc77c \uc911 \ud558\ub098\ub97c total \uc0ac\uc804\uc5d0 \ub4f1\ub85d \uc2dc\ud0a4\uace0 \ub098\uba38\uc9c0 4\uac1c\ub97c \uc774\uc6a9\ud574\uc11c \ud558\ub098\uc529 \ubd88\ub7ec\uc640\uc11c total \uc0ac\uc804\uc5d0 \ub3d9\uc77c\ud55c \ud0a4\uac00 \uc788\uc73c\uba74 \ud0a4\uac12\uc744 \uc99d\uac00\uc2dc\ucf1c\uc8fc\uace0 \uc5c6\ub2e4\uba74 \uc0c8\ub85c\uc6b4 \uc0ac\uc804 \uc815\ubcf4\ub85c \ub4f1\ub85d\uc2dc\ucf1c \uc90d\ub2c8\ub2e4. \ubc18\ubcf5\ubb38\uc774 \uc885\ub8cc\ub418\uba74 total\uc548\uc5d0\ub294 5\uac1c \ud30c\uc77c\uc758 \ubaa8\ub4e0 \ub2e8\uc5b4\uc758 \ucd9c\ud604 \ud69f\uc218\uac00 \uc800\uc7a5\ub418\uace0, \uc911\ubcf5\ub41c \ud0a4\ub4e4\uc740 \ud0a4\uac12\uc774 \uc99d\uac00\ud574\uc11c \uc774 \uc0ac\uc804\uc744 \ub9ac\uc2a4\ud2b8 \ud615\ud0dc\ub85c \ubc14\uafb8\uc5b4\uc11c \ud0a4\uac12\uc744 \uae30\uc900\uc73c\ub85c \uc815\ub82c\uc2dc\ud0a4\uba74 \ub9ac\uc2a4\ud2b8\uc758 \ub9e8 \ub9c8\uc9c0\ub9c9\uc774 \uac00\uc7a5 \ud070 \ucd9c\ud604 \ud69f\uc218\ub97c \uac00\uc9c4 \ub2e8\uc5b4\uc785\ub2c8\ub2e4.\n",
      "***"
     ]
    },
    {
     "cell_type": "markdown",
     "metadata": {},
     "source": [
      "\uc18c\uac10 : \uc9c0\ub09c \uacfc\uc81c\ub97c \uc774\uc5b4\uc11c \uc0c8\ub86d\uac8c \ubc30\uc6b4 \ub0b4\uc6a9\uacfc \ucd94\uac00\ud558\uba74\uc11c \ud558\ub294 \uacfc\uc81c\uac00 \uc758\ubbf8\uc788\uace0, \uc2e4\ub825\uc744 \ud0a4\uc6b0\ub294\ub370 \uc88b\uc740 \uac83 \uac19\uc2b5\ub2c8\ub2e4. \uc774\ubc88 \uacfc\uc81c\ub294 \ub2e8\uc21c\ud55c \uc54c\uace0\ub9ac\uc998\uc744 \uc0ac\uc6a9\ud55c \uac83 \uac19\uc740 \ub290\ub08c\uc774 \uc788\uace0, \uc880 \ub354 \ud6a8\uc728\uc801\uc778 \ubc29\ubc95\uc774 \uc788\uc744 \uac83 \uac19\ub2e4\ub294 \uc0dd\uac01\uc774 \ub4e4\uc5c8\uc2b5\ub2c8\ub2e4."
     ]
    }
   ],
   "metadata": {}
  }
 ]
}