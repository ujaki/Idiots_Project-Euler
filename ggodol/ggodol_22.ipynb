{
 "cells": [
  {
   "cell_type": "markdown",
   "metadata": {},
   "source": [
    "# [오일러문제 22번]\n",
    "---\n",
    "여기 5천개 이상의 영문 이름들이 들어있는 46KB짜리 텍스트 파일 names.txt 이 있습니다 (우클릭해서 다운로드 받으세요).\n",
    "이제 각 이름에 대해서 아래와 같은 방법으로 점수를 매기고자 합니다.\n",
    "\n",
    "- 먼저 모든 이름을 알파벳 순으로 정렬합니다.\n",
    "- 각 이름에 대해서, 그 이름을 이루는 알파벳에 해당하는 숫자(A=1, B=2, ..., Z=26)를 모두 더합니다.\n",
    "- 여기에 이 이름의 순번을 곱합니다.\n",
    "\n",
    "예를 들어 \"COLIN\"의 경우, 알파벳에 해당하는 숫자는 3, 15, 12, 9, 14이므로 합이 53, 그리고 정렬했을 때 938번째에 오므로 최종 점수는 938 × 53 = 49714가 됩니다.\n",
    "\n",
    "names.txt에 들어있는 모든 이름의 점수를 계산해서 더하면 얼마입니까?"
   ]
  },
  {
   "cell_type": "code",
   "execution_count": 1,
   "metadata": {
    "collapsed": false
   },
   "outputs": [
    {
     "name": "stdout",
     "output_type": "stream",
     "text": [
      "871198282\n"
     ]
    }
   ],
   "source": [
    "# -*- coding: utf-8 -*-\n",
    "f = open(\"E:/names.txt\",'r')\n",
    "s = f.read()\n",
    "f.close()\n",
    "\n",
    "temp = s.split(',')\n",
    "wordslist = [] #순수단어만 뽑아서 저장할 list\n",
    "\n",
    "for words in temp: #단어 양옆에 \"제거\n",
    "    wordslist.append(words.strip('\"'))\n",
    "\n",
    "wordslist.sort() #단어를 알파벳 순으로 정렬\n",
    "\n",
    "#알파벳에 해당하는 숫자(점수)\n",
    "point = {'A':1, 'B':2, 'C':3, 'D':4, 'E':5, 'F':6, 'G':7, 'H':8, 'I':9, 'J':10, 'K':11, 'L':12, 'M':13, 'N':14, 'O':15, 'P':16, 'Q':17, 'R':18, 'S':19, 'T':20, 'U':21, 'V':22, 'W':23, 'X':24, 'Y':25, 'Z':26}\n",
    "result = 0 #단어의 점수를 총합할 변수\n",
    "words_point = 0 #각 단어의 점수를 저장할 변수\n",
    "index = 1 #몇번째 단어인지 위치를 나타내는 변수\n",
    "\n",
    "for words in wordslist:\n",
    "    for alphabet in words:\n",
    "        words_point += point[alphabet]\n",
    "    result = result + words_point * (wordslist.index(words)+1) #한 단어의 점수 합과 해당 단어의 위치를 곱한다\n",
    "    words_point = 0\n",
    "\n",
    "print result"
   ]
  },
  {
   "cell_type": "markdown",
   "metadata": {},
   "source": [
    "파일을 읽어온다. 텍스트 파일에서 ,를 기준으로 단어를 나누어 리스트(temp)에 저장한다. 그 후, 단어양옆에 \"을 제거하여 순수한 알파벳 단어만 남게하여 리스트(wordslist)에 저장한다.\n",
    "\n",
    "리스트 내장함수 sort를 이용하여, 단어를 알파벳 순으로 정렬한다.\n",
    "알파벳별 점수를 나타내는 point라는 사전을 만든다. 그 후, 리스트에서 단어를 하나씩 꺼내서 각 알파벳별 점수를 더한다. 그리고 정렬된 단어 순서를 곱하여 최종적인 점수를 구한다."
   ]
  }
 ],
 "metadata": {
  "kernelspec": {
   "display_name": "Python 2",
   "language": "python",
   "name": "python2"
  },
  "language_info": {
   "codemirror_mode": {
    "name": "ipython",
    "version": 2
   },
   "file_extension": ".py",
   "mimetype": "text/x-python",
   "name": "python",
   "nbconvert_exporter": "python",
   "pygments_lexer": "ipython2",
   "version": "2.7.10"
  }
 },
 "nbformat": 4,
 "nbformat_minor": 0
}
