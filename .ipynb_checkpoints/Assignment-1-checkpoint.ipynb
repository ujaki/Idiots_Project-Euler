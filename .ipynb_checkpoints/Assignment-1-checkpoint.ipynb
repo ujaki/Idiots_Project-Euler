{
 "metadata": {
  "name": "",
  "signature": "sha256:95e8092a21a60ebcbd26bedc03c8c268cc7a14d8f43b3184b1db41432394d3ee"
 },
 "nbformat": 3,
 "nbformat_minor": 0,
 "worksheets": [
  {
   "cells": [
    {
     "cell_type": "markdown",
     "metadata": {},
     "source": [
      "***\n",
      "# Problem 1"
     ]
    },
    {
     "cell_type": "markdown",
     "metadata": {},
     "source": [
      "- a=\"Hello Python\" \ubb38\uc790\uc5f4\uc744 Slicing\uacfc \uc5f0\uacb0 \uc5f0\uc0b0\uc790 (+)\ub97c \uc0ac\uc6a9\ud558\uc5ec \"Python Hello\"\ub85c \ubcc0\uacbd\ud558\uc2dc\uc624. [\uc8fc\uc758] a \ubcc0\uc218 \uc790\uccb4\uc5d0 \"Python Hello\" \ubb38\uc790\uc5f4\uc774 \uc800\uc7a5\ub418\uc5b4\uc57c \ud568\n",
      "***"
     ]
    },
    {
     "cell_type": "code",
     "collapsed": false,
     "input": [
      "a = \"Hello Python\" \n",
      "print a \n",
      "a = a[6:12]+ ' ' + a[0:5] \n",
      "print a \n",
      "print\n",
      "print len(a)"
     ],
     "language": "python",
     "metadata": {},
     "outputs": [
      {
       "output_type": "stream",
       "stream": "stdout",
       "text": [
        "Hello Python\n",
        "Python Hello\n",
        "\n",
        "12\n"
       ]
      }
     ],
     "prompt_number": 3
    },
    {
     "cell_type": "markdown",
     "metadata": {},
     "source": [
      "- \uc124\uba85 : \ubcc0\uc218 a\uc5d0 \"Hello Python\"\uc744 \uc800\uc7a5\ud558\uace0 \ubb38\uc790\uc5f4 a\ub97c \ud55c \ubc88 \ucd9c\ub825\ud574\ubcf4\uace0 Slicing\uacfc + \uc5f0\uc0b0\uc790\ub97c \uc0ac\uc6a9\ud558\uc5ec \ub2e4\uc2dc \ubcc0\uc218 a\uc5d0 \uc800\uc7a5\uc744 \ud55c \ud6c4 a\ub97c \ub2e4\uc2dc \ud55c \ubc88 \ucd9c\ub825\ud588\uc2b5\ub2c8\ub2e4. \n",
      "- \ubb38\uc790\uc5f4\uc758 \uae38\uc774\ub97c \ucd9c\ub825\ud574\ubcf4\uba74 12(\ubb38\uc790\uc5f4 \ub05d \ud3ec\ud568)\n",
      "a[0:5] -> a[0] ~ a[4]\uc774\ubbc0\ub85c Hello\ub97c a[6:12] -> a[6] ~ a[11]\uc740 Python\uc744 \uac00\uc9c0\uace0 \uc788\uc73c\ubbc0\ub85c a[0:5]\uacfc a[6:12]\uc758 \uc21c\uc11c\ub97c \ubc14\uafb8\uc5b4 +\uc5f0\uc0b0\uc790\ub85c \uc5f0\uacb0\uc2dc\ucf1c\uc8fc\uba74 \ubcc0\uacbd\ub41c \ubb38\uc790\uc5f4\uc774 \ucd9c\ub835\ub429\ub2c8\ub2e4."
     ]
    },
    {
     "cell_type": "markdown",
     "metadata": {},
     "source": [
      "***\n",
      "# Problem 2"
     ]
    },
    {
     "cell_type": "markdown",
     "metadata": {},
     "source": [
      "- b=\"Hello Python World\" \ubb38\uc790\uc5f4\uc744 Slicing\uacfc \uc5f0\uacb0 \uc5f0\uc0b0\uc790 (+)\ub97c \uc0ac\uc6a9\ud558\uc5ec \"World Python Hello\"\ub85c \ubcc0\uacbd\ud558\uc2dc\uc624. [\uc8fc\uc758] b \ubcc0\uc218 \uc790\uccb4\uc5d0 \"World Python Hello\" \ubb38\uc790\uc5f4\uc774 \uc800\uc7a5\ub418\uc5b4\uc57c \ud568 \n",
      "***"
     ]
    },
    {
     "cell_type": "code",
     "collapsed": false,
     "input": [
      "b = \"Hello World Python\" \n",
      "print b \n",
      "b = b[12:18]+ ' ' + b[6:11] + ' ' + b[0:5] \n",
      "print b \n",
      "print\n",
      "print len(b)"
     ],
     "language": "python",
     "metadata": {},
     "outputs": [
      {
       "output_type": "stream",
       "stream": "stdout",
       "text": [
        "Hello World Python\n",
        "Python World Hello\n",
        "\n",
        "18\n"
       ]
      }
     ],
     "prompt_number": 4
    },
    {
     "cell_type": "markdown",
     "metadata": {},
     "source": [
      "- \uc124\uba85 : 1\ubc88 \ubb38\uc81c\uc640 \ub3d9\uc77c\ud558\uac8c \ubb38\uc790 \uc704\uce58\ub97c \ud30c\uc545 \ud6c4 Slicing\uacfc \uc5f0\uacb0 \uc5f0\uc0b0\uc790\ub97c \uc0ac\uc6a9\ud558\uc5ec \ubcc0\uacbd\ub41c \ucd9c\ub825\ud558\uc600\uc2b5\ub2c8\ub2e4. \n",
      "- b[0:5] = \"Hello\", b[6:11] = \"World\", b[12:18] = \"Python\""
     ]
    },
    {
     "cell_type": "markdown",
     "metadata": {},
     "source": [
      "***\n",
      "# Problem 3"
     ]
    },
    {
     "cell_type": "markdown",
     "metadata": {},
     "source": [
      "- c=\"Hello\"\ub97c \"olleH\"\ub85c \ubcc0\uacbd\ud558\uc2dc\uc624                                           [\uc8fc\uc758] c \ubcc0\uc218 \uc790\uccb4\uc5d0 \"olleH\" \ubb38\uc790\uc5f4\uc774 \uc800\uc7a5\ub418\uc5b4\uc57c \ud568\n",
      "***"
     ]
    },
    {
     "cell_type": "code",
     "collapsed": false,
     "input": [
      "c = \"Hello\" \n",
      "print c \n",
      "c = c[::-1] \n",
      "print c "
     ],
     "language": "python",
     "metadata": {},
     "outputs": [
      {
       "output_type": "stream",
       "stream": "stdout",
       "text": [
        "Hello\n",
        "olleH\n"
       ]
      }
     ],
     "prompt_number": 5
    },
    {
     "cell_type": "markdown",
     "metadata": {},
     "source": [
      "- \uc124\uba85 : Slicing\uc758 \ud615\uc2dd\uc5d0\uc11c 3\ubc88\uc9f8 \ud615\uc2dd\uc778 step\uc744 -1\ub85c \uc785\ub825\ud558\uba74 \ubb38\uc790\uc5f4\uc744 \uc5ed\uc21c\uc73c\ub85c \uc77d\ub294\ub2e4. \uc774 \uc810\uc744 \uc774\uc6a9\ud558\uc5ec \ubb38\uc790\uc5f4 \uc548\uc758 \ubb38\uc790 \uc804\uccb4\ub97c \uac70\uafb8\ub85c \uc77d\uc5b4\uc11c \ub2e4\uc2dc \ubcc0\uc218 c\uc5d0 \uc785\ub825 \ud6c4 \ucd9c\ub825\uc744\ud558\uba74 \ubb38\uc790\uac00 \uc5ed\uc21c\uc73c\ub85c \ucd9c\ub825\ub41c \ubb38\uc790\uc5f4\uc744 \ubcfc \uc218 \uc788\uc2b5\ub2c8\ub2e4."
     ]
    },
    {
     "cell_type": "markdown",
     "metadata": {},
     "source": [
      "***\n",
      "# Problem 4"
     ]
    },
    {
     "cell_type": "markdown",
     "metadata": {},
     "source": [
      "- s = \"python\"\uc5d0 \ub300\ud574 \ub2e4\uc74c \ubb38\uc81c\ub97c \ud480\uc5b4\ubcf4\uc2dc\uc624.\n",
      "  1. s[0], s[0][0], s[0][0][0]\uc740 \uac01\uac01 \uc5b4\ub5a4 \uac12\uc774 \ub098\uc624\ub294\uc9c0 \ud655\uc778\ud558\uace0 \uadf8 \uc774\uc720\ub97c \ub098      \ub984\ub300\ub85c \uc124\uba85\ud574 \ubcf4\uc2dc\uc624.\n",
      "  2. s[-100], s[100]\uc740 \uac12\uc774 \ub098\uc624\ub294\uc9c0 \uc5d0\ub7ec\uac00 \ub098\uc624\ub294\uc9c0 \ud655\uc778\ud558\uace0 \uadf8 \uacb0\uacfc\uc5d0 \ub300\ud55c \uc774\n",
      "     \uc720\ub97c \ub098\ub984\ub300\ub85c \uc124\uba85\ud574 \ubcf4\uc2dc\uc624.\n",
      "  3. s[-100, 100]\uc740 \uac12\uc774 \ub098\uc624\ub294\uc9c0 \uc5d0\ub7ec\uac00 \ub098\uc624\ub294\uc9c0 \ud655\uc778\ud558\uace0 \uadf8 \uacb0\uacfc\uc5d0 \ub300\ud55c \uc774\uc720\n",
      "     \ub97c \ub098\ub984\ub300\ub85c \uc124\uba85\ud574 \ubcf4\uc2dc\uc624.\n",
      "  4. s[1:-1]\uc758 \uacb0\uacfc\ub97c \ud655\uc778\ud558\uace0 \uadf8 \uacb0\uacfc\uc5d0 \ub300\ud55c \uc774\uc720\ub97c \uc815\ud655\ud558\uac8c \uc124\uba85\ud558\uc2dc\uc624.\n",
      "  5. s[3:-3]\uc758 \uacb0\uacfc\ub97c \ud655\uc778\ud558\uace0 \uadf8 \uacb0\uacfc\uc5d0 \ub300\ud55c \uc774\uc720\ub97c \uc815\ud655\ud558\uac8c \uc124\uba85\ud558\uc2dc\uc624."
     ]
    },
    {
     "cell_type": "code",
     "collapsed": false,
     "input": [
      "s = \"python\"\n",
      "print \"s[0] : \" + s[0]\n",
      "print \"s[0][0] : \" + s[0][0]\n",
      "print \"s[0][0][0] : \" + s[0][0][0]"
     ],
     "language": "python",
     "metadata": {},
     "outputs": [
      {
       "output_type": "stream",
       "stream": "stdout",
       "text": [
        "s[0] : p\n",
        "s[0][0] : p\n",
        "s[0][0][0] : p\n"
       ]
      }
     ],
     "prompt_number": 6
    },
    {
     "cell_type": "markdown",
     "metadata": {},
     "source": [
      "\ubb38\uc81c 1\ubc88\n",
      "\n",
      "\uc774\uc720 : \ubcc0\uc218 s\ub294 \ubb38\uc790\ub85c \uc774\ub8e8\uc5b4\uc9c4 \ub9ac\uc2a4\ud2b8 \uc989, \ubb38\uc790\uc5f4\uc774\ub2e4. \ubb38\uc790\uc758 \ubc30\uc5f4\uc784\uc73c\ub85c s[0]\ub294 1\ucc28\uc6d0 s[0][0]\ub294 2\ucc28\uc6d0 s[0][0][0] 3\ucc28\uc6d0 \ubc30\uc5f4\uc758 \uccab \ubb38\uc790 \uc989, p\uac00 \ucd9c\ub825\ub429\ub2c8\ub2e4.\n",
      "***\n",
      "\ubb38\uc81c 2\ubc88 "
     ]
    },
    {
     "cell_type": "code",
     "collapsed": false,
     "input": [
      "print s[-100]"
     ],
     "language": "python",
     "metadata": {},
     "outputs": [
      {
       "ename": "IndexError",
       "evalue": "string index out of range",
       "output_type": "pyerr",
       "traceback": [
        "\u001b[1;31m---------------------------------------------------------------------------\u001b[0m\n\u001b[1;31mIndexError\u001b[0m                                Traceback (most recent call last)",
        "\u001b[1;32m<ipython-input-7-598074702a96>\u001b[0m in \u001b[0;36m<module>\u001b[1;34m()\u001b[0m\n\u001b[1;32m----> 1\u001b[1;33m \u001b[1;32mprint\u001b[0m \u001b[0ms\u001b[0m\u001b[1;33m[\u001b[0m\u001b[1;33m-\u001b[0m\u001b[1;36m100\u001b[0m\u001b[1;33m]\u001b[0m\u001b[1;33m\u001b[0m\u001b[0m\n\u001b[0m",
        "\u001b[1;31mIndexError\u001b[0m: string index out of range"
       ]
      }
     ],
     "prompt_number": 7
    },
    {
     "cell_type": "code",
     "collapsed": false,
     "input": [
      "print s[100]"
     ],
     "language": "python",
     "metadata": {},
     "outputs": [
      {
       "ename": "IndexError",
       "evalue": "string index out of range",
       "output_type": "pyerr",
       "traceback": [
        "\u001b[1;31m---------------------------------------------------------------------------\u001b[0m\n\u001b[1;31mIndexError\u001b[0m                                Traceback (most recent call last)",
        "\u001b[1;32m<ipython-input-8-8a5646048cdd>\u001b[0m in \u001b[0;36m<module>\u001b[1;34m()\u001b[0m\n\u001b[1;32m----> 1\u001b[1;33m \u001b[1;32mprint\u001b[0m \u001b[0ms\u001b[0m\u001b[1;33m[\u001b[0m\u001b[1;36m100\u001b[0m\u001b[1;33m]\u001b[0m\u001b[1;33m\u001b[0m\u001b[0m\n\u001b[0m",
        "\u001b[1;31mIndexError\u001b[0m: string index out of range"
       ]
      }
     ],
     "prompt_number": 8
    },
    {
     "cell_type": "markdown",
     "metadata": {},
     "source": [
      "\uc774\uc720 : \ubcc0\uc218 s\uc5d0 \uc800\uc7a5\ub41c \ubb38\uc790\ub4e4\uc740 s[0] ~ s[5]\uae4c\uc9c0 \ubc94\uc704\uc5d0 \uc18d\ud568\uc73c\ub85c s[-100]\ub098 s[100]\uc744 \ucd9c\ub825\ud558\uba74 Index\uc5d0\ub7ec string index\uc758 \ubc94\uc704\uac00 \ud3ec\ud568\ub418\uc9c0 \uc54a\uac70\ub098 \ub118\uc5b4\uc11c \uc774\ub7ec\ud55c \uc624\ub958\uac00 \ubc1c\uc0dd\ud569\ub2c8\ub2e4.\n",
      "***\n",
      "\ubb38\uc81c 3\ubc88 "
     ]
    },
    {
     "cell_type": "code",
     "collapsed": false,
     "input": [
      "print s[-100, 100]"
     ],
     "language": "python",
     "metadata": {},
     "outputs": [
      {
       "ename": "TypeError",
       "evalue": "string indices must be integers, not tuple",
       "output_type": "pyerr",
       "traceback": [
        "\u001b[1;31m---------------------------------------------------------------------------\u001b[0m\n\u001b[1;31mTypeError\u001b[0m                                 Traceback (most recent call last)",
        "\u001b[1;32m<ipython-input-16-682bda7d6434>\u001b[0m in \u001b[0;36m<module>\u001b[1;34m()\u001b[0m\n\u001b[1;32m----> 1\u001b[1;33m \u001b[1;32mprint\u001b[0m \u001b[0ms\u001b[0m\u001b[1;33m[\u001b[0m\u001b[1;33m-\u001b[0m\u001b[1;36m100\u001b[0m\u001b[1;33m,\u001b[0m \u001b[1;36m100\u001b[0m\u001b[1;33m]\u001b[0m\u001b[1;33m\u001b[0m\u001b[0m\n\u001b[0m",
        "\u001b[1;31mTypeError\u001b[0m: string indices must be integers, not tuple"
       ]
      }
     ],
     "prompt_number": 16
    },
    {
     "cell_type": "markdown",
     "metadata": {},
     "source": [
      "\uc774\uc720 : \uc5d0\ub7ec \ub0b4\uc6a9\uc740 \ubb38\uc790\uc5f4\uc758 index \ucc38\uc870\ub294 \ubc18\ub4dc\uc2dc \uc815\uc218\ud615\uc774\uc5b4\uc57c\ud558\uba70 \ud29c\ud50c\ud615\uc2dd\uc740 \uc544\ub2c8\ub41c\ub2e4.\n",
      "\uc989, \ubb38\uc790\uc5f4\uc758 \ucc38\uc870\uac00 \uc798\ubabb\ub418\uc5c8\uc2b5\ub2c8\ub2e4.\n",
      "***\n",
      "\ubb38\uc81c 4\ubc88 "
     ]
    },
    {
     "cell_type": "code",
     "collapsed": false,
     "input": [
      "print s[1:-1]"
     ],
     "language": "python",
     "metadata": {},
     "outputs": [
      {
       "output_type": "stream",
       "stream": "stdout",
       "text": [
        "ytho\n"
       ]
      }
     ],
     "prompt_number": 21
    },
    {
     "cell_type": "markdown",
     "metadata": {},
     "source": [
      "\uc774\uc720 : Slicing \ud615\uc2dd\uc744 \ubcf4\uba74 start : 1, stop : -1 -> s[1:-1]\uc774 \ub73b\uc740 s[1]\ubd80\ud130 \ubb38\uc790\uc5f4\uc758 \ub05d\uc758 \uc804\uae4c\uc9c0\ub97c \ud3ec\ud568\ud558\uace0 \uc788\uc5b4\uc11c 'python'\uc5d0\uc11c s[1] = 'y'\uc774\uba70 \uc774 \ubb38\uc790\uc5f4 \ub05d\uc758 \uc804 \ubb38\uc790\ub294 'o'\uc785\ub2c8\ub2e4. \ub530\ub77c\uc11c \ucd9c\ub825\uacb0\uacfc 'ytho'\uc785\ub2c8\ub2e4.\n",
      "***\n",
      "\ubb38\uc81c 5\ubc88 "
     ]
    },
    {
     "cell_type": "code",
     "collapsed": false,
     "input": [
      "s = 'python'\n",
      "print s[3:-3]"
     ],
     "language": "python",
     "metadata": {},
     "outputs": [
      {
       "output_type": "stream",
       "stream": "stdout",
       "text": [
        "\n"
       ]
      }
     ],
     "prompt_number": 27
    },
    {
     "cell_type": "markdown",
     "metadata": {},
     "source": [
      "\uc774\uc720 : s[3:-3]\uc744 \ubd84\uc11d\ud574\ubcf4\uba74 s[3] : 't', s[3:-3] \uc5ec\uae30\uc11c \ubb38\uc790\uc5f4 \ub05d\uc5d0\uc11c \uc55e\uc73c\ub85c 3\uce78, 'h'\ub97c \ub73b\ud568\uc73c\ub85c s[3:-3]\uc740 't'\ub97c \uc2dc\uc791\uc73c\ub85c\ud574\uc11c \ub05d\uc5d0\uc11c \uc55e\uc73c\ub85c 3\uce78\uc758 \uc804\uae4c\uc9c0\ub97c \ud3ec\ud568\ud558\ub294\ub370, star\uc640 stop\uc774 \ub458 \ub2e4 't'\uc784\uc73c\ub85c \uacf5\ubc31\uc73c\ub85c \ucd9c\ub825\ub429\ub2c8\ub2e4.\n",
      "***\n"
     ]
    },
    {
     "cell_type": "markdown",
     "metadata": {},
     "source": [
      "***\n",
      "# Problem 5"
     ]
    },
    {
     "cell_type": "markdown",
     "metadata": {},
     "source": [
      "- for\ubb38\uc744 \ud65c\uc6a9\ud558\uc5ec 1\ubd80\ud130 100\uc0ac\uc774\uc758 \ud640\uc218\ub97c \ucd9c\ub825\ud558\uc2dc\uc624."
     ]
    },
    {
     "cell_type": "code",
     "collapsed": false,
     "input": [
      "for x in range(1,101): \n",
      "    if (x%2) == 1: # %\uc5f0\uc0b0 \uacb0\uacfc 1\uc774\uba74 x\ub294 \ud640\uc218\n",
      "        print x,"
     ],
     "language": "python",
     "metadata": {},
     "outputs": [
      {
       "output_type": "stream",
       "stream": "stdout",
       "text": [
        "1 3 5 7 9 11 13 15 17 19 21 23 25 27 29 31 33 35 37 39 41 43 45 47 49 51 53 55 57 59 61 63 65 67 69 71 73 75 77 79 81 83 85 87 89 91 93 95 97 99\n"
       ]
      }
     ],
     "prompt_number": 29
    },
    {
     "cell_type": "markdown",
     "metadata": {},
     "source": [
      "- \uc124\uba85 : range()\ud568\uc218\ub97c \uc774\uc6a9\ud558\uc5ec 1\ubd80\ud130 100\uae4c\uc9c0\uc758 \uc22b\uc790 \ub9ac\uc2a4\ud2b8\ub97c \ubc1b\uc544\uc640\uc11c \ud0c0\uac9f x\uc5d0 1\ubd80\ud130 \ucc28\ub840\ub300\ub85c 1\uc529 \uc99d\uac00\ud558\uba74\uc11c \ubc18\ubcf5\uc744 \ud55c\ub2e4. \n",
      " \uc989 100\ubc88\uc758 \ubc18\ubcf5\ubb38\uc774 \uc218\ud589\uc774\ub41c\ub2e4. \ubc18\ubcf5\ubb38 \uc218\ud589\uc911\uc5d0 \uc870\uac74\ubb38 if\uc640 % \uc5f0\uc0b0\uc790\ub97c \uc774\uc6a9\ud558\uc5ec x\ub97c 2\ub85c \ub098\ub204\uc5c8\uc744\ub54c \ub098\uba38\uc9c0\uac00 1\uc774\uba74 \ud640\uc218\uc774\ubbc0\ub85c (x%2) == 1 \uc774 \uc870\uac74\uc744 \ub9cc\uc871\ud558\uba74 \ud604\uc7ac for\ubb38 \uc218\ud589\uc911\uc778 x\uc758 \uac12\uc744 \ucd9c\ub825\uc2dc\ud0a4\uba74 \uadf8\uac83\uc774 \ud640\uc218\uac00 \ub429\ub2c8\ub2e4."
     ]
    },
    {
     "cell_type": "markdown",
     "metadata": {},
     "source": [
      "***\n",
      "# Problem 6"
     ]
    },
    {
     "cell_type": "markdown",
     "metadata": {},
     "source": [
      "- while\ubb38\uc744 \ud65c\uc6a9\ud558\uc5ec 1\ubd80\ud130 100\uc0ac\uc774\uc758 \uc9dd\uc218\uc758 \ud569\uc744 \uacc4\uc0b0\ud558\uc5ec \ucd9c\ub825\ud558\uc2dc\uc624.\n",
      "***"
     ]
    },
    {
     "cell_type": "code",
     "collapsed": false,
     "input": [
      "count = 0 \n",
      "sum = 0 \n",
      "while count < 101: \n",
      "    count = count + 1 \n",
      "    if(count % 2) == 0: # % \uc5f0\uc0b0 \uacb0\uacfc 0\uc774\uba74 count\ub294 \uc9dd\uc218\n",
      "        sum = sum + count \n",
      "print sum"
     ],
     "language": "python",
     "metadata": {},
     "outputs": [
      {
       "output_type": "stream",
       "stream": "stdout",
       "text": [
        "2550\n"
       ]
      }
     ],
     "prompt_number": 28
    },
    {
     "cell_type": "markdown",
     "metadata": {},
     "source": [
      "- \uc124\uba85 : while\ubb38\uc740 \uc870\uac74\uc2dd(count < 101)\uc774 \ub9cc\uc871\ud558\ub294 \ub3d9\uc548 while\ube14\ub85d\ub0b4\uc758 \ubb38\uc7a5\ub4e4\uc744 \ubc18\ubcf5 \uc218\ud589\ud569\ub2c8\ub2e4. \ubc18\ubcf5\uc744 \uc704\ud574 1\ubc88 \ubc18\ubcf5\uc2dc count\ub97c 1\uc99d\uac00 \uc2dc\ud0a4\uace0 count\uac00 \uc9dd\uc218\uc77c\ub54c (\uc989, count\ub97c 2\ub85c \ub098\ub204\uc5c8\uc744\ub54c \ub098\uba38\uc9c0\uac00 0\uc774\uba74) \ucd1d\ud569\uc744 \ub098\ud0c0\ub0b4\ub294 \ubcc0\uc218 sum\uc5d0 \ub354\ud574\uc90d\ub2c8\ub2e4. \n",
      "\ucc98\uc74c \ub354\ud55c \uacb0\uacfc\uc5d0 \uacc4\uc18d \uc870\uac74\uc5d0 \ub9de\uc744\ub54c\ub9c8\ub2e4 \uadf8 \uc218(count)\ub97c \ub354\ud574\uc8fc\uba74\uc11c while\ubb38\uc774 \ub05d\ub0a0\ub54c\uae4c\uc9c0 \ubc18\ubcf5\ubb38\uc744 \uc218\ud589\ud558\uba74 1\ubd80\ud130 100\uc0ac\uc774\uc758 \uc9dd\uc218\uc758 \ud569\uc774 \ubcc0\uc218 sum\uc5d0 \uc800\uc7a5\ub418\uace0 sum\uc744 \ucd9c\ub825\ud558\uba74 \uadf8\uac83\uc774 1\ubd80\ud130 100\uc0ac\uc774\uc758 \uc9dd\uc218\uc758 \ud569\uc785\ub2c8\ub2e4."
     ]
    },
    {
     "cell_type": "markdown",
     "metadata": {},
     "source": [
      "***\n",
      "# Problem 7"
     ]
    },
    {
     "cell_type": "markdown",
     "metadata": {},
     "source": [
      "- \uc678\ubd80\ub85c \ubd80\ud130 \uc815\uc218\ub97c \uc785\ub825\ubc1b\uc544\uc11c 1\ubd80\ud130 \uadf8 \uc0ac\uc774\uc5d0 \uc874\uc7ac\ud558\ub294 \uc18c\uc218(Prime number)\ub97c \ucd9c\ub825\ud558\ub294 \ud30c\uc774\uc36c \ud504\ub85c\uadf8\ub7a8\uc744 \uc791\uc131\ud558\uc2dc\uc624.\n",
      "***"
     ]
    },
    {
     "cell_type": "code",
     "collapsed": false,
     "input": [
      "num = input('int :') \n",
      "\n",
      "for x in range(1, num + 1):  # \ubc18\ubcf5\ubb38 (1)\n",
      "    prime = 1                # \ubcc0\uc218 prime\uc744 1\ub85c \uc14b\ud305 \n",
      "    for y in range(2, x):    # \ubc18\ubcf5\ubb38 (2) \n",
      "        if (x%y) == 0:       # \uc774 \uc870\uac74\ubb38\uc774 \ub9de\uc73c\uba74 \uc18c\uc218\uac00 \uc544\ub2d8\n",
      "            prime = 0        # \uc870\uac74\ubb38\uc774 \uc218\ud589\ub418\uba74 prime\uc744 0\uc73c\ub85c \uc14b\ud305 \n",
      "    if(prime):               # prime\uc774 0 \ub610\ub294 1 \uc989,\ucc38 or \uac70\uc9d3\uc5d0 \ub530\ub77c \ucd9c\ub825\ubb38 \uc218\ud589 \n",
      "        print(x)             # prime\uc774 1\uc77c\ub54c \uc870\uac74\ubb38 \uc218\ud589 \uc989, \uc18c\uc218 \ucd9c\ub825"
     ],
     "language": "python",
     "metadata": {},
     "outputs": [
      {
       "name": "stdout",
       "output_type": "stream",
       "stream": "stdout",
       "text": [
        "int :15\n"
       ]
      },
      {
       "output_type": "stream",
       "stream": "stdout",
       "text": [
        "1\n",
        "2\n",
        "3\n",
        "5\n",
        "7\n",
        "11\n",
        "13\n"
       ]
      }
     ],
     "prompt_number": 25
    },
    {
     "cell_type": "markdown",
     "metadata": {},
     "source": [
      "\uc124\uba85 \n",
      "- input()\ud568\uc218\ub97c \uc774\uc6a9\ud558\uc5ec \uc815\uc218\ub97c \ud558\ub098 \uc785\ub825\ubc1b\uc544 \ubcc0\uc218 num\uc5d0 \uc800\uc7a5\ud55c \ud6c4 \uc774\uc911 \ubc18\ubcf5\uc744 \ud1b5\ud574   \uc18c\uc218\ub97c \uad6c\ud569\ub2c8\ub2e4.\n",
      "- \ubc18\ubcf5\ubb38 (1)\uc740 1\ubd80\ud130 \uc785\ub825 \ubc1b\uc740 \uc218\uae4c\uc9c0 \ubc18\ubcf5\ud558\uace0 \ubc18\ubcf5\ubb38 (2)\ub294 1\uc744 \uc81c\uc678\ud55c 2\ubd80\ud130 \ud604\uc7ac x   \uc758 \uac12\uae4c\uc9c0 \ubc18\ubcf5. \uc774\ub54c x%y = 0\uc774\ub77c\ub294 \uc870\uac74\uc774 \ub9cc\uc871\ud558\uba74 \uc18c\uc218\uac00 \uc544\ub2c8\ub77c\ub294 \ub73b\uc774\ubbc0\ub85c prime   \ubcc0\uc218 \uac12\uc744 0\uc73c\ub85c \uc14b\ud305\n",
      "- prime\uc758 \uac12\uc5d0 \ub530\ub77c \ucd9c\ub825\ubb38 \uc2e4\ud589 prime\uc774 1\uc774\uba74 \uc870\uac74\ubb38\uc774 \uc2e4\ud589\ub428 \uc989, \uc18c\uc218 \ucd9c\ub825 "
     ]
    },
    {
     "cell_type": "markdown",
     "metadata": {},
     "source": [
      "***\n",
      "\uc18c\uac10 : \uc2a4\ud06c\ub9bd\ud2b8 \ud504\ub85c\uadf8\ub798\ubc0d\uc744 \uc218\uac15\ud558\uae30 \uc804 \ud558\uacc4\ubc29\ud559 \uae30\uac04 \uc911 \uc790\uc2b5\uc73c\ub85c \ud30c\uc774\uc36c\uc744 \uacf5\ubd80\ud55c \uc801\uc774 \uc788\uc2b5\ub2c8\ub2e4. \uadf8\ub54c\ub294 python.org \ud648\ud398\uc774\uc9c0\uc5d0\uc11c \ud30c\uc774\uc36c \uac1c\ubc1c \ud234\uc744 \ub2e4\uc6b4\ub85c\ub4dc \ubc1b\uc544\uc11c \uacf5\ubd80\ub97c \ud588\uc5c8\ub294\ub370 \uc774\ubc88 \uc218\uc5c5\uc744 \uc218\uac15\ud558\uba74\uc11c ipython, \uc18c\uc2a4\ud2b8\ub9ac, github, acroedit \ub4f1 \ud3c9\uc18c\uc5d0 \ub4e3\ub3c4 \ubcf4\uc9c0\ub3c4 \ubabb\ud55c \uac1c\ubc1c\ud234\uacfc \ud3b8\uc9d1\ud234\uc744 \uc54c\uac8c\ub418\uace0 \ub610\ud55c \uc368\ubd04\uc73c\ub85c\uc368 \uc544\uc9c1 \ub0b4\uac00 \ubaa8\ub974\ub294\uac8c \ub9ce\uace0 \ud30c\uc774\uc36c \uc5b8\uc5b4\ub97c \ubc30\uc6b0\ub294\uac83\uc774 \uc81c\uc77c \uc911\uc694\ud558\uc9c0\ub9cc \uad50\uc218\ub2d8\uc774 \uc54c\ub824\uc8fc\uc2e0 \uc720\uc6a9\ud558\uace0 \uc88b\uc740 \ud504\ub85c\uadf8\ub7a8\uc744 \uc368\ubd04\uc73c\ub85c\uc368 \ub0b4\uac00 \uc81c\uc77c \uc798\uc4f0\uace0 \uc798 \ud65c\uc6a9\ud560 \uc218 \uc788\ub294 \ud504\ub85c\uadf8\ub7a8\uc744 \ud55c \ub450\uac1c \uc774\uc0c1 \uc798 \ub2e4\ub8e8\ub3c4\ub85d \uc5f0\uc2b5\ud558\ub294 \uc2b5\uad00\uc744 \ud0a4\uc6cc\uc57c\uaca0\ub2e4\ub294 \uc0dd\uac01\uc744 \ub290\uaf08\uc2b5\ub2c8\ub2e4."
     ]
    }
   ],
   "metadata": {}
  }
 ]
}