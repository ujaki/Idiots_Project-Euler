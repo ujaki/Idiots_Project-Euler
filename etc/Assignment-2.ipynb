{
 "metadata": {
  "name": "",
  "signature": "sha256:003d917044dccaee7d78704921da732ad9abbbb976b36667950db0888ee3acc6"
 },
 "nbformat": 3,
 "nbformat_minor": 0,
 "worksheets": [
  {
   "cells": [
    {
     "cell_type": "markdown",
     "metadata": {},
     "source": [
      "***\n",
      "# Problem 1"
     ]
    },
    {
     "cell_type": "markdown",
     "metadata": {},
     "source": [
      "- \ub2e4\uc74c 6\uac1c\uc758Expression\uc5d0 \ub300\ud574 Evaluation \uacb0\uacfc \uac12\uc744 \ucd9c\ub825\ud558\uace0, \ud574\ub2f9 \uacb0\uacfc\uac00 \ub098\uc628 \uc774\uc720\uc5d0 \ub300\ud574 \uc124\uba85\ud558\uc2dc\uc624\n",
      "   - 1 and 2 and 3 and 4\n",
      "   - 1 or 2 or 3 or 4\n",
      "   - 1 and 2 or 3 and 4\n",
      "   - (1 and 2) or (3 and 4)\n",
      "   - 1 or 2 and 3 or 4\n",
      "   - (1 or 2) and (3 or 4)\n",
      "***"
     ]
    },
    {
     "cell_type": "markdown",
     "metadata": {},
     "source": [
      " - \uac1d\uccb4\uc758 \uc9c4\ub9ac \uac12\uc740 0 \ub610\ub294 \ube48 \uac1d\uccb4\uc774\uba74 \uac70\uc9d3, \uc774\uc678\uc758 \uac83\uc740 \ucc38\uc774\ub2e4.\n",
      " - \ub17c\ub9ac\uc2dd\uc758 \uacc4\uc0b0 \uc21c\uc11c\ub294 \uacb0\uacfc\uac00 \uc54c\ub824\uc9c0\ub294 \uc2dc\uc810\uae4c\uc9c0\ub9cc \uacc4\uc0b0\ub418\uace0 \ucd5c\uc885 \uacc4\uc0b0 \uc2dc\uc810\uc758 \uac1d\uccb4\ub97c \ub9ac\ud134\ud55c\ub2e4."
     ]
    },
    {
     "cell_type": "code",
     "collapsed": false,
     "input": [
      "1 and 2 and 3 and 4"
     ],
     "language": "python",
     "metadata": {},
     "outputs": [
      {
       "metadata": {},
       "output_type": "pyout",
       "prompt_number": 2,
       "text": [
        "4"
       ]
      }
     ],
     "prompt_number": 2
    },
    {
     "cell_type": "markdown",
     "metadata": {},
     "source": [
      "\uc124\uba85 : 1, 2, 3, 4 \ubaa8\ub450 \ud655\uc778\ud574\uc57c \ub418\uc11c 4\uac1c \ubaa8\ub450 \uacc4\uc0b0\ud558\ubbc0\ub85c 4\uac00 \ucd5c\uc885 \uacc4\uc0b0 \uc704\uce58\ub77c\uc11c 4\uac00 \ub9ac\ud134\ub418\uc5b4 4\uac00 \ucd9c\ub825\ub429\ub2c8\ub2e4."
     ]
    },
    {
     "cell_type": "code",
     "collapsed": false,
     "input": [
      "1 or 2 or 3 or 4"
     ],
     "language": "python",
     "metadata": {},
     "outputs": [
      {
       "metadata": {},
       "output_type": "pyout",
       "prompt_number": 3,
       "text": [
        "1"
       ]
      }
     ],
     "prompt_number": 3
    },
    {
     "cell_type": "markdown",
     "metadata": {},
     "source": [
      "\uc124\uba85 : 1\uc774 \ucc38\uc774\ubbc0\ub85c \ub354 \uc774\uc0c1 \uacc4\uc0b0\ud558\uc9c0 \uc54a\uc544\ub3c4 \ucc38\uc774\ubbc0\ub85c \uacb0\uacfc\ub294 1\uc785\ub2c8\ub2e4."
     ]
    },
    {
     "cell_type": "code",
     "collapsed": false,
     "input": [
      "1 and 2 or 3 and 4"
     ],
     "language": "python",
     "metadata": {},
     "outputs": [
      {
       "metadata": {},
       "output_type": "pyout",
       "prompt_number": 3,
       "text": [
        "2"
       ]
      }
     ],
     "prompt_number": 3
    },
    {
     "cell_type": "markdown",
     "metadata": {},
     "source": [
      "\uc124\uba85 : 1 and 2\uc758 \uacb0\uacfc \ucd5c\uc885 \uacc4\uc0b0\uc778 2\uac00 \ub9ac\ud134\ub418\uace0 2 or 3 and 4\uc5d0\uc11c 2\ub294 \ucc38\uc774\ubbc0\ub85c or\uc5f0\uc0b0\uc870\uac74\uc5d0 \uc758\ud574 \ucd5c\uc885\uacb0\uacfc\ub294 \ucc38\uc774\ubbc0\ub85c 2\uac00 \ucd9c\ub825\ub429\ub2c8\ub2e4."
     ]
    },
    {
     "cell_type": "code",
     "collapsed": false,
     "input": [
      "(1 and 2) or (3 and 4)"
     ],
     "language": "python",
     "metadata": {},
     "outputs": [
      {
       "metadata": {},
       "output_type": "pyout",
       "prompt_number": 5,
       "text": [
        "2"
       ]
      }
     ],
     "prompt_number": 5
    },
    {
     "cell_type": "markdown",
     "metadata": {},
     "source": [
      "\uc124\uba85 : 1 and 2\uc758 \uacb0\uacfc \ucd5c\uc885 \uacc4\uc0b0\uc778 2\uac00 \ub9ac\ud134\ub418\uace0 3 and 4\ub294 4\uac00 \ub9ac\ud134\ub418\uc11c \ucd5c\uc885 \uacc4\uc0b0\uc740 2 or 4\uac00 \ub418\ub294\ub370 \uc5ec\uae30\uc11c 2\uac00 \ucc38\uc774\ubbc0\ub85c  or\uc5f0\uc0b0\uc870\uac74\uc5d0 \uc758\ud574 2\uac00 \ucd9c\ub825\ub429\ub2c8\ub2e4."
     ]
    },
    {
     "cell_type": "code",
     "collapsed": false,
     "input": [
      "1 or 2 and 3 or 4"
     ],
     "language": "python",
     "metadata": {},
     "outputs": [
      {
       "metadata": {},
       "output_type": "pyout",
       "prompt_number": 6,
       "text": [
        "1"
       ]
      }
     ],
     "prompt_number": 6
    },
    {
     "cell_type": "markdown",
     "metadata": {},
     "source": [
      "\uc124\uba85 : 1 or 2 \uc5f0\uc0b0 \uacb0\uacfc \ucc38\uc774\ubbc0\ub85c 1\uc774 \ucd9c\ub825\ub429\ub2c8\ub2e4."
     ]
    },
    {
     "cell_type": "code",
     "collapsed": false,
     "input": [
      "(1 or 2) and (3 or 4)"
     ],
     "language": "python",
     "metadata": {},
     "outputs": [
      {
       "metadata": {},
       "output_type": "pyout",
       "prompt_number": 7,
       "text": [
        "3"
       ]
      }
     ],
     "prompt_number": 7
    },
    {
     "cell_type": "markdown",
     "metadata": {},
     "source": [
      "\uc124\uba85 : \uac00\ub85c \uc548\uc5d0 \uc788\ub294 1 or 2\uc758 \uac12\uc740 1\uc774\uace0 3 or 4\ub294 3\uc774\ubbc0\ub85c 1 and 3\uc740 \ucd5c\uc885 \uacc4\uc0b0\uc778 3\uc774 \ucd9c\ub825\ub429\ub2c8\ub2e4."
     ]
    },
    {
     "cell_type": "markdown",
     "metadata": {},
     "source": [
      "***\n",
      "# Problem 2"
     ]
    },
    {
     "cell_type": "markdown",
     "metadata": {},
     "source": [
      "- 7/5, -7/5, -(7/5)\uc758 \uacb0\uacfc\ub97c \ud655\uc778\ud558\uace0 \uac01\uac01\uc758 \uacb0\uacfc\uac00 \uc65c \uadf8\ub807\uac8c \ub098\uc624\ub294 \uc9c0 \uc124\uba85\ud558\uc2dc\uc624\n",
      "  - [\ucc38\uace0] \ubaab\uc740 \ud56d\uc0c1 \uc74c\uc758 \ubb34\ud55c\ub300 \ubc29\ud5a5\uc73c\ub85c round up (\ubc18\uc62c\ub9bc) \ub41c\ub2e4\ub294 \uc810\uc744 \uae30\uc5b5\ud574\uc57c \ud568\n",
      "***"
     ]
    },
    {
     "cell_type": "code",
     "collapsed": false,
     "input": [
      "print '7/5 : ',\n",
      "print 7/5\n",
      "print '-----------------------------'\n",
      "print '-7/5 : ',\n",
      "print -7/5\n",
      "print '-----------------------------'\n",
      "print '-(7/5) : ',\n",
      "print -(7/5)\n",
      "print '-----------------------------'"
     ],
     "language": "python",
     "metadata": {},
     "outputs": [
      {
       "output_type": "stream",
       "stream": "stdout",
       "text": [
        "7/5 :  1\n",
        "-----------------------------\n",
        "-7/5 :  -2\n",
        "-----------------------------\n",
        "-(7/5) :  -1\n",
        "-----------------------------\n"
       ]
      }
     ],
     "prompt_number": 1
    },
    {
     "cell_type": "markdown",
     "metadata": {},
     "source": [
      "\uc124\uba85 \n",
      "    - 7/5\ub294 \uc591\uc218\uc774\uace0 \ubaab\uc774 1\uc784\uc73c\ub85c 1\uc774 \ucd9c\ub825\ub429\ub2c8\ub2e4.\n",
      "    - -7/5\ub294 \ub2e8\ud56d \uc5f0\uc0b0\uc790(-)\uc758 \uc6b0\uc120\uc21c\uc704\uac00 \uc774\ud56d \uc5f0\uc0b0\uc790(/)\uc758 \uc6b0\uc120\uc21c\uc704\ubcf4\ub2e4 \ub192\uc73c\ubbc0\ub85c -7\ub97c 5\ub85c \ub098\ub204\uba74 -1.--\uc778\ub370 \ud30c\uc774\uc36c\uc5d0\uc11c \ubaab\uc740 \ud56d\uc0c1 \uc74c\uc758 \ubb34\ud55c\ub300 \ubc29\ud5a5\uc73c\ub85c \ubc18\uc62c\ub9bc \ub428\uc73c\ub85c \ucd9c\ub825\uacb0\uacfc\ub294 -2\uac00 \ub429\ub2c8\ub2e4.\n",
      "    - -(7/5)\ub294 \uac00\ub85c\uc548\uc5d0 \uc788\ub294 \uc5f0\uc0b0\ubd80\ud130 \uc218\ud589\ub428\uc73c\ub85c 7/5\uc758 \uacb0\uacfc\ub294 1, \uc774 \uacb0\uacfc\uc5d0 - \uc5f0\uc0b0\uc744 \uc218\ud589\ud558\uba74 \uc591\uc218\uc5d0\uc11c \uc74c\uc218\ub85c \ubc14\ub01c\uc73c\ub85c \uacb0\uacfc\ub294 -1\uc774 \ub429\ub2c8\ub2e4."
     ]
    },
    {
     "cell_type": "markdown",
     "metadata": {},
     "source": [
      "***\n",
      "# Problem 3"
     ]
    },
    {
     "cell_type": "markdown",
     "metadata": {},
     "source": [
      "- \ud0a4\ubcf4\ub4dc\ub85c \uc815\uc218\uac12\uc744 \uc785\ub825 \ubc1b\uace0 \uadf8 \uac12\uc774 \uc591\uc218\uc778\uc9c0 \uc74c\uc218\uc778\uc9c0\ub97c \ube44\ud2b8 \uc5f0\uc0b0\uc790\ub97c \uc774\uc6a9\ud558\uc5ec \ud310\ub2e8\ud558\ub294 \ud504\ub85c\uadf8\ub7a8\uc744 \uc791\uc131\ud558\uc2dc\uc624. \n",
      "  - [\ucc38\uace0] \uac00\uc7a5 \uc67c\ucabd\uc5d0 \uc788\ub294 \ube44\ud2b8\uac00 0\uc774\uba74 \uc591\uc218\uc774\uba70, 1\uc774\uba74 \uc74c\uc218\uc774\ub2e4.\n",
      "***"
     ]
    },
    {
     "cell_type": "code",
     "collapsed": false,
     "input": [
      "for x in range(3):\n",
      "    num = input(\"int : \") #\uc815\uc218 \uc785\ub825\n",
      "    temp = ~num     #\ube44\ud2b8 \ubc18\uc804\n",
      "    if temp == -1: #0\uc758 \ube44\ud2b8\ubc18\uc804\ub41c \uac12\uc740 -1\uc784\uc73c\ub85c \n",
      "        print '0\uc785\ub2c8\ub2e4.'\n",
      "    elif num <= temp: #\ube44\ud2b8 \ubc18\uc804\ub41c \uc815\uc218\uac00 \uc785\ub825\ud55c \uc815\uc218\ubcf4\ub2e4 \ud074\ub54c \uc74c\uc218\uc774\ub2e4.\n",
      "        print \"\uc74c\uc218\uc785\ub2c8\ub2e4.\" #\uc815\uc218 -1\uc758 \ube44\ud2b8 \ubc18\uc804\uc740 0\uc784\uc73c\ub85c \ud06c\uac70\ub098 \uac19\ub2e4\ub97c \uc0ac\uc6a9\n",
      "    elif num > temp:\n",
      "        print \"\uc591\uc218\uc785\ub2c8\ub2e4.\" #0\uc740 \uc815\uc218\ub85c \ucd9c\ub825"
     ],
     "language": "python",
     "metadata": {},
     "outputs": [
      {
       "name": "stdout",
       "output_type": "stream",
       "stream": "stdout",
       "text": [
        "int : 0\n"
       ]
      },
      {
       "output_type": "stream",
       "stream": "stdout",
       "text": [
        "0\uc785\ub2c8\ub2e4.\n"
       ]
      },
      {
       "name": "stdout",
       "output_type": "stream",
       "stream": "stdout",
       "text": [
        "int : 1\n"
       ]
      },
      {
       "output_type": "stream",
       "stream": "stdout",
       "text": [
        "\uc591\uc218\uc785\ub2c8\ub2e4.\n"
       ]
      },
      {
       "name": "stdout",
       "output_type": "stream",
       "stream": "stdout",
       "text": [
        "int : -1\n"
       ]
      },
      {
       "output_type": "stream",
       "stream": "stdout",
       "text": [
        "\uc74c\uc218\uc785\ub2c8\ub2e4.\n"
       ]
      }
     ],
     "prompt_number": 1
    },
    {
     "cell_type": "markdown",
     "metadata": {},
     "source": [
      "- \uc124\uba85 : \uc785\ub825\ud55c \uc815\uc218\ub97c \ube44\ud2b8\uc5f0\uc0b0\uc744 \uc774\uc6a9\ud574\uc11c \uc74c\uacfc \uc591\uc758 \ud310\ubcc4\uc740 \ube44\ud2b8 \ubc18\uc804 \uc5f0\uc0b0\uc778 ~ \uc744 \uc774\uc6a9\ud558\uc600\uc2b5\ub2c8\ub2e4.\n",
      "- (1) temp \ubcc0\uc218\uc5d0 \uc785\ub825 \ubc1b\uc740 \uc815\uc218\uc5d0 \ub300\ud55c \ube44\ud2b8 \ubc18\uc804\ub41c \uac12\uc744 \uc785\ub825\ud569\ub2c8\ub2e4.\n",
      "- (2) \uc870\uac74\ubb38\uc744 \uc774\uc6a9\ud558\uc5ec \ube44\ud2b8 \ubc18\uc804\ub41c \uc815\uc218\uac00 \uc785\ub825\ud55c \uc815\uc218 \ubcf4\ub2e4 \ud074\ub54c \uc74c\uc218\uc784\uc73c\ub85c '\uc74c\uc218\uc785\ub2c8\ub2e4.'\ub77c\uace0 \ucd9c\ub825\ud569\ub2c8\ub2e4. \uc608\ub97c \ub4e4\uc5b4 \uc591\uc218\uac00 \uc785\ub825\ub418\uba74 \ube44\ud2b8\ubc18\uc804\ub41c \uac12\uc740 \uc74c\uc218 \uc784\uc73c\ub85c \uc785\ub825\ud55c \uc815\uc218\uc640 \ube44\ud2b8 \ubc18\uc804\ub41c \uc815\uc218\ub97c \ube44\uad50\ud558\uba74 \uc785\ub825\ud55c \uc815\uc218\uac00 \uc591\uc218\uc778\uc9c0 \uc74c\uc218\uc778\uc9c0 \uc54c \uc218 \uc788\uc2b5\ub2c8\ub2e4.\n",
      "- (3) 0\uc758 \ube44\ud2b8 \ubc18\uc804\ub41c \uacb0\uacfc\ub294 -1\uc784\uc73c\ub85c \uc815\uc218\ub85c 0\uc744 \uc785\ub825\ud588\uc744 \ub54c \uc870\uac74\ubb38\uc744 \uc774\uc6a9\ud558\uc5ec 0\uc744 \ud310\ubcc4\ud558\uc600\uc2b5\ub2c8\ub2e4.\n"
     ]
    },
    {
     "cell_type": "markdown",
     "metadata": {},
     "source": [
      "***\n",
      "# Problem 4"
     ]
    },
    {
     "cell_type": "markdown",
     "metadata": {},
     "source": [
      "- \ub450 \uac1c\uc758 \ub9ac\uc2a4\ud2b8\ub97c \uc778\uc790\ub85c \ubc1b\uc544\uc11c \uadf8 \ub450 \uac1c\uc758 \ub9ac\uc2a4\ud2b8\uc5d0 \ub300\ud55c '\ud569\uc9d1\ud569'\uc744 \ubc18\ud658\ud558\ub294 \ud568\uc218 list_union(lista, listb)\ub97c \uc791\uc131\ud558\uc2dc\uc624.\n",
      "  - \uc778\uc790\ub85c \uc804\ub2ec\ud558\ub294 \ub9ac\uc2a4\ud2b8 2 \uac1c\uc5d0\ub294 \uc815\uc218\uac12\ub9cc \ub4e4\uc5b4\uac04\ub2e4\uace0 \uac00\uc815\ud558\uc790.\n",
      "  - \ud568\uc218 \ub0b4\uc5d0\uc11c \uc0c8\ub85c\uc6b4 \ub9ac\uc2a4\ud2b8\ub97c \ub9cc\ub4e4\uc5b4 \uadf8 \ub9ac\uc2a4\ud2b8 \ub0b4\uc5d0 \uc778\uc790\ub85c \ubc1b\uc740 \ub450 \ub9ac\uc2a4\ud2b8\uc758 \ubaa8\ub4e0 \uc6d0\uc18c\ub97c \ub123\uc5b4 \ubc18\ud658\ud55c\ub2e4.\n",
      "  - \ubc18\ud658\ud558\ub294 \ub9ac\uc2a4\ud2b8\uc5d0\ub294 \uc808\ub300\ub85c \uc911\ubcf5\ub41c \uc6d0\uc18c\uac00 \ub4e4\uc5b4 \uc788\uc73c\uba74 \uc548\ub41c\ub2e4 (\uc9d1\ud569\uc758 \uc870\uac74).\n",
      "  - \ubc18\ud658\ud558\ub294 \ub9ac\uc2a4\ud2b8\ub294 \uc815\ub82c\uc774 \ub418\uc5b4 \uc788\uc5b4\uc57c \ud55c\ub2e4.\n",
      "  - \ub2e4\uc74c\uacfc \uac19\uc740 \uc2e4\ud589 \ubc0f \ucd9c\ub825 \uacb0\uacfc\uac00 \ub3c4\ucd9c\ub418\uc5b4\uc57c \ud55c\ub2e4. \n",
      "    - list_union([1, 2, 3], [1, 2, 4])\n",
      "      - [1, 2, 3, 4]\n",
      "    - list_union([-10, -5, 0, -1], [100, 9, 0, 9])\n",
      "      - [-10, -5, -1, 0, 9, 100]\n",
      "    - list_union([0, 1, 2], [0, 1, 2])\n",
      "      - [0, 1, 2]\n",
      "  - [\ucc38\uace0] \ub9ac\uc2a4\ud2b8(l) \ub0b4\uc5d0 \uc0c8\ub85c\uc6b4 \uc815\uc218\uac12 (\uc608\ub97c \ub4e4\uc5b4 10)\uc744 \ub123\ub294 \ubc29\ubc95\uc740 l.append(10) \uc774\ub2e4.\n",
      "  - [\ucc38\uace0] \uc784\uc758\uc758 \uc815\uc218\uac12 (x)\uc774 \ub9ac\uc2a4\ud2b8 (l) \ub0b4\uc5d0 \uc874\uc7ac\ud558\ub294\uc9c0 \ud310\ub2e8\ud558\ub294 \ubc29\ubc95\uc740 x in l \uc774\ub2e4.\n",
      "  ***"
     ]
    },
    {
     "cell_type": "code",
     "collapsed": false,
     "input": [
      "# -*- coding: utf-8 -*-\n",
      "def list_union(lista = [], listb = []): #\ud569\uc9d1\ud569 \uad6c\ud558\ub294 \ud568\uc218 \n",
      "    count = 0 #\ubc18\ubcf5\ubb38\uc6a9 \ubcc0\uc2181 \n",
      "    count2 = 1 #\ubc18\ubcf5\ubb38\uc6a9 \ubcc0\uc2181\n",
      "    temp = 0 #\uc784\uc2dc\uac12\uc6a9 \ubcc0\uc218 \n",
      "    new_list = [] #\ud569\uc9d1\ud569\uc6a9 \uacf5\ubc31 \ub9ac\uc2a4\ud2b8\n",
      "    \n",
      "    while count < len(lista): #lista\uc758 \uc6d0\uc18c\ub97c new_list\uc5d0 \ubaa8\ub450 \ucd94\uac00 \n",
      "        new_list.append(lista[count]) #lista \uc9d1\ud569\uc758 \uc6d0\uc18c \ucd94\uac00 \n",
      "        count = count + 1\n",
      "    count = 0\n",
      "    while count < len(listb): #listb\uc758 \uc6d0\uc18c\ub97c new_list\uc5d0 \ubaa8\ub450 \ucd94\uac00\n",
      "        new_list.append(listb[count]) #listb \uc9d1\ud569\uc758 \uc6d0\uc18c \ucd94\uac00\n",
      "        count = count + 1\n",
      "    count = 0    #count 0\uc73c\ub85c \ucd08\uae30\ud654 \n",
      "        \n",
      "    while count < len(new_list): #\ud569\uc9d1\ud569 \uc870\uac74\uc5d0 \ub9de\uac8c \ucc98\ub9ac\n",
      "        temp = count2 #new_list\uc758 \uccab\uc6d0\uc18c\uc640 \ub098\uba38\uc9c0 \uc6d0\uc18c\ub4e4\uc744 \ube44\uad50\n",
      "        while count2 < len(new_list):\n",
      "            if new_list[count] == new_list[count2]:\n",
      "                new_list.pop(count2) #\uc911\ubcf5\ub418\ub294 \uc6d0\uc18c\uac00 \uc788\uc73c\uba74 \uc81c\uac70\n",
      "            count2 = count2 + 1\n",
      "        count2 = temp\n",
      "        count2 = count2 + 1 #\ubc18\ubcf5\ubb38 \uce74\uc6b4\ud2b8 \uc99d\uac00 \n",
      "        count = count + 1   #\ubc18\ubcf5\ubb38 \uce74\uc6b4\ud2b8 \uc99d\uac00      \n",
      "\n",
      "    new_list.sort() #\uc911\ubcf5\uc774 \ucc98\ub9ac\ub41c \uc9d1\ud569\uc744 \uc815\ub82c \uc2dc\ud0b4 \n",
      "    return new_list #\uc911\ubcf5 \uc6d0\uc18c \uc81c\uac70 \ubc0f \uc815\ub82c\ub41c \ud569\uc9d1\ud569 \ubc18\ud658 \n",
      "        \n",
      "        \n",
      "union = list_union([1,2,3],[1,2,4])\n",
      "union2 = list_union([-10,-5,0,-1],[100,9,0,9])\n",
      "union3 = list_union([0,1,2],[0,1,2])\n",
      "\n",
      "print 'list_union([1,2,3],[1,2,4]) : ',\n",
      "print union\n",
      "print 'list_union([-10,-5,0,-1],[100,9,0,9]) : ',\n",
      "print union2\n",
      "print 'list_union([0,1,2],[0,1,2]) : ',\n",
      "print union3\n"
     ],
     "language": "python",
     "metadata": {},
     "outputs": [
      {
       "output_type": "stream",
       "stream": "stdout",
       "text": [
        "list_union([1,2,3],[1,2,4]) :  [1, 2, 3, 4]\n",
        "list_union([-10,-5,0,-1],[100,9,0,9]) :  [-10, -5, -1, 0, 9, 100]\n",
        "list_union([0,1,2],[0,1,2]) :  [0, 1, 2]\n"
       ]
      }
     ],
     "prompt_number": 3
    },
    {
     "cell_type": "markdown",
     "metadata": {},
     "source": [
      "\uc124\uba85 \n",
      "    - (1) \uc778\uc790\ub85c \uc804\ub2ec\ubc1b\uc740 \ub450 \uac1c\uc758 \ub9ac\uc2a4\ud2b8\uc548\uc758 \uc6d0\uc18c\ub4e4\uc744 \ubaa8\ub450 new_list\uc778 \uc0c8 \ub9ac\uc2a4\ud2b8\uc5d0 \ubaa8\ub450 append()\ub97c \uc774\uc6a9\ud558\uc5ec \ub123\uc2b5\ub2c8\ub2e4.\n",
      "    - (2) \ub450\uac1c\uc758 \ub9ac\uc2a4\ud2b8\uac00 \ud569\ud574\uc9c4 new_list\uc5d0\uc11c \uccab\uc6d0\uc18c\ubd80\ud130 \uc2dc\uc791\ud574\uc11c \uccab \uc6d0\uc18c\uc640 \ub9ac\uc2a4\ud2b8 \uc548\uc5d0 \uc788\ub294 \ub2e4\ub978 \uc6d0\uc18c\ub4e4\uacfc \ube44\uad50\ud558\uc5ec \uac19\ub2e4\ub294 \uac83\uc740 \uc911\ubcf5\ub41c \uc6d0\uc18c\uac00 \uc788\ub2e4\ub294 \uac83\uc774\ubbc0\ub85c pop()\uc744 \uc774\uc6a9\ud574\uc11c \uc911\ubcf5\ub41c \uc6d0\uc18c\ub97c \uc81c\uac70\ud588\uc2b5\ub2c8\ub2e4.\n",
      "    - (3) \uc911\ubcf5 \uc6d0\uc18c\uac00 \uc81c\uac70\ub41c new_list(\ud569\uc9d1\ud569)\uc744 sort()\ud568\uc218\ub97c \uc774\uc6a9\ud574\uc11c \ub9ac\uc2a4\ud2b8 \uc548\uc758 \uac12\uc744 \uc624\ub984\ucc28\uc21c\uc73c\ub85c \uc815\ub82c\uc2dc\ud0a8 \ud6c4 \ucd5c\uc885 \uacb0\uacfc\uc778 \ud569\uc9d1\ud569 new_list\ub97c \ubc18\ud658\ud558\uace0 \ucd9c\ub825\ud588\uc2b5\ub2c8\ub2e4.\n",
      "***\n"
     ]
    },
    {
     "cell_type": "markdown",
     "metadata": {},
     "source": [
      "***\n",
      "# Problem 5"
     ]
    },
    {
     "cell_type": "markdown",
     "metadata": {},
     "source": [
      "- \uacbd\ub85c\uc5d0 \ud574\ub2f9\ud558\ub294 \ubb38\uc790\uc5f4 1\uac1c\ub97c \uc785\ub825 \ubc1b\uc544 \uadf8 \uc548\uc5d0 \ub514\ub809\ud1a0\ub9ac \uacbd\ub85c\uba85\uacfc \ud30c\uc77c\uba85\uc744 \ubd84\ub9ac\ud558\uc5ec \ub9ac\uc2a4\ud2b8\ub85c \ubc18\ud658\ud558\ub294 \ud568\uc218 div_path(s)\ub97c \uc791\uc131\ud558\uc2dc\uc624.\n",
      "  - \uc778\uc790\ub85c \uc804\ub2ec\ud558\ub294 \ubb38\uc790\uc5f4\uc740 \uacbd\ub85c\ub9cc \ub4e4\uc5b4\uac04\ub2e4\uace0 \uac00\uc815\ud55c\ub2e4.\n",
      "  - \uac01 \ub514\ub809\ud1a0\ub9ac\uc640 \ud30c\uc77c\uc744 \uad6c\ubd84\ud558\ub294 \ubb38\uc790\ub294 '/'\ub85c \uac00\uc815\ud55c\ub2e4.\n",
      "  - \ubc18\ud658\ud558\ub294 \ub9ac\uc2a4\ud2b8\uc758 \uccab\ubc88\uc9f8 \uc6d0\uc18c\ub294 \ub514\ub809\ud1a0\ub9ac\uc774\uace0 \ub450\ubc88\uc9f8 \uc6d0\uc18c\ub294 \ud30c\uc77c\uba85\uc774\ub2e4. \n",
      "  - \ub2e4\uc74c\uacfc \uac19\uc740 \uc2e4\ud589 \ubc0f \ucd9c\ub825 \uacb0\uacfc\uac00 \ub3c4\ucd9c\ub418\uc5b4\uc57c \ud55c\ub2e4.\n",
      "    - div_path('/usr/local/bin/python')\n",
      "      - ['/usr/local/bin', 'python']\n",
      "    - div_path('/home/chulsoo/test.txt')\n",
      "      - ['/home/chulsoo', 'test.txt']\n",
      "***"
     ]
    },
    {
     "cell_type": "code",
     "collapsed": false,
     "input": [
      "# -*- coding: utf-8 -*-\n",
      "def div_path(s): #\ubb38\uc790\uc5f4 \ub098\ub204\uae30 \ud568\uc218 \n",
      "    local_name_list = [] #\ub098\ub208 \uacb0\uacfc\ub97c \uc800\uc7a5\ud560 \uacf5\ubc31 \ub9ac\uc2a4\ud2b8\n",
      "    count = 0 \n",
      "    x = 0 #\ubc18\ubcf5\ubb38\uc6a9 \uce74\uc6b4\ud2b8 \n",
      "    slice_count = 0 \n",
      "    while x < len(s): \n",
      "        if s[x] == '/': #\ubb38\uc790\uc5f4 \uc548\uc5d0 '/'\uac00 \uba87\uac1c \uc788\ub294\uc9c0 \uce74\uc6b4\ud2b8 \n",
      "            count = count + 1 \n",
      "        x = x + 1 \n",
      "\n",
      "    x = 0 #\ubc18\ubcf5\ubb38 \uce74\uc6b4\ud2b8 \ucd08\uae30\ud654 \n",
      "\n",
      "    while x < count: #\ubb38\uc790\uc5f4 \uc548\uc758 '/' \uc774 \ubb38\uc790 \uc218\ub9cc\ud07c \ubc18\ubcf5\n",
      "        if s[slice_count] == '/': #'/'\ubb38\uc790\uac00 \ub098\uc624\uba74 \uce74\uc6b4\ud2b8 \uc99d\uac00 \n",
      "            x = x + 1 \n",
      "        slice_count = slice_count + 1 #\ub9c8\uc9c0\ub9c9 '/'\ubb38\uc790\uac00 \ub098\uc62c\ub54c \uae4c\uc9c0 \uce74\uc6b4\ud2b8 \n",
      "\n",
      "    local_name_list.append(s[:slice_count]) #\uacbd\ub85c\uba85 \ub9ac\uc2a4\ud2b8\uc5d0 \ucd94\uac00 \n",
      "    local_name_list.append(s[slice_count : ]) #\ud30c\uc77c\uba85 \ub9ac\uc2a4\ud2b8\uc5d0 \ucd94\uac00 \n",
      "    return local_name_list #\uacb0\uacfc \ub9ac\uc2a4\ud2b8 \ubc18\ud658 \n",
      "\n",
      "str_split = div_path('/usr/local/bin/python') \n",
      "str_split2 = div_path('/home/chulsoo/test.txt') \n",
      "\n",
      "print str_split \n",
      "print str_split2 "
     ],
     "language": "python",
     "metadata": {},
     "outputs": [
      {
       "output_type": "stream",
       "stream": "stdout",
       "text": [
        "['/usr/local/bin/', 'python']\n",
        "['/home/chulsoo/', 'test.txt']\n"
       ]
      }
     ],
     "prompt_number": 1
    },
    {
     "cell_type": "markdown",
     "metadata": {},
     "source": [
      "\uc124\uba85 \n",
      "    - (1) \uc778\uc790\ub85c \uc804\ub2ec\ubc1b\uc740 \ub9ac\uc2a4\ud2b8\uc548\uc5d0 '/'\uc758 \uac1c\uc218\ub97c \uce74\uc6b4\ud2b8 \ud569\ub2c8\ub2e4. \n",
      "    - (2) \uce74\uc6b4\ud2b8\ud55c '/'\uc774 \ubb38\uc790\uc758 \uc218\ub9cc\ud07c \ubc18\ubcf5\ubb38\uc744 \ub3cc\ub9ac\uba74\uc11c \ub9c8\uc9c0\ub9c9 '/'\ubb38\uc790\uac00 \ub098\uc62c\ub54c \uae4c\uc9c0 \uce74\uc6b4\ud2b8\ub97c \ud569\ub2c8\ub2e4.\n",
      "    - (3) \uadf8\ub7ec\uba74 \ub9c8\uc9c0\ub9c9 '/'\uac00 \ub098\uc62c\ub54c\uae4c\uc9c0\uc758 \ubb38\uc790\uc5f4\uc548\uc758 \uc778\ub371\uc2a4\uac00 slice_count\uc5d0 \uc800\uc7a5\uc774 \ub418\uace0 \uc774\uac83\uc744 \uc774\uc6a9\ud558\uc5ec Slice\ub97c \uc774\uc6a9\ud558\uba74 s[:slice_count]\ub294 \uacbd\ub85c\uba85\uc774 \ub418\uace0, s[slice_count : ]\ub294 \ud30c\uc77c\uba85\uc774 \ub429\ub2c8\ub2e4. \uc774 \ub458\uc744 \uc0c8 \ub9ac\uc2a4\ud2b8\uc5d0 \ucd94\uac00\uc2dc\uaca8\uc11c \ubc18\ud658\ud558\uba74 \ubb38\uc81c\uac00 \uc6d0\ud558\ub294 \ub2f5\uc774 \ucd9c\ub825\ub429\ub2c8\ub2e4."
     ]
    },
    {
     "cell_type": "markdown",
     "metadata": {},
     "source": [
      "***\n",
      "# Problem 6"
     ]
    },
    {
     "cell_type": "markdown",
     "metadata": {},
     "source": [
      "- \uc6f9 URL\ub85c \uc9c0\uc815\ub41c \uc6f9\ud398\uc774\uc9c0\ub97c \ubb38\uc790\uc5f4\ub85c \uac00\uc838\uc640 1) \ubaa8\ub4e0 HTML \ud0dc\uadf8 \ubc0f CSS\uc640 Javascript\ub97c \uc81c\uc678\ud55c \uc21c\uc218 \ud14d\uc2a4\ud2b8\ub9cc\uc744 \ucd9c\ub825\ud558\uace0, 2) \uadf8 \uc21c\uc218 \ud14d\uc2a4\ud2b8 \uc548\uc5d0 \uc874\uc7ac\ud558\ub294 \ub2e8\uc5b4\uac00 \ucd1d \uba87\uac1c\uc778\uc9c0 \ucd9c\ub825\ud558\ub294 \ud504\ub85c\uadf8\ub7a8\uc744 \uc791\uc131\ud558\uc2dc\uc624.\n",
      "  - HTML \ud0dc\uadf8\ub294 \ub2e4\uc74c \uc870\uac74\uc744 \uac00\uc9c0\ub294 \uac83\uc774\ub2e4.\n",
      "    - < \ub85c \uc2dc\uc791\ud558\uc5ec >\ub85c \ub05d\ub098\uac70\ub098 />\ub85c \ub05d\ub09c\ub2e4.\n",
      "    - </ \ub85c \uc2dc\uc791\ud558\uc5ec > \ub85c \ub05d\ub09c\ub2e4.\n",
      "  - HTML \ubb38\uc11c \ub0b4\uc5d0 \uc874\uc7ac\ud558\ub294 CSS \uc0ad\uc81c\uc2dc \ucc38\uace0\ud560 \uc0ac\ud56d\n",
      "    - &lt;style&gt; \ud639\uc740 &lt;STYLE&gt;\ub85c \uc2dc\uc791\ud55c\ub2e4.\n",
      "    - &lt;/style&gt; \ud639\uc740 &lt;/STYLE&gt;\ub85c \ub05d\ub09c\ub2e4.\n",
      "    - &lt;style&gt; (\ud639\uc740 &lt;STYLE&gt;)\uacfc &lt;/style&gt; (\ud639\uc740 &lt;/STYLE&gt;) \ub0b4\uc5d0 \uc874\uc7ac\ud558\ub294 CSS \ucf54\ub4dc\ub294 \ubaa8\ub450 \uc0ad\uc81c\ud55c\ub2e4.\n",
      "  - HTML \ubb38\uc11c \ub0b4\uc5d0 \uc874\uc7ac\ud558\ub294 Javascript \uc0ad\uc81c\uc2dc \ucc38\uace0\ud560 \uc0ac\ud56d\n",
      "    - &lt;script&gt; \ud639\uc740 &lt;SCRIPT&gt;\ub85c \uc2dc\uc791\ud55c\ub2e4.\n",
      "    - &lt;/script&gt; \ud639\uc740 &lt;/SCRIPT&gt;\ub85c \ub05d\ub09c\ub2e4.\n",
      "    - &lt;script&gt; (\ud639\uc740 &lt;SCRIPT&gt;)\uacfc &lt;/script&gt; (\ud639\uc740 &lt;/SCRIPT&gt;) \ub0b4\uc5d0 \uc874\uc7ac\ud558\ub294 Javascript \ucf54\ub4dc\ub294 \ubaa8\ub450 \uc0ad\uc81c\ud55c\ub2e4. \n",
      "  - \uc989, CSS \ucf54\ub4dc\uc640 Javascript \ucf54\ub4dc\ub294 \ub2e8\uc5b4\uc758 \ucd1d\uc218\ub97c \uce74\uc6b4\ud2b8 \ud560 \ub54c \uace0\ub824\ud558\uc9c0 \uc54a\ub294\ub2e4.\n",
      "  - \ud55c\ud3b8, \ub2e4\uc74c\uc740 URL\ub85c \uc9c0\uc815\ub41c \uc6f9\ud398\uc774\uc9c0\ub97c \ud2b9\uc815 \ubb38\uc790\uc5f4\ub85c \uac00\uc838\uc624\ub294 \ucf54\ub4dc\uc774\ub2e4.\n",
      "***"
     ]
    },
    {
     "cell_type": "code",
     "collapsed": false,
     "input": [
      "# -*- coding: utf-8 -*-\n",
      "import urllib\n",
      "import string\n",
      "\n",
      "def filter(site): #\uacf5\ubc31 \uc81c\uac70 \ud544\ud130\ub9c1 \ud568\uc218\n",
      "    count = 0\n",
      "    temp = '' #\uacf5\ubc31 \uc784\uc2dc \ubb38\uc790\uc5f4\n",
      "    while count < len(site): #\ub9ac\uc2a4\ud2b8\uc758 \uccab \uc6d0\uc18c\ubd80\ud130 \uaebc\ub0b4\uc11c\n",
      "        temp = s[count] #\ub9ac\uc2a4\ud2b8\uc758 \uac01 \uc6d0\uc18c\ub294 \ubb38\uc790\uc5f4\uc784\uc73c\ub85c \uadf8 \ubb38\uc790\uc5f4\uc744 \uc784\uc2dc\ub85c \uc800\uc7a5\n",
      "        temp = temp.strip() #\ud574\ub2f9 \ubb38\uc790\uc5f4\uc758 \uc88c\uc6b0 \uacf5\ubc31\uc744 \uc81c\uac70\n",
      "        site[count] = temp #\ucc98\ub9ac\ud55c \ubb38\uc790\uc5f4\uc744 \ub2e4\uc2dc \uc6d0\ub798 \uc704\uce58\ub85c \ub2e4\uc2dc \uc785\ub825\n",
      "        count = count + 1\n",
      "\n",
      "    count = 0\n",
      "    while count < len(site): #\ub9ac\uc2a4\ud2b8 \ub0b4\uc758 \uc6d0\uc18c\uac00 ''\uc778 \uacf5\ubc31\uc778 \uc6d0\uc18c\ub4e4\uc744 \ubaa8\ub450 \uc81c\uac70\n",
      "        temp = count\n",
      "        if site[count] == '':\n",
      "            del site[count]\n",
      "            count = temp\n",
      "        else:\n",
      "            count += 1 \n",
      "    return site  #\ud544\ud130\ub9c1\ub41c \ub9ac\uc2a4\ud2b8\ub97c \ubc18\ud658      \n",
      "\n",
      "\n",
      "def DelScriptandCSS(site): #\uc2a4\ud06c\ub9bd\ud2b8 \ubb38\uc11c \ubc0f CSS\ubb38\uc11c \uc81c\uac70 \ud568\uc218\n",
      "    index = 0\n",
      "    while index < len(site):  #\uc2a4\ud06c\ub9bd\ud2b8 \uc81c\uac70         \n",
      "        if site[index].startswith('<script') or site[index].endswith('</script>') or site[index].startswith('<SCRIPT') or site[index].endswith('</SCRIPT>'):\n",
      "            del site[index] #\ucd94\ucd9c\ud55c \ubb38\uc790\uc5f4\uc758 \uccab \uc2dc\uc791 \ubb38\uc790\uc5f4\uc774 \uc2a4\ud06c\ub9bd\ud2b8 \n",
      "            while index < len(site): #\uc2a4\ud06c\ub9bd\ud2b8 \ubb38\uc11c\uac00 \ub05d\ub098\ub294 \uc9c0\uc810 \uae4c\uc9c0 \n",
      "                if site[index].endswith('</script>') or site[index].endswith('</SCRIPT>'):\n",
      "                    site[index] = '' #\uc2a4\ud06c\ub9bd\ud2b8 \ud0dc\uadf8\uac00 \ub05d\ub098\ub294 \ubb38\uc790\uc5f4\uc774\uba74 \uacf5\ubc31\uc73c\ub85c \ucc98\ub9ac\ud558\uace0 \ubc18\ubcf5\ubb38 \uc885\ub8cc \n",
      "                    break\n",
      "                elif site[index].startswith('<'): #\uc2a4\ud06c\ub9bd\ud2b8 \ud0dc\uadf8 \uc0ac\uc774\uc5d0 \ub2e4\ub978 \ud0dc\uadf8\uac00 \uc788\uc73c\uba74 \ubc18\ubcf5\ubb38 \uc885\ub8cc \n",
      "                    break  \n",
      "                else:\n",
      "                    del site[index] #\uc704\uc758 \ub450 \uc870\uac74\uc774 \uc544\ub2c8\uba74 \uc774\uac83\uc740 \uc2a4\ud06c\ub9bd\ud2b8 \ubb38\uc11c \ub0b4\uc6a9\uc774\ubbc0\ub85c \uc0ad\uc81c \n",
      "        index += 1\n",
      "    #--------------------\uc2a4\ud06c\ub9bd\ud2b8\uc640 CSS\ub97c \ub3d9\uc77c\ud55c \ubc29\ubc95\uc73c\ub85c \uc81c\uac70------------------------\n",
      "    index = 0\n",
      "    while index < len(site):  #CSS \uc81c\uac70          \n",
      "        if site[index].startswith('<style') or site[index].endswith('</style>') or site[index].startswith('<STYLE') or site[index].endswith('</STYLE>'):\n",
      "            del site[index]\n",
      "            while index < len(site):\n",
      "                if site[index].endswith('</style>') or site[index].endswith('</STYLE>'):\n",
      "                    site[index] = ''\n",
      "                    break\n",
      "                elif site[index].startswith('<'):\n",
      "                    break  \n",
      "                else:\n",
      "                    del site[index]\n",
      "        index += 1    \n",
      "    return site #\uc2a4\ud06c\ub9bd\ud2b8\uc640 CSS\ubb38\uc11c\uac00 \uc81c\uac70\ub41c \ub9ac\uc2a4\ud2b8\ub97c \ubc18\ud658     \n",
      "\n",
      "def DelTag(site): #\ud0dc\uadf8 \uc81c\uac70 \ud568\uc218 \n",
      "    flag = 0 #\uc0c1\ud0dc \ud45c\uc2dc \ud50c\ub798\uadf8 \n",
      "    count = 0 #\ubc18\ubcf5\ubb38\uc6a9 \uce74\uc6b4\ud2b8 \n",
      "    while count < len(site):\n",
      "        temp = ''\n",
      "        index = 0\n",
      "        sample = site[count] #\ub9ac\uc2a4\ud2b8\uc5d0\uc11c \ubb38\uc790\uc5f4\uc744 \uac00\uc838\uc634 \n",
      "        for index in sample: #\ubb38\uc790\uc5f4\uc774 \ud0dc\uadf8\uc778\uc9c0 \uc544\ub2cc\uc9c0 \uc810\uac80 \n",
      "            if index == '<': #\ubb38\uc790\uc5f4\uc758 \uccab \ubb38\uc790\uac00 '<'\uba74 \ud0dc\uadf8\uc2dc\uc791 \n",
      "                flag = 1 #\ud604\uc7ac \ud0dc\uadf8\ubb38\uc790\uc5f4\uc784\uc744 \ud45c\uc2dc \n",
      "            if flag == 1 and index != '>': #\ud0dc\uadf8\uc758 \ub05d\uc774 \ub098\uc62c\ub54c \uae4c\uc9c0 \ubc18\ubcf5 \n",
      "                continue\n",
      "            elif flag == 1 and index == '>':  #\ud0dc\uadf8\uc758 \ub05d\uc77c\ub54c \ud0dc\uadf8 \uc124\uc815\uc774 \ub05d\ub0ac\ub2e4\ub294 \uac83\uc744 \ud45c\uc2dc    \n",
      "                flag = 0\n",
      "            if flag == 0 and index != '>': #\ud0dc\uadf8\uac00 \uc544\ub2cc \uc21c\uc218 \ud14d\uc2a4\ud2b8(\ubb38\uc790\uc5f4)\ub97c \ub9cc\ub4ec \n",
      "                temp += index \n",
      "        site[count] = temp #\ub9cc\ub4e4\uc5b4\uc9c4 \ubb38\uc790\uc5f4\uc744 \uac00\uc838\uc628 \ub9ac\uc2a4\ud2b8\uc5d0 \ub2e4\uc2dc \ub123\uc74c \n",
      "        count += 1\n",
      "    \n",
      "    site = filter(site) #\ub9ac\uc2a4\ud2b8 \ub0b4\uc758 \uacf5\ubc31 \uc81c\uac70 \n",
      "    return site\n",
      "\n",
      "def PrintText(site): #\uc21c\uc218 \ud14d\uc2a4\ud2b8 \ucd9c\ub825 \n",
      "    for x in range(len(site)): #\ub9ac\uc2a4\ud2b8\uc758 \uac01 \uc6d0\uc18c\ub294 \ubb38\uc790\uc5f4\uc784\uc73c\ub85c \ucd9c\ub825 \n",
      "        print site[x]\n",
      "\n",
      "def CountText(site): \n",
      "    count_text = 0\n",
      "    for text in s: #\ub9ac\uc2a4\ud2b8 \ub0b4\uc758 \ubaa8\ub4e0 \uc21c\uc218 \ud0dd\uc2a4\ud2b8 \ubb38\uc790\uc5f4\uc5d0 \ub300\ud574 \ubc18\ubcf5\n",
      "        gap = 0 #\uacf5\ubc31 \ubb38\uc790 \uce74\uc6b4\ud2b8\n",
      "        for x in range(len(text)): #\ub9ac\uc2a4\ud2b8 \ub0b4\uc758 \uccab\ubc88\uc9f8 \ubb38\uc790\uc5f4 \ubd80\ud130 \ubc18\ubcf5\n",
      "            if text[x] in string.whitespace: #\ud574\ub2f9 \ubb38\uc790\uc5f4 \ub0b4\uc5d0 \uacf5\ubc31 \ubb38\uc790\uac00 \uc788\ub2e4\uba74\n",
      "                gap += 1 #\uce74\uc6b4\ud2b8 \uc99d\uac00\n",
      "        if gap == 0:   #\uacf5\ubc31 \ubb38\uc790\uac00 \uc5c6\ub2e4\ub294 \uac83\uc740 \ub2e8\uc5b4\uac00 1\uac1c\ub77c\ub294 \ub73b\uc774\ubbc0\ub85c \uce74\uc6b4\ud2b8 \uc99d\uac00 \n",
      "            count_text += 1\n",
      "        else: #\ud558\ub098\uc758 \ubb38\uc790\uc5f4\uc5d0\uc11c \uacf5\ubc31\uc758 \uac1c\uc218\ub294 \ub2e8\uc5b4\uc758 \uac04\uaca9\uc744 \ub098\ud0c0\ub0c4\uc73c\ub85c \ubb38\uc790\uc5f4 \ub0b4\uc758 \ub2e8\uc5b4 \uac1c\uc218\ub294 \uacf5\ubc31\uc218 + 1\n",
      "            count_text = count_text + (gap + 1)\n",
      "    print         \n",
      "    print '\uc21c\uc218 \ud14d\uc2a4\ud2b8 \uc548\uc5d0 \uc874\uc7ac\ud558\ub294 \ucd1d \ub2e8\uc5b4\uc758 \uac1c\uc218 : ',\n",
      "    print count_text                \n",
      "\n",
      "s = urllib.urlopen('http://www.python.org/').read() #\ud55c\uae30\ub300 \ud648\ud398\uc774\uc9c0 \uc6f9 \ubb38\uc11c \uc77d\uc5b4\uc624\uae30\n",
      "s = s.splitlines() #\uc77d\uc740 \ubb38\uc790\uc5f4(\uc6f9 \ubb38\uc11c)\ub97c \ub77c\uc778 \ub2e8\uc704\ub85c \ub098\ub204\uc5b4\uc11c \ub9ac\uc2a4\ud2b8\ub85c \uc800\uc7a5\ud55c\ub2e4.\n",
      "s = filter(s) #\ub77c\uc778 \ub2e8\uc704\ub85c \ub098\ub204\uc5b4\uc9c4 \ub9ac\uc2a4\ud2b8 \ub0b4\uc758 \uacf5\ubc31\ub4e4\uc744 \uc81c\uac70\n",
      "s = DelScriptandCSS(s) #\uacf5\ubc31\uc774 \uc81c\uac70\ub41c \ub9ac\uc2a4\ud2b8\uc548\uc758 \uc2a4\ud06c\ub9bd\ud2b8\uc640 CSS\ubb38\uc11c \uc81c\uac70\n",
      "s = DelTag(s) #\ubb38\uc11c \ub0b4\uc758 \ud0dc\uadf8 \uc81c\uac70 \ubc0f \uc21c\uc218 \ud14d\uc2a4\ud2b8\ub9cc \ucd94\ucd9c\n",
      "PrintText(s) #\uc21c\uc218 \ud14d\uc2a4\ud2b8 \ucd9c\ub825\n",
      "CountText(s) #\ucd1d \ub2e8\uc5b4\uc758 \uac1c\uc218 \ucd9c\ub825\n",
      "\n",
      "\n",
      "\n",
      "\n"
     ],
     "language": "python",
     "metadata": {},
     "outputs": [
      {
       "output_type": "stream",
       "stream": "stdout",
       "text": [
        "Welcome to Python.org\n",
        "Skip to content\n",
        "&#9660; Close\n",
        "Python\n",
        "PSF\n",
        "Docs\n",
        "PyPI\n",
        "Jobs\n",
        "Community\n",
        "&#9650; The Python Network\n",
        "&equiv; Menu\n",
        "Search This Site\n",
        "GO\n",
        "A A\n",
        "Smaller\n",
        "Larger\n",
        "Reset\n",
        "Socialize\n",
        "Google+\n",
        "Facebook\n",
        "Twitter\n",
        "IRC on Freenode\n",
        "Sign In\n",
        "Sign Up / Register\n",
        "Sign In\n",
        "About\n",
        "Applications\n",
        "Quotes\n",
        "Getting Started\n",
        "Help\n",
        "Downloads\n",
        "All releases\n",
        "Source code\n",
        "Windows\n",
        "Mac OS X\n",
        "Other Platforms\n",
        "License\n",
        "Alternative Implementations\n",
        "Documentation\n",
        "Docs\n",
        "Audio/Visual Talks\n",
        "Beginner&#39;s Guide\n",
        "Developer&#39;s Guide\n",
        "FAQ\n",
        "Non-English Docs\n",
        "PEP Index\n",
        "Python Books\n",
        "Community\n",
        "Diversity\n",
        "IRC\n",
        "Mailing Lists\n",
        "Python Conferences\n",
        "Special Interest Groups\n",
        "Python Wiki\n",
        "Python Logo\n",
        "Merchandise\n",
        "Community Awards\n",
        "Success Stories\n",
        "Arts\n",
        "Business\n",
        "Education\n",
        "Engineering\n",
        "Government\n",
        "Scientific\n",
        "Software Development\n",
        "News\n",
        "Python News\n",
        "Community News\n",
        "PSF News\n",
        "PyCon News\n",
        "Events\n",
        "Python Events\n",
        "User Group Events\n",
        "Python Events Archive\n",
        "User Group Events Archive\n",
        "Submit an Event\n",
        "&gt;_\n",
        "Launch Interactive Shell\n",
        "# Python 3: Fibonacci series up to n\n",
        "def fib(n):\n",
        "a, b = 0, 1\n",
        "while a &lt; n:\n",
        "print(a, end=' ')\n",
        "a, b = b, a+b\n",
        "print()\n",
        "fib(1000)\n",
        "0 1 1 2 3 5 8 13 21 34 55 89 144 233 377 610\n",
        "Functions Defined\n",
        "The core of extensible programming is defining functions. Python allows mandatory and optional arguments, keyword arguments, and even arbitrary argument lists. More about defining functions in Python&nbsp;3\n",
        "# Python 3: For loop on a list\n",
        "list = [2, 4, 6, 8]\n",
        "sum = 0\n",
        "for num in list:\n",
        "sum = sum + num\n",
        "print(\"The sum is:\", sum)\n",
        "The sum is: 20\n",
        "All the Flow You&rsquo;d Expect\n",
        "Python knows the usual control flow statements that other languages speak &mdash; if, for, while and range &mdash; with some of its own twists, of course. More control flow tools in Python&nbsp;3\n",
        "# Python 3: Simple output (with Unicode)\n",
        "print(\"Hello, I'm Python!\")\n",
        "Hello, I'm Python!\n",
        "# Input, assignment\n",
        "name = input('What is your name?\\n')\n",
        "print('Hi, %s.' % name)\n",
        "What is your name?\n",
        "Python\n",
        "Hi, Python.\n",
        "Quick &amp; Easy to Learn\n",
        "Experienced programmers in any other language can pick up Python very quickly, and beginners find the clean syntax and indentation structure easy to learn. Whet your appetite with our Python&nbsp;3 overview.\n",
        "# Python 3: List comprehensions\n",
        "fruits = ['Banana', 'Apple', 'Lime']\n",
        "loud_fruits = [fruit.upper() for fruit in fruits]\n",
        "print(loud_fruits)\n",
        "['BANANA', 'APPLE', 'LIME']\n",
        "# List and the enumerate function\n",
        "list(enumerate(fruits))\n",
        "[(0, 'Banana'), (1, 'Apple'), (2, 'Lime')]\n",
        "Compound Data Types\n",
        "Lists (known as arrays in other languages) are one of the compound data types that Python understands. Lists can be indexed, sliced and manipulated with other built-in functions. More about lists in Python&nbsp;3\n",
        "# Python 3: Simple arithmetic\n",
        "1 / 2\n",
        "0.5\n",
        "2 ** 3\n",
        "8\n",
        "17 / 3  # classic division returns a float\n",
        "5.666666666666667\n",
        "17 // 3  # floor division\n",
        "5\n",
        "Intuitive Interpretation\n",
        "Calculations are simple with Python, and expression syntax is straightforward: the operators +, -, * and / work as expected; parentheses () can be used for grouping. More about simple math functions in Python&nbsp;3.\n",
        "Python is a programming language that lets you work quickly and integrate systems more effectively. Learn More\n",
        "Get Started\n",
        "Whether you're new to programming or an experienced developer, it's easy to learn and use Python.\n",
        "Start with our Beginner&rsquo;s Guide\n",
        "Download\n",
        "Python source code and installers are available for download for all versions! Not sure which version to use? Check here.\n",
        "Latest: Python 3.4.1 - Python 2.7.8\n",
        "Docs\n",
        "Documentation for Python's standard library, along with tutorials and guides, are available online.\n",
        "docs.python.org\n",
        "Jobs\n",
        "Looking for work or have a Python related position that you're trying to hire for? Our community-run job board is the place to go.\n",
        "jobs.python.org\n",
        "Latest News\n",
        "More\n",
        "2014-08-01\n",
        "Python 3.4.1 was released on May 18th, 2014, with over ...\n",
        "2014-03-17\n",
        "Python 3.4.0 has been released today. Python 3.4 includes a ...\n",
        "2014-03-11\n",
        "A new bugfix release, Python 3.3.5, has been issued to ...\n",
        "2014-03-11\n",
        "The third release candidate for Python 3.4 has been released. ...\n",
        "2014-02-20\n",
        "The first release candidate for Python 3.4, Python 3.4.0rc1, has ...\n",
        "Upcoming Events\n",
        "More\n",
        "2014-09-30\n",
        "Guadalajara, Mexico PUG\n",
        "2014-09-30\n",
        "Python Meeting D\u00fcsseldorf (PyDDF)\n",
        "2014-10-02\n",
        "PyConZA 2014\n",
        "2014-10-03\n",
        "PyTexas 2014\n",
        "2014-10-07\n",
        "Fox Valley Python User Group (WI, USA)\n",
        "Success Stories\n",
        "More\n",
        "ILM runs a batch processing environment capable of modeling, rendering and compositing tens of thousands of motion picture frames per day. Thousands of machines running Linux, IRIX, Compaq Tru64, OS X, Solaris, and Windows join together to provide a production pipeline used by ~800 users daily. Speed of development is key, and Python was a faster way to code (and re-code) the programs that control this production pipeline.\n",
        "Industrial Light &amp; Magic Runs on Python by Tim Fortenberry\n",
        "Use Python for&hellip;\n",
        "More\n",
        "Web Programming:\n",
        "Django, Pyramid, Bottle, Tornado, Flask, web2py\n",
        "GUI Development:\n",
        "wxPython, tkInter, PyGtk, PyQt\n",
        "Scientific and Numeric:\n",
        "SciPy, Pandas, IPython\n",
        "Software Development:\n",
        "Buildbot, Trac, Roundup\n",
        "System Administration:\n",
        "Ansible, Salt, OpenStack\n",
        "&gt;&gt;&gt; Python Enhancement Proposals (PEPs): The future of Python is discussed here.\n",
        "RSS\n",
        "&gt;&gt;&gt; Python Software Foundation\n",
        "The mission of the Python Software Foundation is to promote, protect, and advance the Python programming language, and to support and facilitate the growth of a diverse and international community of Python programmers. Learn more\n",
        "Become a Member\n",
        "Donate to the PSF\n",
        "&#9650; Back to Top\n",
        "About\n",
        "Applications\n",
        "Quotes\n",
        "Getting Started\n",
        "Help\n",
        "Downloads\n",
        "All releases\n",
        "Source code\n",
        "Windows\n",
        "Mac OS X\n",
        "Other Platforms\n",
        "License\n",
        "Alternative Implementations\n",
        "Documentation\n",
        "Docs\n",
        "Audio/Visual Talks\n",
        "Beginner&#39;s Guide\n",
        "Developer&#39;s Guide\n",
        "FAQ\n",
        "Non-English Docs\n",
        "PEP Index\n",
        "Python Books\n",
        "Community\n",
        "Diversity\n",
        "IRC\n",
        "Mailing Lists\n",
        "Python Conferences\n",
        "Special Interest Groups\n",
        "Python Wiki\n",
        "Python Logo\n",
        "Merchandise\n",
        "Community Awards\n",
        "Success Stories\n",
        "Arts\n",
        "Business\n",
        "Education\n",
        "Engineering\n",
        "Government\n",
        "Scientific\n",
        "Software Development\n",
        "News\n",
        "Python News\n",
        "Community News\n",
        "PSF News\n",
        "PyCon News\n",
        "Events\n",
        "Python Events\n",
        "User Group Events\n",
        "Python Events Archive\n",
        "User Group Events Archive\n",
        "Submit an Event\n",
        "&#9650; Back to Top\n",
        "Help &amp; General Contact\n",
        "Diversity Initiatives\n",
        "Website Colophon--\n",
        "Copyright &copy;2001-2014.\n",
        "&nbsp;Python Software Foundation\n",
        "&nbsp;Legal Statements\n",
        "&nbsp;Privacy Policy\n",
        "Notice: While Javascript is not essential for this website, your interaction with the content will be limited. Please turn Javascript on for the full experience.\n",
        "Notice: Your browser is ancient and Microsoft agrees. Upgrade to a different browser or install Google Chrome Frame to experience a better web.\n",
        "\n",
        "\uc21c\uc218 \ud14d\uc2a4\ud2b8 \uc548\uc5d0 \uc874\uc7ac\ud558\ub294 \ucd1d \ub2e8\uc5b4\uc758 \uac1c\uc218 :  1018\n"
       ]
      }
     ],
     "prompt_number": 8
    },
    {
     "cell_type": "markdown",
     "metadata": {},
     "source": [
      "\uc124\uba85\n",
      "    1. \uc6d0\ud558\ub294 \uc0ac\uc774\ud2b8\uc758 \uc6f9\ubb38\uc11c\ub97c \uc77d\uc5b4\uc640\uc11c \ubb38\uc790\uc5f4 \ubcc0\uc218 s\uc5d0 \uc800\uc7a5 \n",
      "    2. \ubb38\uc790\uc5f4 s\ub97c splitlines() \ud568\uc218\ub97c \uc774\uc6a9\ud558\uc5ec \ub77c\uc778\ub2e8\uc704\ub85c \ub098\ub204\uc5b4\uc11c \ub9ac\uc2a4\ud2b8\ub85c \ub9cc\ub4e4\uc5b4\uc11c \ub2e4\uc2dc s\uc5d0 \uc800\uc7a5 \uc774\ub54c, s\ub294 \ubb38\uc790\uc5f4\uc774 \uc544\ub2cc \ub9ac\uc2a4\ud2b8\ub85c \ud0c0\uc785\uc774 \ubc14\ub01c.\n",
      "    3. \ub9ac\uc2a4\ud2b8 s\ub0b4\uc758 \uac01 \uc6d0\uc18c\ub294 \ubb38\uc790\uc5f4\uc774\uace0 \uc6d0\uc18c\uc911 \uacf5\ubc31\uc778 \ubb38\uc790\uc5f4\ub3c4 \uc788\uc73c\ubbc0\ub85c \uadf8 \uacf5\ubc31\uacfc \ubb38\uc790\uc5f4 \ub0b4\uc758 \uacf5\ubc31\uc744 \uc81c\uac70\ud558\uae30 \uc704\ud574 filter() \ud568\uc218\ub97c \uc774\uc6a9\ud558\uc5ec \uacf5\ubc31\uc744 \uc81c\uac70\ud574 \uc8fc\uc5c8\uc2b5\ub2c8\ub2e4.\n",
      "    4. \ub9ac\uc2a4\ud2b8 \ub0b4\uc758 \ubb38\uc790\uc5f4 \uc911 Script\ubb38\uc11c\uc640 CSS\ubb38\uc11c\ub97c \uc81c\uac70\ud558\uae30 \uc704\ud574 DelScriptandCSS()\ud568\uc218\ub97c \uc774\uc6a9\ud558\uc600\uc2b5\ub2c8\ub2e4. \n",
      "    5. \ub9ac\uc2a4\ud2b8 \ub0b4\uc758 \ubb38\uc790\uc5f4\uc740 \uccab \uc2dc\uc791\uc774 \ud0dc\uadf8\uc774\uac70\ub098 \uc21c\uc218 \ud0dd\uc2a4\ud2b8 \ub610\ub294 \uc2a4\ud06c\ub9bd\ud2b8, CSS\ubb38\uc11c\uc77c \uc218 \uc788\uc2b5\ub2c8\ub2e4. \uc774 \uc870\uac74\uc744 \ub530\uc838\uc11c \ub9cc\uc57d \uc2a4\ud06c\ub9bd\ud2b8 \ub610\ub294 CSS\ubb38\uc11c\uc77c \ub584 \ub2e4\uc74c \ubb38\uc790\uc5f4\uc774 \ud0dc\uadf8\uac00 \ub098\uc624\uba74 \ub2e4\uc74c\uc73c\ub85c \ub118\uc5b4\uac00\uace0 \uc544\uc9c1\ub3c4 \uc2a4\ud06c\ub9bd\ud2b8\uac00 CSS\ubb38\uc11c\ub0b4\uc758 \ubb38\uc790\uc5f4\uc774\uba74 \uc0ad\uc81c\ub97c \ud569\ub2c8\ub2e4. \n",
      "    6. \uc2a4\ud06c\ub9bd\ud2b8 \ub610\ub294 CSS\ubb38\uc11c\uac00 \uc81c\uac70\ub41c \ub9ac\uc2a4\ud2b8 s\ub97c DelTag()\ud568\uc218\ub97c \uc218\ud589\ud558\uba74 \ud0dc\uadf8\ub294 \uc81c\uac70\ub418\uace0 \uc21c\uc218 \ud0dd\uc2a4\ud2b8\ub9cc \ub9ac\uc2a4\ud2b8\uc5d0 \ub0a8\uc2b5\ub2c8\ub2e4.\n",
      "    7. \uc21c\uc218 \ud14d\uc2a4\ud2b8\ub9cc \uac00\uc9c4 \ub9ac\uc2a4\ud2b8 s\ub97c \ucd9c\ub825\ud558\uba74 \uc704\uc758 \ucd9c\ub825\ub0b4\uc6a9 \ucc98\ub7fc \uc21c\uc218 \ud14d\uc2a4\ud2b8\ub9cc \ub098\uc635\ub2c8\ub2e4.\n",
      "    8. CountText()\ud568\uc218\ub97c \uc774\uc6a9\ud558\uc5ec \ub9ac\uc2a4\ud2b8 \ub0b4\uc758 \ub2e8\uc5b4\uc758 \uac1c\uc218\ub97c \uce74\uc6b4\ud2b8 \ud588\uc2b5\ub2c8\ub2e4.\n",
      "    9. \ub9ac\uc2a4\ud2b8 \ub0b4\uc758 \uac01 \ubb38\uc790\uc5f4\uc740 \uc21c\uc218 \ud14d\uc2a4\ud2b8\ub9cc\uc744 \uac00\uc9c0\uace0 \uc788\ub294\ub370, \uc774 \ubb38\uc790\uc5f4\uc5d0\uc11c\ub3c4 \uacf5\ubc31\uc73c\ub85c \ub2e8\uc5b4\ub4e4\uc774 \ub098\ub204\uc5b4\uc838 \uc788\uc2b5\ub2c8\ub2e4. \uadf8\ub798\uc11c \uadf8 \ubb38\uc790\uc5f4 \uc548\uc758 \uacf5\ubc31\uc744 string.whitespace\ub97c \uc774\uc6a9\ud574\uc11c \uce74\uc6b4\ud2b8\ud569\ub2c8\ub2e4.\n",
      "    10. \uce74\uc6b4\ud2b8 \uacb0\uacfc \ubb38\uc790\uc5f4 \ub0b4\uc758 \ub2e8\uc5b4\uc758 \uc218\ub294 '\uacf5\ubc31 \uce74\uc6b4\ud2b8 + 1'\uac1c \uc785\ub2c8\ub2e4. \uc774\uac83\uc744 \uc774\uc6a9\ud574\uc11c \ucd1d \ub2e8\uc5b4\uc758 \uac1c\uc218\ub97c \uce74\uc6b4\ud2b8\ud588\uc2b5\ub2c8\ub2e4. \n",
      "   \n",
      "***"
     ]
    },
    {
     "cell_type": "markdown",
     "metadata": {},
     "source": [
      "***\n",
      "\uc18c\uac10 : \uc774\ubc88\uacfc\uc81c\ub294 \uc0ac\uce59\uc5f0\uc0b0\uacfc \ub17c\ub9ac\uc5f0\uc0b0 \ubc0f \ub9ac\uc2a4\ud2b8, \ubb38\uc790\uc5f4 \ubb38\uc81c\ub97c \ub9ce\uc774 \ub2e4\ub8e8\uc5b4 \ubcf4\uc558\uc2b5\ub2c8\ub2e4. \ud30c\uc774\uc36c\uc740 C\uc5b8\uc5b4\uc640\ub294 \ub2ec\ub9ac \ub17c\ub9ac\uc5f0\uc0b0\uc790\uac00 \uc9c1\uad00\uc801\uc778 or, and, xor \ub4f1\uc73c\ub85c \ud45c\uc2dc\ud560 \uc218 \uc788\uc5b4\uc11c \uc54c\uc544\ubcf4\uae30 \ud3b8\ud588\uc2b5\ub2c8\ub2e4.\n",
      "\ud2b9\ud788 \uc774\ubc88 \uacfc\uc81c\uc5d0\uc11c \ubb38\uc790\uc5f4\uacfc \ub9ac\uc2a4\ud2b8\ub97c \ub2e4\ub8e8\ub294 \ubc95\uc744 \uc880 \ub354 \uc54c\uac8c\ub418\uace0 \ubb38\uc790\uc5f4\uacfc \ub9ac\uc2a4\ud2b8\ub97c \ub2e4\ub8e8\ub294 \ub0b4\uc7a5\ud568\uc218\uc758 \uc874\uc7ac\uac00 \ud655\uc2e4\ud788 \uc9c4\uac00\ub97c \ubc1c\ud718\ud558\ub294 \ub290\ub08c\uc744 \ub9ce\uc774 \ubc1b\uc558\uc2b5\ub2c8\ub2e4. \n",
      "\ud30c\uc774\uc36c\uc758 \uc774\ub7ec\ud55c \uac15\ub825\ud55c \ub0b4\uc7a5\ud568\uc218\ub97c \ub2e4\uc591\ud558\uace0 \uc815\ud655\ud558\uac8c \uc774\uc6a9\ud560 \uc218 \uc788\ub2e4\uba74 \uc5b4\ub5a0\ud55c \ud504\ub85c\uadf8\ub7a8\uc744 \uc9dc\ub3c4 \ub2e4\ub978 \uc5b8\uc5b4\uc5d0 \ube44\ud574\uc11c \ud655\uc2e4\ud788 \uc815\ud655\uc131\uc774\ub098 \uc0dd\uc0b0\uc131\uc774 \uc88b\uc744 \uac83 \uac19\ub2e4\ub294 \uc778\uc0c1\uc744 \uae4a\uc774 \ubc1b\uc558\uc2b5\ub2c8\ub2e4."
     ]
    }
   ],
   "metadata": {}
  }
 ]
}