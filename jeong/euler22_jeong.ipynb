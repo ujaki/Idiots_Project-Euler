{
 "cells": [
  {
   "cell_type": "markdown",
   "metadata": {},
   "source": [
    "# Project Euler 22\n",
    "\n",
    "### 여기 5천개 이상의 영문 이름들이 들어있는 46KB짜리 텍스트 파일 names.txt 이 있습니다 (우클릭해서 다운로드 받으세요).\n",
    "### 이제 각 이름에 대해서 아래와 같은 방법으로 점수를 매기고자 합니다.\n",
    "\n",
    "### 먼저 모든 이름을 알파벳 순으로 정렬합니다.\n",
    "### 각 이름에 대해서, 그 이름을 이루는 알파벳에 해당하는 숫자(A=1, B=2, ..., Z=26)를 모두 더합니다.\n",
    "### 여기에 이 이름의 순번을 곱합니다.\n",
    "### 예를 들어 \"COLIN\"의 경우, 알파벳에 해당하는 숫자는 3, 15, 12, 9, 14이므로 합이 53, 그리고 정렬했을 때 938번째에 오므로 최종 점수는 938 × 53 = 49714가 됩니다.\n",
    "\n",
    "### names.txt에 들어있는 모든 이름의 점수를 계산해서 더하면 얼마입니까?"
   ]
  },
  {
   "cell_type": "code",
   "execution_count": 59,
   "metadata": {
    "collapsed": false
   },
   "outputs": [
    {
     "name": "stdout",
     "output_type": "stream",
     "text": [
      "871198282\n"
     ]
    }
   ],
   "source": [
    "f = open(\"names.txt\",'r')\n",
    "s = f.read().split(\",\")\n",
    "f.close()\n",
    "\n",
    "word_sum = 0\n",
    "total = 0\n",
    "li = []\n",
    "seq = 1\n",
    "\n",
    "for i in s:\n",
    "    li.append(i[1:-1])\n",
    "\n",
    "li.sort()\n",
    "for word in li:\n",
    "    for k in range(0,len(word)):\n",
    "        word_sum += (ord(word[k])-ord('A')+1)\n",
    "    total += (word_sum * seq)\n",
    "    word_sum = 0\n",
    "    seq = seq + 1\n",
    "   \n",
    "print total\n",
    "\n"
   ]
  }
 ],
 "metadata": {
  "kernelspec": {
   "display_name": "Python 2",
   "language": "python",
   "name": "python2"
  },
  "language_info": {
   "codemirror_mode": {
    "name": "ipython",
    "version": 2
   },
   "file_extension": ".py",
   "mimetype": "text/x-python",
   "name": "python",
   "nbconvert_exporter": "python",
   "pygments_lexer": "ipython2",
   "version": "2.7.10"
  }
 },
 "nbformat": 4,
 "nbformat_minor": 0
}
