{
 "metadata": {
  "celltoolbar": "Raw Cell Format",
  "name": "",
  "signature": "sha256:1627ef0a3010da6d447008caa9e4fd92b408968ef70cb630f7b6851f0943735c"
 },
 "nbformat": 3,
 "nbformat_minor": 0,
 "worksheets": [
  {
   "cells": [
    {
     "cell_type": "markdown",
     "metadata": {},
     "source": [
      "***\n",
      "# Problem 1"
     ]
    },
    {
     "cell_type": "markdown",
     "metadata": {},
     "source": [
      "- a=\"Hello Python\" \ubb38\uc790\uc5f4\uc744 Slicing\uacfc \uc5f0\uacb0 \uc5f0\uc0b0\uc790 (+)\ub97c \uc0ac\uc6a9\ud558\uc5ec \"Python Hello\"\ub85c \ubcc0\uacbd\ud558\uc2dc\uc624. [\uc8fc\uc758] a \ubcc0\uc218 \uc790\uccb4\uc5d0 \"Python Hello\" \ubb38\uc790\uc5f4\uc774 \uc800\uc7a5\ub418\uc5b4\uc57c \ud568\n",
      "***"
     ]
    },
    {
     "cell_type": "code",
     "collapsed": false,
     "input": [
      "a = \"Hello Python\" \n",
      "print a \n",
      "a = a[6:12]+ ' ' + a[0:5] \n",
      "print a \n",
      "print\n",
      "print len(a)"
     ],
     "language": "python",
     "metadata": {},
     "outputs": [
      {
       "output_type": "stream",
       "stream": "stdout",
       "text": [
        "Hello Python\n",
        "Python Hello\n",
        "\n",
        "12\n"
       ]
      }
     ],
     "prompt_number": 6
    },
    {
     "cell_type": "markdown",
     "metadata": {},
     "source": [
      "\ubcc0\uc218 a\uc5d0 \"Hello Python\"\uc744 \uc800\uc7a5\ud558\uace0 \ubb38\uc790\uc5f4 a\ub97c \ud55c \ubc88 \ucd9c\ub825\ud574\ubcf4\uace0 Slicing\uacfc + \uc5f0\uc0b0\uc790\ub97c \uc0ac\uc6a9\ud558\uc5ec \ub2e4\uc2dc \ubcc0\uc218 a\uc5d0 \uc800\uc7a5\uc744 \ud55c \ud6c4 a\ub97c \ub2e4\uc2dc \ud55c \ubc88 \ucd9c\ub825\ud588\uc2b5\ub2c8\ub2e4.\n",
      "\ubb38\uc790\uc5f4\uc758 \uae38\uc774\ub97c \ucd9c\ub825\ud574\ubcf4\uba74 12(\ubb38\uc790\uc5f4 \ub05d \ud3ec\ud568)"
     ]
    },
    {
     "cell_type": "code",
     "collapsed": false,
     "input": [],
     "language": "python",
     "metadata": {},
     "outputs": []
    }
   ],
   "metadata": {}
  }
 ]
}