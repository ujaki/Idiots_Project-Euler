{
 "cells": [
  {
   "cell_type": "code",
   "execution_count": 47,
   "metadata": {
    "collapsed": false
   },
   "outputs": [
    {
     "name": "stdout",
     "output_type": "stream",
     "text": [
      "4179871\n"
     ]
    }
   ],
   "source": [
    "divisor_sum = 0\n",
    "abundant_numbers = []\n",
    "\n",
    "for num in range(1, 28123):\n",
    "    root_divisor = []\n",
    "    divisor = set([])\n",
    "    for i in range(1, int(num**0.5)+1):\n",
    "        if num%i == 0:\n",
    "            root_divisor.append(i)\n",
    "            divisor.add(i)\n",
    "    for j in root_divisor:\n",
    "        if j != 1:\n",
    "            divisor.add(num/j)\n",
    "    for k in divisor:\n",
    "        divisor_sum += k\n",
    "        \n",
    "    if divisor_sum > num :\n",
    "        abundant_numbers.append(num)\n",
    "    divisor_sum = 0\n",
    "    \n",
    "not_abundant_num_sum = 0    \n",
    "num = range(1, 28123)\n",
    "num_sum = 0\n",
    "sum_of_abundant = []\n",
    "\n",
    "for n in num:\n",
    "    num_sum += n\n",
    "\n",
    "for n in abundant_numbers:\n",
    "    for m in abundant_numbers:\n",
    "        if n+m < 28123:\n",
    "            sum_of_abundant.append(n+m)\n",
    "        \n",
    "sum_of_abundant = set(sum_of_abundant)\n",
    "\n",
    "for x in sum_of_abundant:\n",
    "    not_abundant_num_sum += x\n",
    "    \n",
    "print num_sum - not_abundant_num_sum\n",
    "\n"
   ]
  }
 ],
 "metadata": {
  "kernelspec": {
   "display_name": "Python 2",
   "language": "python",
   "name": "python2"
  },
  "language_info": {
   "codemirror_mode": {
    "name": "ipython",
    "version": 2
   },
   "file_extension": ".py",
   "mimetype": "text/x-python",
   "name": "python",
   "nbconvert_exporter": "python",
   "pygments_lexer": "ipython2",
   "version": "2.7.10"
  }
 },
 "nbformat": 4,
 "nbformat_minor": 0
}
